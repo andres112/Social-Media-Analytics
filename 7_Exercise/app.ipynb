{
 "cells": [
  {
   "cell_type": "markdown",
   "metadata": {},
   "source": [
    "### Modules and libraries required"
   ]
  },
  {
   "cell_type": "code",
   "execution_count": 1,
   "metadata": {},
   "outputs": [],
   "source": [
    "import pandas as pd\n",
    "import numpy as np\n",
    "from sklearn.feature_extraction.text import CountVectorizer\n",
    "from sklearn.feature_extraction.text import TfidfVectorizer\n",
    "from sklearn.model_selection import train_test_split\n",
    "from sklearn import metrics\n",
    "\n",
    "from IPython.core.interactiveshell import InteractiveShell\n",
    "# Used to get multiple outputs per cell\n",
    "InteractiveShell.ast_node_interactivity = \"all\""
   ]
  },
  {
   "cell_type": "markdown",
   "metadata": {},
   "source": [
    "## TASK 1\n",
    "### Load Datasets"
   ]
  },
  {
   "cell_type": "code",
   "execution_count": 2,
   "metadata": {},
   "outputs": [
    {
     "output_type": "execute_result",
     "data": {
      "text/plain": "                    User            Date  \\\n2168           Elon Musk  06.03.20 20:42   \n1764      Bernie Sanders  08.03.20 20:20   \n544              J Hooch  10.03.20 17:25   \n1833         Ally Carter  08.03.20 14:53   \n1284            Taylor ☾  09.03.20 19:22   \n...                  ...             ...   \n293   ϟ 𝓟𝓻𝓲𝓶𝓶𝓲𝓲 𝓟𝓸𝓽𝓽𝓮𝓻 ☍  11.03.20 00:07   \n807   Cel ☆ ‎ลาแล้วปีสี่  10.03.20 10:50   \n902               Ryn J.  10.03.20 05:13   \n1011                  พส  10.03.20 00:34   \n545                   พส  10.03.20 17:20   \n\n                                                  Tweet  Binders  \\\n2168                      The coronavirus panic is dumb      NaN   \n1764  Once a vaccine for coronavirus is developed, i...      NaN   \n544   Coronavirus is everywhere. BOOK THAT FLIGHT. T...      NaN   \n1833  I see a lot of people being like “I would surv...      NaN   \n1284  Coronavirus has crossed the line for Italians ...      NaN   \n...                                                 ...      ...   \n293   คือร้านอาหารใน All Seasons มีคนเป็น #COVID19 แ...      NaN   \n807   มาขอใช้พื้นที่ประชาสัมพันธ์นิดนึงค่ะ ตอนนี้รพ....      NaN   \n902   สำนักข่าว Bloomberg รายงานว่าชายไทยอายุ 26 ปี ...      NaN   \n1011  รัฐมนตรีว่าการกระทรวงวัฒนธรรมฝรั่งเศส ป่วย #CO...      NaN   \n545   เจ้าของร้าน Ohana Poké ที่ตึก All Seasons ออกม...      NaN   \n\n                                              Permalink  Retweet count  \\\n2168  https://www.twitter.com/user/status/1236029449...         350555   \n1764  https://www.twitter.com/user/status/1236748536...         125019   \n544   https://www.twitter.com/user/status/1237429345...         139366   \n1833  https://www.twitter.com/user/status/1236666460...         157052   \n1284  https://www.twitter.com/user/status/1237096480...         206430   \n...                                                 ...            ...   \n293   https://www.twitter.com/user/status/1237530520...           1285   \n807   https://www.twitter.com/user/status/1237330092...           1903   \n902   https://www.twitter.com/user/status/1237245162...           2852   \n1011  https://www.twitter.com/user/status/1237175016...           3306   \n545   https://www.twitter.com/user/status/1237428222...           1472   \n\n      Likes count  Tweet value  \n2168      1729596     47385.34  \n1764       841283     18291.78  \n544        727945        14.75  \n1833       719464       118.95  \n1284       688358        30.02  \n...           ...          ...  \n293           150         0.52  \n807           138         7.76  \n902           137        61.16  \n1011          100       107.36  \n545            90       128.83  \n\n[5531 rows x 8 columns]",
      "text/html": "<div>\n<style scoped>\n    .dataframe tbody tr th:only-of-type {\n        vertical-align: middle;\n    }\n\n    .dataframe tbody tr th {\n        vertical-align: top;\n    }\n\n    .dataframe thead th {\n        text-align: right;\n    }\n</style>\n<table border=\"1\" class=\"dataframe\">\n  <thead>\n    <tr style=\"text-align: right;\">\n      <th></th>\n      <th>User</th>\n      <th>Date</th>\n      <th>Tweet</th>\n      <th>Binders</th>\n      <th>Permalink</th>\n      <th>Retweet count</th>\n      <th>Likes count</th>\n      <th>Tweet value</th>\n    </tr>\n  </thead>\n  <tbody>\n    <tr>\n      <th>2168</th>\n      <td>Elon Musk</td>\n      <td>06.03.20 20:42</td>\n      <td>The coronavirus panic is dumb</td>\n      <td>NaN</td>\n      <td>https://www.twitter.com/user/status/1236029449...</td>\n      <td>350555</td>\n      <td>1729596</td>\n      <td>47385.34</td>\n    </tr>\n    <tr>\n      <th>1764</th>\n      <td>Bernie Sanders</td>\n      <td>08.03.20 20:20</td>\n      <td>Once a vaccine for coronavirus is developed, i...</td>\n      <td>NaN</td>\n      <td>https://www.twitter.com/user/status/1236748536...</td>\n      <td>125019</td>\n      <td>841283</td>\n      <td>18291.78</td>\n    </tr>\n    <tr>\n      <th>544</th>\n      <td>J Hooch</td>\n      <td>10.03.20 17:25</td>\n      <td>Coronavirus is everywhere. BOOK THAT FLIGHT. T...</td>\n      <td>NaN</td>\n      <td>https://www.twitter.com/user/status/1237429345...</td>\n      <td>139366</td>\n      <td>727945</td>\n      <td>14.75</td>\n    </tr>\n    <tr>\n      <th>1833</th>\n      <td>Ally Carter</td>\n      <td>08.03.20 14:53</td>\n      <td>I see a lot of people being like “I would surv...</td>\n      <td>NaN</td>\n      <td>https://www.twitter.com/user/status/1236666460...</td>\n      <td>157052</td>\n      <td>719464</td>\n      <td>118.95</td>\n    </tr>\n    <tr>\n      <th>1284</th>\n      <td>Taylor ☾</td>\n      <td>09.03.20 19:22</td>\n      <td>Coronavirus has crossed the line for Italians ...</td>\n      <td>NaN</td>\n      <td>https://www.twitter.com/user/status/1237096480...</td>\n      <td>206430</td>\n      <td>688358</td>\n      <td>30.02</td>\n    </tr>\n    <tr>\n      <th>...</th>\n      <td>...</td>\n      <td>...</td>\n      <td>...</td>\n      <td>...</td>\n      <td>...</td>\n      <td>...</td>\n      <td>...</td>\n      <td>...</td>\n    </tr>\n    <tr>\n      <th>293</th>\n      <td>ϟ 𝓟𝓻𝓲𝓶𝓶𝓲𝓲 𝓟𝓸𝓽𝓽𝓮𝓻 ☍</td>\n      <td>11.03.20 00:07</td>\n      <td>คือร้านอาหารใน All Seasons มีคนเป็น #COVID19 แ...</td>\n      <td>NaN</td>\n      <td>https://www.twitter.com/user/status/1237530520...</td>\n      <td>1285</td>\n      <td>150</td>\n      <td>0.52</td>\n    </tr>\n    <tr>\n      <th>807</th>\n      <td>Cel ☆ ‎ลาแล้วปีสี่</td>\n      <td>10.03.20 10:50</td>\n      <td>มาขอใช้พื้นที่ประชาสัมพันธ์นิดนึงค่ะ ตอนนี้รพ....</td>\n      <td>NaN</td>\n      <td>https://www.twitter.com/user/status/1237330092...</td>\n      <td>1903</td>\n      <td>138</td>\n      <td>7.76</td>\n    </tr>\n    <tr>\n      <th>902</th>\n      <td>Ryn J.</td>\n      <td>10.03.20 05:13</td>\n      <td>สำนักข่าว Bloomberg รายงานว่าชายไทยอายุ 26 ปี ...</td>\n      <td>NaN</td>\n      <td>https://www.twitter.com/user/status/1237245162...</td>\n      <td>2852</td>\n      <td>137</td>\n      <td>61.16</td>\n    </tr>\n    <tr>\n      <th>1011</th>\n      <td>พส</td>\n      <td>10.03.20 00:34</td>\n      <td>รัฐมนตรีว่าการกระทรวงวัฒนธรรมฝรั่งเศส ป่วย #CO...</td>\n      <td>NaN</td>\n      <td>https://www.twitter.com/user/status/1237175016...</td>\n      <td>3306</td>\n      <td>100</td>\n      <td>107.36</td>\n    </tr>\n    <tr>\n      <th>545</th>\n      <td>พส</td>\n      <td>10.03.20 17:20</td>\n      <td>เจ้าของร้าน Ohana Poké ที่ตึก All Seasons ออกม...</td>\n      <td>NaN</td>\n      <td>https://www.twitter.com/user/status/1237428222...</td>\n      <td>1472</td>\n      <td>90</td>\n      <td>128.83</td>\n    </tr>\n  </tbody>\n</table>\n<p>5531 rows × 8 columns</p>\n</div>"
     },
     "metadata": {},
     "execution_count": 2
    },
    {
     "output_type": "execute_result",
     "data": {
      "text/plain": "                   Name               User               Location  \\\n0          @BarackObama       Barack Obama         Washington, DC   \n1            @Cristiano  Cristiano Ronaldo        Turim, Piemonte   \n2             @ladygaga          Lady Gaga                    NaN   \n3      @realDonaldTrump    Donald J. Trump         Washington, DC   \n4          @selenagomez       Selena Gomez            Los Angeles   \n...                 ...                ...                    ...   \n14263        @gegyrigle         JewelRigle                    NaN   \n14264         @sadbadme    กูจะอยู่กูจะรอด                    NaN   \n14265    @pawat58720145              pawat                    NaN   \n14266         @DelsVeja      🐉Y A S U K E🤺  Ile-de-France, France   \n14267  @archawi51088663           archawin                    NaN   \n\n       Total tweets  Retweets  Images  Links  Chats  Text tweets     Impacts  \\\n0                13         0       0     12      5            1  1489476161   \n1                 1         0       1      1      0            0    83133379   \n2                 2         0       0      2      0            0   162436360   \n3                55         0       3     11      1           42  4100089350   \n4                 1         0       0      1      0            0    60528525   \n...             ...       ...     ...    ...    ...          ...         ...   \n14263             1         0       1      0      0            0           1   \n14264             1         0       1      0      0            0           1   \n14265             1         0       1      0      0            0           1   \n14266             1         0       0      0      0            1           0   \n14267             1         0       1      0      0            0           0   \n\n       Followers  User value  Tweets value  \n0      115296834   150464.37    1466166.07  \n1       83133379   111363.10     146999.29  \n2       81218183   109802.60     241565.72  \n3       76238523   103166.11    5644215.11  \n4       60528525    83860.78      92246.86  \n...          ...         ...           ...  \n14263          1        0.00          0.00  \n14264          1        0.00          0.00  \n14265          1        0.00          0.00  \n14266          0        0.00          0.00  \n14267          0        0.00          0.00  \n\n[14268 rows x 13 columns]",
      "text/html": "<div>\n<style scoped>\n    .dataframe tbody tr th:only-of-type {\n        vertical-align: middle;\n    }\n\n    .dataframe tbody tr th {\n        vertical-align: top;\n    }\n\n    .dataframe thead th {\n        text-align: right;\n    }\n</style>\n<table border=\"1\" class=\"dataframe\">\n  <thead>\n    <tr style=\"text-align: right;\">\n      <th></th>\n      <th>Name</th>\n      <th>User</th>\n      <th>Location</th>\n      <th>Total tweets</th>\n      <th>Retweets</th>\n      <th>Images</th>\n      <th>Links</th>\n      <th>Chats</th>\n      <th>Text tweets</th>\n      <th>Impacts</th>\n      <th>Followers</th>\n      <th>User value</th>\n      <th>Tweets value</th>\n    </tr>\n  </thead>\n  <tbody>\n    <tr>\n      <th>0</th>\n      <td>@BarackObama</td>\n      <td>Barack Obama</td>\n      <td>Washington, DC</td>\n      <td>13</td>\n      <td>0</td>\n      <td>0</td>\n      <td>12</td>\n      <td>5</td>\n      <td>1</td>\n      <td>1489476161</td>\n      <td>115296834</td>\n      <td>150464.37</td>\n      <td>1466166.07</td>\n    </tr>\n    <tr>\n      <th>1</th>\n      <td>@Cristiano</td>\n      <td>Cristiano Ronaldo</td>\n      <td>Turim, Piemonte</td>\n      <td>1</td>\n      <td>0</td>\n      <td>1</td>\n      <td>1</td>\n      <td>0</td>\n      <td>0</td>\n      <td>83133379</td>\n      <td>83133379</td>\n      <td>111363.10</td>\n      <td>146999.29</td>\n    </tr>\n    <tr>\n      <th>2</th>\n      <td>@ladygaga</td>\n      <td>Lady Gaga</td>\n      <td>NaN</td>\n      <td>2</td>\n      <td>0</td>\n      <td>0</td>\n      <td>2</td>\n      <td>0</td>\n      <td>0</td>\n      <td>162436360</td>\n      <td>81218183</td>\n      <td>109802.60</td>\n      <td>241565.72</td>\n    </tr>\n    <tr>\n      <th>3</th>\n      <td>@realDonaldTrump</td>\n      <td>Donald J. Trump</td>\n      <td>Washington, DC</td>\n      <td>55</td>\n      <td>0</td>\n      <td>3</td>\n      <td>11</td>\n      <td>1</td>\n      <td>42</td>\n      <td>4100089350</td>\n      <td>76238523</td>\n      <td>103166.11</td>\n      <td>5644215.11</td>\n    </tr>\n    <tr>\n      <th>4</th>\n      <td>@selenagomez</td>\n      <td>Selena Gomez</td>\n      <td>Los Angeles</td>\n      <td>1</td>\n      <td>0</td>\n      <td>0</td>\n      <td>1</td>\n      <td>0</td>\n      <td>0</td>\n      <td>60528525</td>\n      <td>60528525</td>\n      <td>83860.78</td>\n      <td>92246.86</td>\n    </tr>\n    <tr>\n      <th>...</th>\n      <td>...</td>\n      <td>...</td>\n      <td>...</td>\n      <td>...</td>\n      <td>...</td>\n      <td>...</td>\n      <td>...</td>\n      <td>...</td>\n      <td>...</td>\n      <td>...</td>\n      <td>...</td>\n      <td>...</td>\n      <td>...</td>\n    </tr>\n    <tr>\n      <th>14263</th>\n      <td>@gegyrigle</td>\n      <td>JewelRigle</td>\n      <td>NaN</td>\n      <td>1</td>\n      <td>0</td>\n      <td>1</td>\n      <td>0</td>\n      <td>0</td>\n      <td>0</td>\n      <td>1</td>\n      <td>1</td>\n      <td>0.00</td>\n      <td>0.00</td>\n    </tr>\n    <tr>\n      <th>14264</th>\n      <td>@sadbadme</td>\n      <td>กูจะอยู่กูจะรอด</td>\n      <td>NaN</td>\n      <td>1</td>\n      <td>0</td>\n      <td>1</td>\n      <td>0</td>\n      <td>0</td>\n      <td>0</td>\n      <td>1</td>\n      <td>1</td>\n      <td>0.00</td>\n      <td>0.00</td>\n    </tr>\n    <tr>\n      <th>14265</th>\n      <td>@pawat58720145</td>\n      <td>pawat</td>\n      <td>NaN</td>\n      <td>1</td>\n      <td>0</td>\n      <td>1</td>\n      <td>0</td>\n      <td>0</td>\n      <td>0</td>\n      <td>1</td>\n      <td>1</td>\n      <td>0.00</td>\n      <td>0.00</td>\n    </tr>\n    <tr>\n      <th>14266</th>\n      <td>@DelsVeja</td>\n      <td>🐉Y A S U K E🤺</td>\n      <td>Ile-de-France, France</td>\n      <td>1</td>\n      <td>0</td>\n      <td>0</td>\n      <td>0</td>\n      <td>0</td>\n      <td>1</td>\n      <td>0</td>\n      <td>0</td>\n      <td>0.00</td>\n      <td>0.00</td>\n    </tr>\n    <tr>\n      <th>14267</th>\n      <td>@archawi51088663</td>\n      <td>archawin</td>\n      <td>NaN</td>\n      <td>1</td>\n      <td>0</td>\n      <td>1</td>\n      <td>0</td>\n      <td>0</td>\n      <td>0</td>\n      <td>0</td>\n      <td>0</td>\n      <td>0.00</td>\n      <td>0.00</td>\n    </tr>\n  </tbody>\n</table>\n<p>14268 rows × 13 columns</p>\n</div>"
     },
     "metadata": {},
     "execution_count": 2
    }
   ],
   "source": [
    "tweets_dataset = pd.read_csv('tweets_info.csv') \n",
    "user_dataset = pd.read_csv('user_info.csv') \n",
    "tweets_dataset.sort_values(by='Likes count', ascending = False)\n",
    "# tweets_dataset.groupby('User').count().sort_values(['Tweet'], ascending=False)\n",
    "user_dataset.sort_values(by='Followers', ascending=False)\n",
    "# user_dataset.groupby('User').count().sort_values(['Impacts'], ascending=False)"
   ]
  },
  {
   "cell_type": "markdown",
   "metadata": {},
   "source": [
    "### 1.1 Clean Data (Remove punctuation and stop-words)\n",
    "#### Count words by document"
   ]
  },
  {
   "cell_type": "code",
   "execution_count": 3,
   "metadata": {},
   "outputs": [
    {
     "output_type": "execute_result",
     "data": {
      "text/plain": "CountVectorizer(analyzer='word', binary=False, decode_error='strict',\n                dtype=<class 'numpy.int64'>, encoding='utf-8', input='content',\n                lowercase=True, max_df=1.0, max_features=None, min_df=1,\n                ngram_range=(1, 1), preprocessor=None, stop_words='english',\n                strip_accents=None, token_pattern='(?u)\\\\b\\\\w\\\\w+\\\\b',\n                tokenizer=None, vocabulary=None)"
     },
     "metadata": {},
     "execution_count": 3
    },
    {
     "output_type": "stream",
     "name": "stdout",
     "text": "Vector Representation\n"
    },
    {
     "output_type": "execute_result",
     "data": {
      "text/plain": "      00  000  00001  000morts  004  005  008uae3frs  01  015  016  ...  대구  \\\n0      0    0      0         0    0    0           0   0    0    0  ...   0   \n1      0    0      0         0    0    0           0   0    0    0  ...   0   \n2      0    0      0         0    0    0           0   0    0    0  ...   0   \n3      0    0      0         0    0    0           0   0    0    0  ...   0   \n4      0    1      0         0    0    0           0   0    0    0  ...   0   \n...   ..  ...    ...       ...  ...  ...         ...  ..  ...  ...  ...  ..   \n5526   0    0      0         0    0    0           0   0    0    0  ...   0   \n5527   0    0      0         0    0    0           0   0    0    0  ...   0   \n5528   0    0      0         0    0    0           0   0    0    0  ...   0   \n5529   0    0      0         0    0    0           0   0    0    0  ...   0   \n5530   0    0      0         0    0    0           0   0    0    0  ...   0   \n\n      수호  엑소  엔시티드림_당장_입국시켜  웨이션브이_당장_입국시켜  윤기야  좋은_날이_앞으로_많기를  찬열  트와이스  화이팅  \n0      0   0              0              0    0              0   0     0    0  \n1      0   0              0              0    0              0   0     0    0  \n2      0   0              0              0    0              0   0     0    0  \n3      0   0              0              0    0              0   0     0    0  \n4      0   0              0              0    0              0   0     0    0  \n...   ..  ..            ...            ...  ...            ...  ..   ...  ...  \n5526   0   0              0              0    0              0   0     0    0  \n5527   0   0              0              0    0              0   0     0    0  \n5528   0   0              0              0    0              0   0     0    0  \n5529   0   0              0              0    0              0   0     0    0  \n5530   0   0              0              0    0              0   0     0    0  \n\n[5531 rows x 27638 columns]",
      "text/html": "<div>\n<style scoped>\n    .dataframe tbody tr th:only-of-type {\n        vertical-align: middle;\n    }\n\n    .dataframe tbody tr th {\n        vertical-align: top;\n    }\n\n    .dataframe thead th {\n        text-align: right;\n    }\n</style>\n<table border=\"1\" class=\"dataframe\">\n  <thead>\n    <tr style=\"text-align: right;\">\n      <th></th>\n      <th>00</th>\n      <th>000</th>\n      <th>00001</th>\n      <th>000morts</th>\n      <th>004</th>\n      <th>005</th>\n      <th>008uae3frs</th>\n      <th>01</th>\n      <th>015</th>\n      <th>016</th>\n      <th>...</th>\n      <th>대구</th>\n      <th>수호</th>\n      <th>엑소</th>\n      <th>엔시티드림_당장_입국시켜</th>\n      <th>웨이션브이_당장_입국시켜</th>\n      <th>윤기야</th>\n      <th>좋은_날이_앞으로_많기를</th>\n      <th>찬열</th>\n      <th>트와이스</th>\n      <th>화이팅</th>\n    </tr>\n  </thead>\n  <tbody>\n    <tr>\n      <th>0</th>\n      <td>0</td>\n      <td>0</td>\n      <td>0</td>\n      <td>0</td>\n      <td>0</td>\n      <td>0</td>\n      <td>0</td>\n      <td>0</td>\n      <td>0</td>\n      <td>0</td>\n      <td>...</td>\n      <td>0</td>\n      <td>0</td>\n      <td>0</td>\n      <td>0</td>\n      <td>0</td>\n      <td>0</td>\n      <td>0</td>\n      <td>0</td>\n      <td>0</td>\n      <td>0</td>\n    </tr>\n    <tr>\n      <th>1</th>\n      <td>0</td>\n      <td>0</td>\n      <td>0</td>\n      <td>0</td>\n      <td>0</td>\n      <td>0</td>\n      <td>0</td>\n      <td>0</td>\n      <td>0</td>\n      <td>0</td>\n      <td>...</td>\n      <td>0</td>\n      <td>0</td>\n      <td>0</td>\n      <td>0</td>\n      <td>0</td>\n      <td>0</td>\n      <td>0</td>\n      <td>0</td>\n      <td>0</td>\n      <td>0</td>\n    </tr>\n    <tr>\n      <th>2</th>\n      <td>0</td>\n      <td>0</td>\n      <td>0</td>\n      <td>0</td>\n      <td>0</td>\n      <td>0</td>\n      <td>0</td>\n      <td>0</td>\n      <td>0</td>\n      <td>0</td>\n      <td>...</td>\n      <td>0</td>\n      <td>0</td>\n      <td>0</td>\n      <td>0</td>\n      <td>0</td>\n      <td>0</td>\n      <td>0</td>\n      <td>0</td>\n      <td>0</td>\n      <td>0</td>\n    </tr>\n    <tr>\n      <th>3</th>\n      <td>0</td>\n      <td>0</td>\n      <td>0</td>\n      <td>0</td>\n      <td>0</td>\n      <td>0</td>\n      <td>0</td>\n      <td>0</td>\n      <td>0</td>\n      <td>0</td>\n      <td>...</td>\n      <td>0</td>\n      <td>0</td>\n      <td>0</td>\n      <td>0</td>\n      <td>0</td>\n      <td>0</td>\n      <td>0</td>\n      <td>0</td>\n      <td>0</td>\n      <td>0</td>\n    </tr>\n    <tr>\n      <th>4</th>\n      <td>0</td>\n      <td>1</td>\n      <td>0</td>\n      <td>0</td>\n      <td>0</td>\n      <td>0</td>\n      <td>0</td>\n      <td>0</td>\n      <td>0</td>\n      <td>0</td>\n      <td>...</td>\n      <td>0</td>\n      <td>0</td>\n      <td>0</td>\n      <td>0</td>\n      <td>0</td>\n      <td>0</td>\n      <td>0</td>\n      <td>0</td>\n      <td>0</td>\n      <td>0</td>\n    </tr>\n    <tr>\n      <th>...</th>\n      <td>...</td>\n      <td>...</td>\n      <td>...</td>\n      <td>...</td>\n      <td>...</td>\n      <td>...</td>\n      <td>...</td>\n      <td>...</td>\n      <td>...</td>\n      <td>...</td>\n      <td>...</td>\n      <td>...</td>\n      <td>...</td>\n      <td>...</td>\n      <td>...</td>\n      <td>...</td>\n      <td>...</td>\n      <td>...</td>\n      <td>...</td>\n      <td>...</td>\n      <td>...</td>\n    </tr>\n    <tr>\n      <th>5526</th>\n      <td>0</td>\n      <td>0</td>\n      <td>0</td>\n      <td>0</td>\n      <td>0</td>\n      <td>0</td>\n      <td>0</td>\n      <td>0</td>\n      <td>0</td>\n      <td>0</td>\n      <td>...</td>\n      <td>0</td>\n      <td>0</td>\n      <td>0</td>\n      <td>0</td>\n      <td>0</td>\n      <td>0</td>\n      <td>0</td>\n      <td>0</td>\n      <td>0</td>\n      <td>0</td>\n    </tr>\n    <tr>\n      <th>5527</th>\n      <td>0</td>\n      <td>0</td>\n      <td>0</td>\n      <td>0</td>\n      <td>0</td>\n      <td>0</td>\n      <td>0</td>\n      <td>0</td>\n      <td>0</td>\n      <td>0</td>\n      <td>...</td>\n      <td>0</td>\n      <td>0</td>\n      <td>0</td>\n      <td>0</td>\n      <td>0</td>\n      <td>0</td>\n      <td>0</td>\n      <td>0</td>\n      <td>0</td>\n      <td>0</td>\n    </tr>\n    <tr>\n      <th>5528</th>\n      <td>0</td>\n      <td>0</td>\n      <td>0</td>\n      <td>0</td>\n      <td>0</td>\n      <td>0</td>\n      <td>0</td>\n      <td>0</td>\n      <td>0</td>\n      <td>0</td>\n      <td>...</td>\n      <td>0</td>\n      <td>0</td>\n      <td>0</td>\n      <td>0</td>\n      <td>0</td>\n      <td>0</td>\n      <td>0</td>\n      <td>0</td>\n      <td>0</td>\n      <td>0</td>\n    </tr>\n    <tr>\n      <th>5529</th>\n      <td>0</td>\n      <td>0</td>\n      <td>0</td>\n      <td>0</td>\n      <td>0</td>\n      <td>0</td>\n      <td>0</td>\n      <td>0</td>\n      <td>0</td>\n      <td>0</td>\n      <td>...</td>\n      <td>0</td>\n      <td>0</td>\n      <td>0</td>\n      <td>0</td>\n      <td>0</td>\n      <td>0</td>\n      <td>0</td>\n      <td>0</td>\n      <td>0</td>\n      <td>0</td>\n    </tr>\n    <tr>\n      <th>5530</th>\n      <td>0</td>\n      <td>0</td>\n      <td>0</td>\n      <td>0</td>\n      <td>0</td>\n      <td>0</td>\n      <td>0</td>\n      <td>0</td>\n      <td>0</td>\n      <td>0</td>\n      <td>...</td>\n      <td>0</td>\n      <td>0</td>\n      <td>0</td>\n      <td>0</td>\n      <td>0</td>\n      <td>0</td>\n      <td>0</td>\n      <td>0</td>\n      <td>0</td>\n      <td>0</td>\n    </tr>\n  </tbody>\n</table>\n<p>5531 rows × 27638 columns</p>\n</div>"
     },
     "metadata": {},
     "execution_count": 3
    }
   ],
   "source": [
    "# first create the transform and stop words set for english\n",
    "vectorizer = CountVectorizer(stop_words='english')\n",
    "\n",
    "# The Tweet column is the list of documents\n",
    "vectorizer.fit(tweets_dataset['Tweet'])\n",
    "\n",
    "# Counter words by tweet array\n",
    "word_counter = vectorizer.transform(tweets_dataset['Tweet'])\n",
    "print('Vector Representation')\n",
    "pd.DataFrame(word_counter.toarray(), columns=vectorizer.get_feature_names())"
   ]
  },
  {
   "cell_type": "markdown",
   "metadata": {},
   "source": [
    "### TF-IDF computation by document"
   ]
  },
  {
   "cell_type": "code",
   "execution_count": 4,
   "metadata": {},
   "outputs": [
    {
     "output_type": "execute_result",
     "data": {
      "text/plain": "TfidfVectorizer(analyzer='word', binary=False, decode_error='strict',\n                dtype=<class 'numpy.float64'>, encoding='utf-8',\n                input='content', lowercase=True, max_df=1.0, max_features=None,\n                min_df=1, ngram_range=(1, 1), norm='l2', preprocessor=None,\n                smooth_idf=True, stop_words='english', strip_accents=None,\n                sublinear_tf=False, token_pattern='(?u)\\\\b\\\\w\\\\w+\\\\b',\n                tokenizer=None, use_idf=True, vocabulary=None)"
     },
     "metadata": {},
     "execution_count": 4
    },
    {
     "output_type": "execute_result",
     "data": {
      "text/plain": "                 IDF\n00          7.672395\n000         4.530708\n00001       8.925158\n000morts    8.925158\n004         8.519692\n005         8.925158\n008uae3frs  8.925158\n01          8.519692\n015         8.925158\n016         8.925158",
      "text/html": "<div>\n<style scoped>\n    .dataframe tbody tr th:only-of-type {\n        vertical-align: middle;\n    }\n\n    .dataframe tbody tr th {\n        vertical-align: top;\n    }\n\n    .dataframe thead th {\n        text-align: right;\n    }\n</style>\n<table border=\"1\" class=\"dataframe\">\n  <thead>\n    <tr style=\"text-align: right;\">\n      <th></th>\n      <th>IDF</th>\n    </tr>\n  </thead>\n  <tbody>\n    <tr>\n      <th>00</th>\n      <td>7.672395</td>\n    </tr>\n    <tr>\n      <th>000</th>\n      <td>4.530708</td>\n    </tr>\n    <tr>\n      <th>00001</th>\n      <td>8.925158</td>\n    </tr>\n    <tr>\n      <th>000morts</th>\n      <td>8.925158</td>\n    </tr>\n    <tr>\n      <th>004</th>\n      <td>8.519692</td>\n    </tr>\n    <tr>\n      <th>005</th>\n      <td>8.925158</td>\n    </tr>\n    <tr>\n      <th>008uae3frs</th>\n      <td>8.925158</td>\n    </tr>\n    <tr>\n      <th>01</th>\n      <td>8.519692</td>\n    </tr>\n    <tr>\n      <th>015</th>\n      <td>8.925158</td>\n    </tr>\n    <tr>\n      <th>016</th>\n      <td>8.925158</td>\n    </tr>\n  </tbody>\n</table>\n</div>"
     },
     "metadata": {},
     "execution_count": 4
    }
   ],
   "source": [
    "# create the transform\n",
    "vectorizer = TfidfVectorizer(stop_words='english')\n",
    "\n",
    "# tokenize and build vocab\n",
    "vectorizer.fit(tweets_dataset['Tweet'])\n",
    "pd.DataFrame(vectorizer.idf_, index=vectorizer.get_feature_names(), columns=['IDF']).head(10)\n",
    "\n",
    "# Tf-idf matrix by tweet\n",
    "tf_idf = vectorizer.transform(tweets_dataset['Tweet'])\n",
    "tf_idf = pd.DataFrame(tf_idf.toarray(), columns=vectorizer.get_feature_names())\n",
    "# Add TF-IDF column to tweets_dataset\n",
    "tweets_dataset = pd.concat([tweets_dataset, tf_idf], axis=1)"
   ]
  },
  {
   "cell_type": "markdown",
   "metadata": {},
   "source": [
    "## Feature set\n",
    "### 1.2 Merge User and Tweets info datasets\n",
    "\n",
    "**In this step is created the dataset both for task 1 as task 2, therefore is required to run this before [task_2.ipynb](task_2.ipynb)**"
   ]
  },
  {
   "cell_type": "code",
   "execution_count": 24,
   "metadata": {},
   "outputs": [
    {
     "output_type": "execute_result",
     "data": {
      "text/plain": "      Total tweets  Retweets  Images  Links  Chats  Text tweets     Impacts  \\\n0               13         0       0     12      5            1  1489476161   \n1               55         0       3     11      1           42  4100089350   \n2               55         0       3     11      1           42  4100089350   \n3               55         0       3     11      1           42  4100089350   \n4               55         0       3     11      1           42  4100089350   \n...            ...       ...     ...    ...    ...          ...         ...   \n5756             1         0       1      0      0            0           4   \n5757             1         0       1      0      0            0           3   \n5758             1         0       1      0      0            0           2   \n5759             1         0       1      0      0            0           1   \n5760             1         0       1      0      0            0           0   \n\n      Followers  User value  Tweets value  ...   대구   수호   엑소  엔시티드림_당장_입국시켜  \\\n0     115296834   150464.37    1466166.07  ...  0.0  0.0  0.0            0.0   \n1      76238523   103166.11    5644215.11  ...  0.0  0.0  0.0            0.0   \n2      76238523   103166.11    5644215.11  ...  0.0  0.0  0.0            0.0   \n3      76238523   103166.11    5644215.11  ...  0.0  0.0  0.0            0.0   \n4      76238523   103166.11    5644215.11  ...  0.0  0.0  0.0            0.0   \n...         ...         ...           ...  ...  ...  ...  ...            ...   \n5756          4        0.02          0.02  ...  0.0  0.0  0.0            0.0   \n5757          3        0.01          0.01  ...  0.0  0.0  0.0            0.0   \n5758          2        0.01          0.01  ...  0.0  0.0  0.0            0.0   \n5759          1        0.00          0.00  ...  0.0  0.0  0.0            0.0   \n5760          0        0.00          0.00  ...  0.0  0.0  0.0            0.0   \n\n      웨이션브이_당장_입국시켜  윤기야  좋은_날이_앞으로_많기를   찬열  트와이스  화이팅  \n0               0.0  0.0            0.0  0.0   0.0  0.0  \n1               0.0  0.0            0.0  0.0   0.0  0.0  \n2               0.0  0.0            0.0  0.0   0.0  0.0  \n3               0.0  0.0            0.0  0.0   0.0  0.0  \n4               0.0  0.0            0.0  0.0   0.0  0.0  \n...             ...  ...            ...  ...   ...  ...  \n5756            0.0  0.0            0.0  0.0   0.0  0.0  \n5757            0.0  0.0            0.0  0.0   0.0  0.0  \n5758            0.0  0.0            0.0  0.0   0.0  0.0  \n5759            0.0  0.0            0.0  0.0   0.0  0.0  \n5760            0.0  0.0            0.0  0.0   0.0  0.0  \n\n[5761 rows x 27651 columns]",
      "text/html": "<div>\n<style scoped>\n    .dataframe tbody tr th:only-of-type {\n        vertical-align: middle;\n    }\n\n    .dataframe tbody tr th {\n        vertical-align: top;\n    }\n\n    .dataframe thead th {\n        text-align: right;\n    }\n</style>\n<table border=\"1\" class=\"dataframe\">\n  <thead>\n    <tr style=\"text-align: right;\">\n      <th></th>\n      <th>Total tweets</th>\n      <th>Retweets</th>\n      <th>Images</th>\n      <th>Links</th>\n      <th>Chats</th>\n      <th>Text tweets</th>\n      <th>Impacts</th>\n      <th>Followers</th>\n      <th>User value</th>\n      <th>Tweets value</th>\n      <th>...</th>\n      <th>대구</th>\n      <th>수호</th>\n      <th>엑소</th>\n      <th>엔시티드림_당장_입국시켜</th>\n      <th>웨이션브이_당장_입국시켜</th>\n      <th>윤기야</th>\n      <th>좋은_날이_앞으로_많기를</th>\n      <th>찬열</th>\n      <th>트와이스</th>\n      <th>화이팅</th>\n    </tr>\n  </thead>\n  <tbody>\n    <tr>\n      <th>0</th>\n      <td>13</td>\n      <td>0</td>\n      <td>0</td>\n      <td>12</td>\n      <td>5</td>\n      <td>1</td>\n      <td>1489476161</td>\n      <td>115296834</td>\n      <td>150464.37</td>\n      <td>1466166.07</td>\n      <td>...</td>\n      <td>0.0</td>\n      <td>0.0</td>\n      <td>0.0</td>\n      <td>0.0</td>\n      <td>0.0</td>\n      <td>0.0</td>\n      <td>0.0</td>\n      <td>0.0</td>\n      <td>0.0</td>\n      <td>0.0</td>\n    </tr>\n    <tr>\n      <th>1</th>\n      <td>55</td>\n      <td>0</td>\n      <td>3</td>\n      <td>11</td>\n      <td>1</td>\n      <td>42</td>\n      <td>4100089350</td>\n      <td>76238523</td>\n      <td>103166.11</td>\n      <td>5644215.11</td>\n      <td>...</td>\n      <td>0.0</td>\n      <td>0.0</td>\n      <td>0.0</td>\n      <td>0.0</td>\n      <td>0.0</td>\n      <td>0.0</td>\n      <td>0.0</td>\n      <td>0.0</td>\n      <td>0.0</td>\n      <td>0.0</td>\n    </tr>\n    <tr>\n      <th>2</th>\n      <td>55</td>\n      <td>0</td>\n      <td>3</td>\n      <td>11</td>\n      <td>1</td>\n      <td>42</td>\n      <td>4100089350</td>\n      <td>76238523</td>\n      <td>103166.11</td>\n      <td>5644215.11</td>\n      <td>...</td>\n      <td>0.0</td>\n      <td>0.0</td>\n      <td>0.0</td>\n      <td>0.0</td>\n      <td>0.0</td>\n      <td>0.0</td>\n      <td>0.0</td>\n      <td>0.0</td>\n      <td>0.0</td>\n      <td>0.0</td>\n    </tr>\n    <tr>\n      <th>3</th>\n      <td>55</td>\n      <td>0</td>\n      <td>3</td>\n      <td>11</td>\n      <td>1</td>\n      <td>42</td>\n      <td>4100089350</td>\n      <td>76238523</td>\n      <td>103166.11</td>\n      <td>5644215.11</td>\n      <td>...</td>\n      <td>0.0</td>\n      <td>0.0</td>\n      <td>0.0</td>\n      <td>0.0</td>\n      <td>0.0</td>\n      <td>0.0</td>\n      <td>0.0</td>\n      <td>0.0</td>\n      <td>0.0</td>\n      <td>0.0</td>\n    </tr>\n    <tr>\n      <th>4</th>\n      <td>55</td>\n      <td>0</td>\n      <td>3</td>\n      <td>11</td>\n      <td>1</td>\n      <td>42</td>\n      <td>4100089350</td>\n      <td>76238523</td>\n      <td>103166.11</td>\n      <td>5644215.11</td>\n      <td>...</td>\n      <td>0.0</td>\n      <td>0.0</td>\n      <td>0.0</td>\n      <td>0.0</td>\n      <td>0.0</td>\n      <td>0.0</td>\n      <td>0.0</td>\n      <td>0.0</td>\n      <td>0.0</td>\n      <td>0.0</td>\n    </tr>\n    <tr>\n      <th>...</th>\n      <td>...</td>\n      <td>...</td>\n      <td>...</td>\n      <td>...</td>\n      <td>...</td>\n      <td>...</td>\n      <td>...</td>\n      <td>...</td>\n      <td>...</td>\n      <td>...</td>\n      <td>...</td>\n      <td>...</td>\n      <td>...</td>\n      <td>...</td>\n      <td>...</td>\n      <td>...</td>\n      <td>...</td>\n      <td>...</td>\n      <td>...</td>\n      <td>...</td>\n      <td>...</td>\n    </tr>\n    <tr>\n      <th>5756</th>\n      <td>1</td>\n      <td>0</td>\n      <td>1</td>\n      <td>0</td>\n      <td>0</td>\n      <td>0</td>\n      <td>4</td>\n      <td>4</td>\n      <td>0.02</td>\n      <td>0.02</td>\n      <td>...</td>\n      <td>0.0</td>\n      <td>0.0</td>\n      <td>0.0</td>\n      <td>0.0</td>\n      <td>0.0</td>\n      <td>0.0</td>\n      <td>0.0</td>\n      <td>0.0</td>\n      <td>0.0</td>\n      <td>0.0</td>\n    </tr>\n    <tr>\n      <th>5757</th>\n      <td>1</td>\n      <td>0</td>\n      <td>1</td>\n      <td>0</td>\n      <td>0</td>\n      <td>0</td>\n      <td>3</td>\n      <td>3</td>\n      <td>0.01</td>\n      <td>0.01</td>\n      <td>...</td>\n      <td>0.0</td>\n      <td>0.0</td>\n      <td>0.0</td>\n      <td>0.0</td>\n      <td>0.0</td>\n      <td>0.0</td>\n      <td>0.0</td>\n      <td>0.0</td>\n      <td>0.0</td>\n      <td>0.0</td>\n    </tr>\n    <tr>\n      <th>5758</th>\n      <td>1</td>\n      <td>0</td>\n      <td>1</td>\n      <td>0</td>\n      <td>0</td>\n      <td>0</td>\n      <td>2</td>\n      <td>2</td>\n      <td>0.01</td>\n      <td>0.01</td>\n      <td>...</td>\n      <td>0.0</td>\n      <td>0.0</td>\n      <td>0.0</td>\n      <td>0.0</td>\n      <td>0.0</td>\n      <td>0.0</td>\n      <td>0.0</td>\n      <td>0.0</td>\n      <td>0.0</td>\n      <td>0.0</td>\n    </tr>\n    <tr>\n      <th>5759</th>\n      <td>1</td>\n      <td>0</td>\n      <td>1</td>\n      <td>0</td>\n      <td>0</td>\n      <td>0</td>\n      <td>1</td>\n      <td>1</td>\n      <td>0.00</td>\n      <td>0.00</td>\n      <td>...</td>\n      <td>0.0</td>\n      <td>0.0</td>\n      <td>0.0</td>\n      <td>0.0</td>\n      <td>0.0</td>\n      <td>0.0</td>\n      <td>0.0</td>\n      <td>0.0</td>\n      <td>0.0</td>\n      <td>0.0</td>\n    </tr>\n    <tr>\n      <th>5760</th>\n      <td>1</td>\n      <td>0</td>\n      <td>1</td>\n      <td>0</td>\n      <td>0</td>\n      <td>0</td>\n      <td>0</td>\n      <td>0</td>\n      <td>0.00</td>\n      <td>0.00</td>\n      <td>...</td>\n      <td>0.0</td>\n      <td>0.0</td>\n      <td>0.0</td>\n      <td>0.0</td>\n      <td>0.0</td>\n      <td>0.0</td>\n      <td>0.0</td>\n      <td>0.0</td>\n      <td>0.0</td>\n      <td>0.0</td>\n    </tr>\n  </tbody>\n</table>\n<p>5761 rows × 27651 columns</p>\n</div>"
     },
     "metadata": {},
     "execution_count": 24
    }
   ],
   "source": [
    "# Construct the feature set\n",
    "custom_dataset = pd.merge(user_dataset, tweets_dataset, on=['User'], how='inner')\n",
    "drop_columns = ['User','Date','Tweet','Binders','Permalink','Name','Location']\n",
    "custom_dataset.drop(drop_columns, axis=1, inplace=True)\n",
    "custom_dataset"
   ]
  },
  {
   "cell_type": "markdown",
   "metadata": {},
   "source": [
    "### 1.3 Calculate the tweet popularity and append feature set"
   ]
  },
  {
   "cell_type": "code",
   "execution_count": 25,
   "metadata": {},
   "outputs": [
    {
     "output_type": "execute_result",
     "data": {
      "text/plain": "      Total tweets  Retweets  Images  Links  Chats  Text tweets     Impacts  \\\n0               13         0       0     12      5            1  1489476161   \n1               55         0       3     11      1           42  4100089350   \n2               55         0       3     11      1           42  4100089350   \n3               55         0       3     11      1           42  4100089350   \n4               55         0       3     11      1           42  4100089350   \n...            ...       ...     ...    ...    ...          ...         ...   \n5756             1         0       1      0      0            0           4   \n5757             1         0       1      0      0            0           3   \n5758             1         0       1      0      0            0           2   \n5759             1         0       1      0      0            0           1   \n5760             1         0       1      0      0            0           0   \n\n      Followers  User value  Tweets value  ...   수호   엑소  엔시티드림_당장_입국시켜  \\\n0     115296834   150464.37    1466166.07  ...  0.0  0.0            0.0   \n1      76238523   103166.11    5644215.11  ...  0.0  0.0            0.0   \n2      76238523   103166.11    5644215.11  ...  0.0  0.0            0.0   \n3      76238523   103166.11    5644215.11  ...  0.0  0.0            0.0   \n4      76238523   103166.11    5644215.11  ...  0.0  0.0            0.0   \n...         ...         ...           ...  ...  ...  ...            ...   \n5756          4        0.02          0.02  ...  0.0  0.0            0.0   \n5757          3        0.01          0.01  ...  0.0  0.0            0.0   \n5758          2        0.01          0.01  ...  0.0  0.0            0.0   \n5759          1        0.00          0.00  ...  0.0  0.0            0.0   \n5760          0        0.00          0.00  ...  0.0  0.0            0.0   \n\n      웨이션브이_당장_입국시켜  윤기야  좋은_날이_앞으로_많기를   찬열  트와이스  화이팅  Popular  \n0               0.0  0.0            0.0  0.0   0.0  0.0     True  \n1               0.0  0.0            0.0  0.0   0.0  0.0     True  \n2               0.0  0.0            0.0  0.0   0.0  0.0     True  \n3               0.0  0.0            0.0  0.0   0.0  0.0     True  \n4               0.0  0.0            0.0  0.0   0.0  0.0     True  \n...             ...  ...            ...  ...   ...  ...      ...  \n5756            0.0  0.0            0.0  0.0   0.0  0.0    False  \n5757            0.0  0.0            0.0  0.0   0.0  0.0    False  \n5758            0.0  0.0            0.0  0.0   0.0  0.0    False  \n5759            0.0  0.0            0.0  0.0   0.0  0.0    False  \n5760            0.0  0.0            0.0  0.0   0.0  0.0    False  \n\n[5761 rows x 27652 columns]",
      "text/html": "<div>\n<style scoped>\n    .dataframe tbody tr th:only-of-type {\n        vertical-align: middle;\n    }\n\n    .dataframe tbody tr th {\n        vertical-align: top;\n    }\n\n    .dataframe thead th {\n        text-align: right;\n    }\n</style>\n<table border=\"1\" class=\"dataframe\">\n  <thead>\n    <tr style=\"text-align: right;\">\n      <th></th>\n      <th>Total tweets</th>\n      <th>Retweets</th>\n      <th>Images</th>\n      <th>Links</th>\n      <th>Chats</th>\n      <th>Text tweets</th>\n      <th>Impacts</th>\n      <th>Followers</th>\n      <th>User value</th>\n      <th>Tweets value</th>\n      <th>...</th>\n      <th>수호</th>\n      <th>엑소</th>\n      <th>엔시티드림_당장_입국시켜</th>\n      <th>웨이션브이_당장_입국시켜</th>\n      <th>윤기야</th>\n      <th>좋은_날이_앞으로_많기를</th>\n      <th>찬열</th>\n      <th>트와이스</th>\n      <th>화이팅</th>\n      <th>Popular</th>\n    </tr>\n  </thead>\n  <tbody>\n    <tr>\n      <th>0</th>\n      <td>13</td>\n      <td>0</td>\n      <td>0</td>\n      <td>12</td>\n      <td>5</td>\n      <td>1</td>\n      <td>1489476161</td>\n      <td>115296834</td>\n      <td>150464.37</td>\n      <td>1466166.07</td>\n      <td>...</td>\n      <td>0.0</td>\n      <td>0.0</td>\n      <td>0.0</td>\n      <td>0.0</td>\n      <td>0.0</td>\n      <td>0.0</td>\n      <td>0.0</td>\n      <td>0.0</td>\n      <td>0.0</td>\n      <td>True</td>\n    </tr>\n    <tr>\n      <th>1</th>\n      <td>55</td>\n      <td>0</td>\n      <td>3</td>\n      <td>11</td>\n      <td>1</td>\n      <td>42</td>\n      <td>4100089350</td>\n      <td>76238523</td>\n      <td>103166.11</td>\n      <td>5644215.11</td>\n      <td>...</td>\n      <td>0.0</td>\n      <td>0.0</td>\n      <td>0.0</td>\n      <td>0.0</td>\n      <td>0.0</td>\n      <td>0.0</td>\n      <td>0.0</td>\n      <td>0.0</td>\n      <td>0.0</td>\n      <td>True</td>\n    </tr>\n    <tr>\n      <th>2</th>\n      <td>55</td>\n      <td>0</td>\n      <td>3</td>\n      <td>11</td>\n      <td>1</td>\n      <td>42</td>\n      <td>4100089350</td>\n      <td>76238523</td>\n      <td>103166.11</td>\n      <td>5644215.11</td>\n      <td>...</td>\n      <td>0.0</td>\n      <td>0.0</td>\n      <td>0.0</td>\n      <td>0.0</td>\n      <td>0.0</td>\n      <td>0.0</td>\n      <td>0.0</td>\n      <td>0.0</td>\n      <td>0.0</td>\n      <td>True</td>\n    </tr>\n    <tr>\n      <th>3</th>\n      <td>55</td>\n      <td>0</td>\n      <td>3</td>\n      <td>11</td>\n      <td>1</td>\n      <td>42</td>\n      <td>4100089350</td>\n      <td>76238523</td>\n      <td>103166.11</td>\n      <td>5644215.11</td>\n      <td>...</td>\n      <td>0.0</td>\n      <td>0.0</td>\n      <td>0.0</td>\n      <td>0.0</td>\n      <td>0.0</td>\n      <td>0.0</td>\n      <td>0.0</td>\n      <td>0.0</td>\n      <td>0.0</td>\n      <td>True</td>\n    </tr>\n    <tr>\n      <th>4</th>\n      <td>55</td>\n      <td>0</td>\n      <td>3</td>\n      <td>11</td>\n      <td>1</td>\n      <td>42</td>\n      <td>4100089350</td>\n      <td>76238523</td>\n      <td>103166.11</td>\n      <td>5644215.11</td>\n      <td>...</td>\n      <td>0.0</td>\n      <td>0.0</td>\n      <td>0.0</td>\n      <td>0.0</td>\n      <td>0.0</td>\n      <td>0.0</td>\n      <td>0.0</td>\n      <td>0.0</td>\n      <td>0.0</td>\n      <td>True</td>\n    </tr>\n    <tr>\n      <th>...</th>\n      <td>...</td>\n      <td>...</td>\n      <td>...</td>\n      <td>...</td>\n      <td>...</td>\n      <td>...</td>\n      <td>...</td>\n      <td>...</td>\n      <td>...</td>\n      <td>...</td>\n      <td>...</td>\n      <td>...</td>\n      <td>...</td>\n      <td>...</td>\n      <td>...</td>\n      <td>...</td>\n      <td>...</td>\n      <td>...</td>\n      <td>...</td>\n      <td>...</td>\n      <td>...</td>\n    </tr>\n    <tr>\n      <th>5756</th>\n      <td>1</td>\n      <td>0</td>\n      <td>1</td>\n      <td>0</td>\n      <td>0</td>\n      <td>0</td>\n      <td>4</td>\n      <td>4</td>\n      <td>0.02</td>\n      <td>0.02</td>\n      <td>...</td>\n      <td>0.0</td>\n      <td>0.0</td>\n      <td>0.0</td>\n      <td>0.0</td>\n      <td>0.0</td>\n      <td>0.0</td>\n      <td>0.0</td>\n      <td>0.0</td>\n      <td>0.0</td>\n      <td>False</td>\n    </tr>\n    <tr>\n      <th>5757</th>\n      <td>1</td>\n      <td>0</td>\n      <td>1</td>\n      <td>0</td>\n      <td>0</td>\n      <td>0</td>\n      <td>3</td>\n      <td>3</td>\n      <td>0.01</td>\n      <td>0.01</td>\n      <td>...</td>\n      <td>0.0</td>\n      <td>0.0</td>\n      <td>0.0</td>\n      <td>0.0</td>\n      <td>0.0</td>\n      <td>0.0</td>\n      <td>0.0</td>\n      <td>0.0</td>\n      <td>0.0</td>\n      <td>False</td>\n    </tr>\n    <tr>\n      <th>5758</th>\n      <td>1</td>\n      <td>0</td>\n      <td>1</td>\n      <td>0</td>\n      <td>0</td>\n      <td>0</td>\n      <td>2</td>\n      <td>2</td>\n      <td>0.01</td>\n      <td>0.01</td>\n      <td>...</td>\n      <td>0.0</td>\n      <td>0.0</td>\n      <td>0.0</td>\n      <td>0.0</td>\n      <td>0.0</td>\n      <td>0.0</td>\n      <td>0.0</td>\n      <td>0.0</td>\n      <td>0.0</td>\n      <td>False</td>\n    </tr>\n    <tr>\n      <th>5759</th>\n      <td>1</td>\n      <td>0</td>\n      <td>1</td>\n      <td>0</td>\n      <td>0</td>\n      <td>0</td>\n      <td>1</td>\n      <td>1</td>\n      <td>0.00</td>\n      <td>0.00</td>\n      <td>...</td>\n      <td>0.0</td>\n      <td>0.0</td>\n      <td>0.0</td>\n      <td>0.0</td>\n      <td>0.0</td>\n      <td>0.0</td>\n      <td>0.0</td>\n      <td>0.0</td>\n      <td>0.0</td>\n      <td>False</td>\n    </tr>\n    <tr>\n      <th>5760</th>\n      <td>1</td>\n      <td>0</td>\n      <td>1</td>\n      <td>0</td>\n      <td>0</td>\n      <td>0</td>\n      <td>0</td>\n      <td>0</td>\n      <td>0.00</td>\n      <td>0.00</td>\n      <td>...</td>\n      <td>0.0</td>\n      <td>0.0</td>\n      <td>0.0</td>\n      <td>0.0</td>\n      <td>0.0</td>\n      <td>0.0</td>\n      <td>0.0</td>\n      <td>0.0</td>\n      <td>0.0</td>\n      <td>False</td>\n    </tr>\n  </tbody>\n</table>\n<p>5761 rows × 27652 columns</p>\n</div>"
     },
     "metadata": {},
     "execution_count": 25
    }
   ],
   "source": [
    "# Calculate tweet popularity\n",
    "custom_dataset['Popular'] = np.where(custom_dataset['Likes count'] > 10000, True, False)\n",
    "custom_dataset"
   ]
  },
  {
   "cell_type": "markdown",
   "metadata": {},
   "source": [
    "### 1.4 Divide the dataset into 80% training and 20% testing"
   ]
  },
  {
   "cell_type": "code",
   "execution_count": 17,
   "metadata": {},
   "outputs": [
    {
     "output_type": "stream",
     "name": "stdout",
     "text": "Training Dataset\n\n"
    },
    {
     "output_type": "execute_result",
     "data": {
      "text/plain": "      Total tweets  Retweets  Images  Links  Chats  Text tweets   Impacts  \\\n5661             1         0       1      0      1            0       124   \n4983             1         0       0      0      0            1      3429   \n2607             4         0       1      2      0            1    799400   \n4294             1         0       0      0      0            1     16309   \n5653             1         0       0      0      0            1       144   \n...            ...       ...     ...    ...    ...          ...       ...   \n4613             2         0       0      2      0            0     17270   \n1654             5         0       0      0      0            5   2684385   \n947             32         0       1     26      0            5  50259973   \n4699             1         0       1      0      0            0      7316   \n1296             3         0       1      1      0            1   2507895   \n\n      Followers  User value  Tweets value  ...   대구   수호   엑소  엔시티드림_당장_입국시켜  \\\n5661        124        0.45          0.11  ...  0.0  0.0  0.0            0.0   \n4983       3429       11.35         11.35  ...  0.0  0.0  0.0            0.0   \n2607     199850      353.51       1555.44  ...  0.0  0.0  0.0            0.0   \n4294      16309       39.93         39.93  ...  0.0  0.0  0.0            0.0   \n5653        144        0.47          0.47  ...  0.0  0.0  0.0            0.0   \n...         ...         ...           ...  ...  ...  ...  ...            ...   \n4613       8777       30.89         67.10  ...  0.0  0.0  0.0            0.0   \n1654     541070     1181.70       5921.54  ...  0.0  0.0  0.0            0.0   \n947     1611077     3118.35     106087.24  ...  0.0  0.0  0.0            0.0   \n4699       7316       19.42         23.30  ...  0.0  0.0  0.0            0.0   \n1296     838515     1702.93       5604.11  ...  0.0  0.0  0.0            0.0   \n\n      웨이션브이_당장_입국시켜  윤기야  좋은_날이_앞으로_많기를   찬열  트와이스  화이팅  \n5661            0.0  0.0            0.0  0.0   0.0  0.0  \n4983            0.0  0.0            0.0  0.0   0.0  0.0  \n2607            0.0  0.0            0.0  0.0   0.0  0.0  \n4294            0.0  0.0            0.0  0.0   0.0  0.0  \n5653            0.0  0.0            0.0  0.0   0.0  0.0  \n...             ...  ...            ...  ...   ...  ...  \n4613            0.0  0.0            0.0  0.0   0.0  0.0  \n1654            0.0  0.0            0.0  0.0   0.0  0.0  \n947             0.0  0.0            0.0  0.0   0.0  0.0  \n4699            0.0  0.0            0.0  0.0   0.0  0.0  \n1296            0.0  0.0            0.0  0.0   0.0  0.0  \n\n[4608 rows x 27651 columns]",
      "text/html": "<div>\n<style scoped>\n    .dataframe tbody tr th:only-of-type {\n        vertical-align: middle;\n    }\n\n    .dataframe tbody tr th {\n        vertical-align: top;\n    }\n\n    .dataframe thead th {\n        text-align: right;\n    }\n</style>\n<table border=\"1\" class=\"dataframe\">\n  <thead>\n    <tr style=\"text-align: right;\">\n      <th></th>\n      <th>Total tweets</th>\n      <th>Retweets</th>\n      <th>Images</th>\n      <th>Links</th>\n      <th>Chats</th>\n      <th>Text tweets</th>\n      <th>Impacts</th>\n      <th>Followers</th>\n      <th>User value</th>\n      <th>Tweets value</th>\n      <th>...</th>\n      <th>대구</th>\n      <th>수호</th>\n      <th>엑소</th>\n      <th>엔시티드림_당장_입국시켜</th>\n      <th>웨이션브이_당장_입국시켜</th>\n      <th>윤기야</th>\n      <th>좋은_날이_앞으로_많기를</th>\n      <th>찬열</th>\n      <th>트와이스</th>\n      <th>화이팅</th>\n    </tr>\n  </thead>\n  <tbody>\n    <tr>\n      <th>5661</th>\n      <td>1</td>\n      <td>0</td>\n      <td>1</td>\n      <td>0</td>\n      <td>1</td>\n      <td>0</td>\n      <td>124</td>\n      <td>124</td>\n      <td>0.45</td>\n      <td>0.11</td>\n      <td>...</td>\n      <td>0.0</td>\n      <td>0.0</td>\n      <td>0.0</td>\n      <td>0.0</td>\n      <td>0.0</td>\n      <td>0.0</td>\n      <td>0.0</td>\n      <td>0.0</td>\n      <td>0.0</td>\n      <td>0.0</td>\n    </tr>\n    <tr>\n      <th>4983</th>\n      <td>1</td>\n      <td>0</td>\n      <td>0</td>\n      <td>0</td>\n      <td>0</td>\n      <td>1</td>\n      <td>3429</td>\n      <td>3429</td>\n      <td>11.35</td>\n      <td>11.35</td>\n      <td>...</td>\n      <td>0.0</td>\n      <td>0.0</td>\n      <td>0.0</td>\n      <td>0.0</td>\n      <td>0.0</td>\n      <td>0.0</td>\n      <td>0.0</td>\n      <td>0.0</td>\n      <td>0.0</td>\n      <td>0.0</td>\n    </tr>\n    <tr>\n      <th>2607</th>\n      <td>4</td>\n      <td>0</td>\n      <td>1</td>\n      <td>2</td>\n      <td>0</td>\n      <td>1</td>\n      <td>799400</td>\n      <td>199850</td>\n      <td>353.51</td>\n      <td>1555.44</td>\n      <td>...</td>\n      <td>0.0</td>\n      <td>0.0</td>\n      <td>0.0</td>\n      <td>0.0</td>\n      <td>0.0</td>\n      <td>0.0</td>\n      <td>0.0</td>\n      <td>0.0</td>\n      <td>0.0</td>\n      <td>0.0</td>\n    </tr>\n    <tr>\n      <th>4294</th>\n      <td>1</td>\n      <td>0</td>\n      <td>0</td>\n      <td>0</td>\n      <td>0</td>\n      <td>1</td>\n      <td>16309</td>\n      <td>16309</td>\n      <td>39.93</td>\n      <td>39.93</td>\n      <td>...</td>\n      <td>0.0</td>\n      <td>0.0</td>\n      <td>0.0</td>\n      <td>0.0</td>\n      <td>0.0</td>\n      <td>0.0</td>\n      <td>0.0</td>\n      <td>0.0</td>\n      <td>0.0</td>\n      <td>0.0</td>\n    </tr>\n    <tr>\n      <th>5653</th>\n      <td>1</td>\n      <td>0</td>\n      <td>0</td>\n      <td>0</td>\n      <td>0</td>\n      <td>1</td>\n      <td>144</td>\n      <td>144</td>\n      <td>0.47</td>\n      <td>0.47</td>\n      <td>...</td>\n      <td>0.0</td>\n      <td>0.0</td>\n      <td>0.0</td>\n      <td>0.0</td>\n      <td>0.0</td>\n      <td>0.0</td>\n      <td>0.0</td>\n      <td>0.0</td>\n      <td>0.0</td>\n      <td>0.0</td>\n    </tr>\n    <tr>\n      <th>...</th>\n      <td>...</td>\n      <td>...</td>\n      <td>...</td>\n      <td>...</td>\n      <td>...</td>\n      <td>...</td>\n      <td>...</td>\n      <td>...</td>\n      <td>...</td>\n      <td>...</td>\n      <td>...</td>\n      <td>...</td>\n      <td>...</td>\n      <td>...</td>\n      <td>...</td>\n      <td>...</td>\n      <td>...</td>\n      <td>...</td>\n      <td>...</td>\n      <td>...</td>\n      <td>...</td>\n    </tr>\n    <tr>\n      <th>4613</th>\n      <td>2</td>\n      <td>0</td>\n      <td>0</td>\n      <td>2</td>\n      <td>0</td>\n      <td>0</td>\n      <td>17270</td>\n      <td>8777</td>\n      <td>30.89</td>\n      <td>67.10</td>\n      <td>...</td>\n      <td>0.0</td>\n      <td>0.0</td>\n      <td>0.0</td>\n      <td>0.0</td>\n      <td>0.0</td>\n      <td>0.0</td>\n      <td>0.0</td>\n      <td>0.0</td>\n      <td>0.0</td>\n      <td>0.0</td>\n    </tr>\n    <tr>\n      <th>1654</th>\n      <td>5</td>\n      <td>0</td>\n      <td>0</td>\n      <td>0</td>\n      <td>0</td>\n      <td>5</td>\n      <td>2684385</td>\n      <td>541070</td>\n      <td>1181.70</td>\n      <td>5921.54</td>\n      <td>...</td>\n      <td>0.0</td>\n      <td>0.0</td>\n      <td>0.0</td>\n      <td>0.0</td>\n      <td>0.0</td>\n      <td>0.0</td>\n      <td>0.0</td>\n      <td>0.0</td>\n      <td>0.0</td>\n      <td>0.0</td>\n    </tr>\n    <tr>\n      <th>947</th>\n      <td>32</td>\n      <td>0</td>\n      <td>1</td>\n      <td>26</td>\n      <td>0</td>\n      <td>5</td>\n      <td>50259973</td>\n      <td>1611077</td>\n      <td>3118.35</td>\n      <td>106087.24</td>\n      <td>...</td>\n      <td>0.0</td>\n      <td>0.0</td>\n      <td>0.0</td>\n      <td>0.0</td>\n      <td>0.0</td>\n      <td>0.0</td>\n      <td>0.0</td>\n      <td>0.0</td>\n      <td>0.0</td>\n      <td>0.0</td>\n    </tr>\n    <tr>\n      <th>4699</th>\n      <td>1</td>\n      <td>0</td>\n      <td>1</td>\n      <td>0</td>\n      <td>0</td>\n      <td>0</td>\n      <td>7316</td>\n      <td>7316</td>\n      <td>19.42</td>\n      <td>23.30</td>\n      <td>...</td>\n      <td>0.0</td>\n      <td>0.0</td>\n      <td>0.0</td>\n      <td>0.0</td>\n      <td>0.0</td>\n      <td>0.0</td>\n      <td>0.0</td>\n      <td>0.0</td>\n      <td>0.0</td>\n      <td>0.0</td>\n    </tr>\n    <tr>\n      <th>1296</th>\n      <td>3</td>\n      <td>0</td>\n      <td>1</td>\n      <td>1</td>\n      <td>0</td>\n      <td>1</td>\n      <td>2507895</td>\n      <td>838515</td>\n      <td>1702.93</td>\n      <td>5604.11</td>\n      <td>...</td>\n      <td>0.0</td>\n      <td>0.0</td>\n      <td>0.0</td>\n      <td>0.0</td>\n      <td>0.0</td>\n      <td>0.0</td>\n      <td>0.0</td>\n      <td>0.0</td>\n      <td>0.0</td>\n      <td>0.0</td>\n    </tr>\n  </tbody>\n</table>\n<p>4608 rows × 27651 columns</p>\n</div>"
     },
     "metadata": {},
     "execution_count": 17
    },
    {
     "output_type": "execute_result",
     "data": {
      "text/plain": "5661    False\n4983    False\n2607     True\n4294    False\n5653     True\n        ...  \n4613    False\n1654    False\n947     False\n4699    False\n1296    False\nName: Popular, Length: 4608, dtype: bool"
     },
     "metadata": {},
     "execution_count": 17
    },
    {
     "output_type": "stream",
     "name": "stdout",
     "text": "Testing Dataset\n\n"
    },
    {
     "output_type": "execute_result",
     "data": {
      "text/plain": "      Total tweets  Retweets  Images  Links  Chats  Text tweets    Impacts  \\\n591             35         0       7     29      2            1   81865185   \n1022           129         0       4    134      1            0  162902380   \n1690           206         0     119     15      3           72   78434881   \n1749            14         0       4      0      3            8    6743360   \n5095             1         0       1      0      0            0       2474   \n...            ...       ...     ...    ...    ...          ...        ...   \n4059             2         0       1      0      0            1      34838   \n4757             2         0       0      1      1            0      12604   \n5531             1         0       0      1      0            0        370   \n4372             1         0       1      0      0            0      14023   \n1502            15         0       1      9      0            6    9919427   \n\n      Followers  User value  Tweets value  ...   대구   수호   엑소  엔시티드림_당장_입국시켜  \\\n591     2495232     4588.70     162362.63  ...  0.0  0.0  0.0            0.0   \n1022    1277956     2552.10     357075.98  ...  0.0  0.0  0.0            0.0   \n1690     536506     1135.01     189277.06  ...  0.0  0.0  0.0            0.0   \n1749     500597     1152.11      13630.90  ...  0.0  0.0  0.0            0.0   \n5095       2474        6.22          7.46  ...  0.0  0.0  0.0            0.0   \n...         ...         ...           ...  ...  ...  ...  ...            ...   \n4059      17420       43.66         96.05  ...  0.0  0.0  0.0            0.0   \n4757       6302       16.65         21.65  ...  0.0  0.0  0.0            0.0   \n5531        370        1.18          1.30  ...  0.0  0.0  0.0            0.0   \n4372      14023       34.67         41.60  ...  0.0  0.0  0.0            0.0   \n1502     667169     1393.20      22456.80  ...  0.0  0.0  0.0            0.0   \n\n      웨이션브이_당장_입국시켜  윤기야  좋은_날이_앞으로_많기를   찬열  트와이스  화이팅  \n591             0.0  0.0            0.0  0.0   0.0  0.0  \n1022            0.0  0.0            0.0  0.0   0.0  0.0  \n1690            0.0  0.0            0.0  0.0   0.0  0.0  \n1749            0.0  0.0            0.0  0.0   0.0  0.0  \n5095            0.0  0.0            0.0  0.0   0.0  0.0  \n...             ...  ...            ...  ...   ...  ...  \n4059            0.0  0.0            0.0  0.0   0.0  0.0  \n4757            0.0  0.0            0.0  0.0   0.0  0.0  \n5531            0.0  0.0            0.0  0.0   0.0  0.0  \n4372            0.0  0.0            0.0  0.0   0.0  0.0  \n1502            0.0  0.0            0.0  0.0   0.0  0.0  \n\n[1153 rows x 27651 columns]",
      "text/html": "<div>\n<style scoped>\n    .dataframe tbody tr th:only-of-type {\n        vertical-align: middle;\n    }\n\n    .dataframe tbody tr th {\n        vertical-align: top;\n    }\n\n    .dataframe thead th {\n        text-align: right;\n    }\n</style>\n<table border=\"1\" class=\"dataframe\">\n  <thead>\n    <tr style=\"text-align: right;\">\n      <th></th>\n      <th>Total tweets</th>\n      <th>Retweets</th>\n      <th>Images</th>\n      <th>Links</th>\n      <th>Chats</th>\n      <th>Text tweets</th>\n      <th>Impacts</th>\n      <th>Followers</th>\n      <th>User value</th>\n      <th>Tweets value</th>\n      <th>...</th>\n      <th>대구</th>\n      <th>수호</th>\n      <th>엑소</th>\n      <th>엔시티드림_당장_입국시켜</th>\n      <th>웨이션브이_당장_입국시켜</th>\n      <th>윤기야</th>\n      <th>좋은_날이_앞으로_많기를</th>\n      <th>찬열</th>\n      <th>트와이스</th>\n      <th>화이팅</th>\n    </tr>\n  </thead>\n  <tbody>\n    <tr>\n      <th>591</th>\n      <td>35</td>\n      <td>0</td>\n      <td>7</td>\n      <td>29</td>\n      <td>2</td>\n      <td>1</td>\n      <td>81865185</td>\n      <td>2495232</td>\n      <td>4588.70</td>\n      <td>162362.63</td>\n      <td>...</td>\n      <td>0.0</td>\n      <td>0.0</td>\n      <td>0.0</td>\n      <td>0.0</td>\n      <td>0.0</td>\n      <td>0.0</td>\n      <td>0.0</td>\n      <td>0.0</td>\n      <td>0.0</td>\n      <td>0.0</td>\n    </tr>\n    <tr>\n      <th>1022</th>\n      <td>129</td>\n      <td>0</td>\n      <td>4</td>\n      <td>134</td>\n      <td>1</td>\n      <td>0</td>\n      <td>162902380</td>\n      <td>1277956</td>\n      <td>2552.10</td>\n      <td>357075.98</td>\n      <td>...</td>\n      <td>0.0</td>\n      <td>0.0</td>\n      <td>0.0</td>\n      <td>0.0</td>\n      <td>0.0</td>\n      <td>0.0</td>\n      <td>0.0</td>\n      <td>0.0</td>\n      <td>0.0</td>\n      <td>0.0</td>\n    </tr>\n    <tr>\n      <th>1690</th>\n      <td>206</td>\n      <td>0</td>\n      <td>119</td>\n      <td>15</td>\n      <td>3</td>\n      <td>72</td>\n      <td>78434881</td>\n      <td>536506</td>\n      <td>1135.01</td>\n      <td>189277.06</td>\n      <td>...</td>\n      <td>0.0</td>\n      <td>0.0</td>\n      <td>0.0</td>\n      <td>0.0</td>\n      <td>0.0</td>\n      <td>0.0</td>\n      <td>0.0</td>\n      <td>0.0</td>\n      <td>0.0</td>\n      <td>0.0</td>\n    </tr>\n    <tr>\n      <th>1749</th>\n      <td>14</td>\n      <td>0</td>\n      <td>4</td>\n      <td>0</td>\n      <td>3</td>\n      <td>8</td>\n      <td>6743360</td>\n      <td>500597</td>\n      <td>1152.11</td>\n      <td>13630.90</td>\n      <td>...</td>\n      <td>0.0</td>\n      <td>0.0</td>\n      <td>0.0</td>\n      <td>0.0</td>\n      <td>0.0</td>\n      <td>0.0</td>\n      <td>0.0</td>\n      <td>0.0</td>\n      <td>0.0</td>\n      <td>0.0</td>\n    </tr>\n    <tr>\n      <th>5095</th>\n      <td>1</td>\n      <td>0</td>\n      <td>1</td>\n      <td>0</td>\n      <td>0</td>\n      <td>0</td>\n      <td>2474</td>\n      <td>2474</td>\n      <td>6.22</td>\n      <td>7.46</td>\n      <td>...</td>\n      <td>0.0</td>\n      <td>0.0</td>\n      <td>0.0</td>\n      <td>0.0</td>\n      <td>0.0</td>\n      <td>0.0</td>\n      <td>0.0</td>\n      <td>0.0</td>\n      <td>0.0</td>\n      <td>0.0</td>\n    </tr>\n    <tr>\n      <th>...</th>\n      <td>...</td>\n      <td>...</td>\n      <td>...</td>\n      <td>...</td>\n      <td>...</td>\n      <td>...</td>\n      <td>...</td>\n      <td>...</td>\n      <td>...</td>\n      <td>...</td>\n      <td>...</td>\n      <td>...</td>\n      <td>...</td>\n      <td>...</td>\n      <td>...</td>\n      <td>...</td>\n      <td>...</td>\n      <td>...</td>\n      <td>...</td>\n      <td>...</td>\n      <td>...</td>\n    </tr>\n    <tr>\n      <th>4059</th>\n      <td>2</td>\n      <td>0</td>\n      <td>1</td>\n      <td>0</td>\n      <td>0</td>\n      <td>1</td>\n      <td>34838</td>\n      <td>17420</td>\n      <td>43.66</td>\n      <td>96.05</td>\n      <td>...</td>\n      <td>0.0</td>\n      <td>0.0</td>\n      <td>0.0</td>\n      <td>0.0</td>\n      <td>0.0</td>\n      <td>0.0</td>\n      <td>0.0</td>\n      <td>0.0</td>\n      <td>0.0</td>\n      <td>0.0</td>\n    </tr>\n    <tr>\n      <th>4757</th>\n      <td>2</td>\n      <td>0</td>\n      <td>0</td>\n      <td>1</td>\n      <td>1</td>\n      <td>0</td>\n      <td>12604</td>\n      <td>6302</td>\n      <td>16.65</td>\n      <td>21.65</td>\n      <td>...</td>\n      <td>0.0</td>\n      <td>0.0</td>\n      <td>0.0</td>\n      <td>0.0</td>\n      <td>0.0</td>\n      <td>0.0</td>\n      <td>0.0</td>\n      <td>0.0</td>\n      <td>0.0</td>\n      <td>0.0</td>\n    </tr>\n    <tr>\n      <th>5531</th>\n      <td>1</td>\n      <td>0</td>\n      <td>0</td>\n      <td>1</td>\n      <td>0</td>\n      <td>0</td>\n      <td>370</td>\n      <td>370</td>\n      <td>1.18</td>\n      <td>1.30</td>\n      <td>...</td>\n      <td>0.0</td>\n      <td>0.0</td>\n      <td>0.0</td>\n      <td>0.0</td>\n      <td>0.0</td>\n      <td>0.0</td>\n      <td>0.0</td>\n      <td>0.0</td>\n      <td>0.0</td>\n      <td>0.0</td>\n    </tr>\n    <tr>\n      <th>4372</th>\n      <td>1</td>\n      <td>0</td>\n      <td>1</td>\n      <td>0</td>\n      <td>0</td>\n      <td>0</td>\n      <td>14023</td>\n      <td>14023</td>\n      <td>34.67</td>\n      <td>41.60</td>\n      <td>...</td>\n      <td>0.0</td>\n      <td>0.0</td>\n      <td>0.0</td>\n      <td>0.0</td>\n      <td>0.0</td>\n      <td>0.0</td>\n      <td>0.0</td>\n      <td>0.0</td>\n      <td>0.0</td>\n      <td>0.0</td>\n    </tr>\n    <tr>\n      <th>1502</th>\n      <td>15</td>\n      <td>0</td>\n      <td>1</td>\n      <td>9</td>\n      <td>0</td>\n      <td>6</td>\n      <td>9919427</td>\n      <td>667169</td>\n      <td>1393.20</td>\n      <td>22456.80</td>\n      <td>...</td>\n      <td>0.0</td>\n      <td>0.0</td>\n      <td>0.0</td>\n      <td>0.0</td>\n      <td>0.0</td>\n      <td>0.0</td>\n      <td>0.0</td>\n      <td>0.0</td>\n      <td>0.0</td>\n      <td>0.0</td>\n    </tr>\n  </tbody>\n</table>\n<p>1153 rows × 27651 columns</p>\n</div>"
     },
     "metadata": {},
     "execution_count": 17
    },
    {
     "output_type": "execute_result",
     "data": {
      "text/plain": "591      True\n1022     True\n1690    False\n1749    False\n5095    False\n        ...  \n4059    False\n4757    False\n5531     True\n4372    False\n1502     True\nName: Popular, Length: 1153, dtype: bool"
     },
     "metadata": {},
     "execution_count": 17
    }
   ],
   "source": [
    "# split the custom_dataset both in training and testing sets\n",
    "train_feat, test_feat, train_labels, test_labels = train_test_split(custom_dataset.drop('Popular', axis= 1), custom_dataset['Popular'], test_size= 0.2)\n",
    "print('Training Dataset\\n')\n",
    "train_feat\n",
    "train_labels\n",
    "print('Testing Dataset\\n')\n",
    "test_feat\n",
    "test_labels"
   ]
  },
  {
   "cell_type": "markdown",
   "metadata": {},
   "source": [
    "### 1.5 Classifiers\n",
    "#### Naive Bayes"
   ]
  },
  {
   "cell_type": "code",
   "execution_count": 8,
   "metadata": {},
   "outputs": [
    {
     "output_type": "execute_result",
     "data": {
      "text/plain": "MultinomialNB(alpha=1.0, class_prior=None, fit_prior=True)"
     },
     "metadata": {},
     "execution_count": 8
    },
    {
     "output_type": "stream",
     "name": "stdout",
     "text": "Train set score:  0.4811197916666667\nPrediction accuracy: 0.48829141370338247\n"
    }
   ],
   "source": [
    "#Import Gaussian Naive Bayes model\n",
    "from sklearn.naive_bayes import MultinomialNB\n",
    "\n",
    "#Create a Gaussian Classifier\n",
    "model = MultinomialNB()\n",
    "\n",
    "# Train the model using the training sets\n",
    "model.fit(train_feat, train_labels)\n",
    "\n",
    "score_train =  model.score(train_feat, train_labels)\n",
    "print('Train set score: ', score_train)\n",
    "\n",
    "#Predict the response for test dataset\n",
    "prediction = model.predict(test_feat)\n",
    "\n",
    "# Model Accuracy, how often is the classifier correct?\n",
    "print(\"Prediction accuracy:\",metrics.accuracy_score(test_labels, prediction))"
   ]
  },
  {
   "cell_type": "markdown",
   "metadata": {},
   "source": [
    "#### Nearest Neighbors "
   ]
  },
  {
   "cell_type": "code",
   "execution_count": 9,
   "metadata": {},
   "outputs": [
    {
     "output_type": "execute_result",
     "data": {
      "text/plain": "KNeighborsClassifier(algorithm='auto', leaf_size=30, metric='minkowski',\n                     metric_params=None, n_jobs=None, n_neighbors=5, p=2,\n                     weights='uniform')"
     },
     "metadata": {},
     "execution_count": 9
    },
    {
     "output_type": "stream",
     "name": "stdout",
     "text": "Train set score:  0.9060329861111112\nPrediction accuracy: 0.8438855160450998\n"
    }
   ],
   "source": [
    "#Import KNN Classifier\n",
    "from sklearn.neighbors import KNeighborsClassifier\n",
    "\n",
    "#Create a KNeighbors Classifier\n",
    "model = KNeighborsClassifier(n_neighbors=5)\n",
    "\n",
    "# Train the model using the training sets\n",
    "model.fit(train_feat,train_labels)\n",
    "\n",
    "score_train =  model.score(train_feat, train_labels)\n",
    "print('Train set score: ', score_train)\n",
    "\n",
    "#Predict the response for test dataset\n",
    "prediction = model.predict(test_feat)\n",
    "\n",
    "# Model Accuracy, how often is the classifier correct?\n",
    "print(\"Prediction accuracy:\",metrics.accuracy_score(test_labels, prediction))"
   ]
  },
  {
   "cell_type": "markdown",
   "metadata": {},
   "source": [
    "## Task 2\n",
    "### 2.1 Logistic Regression\n",
    "#### Split custom dataset into 90% for training and 10% for testing"
   ]
  },
  {
   "cell_type": "code",
   "execution_count": 10,
   "metadata": {},
   "outputs": [
    {
     "output_type": "stream",
     "name": "stdout",
     "text": "Training Dataset\n\n"
    },
    {
     "output_type": "execute_result",
     "data": {
      "text/plain": "      Total tweets  Retweets  Images  Links  Chats  Text tweets   Impacts  \\\n5118             1         0       0      0      0            1      2298   \n5642             1         0       1      0      0            0       174   \n2870             4         0       1      1      0            2    559423   \n1094             3         0       0      1      0            2   3808144   \n5623             1         0       1      0      0            0       204   \n...            ...       ...     ...    ...    ...          ...       ...   \n5659             2         0       2      0      0            0       250   \n1241            53         0      43      1      2            7  47317605   \n2345           137         0      21    113      3            5  36355851   \n3856            10         0       4      5      0            1    322126   \n4473             5         0       0      0      0            5     58165   \n\n      Followers  User value  Tweets value  ...   대구   수호   엑소  엔시티드림_당장_입국시켜  \\\n5118       2298        6.63          6.63  ...  0.0  0.0  0.0            0.0   \n5642        174        0.56          0.67  ...  0.0  0.0  0.0            0.0   \n2870     142444      336.25       1459.32  ...  0.0  0.0  0.0            0.0   \n1094    1274354     2546.22       7866.14  ...  0.0  0.0  0.0            0.0   \n5623        204        0.56          0.67  ...  0.0  0.0  0.0            0.0   \n...         ...         ...           ...  ...  ...  ...  ...            ...   \n5659        125        0.40          0.96  ...  0.0  0.0  0.0            0.0   \n1241     929284     1875.41     108782.02  ...  0.0  0.0  0.0            0.0   \n2345     282601      654.62      92432.65  ...  0.0  0.0  0.0            0.0   \n3856      32619       73.48        833.75  ...  0.0  0.0  0.0            0.0   \n4473      11633       29.01        145.05  ...  0.0  0.0  0.0            0.0   \n\n      웨이션브이_당장_입국시켜  윤기야  좋은_날이_앞으로_많기를   찬열  트와이스  화이팅  \n5118            0.0  0.0            0.0  0.0   0.0  0.0  \n5642            0.0  0.0            0.0  0.0   0.0  0.0  \n2870            0.0  0.0            0.0  0.0   0.0  0.0  \n1094            0.0  0.0            0.0  0.0   0.0  0.0  \n5623            0.0  0.0            0.0  0.0   0.0  0.0  \n...             ...  ...            ...  ...   ...  ...  \n5659            0.0  0.0            0.0  0.0   0.0  0.0  \n1241            0.0  0.0            0.0  0.0   0.0  0.0  \n2345            0.0  0.0            0.0  0.0   0.0  0.0  \n3856            0.0  0.0            0.0  0.0   0.0  0.0  \n4473            0.0  0.0            0.0  0.0   0.0  0.0  \n\n[5184 rows x 27651 columns]",
      "text/html": "<div>\n<style scoped>\n    .dataframe tbody tr th:only-of-type {\n        vertical-align: middle;\n    }\n\n    .dataframe tbody tr th {\n        vertical-align: top;\n    }\n\n    .dataframe thead th {\n        text-align: right;\n    }\n</style>\n<table border=\"1\" class=\"dataframe\">\n  <thead>\n    <tr style=\"text-align: right;\">\n      <th></th>\n      <th>Total tweets</th>\n      <th>Retweets</th>\n      <th>Images</th>\n      <th>Links</th>\n      <th>Chats</th>\n      <th>Text tweets</th>\n      <th>Impacts</th>\n      <th>Followers</th>\n      <th>User value</th>\n      <th>Tweets value</th>\n      <th>...</th>\n      <th>대구</th>\n      <th>수호</th>\n      <th>엑소</th>\n      <th>엔시티드림_당장_입국시켜</th>\n      <th>웨이션브이_당장_입국시켜</th>\n      <th>윤기야</th>\n      <th>좋은_날이_앞으로_많기를</th>\n      <th>찬열</th>\n      <th>트와이스</th>\n      <th>화이팅</th>\n    </tr>\n  </thead>\n  <tbody>\n    <tr>\n      <th>5118</th>\n      <td>1</td>\n      <td>0</td>\n      <td>0</td>\n      <td>0</td>\n      <td>0</td>\n      <td>1</td>\n      <td>2298</td>\n      <td>2298</td>\n      <td>6.63</td>\n      <td>6.63</td>\n      <td>...</td>\n      <td>0.0</td>\n      <td>0.0</td>\n      <td>0.0</td>\n      <td>0.0</td>\n      <td>0.0</td>\n      <td>0.0</td>\n      <td>0.0</td>\n      <td>0.0</td>\n      <td>0.0</td>\n      <td>0.0</td>\n    </tr>\n    <tr>\n      <th>5642</th>\n      <td>1</td>\n      <td>0</td>\n      <td>1</td>\n      <td>0</td>\n      <td>0</td>\n      <td>0</td>\n      <td>174</td>\n      <td>174</td>\n      <td>0.56</td>\n      <td>0.67</td>\n      <td>...</td>\n      <td>0.0</td>\n      <td>0.0</td>\n      <td>0.0</td>\n      <td>0.0</td>\n      <td>0.0</td>\n      <td>0.0</td>\n      <td>0.0</td>\n      <td>0.0</td>\n      <td>0.0</td>\n      <td>0.0</td>\n    </tr>\n    <tr>\n      <th>2870</th>\n      <td>4</td>\n      <td>0</td>\n      <td>1</td>\n      <td>1</td>\n      <td>0</td>\n      <td>2</td>\n      <td>559423</td>\n      <td>142444</td>\n      <td>336.25</td>\n      <td>1459.32</td>\n      <td>...</td>\n      <td>0.0</td>\n      <td>0.0</td>\n      <td>0.0</td>\n      <td>0.0</td>\n      <td>0.0</td>\n      <td>0.0</td>\n      <td>0.0</td>\n      <td>0.0</td>\n      <td>0.0</td>\n      <td>0.0</td>\n    </tr>\n    <tr>\n      <th>1094</th>\n      <td>3</td>\n      <td>0</td>\n      <td>0</td>\n      <td>1</td>\n      <td>0</td>\n      <td>2</td>\n      <td>3808144</td>\n      <td>1274354</td>\n      <td>2546.22</td>\n      <td>7866.14</td>\n      <td>...</td>\n      <td>0.0</td>\n      <td>0.0</td>\n      <td>0.0</td>\n      <td>0.0</td>\n      <td>0.0</td>\n      <td>0.0</td>\n      <td>0.0</td>\n      <td>0.0</td>\n      <td>0.0</td>\n      <td>0.0</td>\n    </tr>\n    <tr>\n      <th>5623</th>\n      <td>1</td>\n      <td>0</td>\n      <td>1</td>\n      <td>0</td>\n      <td>0</td>\n      <td>0</td>\n      <td>204</td>\n      <td>204</td>\n      <td>0.56</td>\n      <td>0.67</td>\n      <td>...</td>\n      <td>0.0</td>\n      <td>0.0</td>\n      <td>0.0</td>\n      <td>0.0</td>\n      <td>0.0</td>\n      <td>0.0</td>\n      <td>0.0</td>\n      <td>0.0</td>\n      <td>0.0</td>\n      <td>0.0</td>\n    </tr>\n    <tr>\n      <th>...</th>\n      <td>...</td>\n      <td>...</td>\n      <td>...</td>\n      <td>...</td>\n      <td>...</td>\n      <td>...</td>\n      <td>...</td>\n      <td>...</td>\n      <td>...</td>\n      <td>...</td>\n      <td>...</td>\n      <td>...</td>\n      <td>...</td>\n      <td>...</td>\n      <td>...</td>\n      <td>...</td>\n      <td>...</td>\n      <td>...</td>\n      <td>...</td>\n      <td>...</td>\n      <td>...</td>\n    </tr>\n    <tr>\n      <th>5659</th>\n      <td>2</td>\n      <td>0</td>\n      <td>2</td>\n      <td>0</td>\n      <td>0</td>\n      <td>0</td>\n      <td>250</td>\n      <td>125</td>\n      <td>0.40</td>\n      <td>0.96</td>\n      <td>...</td>\n      <td>0.0</td>\n      <td>0.0</td>\n      <td>0.0</td>\n      <td>0.0</td>\n      <td>0.0</td>\n      <td>0.0</td>\n      <td>0.0</td>\n      <td>0.0</td>\n      <td>0.0</td>\n      <td>0.0</td>\n    </tr>\n    <tr>\n      <th>1241</th>\n      <td>53</td>\n      <td>0</td>\n      <td>43</td>\n      <td>1</td>\n      <td>2</td>\n      <td>7</td>\n      <td>47317605</td>\n      <td>929284</td>\n      <td>1875.41</td>\n      <td>108782.02</td>\n      <td>...</td>\n      <td>0.0</td>\n      <td>0.0</td>\n      <td>0.0</td>\n      <td>0.0</td>\n      <td>0.0</td>\n      <td>0.0</td>\n      <td>0.0</td>\n      <td>0.0</td>\n      <td>0.0</td>\n      <td>0.0</td>\n    </tr>\n    <tr>\n      <th>2345</th>\n      <td>137</td>\n      <td>0</td>\n      <td>21</td>\n      <td>113</td>\n      <td>3</td>\n      <td>5</td>\n      <td>36355851</td>\n      <td>282601</td>\n      <td>654.62</td>\n      <td>92432.65</td>\n      <td>...</td>\n      <td>0.0</td>\n      <td>0.0</td>\n      <td>0.0</td>\n      <td>0.0</td>\n      <td>0.0</td>\n      <td>0.0</td>\n      <td>0.0</td>\n      <td>0.0</td>\n      <td>0.0</td>\n      <td>0.0</td>\n    </tr>\n    <tr>\n      <th>3856</th>\n      <td>10</td>\n      <td>0</td>\n      <td>4</td>\n      <td>5</td>\n      <td>0</td>\n      <td>1</td>\n      <td>322126</td>\n      <td>32619</td>\n      <td>73.48</td>\n      <td>833.75</td>\n      <td>...</td>\n      <td>0.0</td>\n      <td>0.0</td>\n      <td>0.0</td>\n      <td>0.0</td>\n      <td>0.0</td>\n      <td>0.0</td>\n      <td>0.0</td>\n      <td>0.0</td>\n      <td>0.0</td>\n      <td>0.0</td>\n    </tr>\n    <tr>\n      <th>4473</th>\n      <td>5</td>\n      <td>0</td>\n      <td>0</td>\n      <td>0</td>\n      <td>0</td>\n      <td>5</td>\n      <td>58165</td>\n      <td>11633</td>\n      <td>29.01</td>\n      <td>145.05</td>\n      <td>...</td>\n      <td>0.0</td>\n      <td>0.0</td>\n      <td>0.0</td>\n      <td>0.0</td>\n      <td>0.0</td>\n      <td>0.0</td>\n      <td>0.0</td>\n      <td>0.0</td>\n      <td>0.0</td>\n      <td>0.0</td>\n    </tr>\n  </tbody>\n</table>\n<p>5184 rows × 27651 columns</p>\n</div>"
     },
     "metadata": {},
     "execution_count": 10
    },
    {
     "output_type": "execute_result",
     "data": {
      "text/plain": "5118    False\n5642     True\n2870     True\n1094     True\n5623    False\n        ...  \n5659    False\n1241    False\n2345    False\n3856    False\n4473     True\nName: Popular, Length: 5184, dtype: bool"
     },
     "metadata": {},
     "execution_count": 10
    },
    {
     "output_type": "stream",
     "name": "stdout",
     "text": "Testing Dataset\n\n"
    },
    {
     "output_type": "execute_result",
     "data": {
      "text/plain": "      Total tweets  Retweets  Images  Links  Chats  Text tweets   Impacts  \\\n4297             1         0       1      0      0            0     16218   \n2479             3         0       2      2      0            0    684442   \n2398             8         0       7      0      0            1   2058007   \n1969             1         0       1      0      0            0    385866   \n3633             1         0       0      0      0            1     47637   \n...            ...       ...     ...    ...    ...          ...       ...   \n2222             3         0       0      0      0            3    895307   \n506              9         0       9      0      0            0  30481387   \n2332           137         0      21    113      3            5  36355851   \n940              8         0       8      8      0            0  12856768   \n602             40         0      35     38      1            0  84800868   \n\n      Followers  User value  Tweets value  ...   대구   수호   엑소  엔시티드림_당장_입국시켜  \\\n4297      16218       41.55         49.86  ...  0.0  0.0  0.0            0.0   \n2479     229660      544.14       1957.73  ...  0.0  0.0  0.0            0.0   \n2398     259147      490.34       4598.19  ...  0.0  0.0  0.0            0.0   \n1969     385866      842.59       1011.11  ...  0.0  0.0  0.0            0.0   \n3633      47637      100.46        100.46  ...  0.0  0.0  0.0            0.0   \n...         ...         ...           ...  ...  ...  ...  ...            ...   \n2222     298436      680.31       2040.93  ...  0.0  0.0  0.0            0.0   \n506     3406130     6170.01      66545.89  ...  0.0  0.0  0.0            0.0   \n2332     282601      654.62      92432.65  ...  0.0  0.0  0.0            0.0   \n940     1618859     3219.81      34097.90  ...  0.0  0.0  0.0            0.0   \n602     2470541     4675.39     206150.48  ...  0.0  0.0  0.0            0.0   \n\n      웨이션브이_당장_입국시켜  윤기야  좋은_날이_앞으로_많기를   찬열  트와이스  화이팅  \n4297            0.0  0.0            0.0  0.0   0.0  0.0  \n2479            0.0  0.0            0.0  0.0   0.0  0.0  \n2398            0.0  0.0            0.0  0.0   0.0  0.0  \n1969            0.0  0.0            0.0  0.0   0.0  0.0  \n3633            0.0  0.0            0.0  0.0   0.0  0.0  \n...             ...  ...            ...  ...   ...  ...  \n2222            0.0  0.0            0.0  0.0   0.0  0.0  \n506             0.0  0.0            0.0  0.0   0.0  0.0  \n2332            0.0  0.0            0.0  0.0   0.0  0.0  \n940             0.0  0.0            0.0  0.0   0.0  0.0  \n602             0.0  0.0            0.0  0.0   0.0  0.0  \n\n[577 rows x 27651 columns]",
      "text/html": "<div>\n<style scoped>\n    .dataframe tbody tr th:only-of-type {\n        vertical-align: middle;\n    }\n\n    .dataframe tbody tr th {\n        vertical-align: top;\n    }\n\n    .dataframe thead th {\n        text-align: right;\n    }\n</style>\n<table border=\"1\" class=\"dataframe\">\n  <thead>\n    <tr style=\"text-align: right;\">\n      <th></th>\n      <th>Total tweets</th>\n      <th>Retweets</th>\n      <th>Images</th>\n      <th>Links</th>\n      <th>Chats</th>\n      <th>Text tweets</th>\n      <th>Impacts</th>\n      <th>Followers</th>\n      <th>User value</th>\n      <th>Tweets value</th>\n      <th>...</th>\n      <th>대구</th>\n      <th>수호</th>\n      <th>엑소</th>\n      <th>엔시티드림_당장_입국시켜</th>\n      <th>웨이션브이_당장_입국시켜</th>\n      <th>윤기야</th>\n      <th>좋은_날이_앞으로_많기를</th>\n      <th>찬열</th>\n      <th>트와이스</th>\n      <th>화이팅</th>\n    </tr>\n  </thead>\n  <tbody>\n    <tr>\n      <th>4297</th>\n      <td>1</td>\n      <td>0</td>\n      <td>1</td>\n      <td>0</td>\n      <td>0</td>\n      <td>0</td>\n      <td>16218</td>\n      <td>16218</td>\n      <td>41.55</td>\n      <td>49.86</td>\n      <td>...</td>\n      <td>0.0</td>\n      <td>0.0</td>\n      <td>0.0</td>\n      <td>0.0</td>\n      <td>0.0</td>\n      <td>0.0</td>\n      <td>0.0</td>\n      <td>0.0</td>\n      <td>0.0</td>\n      <td>0.0</td>\n    </tr>\n    <tr>\n      <th>2479</th>\n      <td>3</td>\n      <td>0</td>\n      <td>2</td>\n      <td>2</td>\n      <td>0</td>\n      <td>0</td>\n      <td>684442</td>\n      <td>229660</td>\n      <td>544.14</td>\n      <td>1957.73</td>\n      <td>...</td>\n      <td>0.0</td>\n      <td>0.0</td>\n      <td>0.0</td>\n      <td>0.0</td>\n      <td>0.0</td>\n      <td>0.0</td>\n      <td>0.0</td>\n      <td>0.0</td>\n      <td>0.0</td>\n      <td>0.0</td>\n    </tr>\n    <tr>\n      <th>2398</th>\n      <td>8</td>\n      <td>0</td>\n      <td>7</td>\n      <td>0</td>\n      <td>0</td>\n      <td>1</td>\n      <td>2058007</td>\n      <td>259147</td>\n      <td>490.34</td>\n      <td>4598.19</td>\n      <td>...</td>\n      <td>0.0</td>\n      <td>0.0</td>\n      <td>0.0</td>\n      <td>0.0</td>\n      <td>0.0</td>\n      <td>0.0</td>\n      <td>0.0</td>\n      <td>0.0</td>\n      <td>0.0</td>\n      <td>0.0</td>\n    </tr>\n    <tr>\n      <th>1969</th>\n      <td>1</td>\n      <td>0</td>\n      <td>1</td>\n      <td>0</td>\n      <td>0</td>\n      <td>0</td>\n      <td>385866</td>\n      <td>385866</td>\n      <td>842.59</td>\n      <td>1011.11</td>\n      <td>...</td>\n      <td>0.0</td>\n      <td>0.0</td>\n      <td>0.0</td>\n      <td>0.0</td>\n      <td>0.0</td>\n      <td>0.0</td>\n      <td>0.0</td>\n      <td>0.0</td>\n      <td>0.0</td>\n      <td>0.0</td>\n    </tr>\n    <tr>\n      <th>3633</th>\n      <td>1</td>\n      <td>0</td>\n      <td>0</td>\n      <td>0</td>\n      <td>0</td>\n      <td>1</td>\n      <td>47637</td>\n      <td>47637</td>\n      <td>100.46</td>\n      <td>100.46</td>\n      <td>...</td>\n      <td>0.0</td>\n      <td>0.0</td>\n      <td>0.0</td>\n      <td>0.0</td>\n      <td>0.0</td>\n      <td>0.0</td>\n      <td>0.0</td>\n      <td>0.0</td>\n      <td>0.0</td>\n      <td>0.0</td>\n    </tr>\n    <tr>\n      <th>...</th>\n      <td>...</td>\n      <td>...</td>\n      <td>...</td>\n      <td>...</td>\n      <td>...</td>\n      <td>...</td>\n      <td>...</td>\n      <td>...</td>\n      <td>...</td>\n      <td>...</td>\n      <td>...</td>\n      <td>...</td>\n      <td>...</td>\n      <td>...</td>\n      <td>...</td>\n      <td>...</td>\n      <td>...</td>\n      <td>...</td>\n      <td>...</td>\n      <td>...</td>\n      <td>...</td>\n    </tr>\n    <tr>\n      <th>2222</th>\n      <td>3</td>\n      <td>0</td>\n      <td>0</td>\n      <td>0</td>\n      <td>0</td>\n      <td>3</td>\n      <td>895307</td>\n      <td>298436</td>\n      <td>680.31</td>\n      <td>2040.93</td>\n      <td>...</td>\n      <td>0.0</td>\n      <td>0.0</td>\n      <td>0.0</td>\n      <td>0.0</td>\n      <td>0.0</td>\n      <td>0.0</td>\n      <td>0.0</td>\n      <td>0.0</td>\n      <td>0.0</td>\n      <td>0.0</td>\n    </tr>\n    <tr>\n      <th>506</th>\n      <td>9</td>\n      <td>0</td>\n      <td>9</td>\n      <td>0</td>\n      <td>0</td>\n      <td>0</td>\n      <td>30481387</td>\n      <td>3406130</td>\n      <td>6170.01</td>\n      <td>66545.89</td>\n      <td>...</td>\n      <td>0.0</td>\n      <td>0.0</td>\n      <td>0.0</td>\n      <td>0.0</td>\n      <td>0.0</td>\n      <td>0.0</td>\n      <td>0.0</td>\n      <td>0.0</td>\n      <td>0.0</td>\n      <td>0.0</td>\n    </tr>\n    <tr>\n      <th>2332</th>\n      <td>137</td>\n      <td>0</td>\n      <td>21</td>\n      <td>113</td>\n      <td>3</td>\n      <td>5</td>\n      <td>36355851</td>\n      <td>282601</td>\n      <td>654.62</td>\n      <td>92432.65</td>\n      <td>...</td>\n      <td>0.0</td>\n      <td>0.0</td>\n      <td>0.0</td>\n      <td>0.0</td>\n      <td>0.0</td>\n      <td>0.0</td>\n      <td>0.0</td>\n      <td>0.0</td>\n      <td>0.0</td>\n      <td>0.0</td>\n    </tr>\n    <tr>\n      <th>940</th>\n      <td>8</td>\n      <td>0</td>\n      <td>8</td>\n      <td>8</td>\n      <td>0</td>\n      <td>0</td>\n      <td>12856768</td>\n      <td>1618859</td>\n      <td>3219.81</td>\n      <td>34097.90</td>\n      <td>...</td>\n      <td>0.0</td>\n      <td>0.0</td>\n      <td>0.0</td>\n      <td>0.0</td>\n      <td>0.0</td>\n      <td>0.0</td>\n      <td>0.0</td>\n      <td>0.0</td>\n      <td>0.0</td>\n      <td>0.0</td>\n    </tr>\n    <tr>\n      <th>602</th>\n      <td>40</td>\n      <td>0</td>\n      <td>35</td>\n      <td>38</td>\n      <td>1</td>\n      <td>0</td>\n      <td>84800868</td>\n      <td>2470541</td>\n      <td>4675.39</td>\n      <td>206150.48</td>\n      <td>...</td>\n      <td>0.0</td>\n      <td>0.0</td>\n      <td>0.0</td>\n      <td>0.0</td>\n      <td>0.0</td>\n      <td>0.0</td>\n      <td>0.0</td>\n      <td>0.0</td>\n      <td>0.0</td>\n      <td>0.0</td>\n    </tr>\n  </tbody>\n</table>\n<p>577 rows × 27651 columns</p>\n</div>"
     },
     "metadata": {},
     "execution_count": 10
    },
    {
     "output_type": "execute_result",
     "data": {
      "text/plain": "4297     True\n2479    False\n2398     True\n1969    False\n3633    False\n        ...  \n2222    False\n506     False\n2332    False\n940     False\n602     False\nName: Popular, Length: 577, dtype: bool"
     },
     "metadata": {},
     "execution_count": 10
    }
   ],
   "source": [
    "# split the custom_dataset both in training and testing sets\n",
    "train_feat, test_feat, train_labels, test_labels = train_test_split(custom_dataset.drop('Popular', axis= 1), custom_dataset['Popular'], test_size= 0.1)\n",
    "print('Training Dataset\\n')\n",
    "train_feat\n",
    "train_labels\n",
    "print('Testing Dataset\\n')\n",
    "test_feat\n",
    "test_labels"
   ]
  },
  {
   "cell_type": "markdown",
   "metadata": {},
   "source": [
    "#### Logistic Regression implementation"
   ]
  },
  {
   "cell_type": "code",
   "execution_count": 11,
   "metadata": {},
   "outputs": [
    {
     "output_type": "execute_result",
     "data": {
      "text/plain": "LogisticRegression(C=1.0, class_weight=None, dual=False, fit_intercept=True,\n                   intercept_scaling=1, l1_ratio=None, max_iter=100,\n                   multi_class='auto', n_jobs=None, penalty='l2',\n                   random_state=None, solver='lbfgs', tol=0.0001, verbose=0,\n                   warm_start=False)"
     },
     "metadata": {},
     "execution_count": 11
    },
    {
     "output_type": "stream",
     "name": "stdout",
     "text": "Train set score:  0.6587577160493827\nPrediction accuracy: 0.6984402079722704\n"
    }
   ],
   "source": [
    "#Import Logistic Regression classifier\n",
    "from sklearn.linear_model import LogisticRegression\n",
    "\n",
    "model = LogisticRegression()\n",
    "model.fit(train_feat, train_labels)\n",
    "\n",
    "score_train =  model.score(train_feat, train_labels)\n",
    "print('Train set score: ', score_train)\n",
    "\n",
    "#Predict the response for test dataset\n",
    "prediction = model.predict(test_feat)\n",
    "\n",
    "# Model Accuracy, how often is the classifier correct?\n",
    "print(\"Prediction accuracy:\",metrics.accuracy_score(test_labels, prediction))"
   ]
  },
  {
   "cell_type": "markdown",
   "metadata": {},
   "source": [
    "### 2.2 Root Mean Squared Root (RMSE)"
   ]
  },
  {
   "cell_type": "code",
   "execution_count": 12,
   "metadata": {},
   "outputs": [
    {
     "output_type": "stream",
     "name": "stdout",
     "text": "RMSE score: 0.30155979202772965\n"
    }
   ],
   "source": [
    "#Import RMSE metric\n",
    "from sklearn.metrics import mean_squared_error\n",
    "# converting True to 1 and False to 0, to compute RMSE\n",
    "test_labels = test_labels.astype(int)\n",
    "prediction = prediction.astype(int)\n",
    "\n",
    "rmse = mean_squared_error(test_labels, prediction)\n",
    "# RMSE result\n",
    "print(\"RMSE score:\",rmse)"
   ]
  },
  {
   "cell_type": "markdown",
   "metadata": {},
   "source": [
    "### 2.3 No. of retweets Prediction\n",
    "#### Load new dataset"
   ]
  },
  {
   "cell_type": "code",
   "execution_count": 13,
   "metadata": {},
   "outputs": [
    {
     "output_type": "execute_result",
     "data": {
      "text/plain": "                      User                                              Tweet\n0          The White House  LIVE: Press Briefing with Coronavirus Task For...\n1                isentoes2  Após governo americano dizer que China esconde...\n2            Adam Schefter  Twitter CEO Jack Dorsey pledged $1 billion tow...\n3             Kyle Griffin  House Armed Services Chairman Adam Smith: \"The...\n4            Kamala Harris  Black communities disproportionately suffer fr...\n...                    ...                                                ...\n14995   Juanita Broaddrick  Many questions emerging about Dr Fauci’s agend...\n14996                Benny  Taiwan Says It Warned @WHO About Coronavirus I...\n14997  The Spectator Index  SPAIN: Coronavirus death toll rises by 324 ove...\n14998     Donald Trump Jr.  David Bossie: Americans uniting to fight coron...\n14999         Kyle Griffin  On Feb. 25, Nancy Messonnier, a senior CDC off...\n\n[15000 rows x 2 columns]",
      "text/html": "<div>\n<style scoped>\n    .dataframe tbody tr th:only-of-type {\n        vertical-align: middle;\n    }\n\n    .dataframe tbody tr th {\n        vertical-align: top;\n    }\n\n    .dataframe thead th {\n        text-align: right;\n    }\n</style>\n<table border=\"1\" class=\"dataframe\">\n  <thead>\n    <tr style=\"text-align: right;\">\n      <th></th>\n      <th>User</th>\n      <th>Tweet</th>\n    </tr>\n  </thead>\n  <tbody>\n    <tr>\n      <th>0</th>\n      <td>The White House</td>\n      <td>LIVE: Press Briefing with Coronavirus Task For...</td>\n    </tr>\n    <tr>\n      <th>1</th>\n      <td>isentoes2</td>\n      <td>Após governo americano dizer que China esconde...</td>\n    </tr>\n    <tr>\n      <th>2</th>\n      <td>Adam Schefter</td>\n      <td>Twitter CEO Jack Dorsey pledged $1 billion tow...</td>\n    </tr>\n    <tr>\n      <th>3</th>\n      <td>Kyle Griffin</td>\n      <td>House Armed Services Chairman Adam Smith: \"The...</td>\n    </tr>\n    <tr>\n      <th>4</th>\n      <td>Kamala Harris</td>\n      <td>Black communities disproportionately suffer fr...</td>\n    </tr>\n    <tr>\n      <th>...</th>\n      <td>...</td>\n      <td>...</td>\n    </tr>\n    <tr>\n      <th>14995</th>\n      <td>Juanita Broaddrick</td>\n      <td>Many questions emerging about Dr Fauci’s agend...</td>\n    </tr>\n    <tr>\n      <th>14996</th>\n      <td>Benny</td>\n      <td>Taiwan Says It Warned @WHO About Coronavirus I...</td>\n    </tr>\n    <tr>\n      <th>14997</th>\n      <td>The Spectator Index</td>\n      <td>SPAIN: Coronavirus death toll rises by 324 ove...</td>\n    </tr>\n    <tr>\n      <th>14998</th>\n      <td>Donald Trump Jr.</td>\n      <td>David Bossie: Americans uniting to fight coron...</td>\n    </tr>\n    <tr>\n      <th>14999</th>\n      <td>Kyle Griffin</td>\n      <td>On Feb. 25, Nancy Messonnier, a senior CDC off...</td>\n    </tr>\n  </tbody>\n</table>\n<p>15000 rows × 2 columns</p>\n</div>"
     },
     "metadata": {},
     "execution_count": 13
    }
   ],
   "source": [
    "new_tweets_dataset = pd.read_csv('new_tweets.csv') \n",
    "new_tweets_dataset"
   ]
  },
  {
   "cell_type": "code",
   "execution_count": 14,
   "metadata": {},
   "outputs": [
    {
     "output_type": "execute_result",
     "data": {
      "text/plain": "TfidfVectorizer(analyzer='word', binary=False, decode_error='strict',\n                dtype=<class 'numpy.float64'>, encoding='utf-8',\n                input='content', lowercase=True, max_df=1.0, max_features=None,\n                min_df=1, ngram_range=(1, 1), norm='l2', preprocessor=None,\n                smooth_idf=True, stop_words='english', strip_accents=None,\n                sublinear_tf=False, token_pattern='(?u)\\\\b\\\\w\\\\w+\\\\b',\n                tokenizer=None, use_idf=True, vocabulary=None)"
     },
     "metadata": {},
     "execution_count": 14
    },
    {
     "output_type": "execute_result",
     "data": {
      "text/plain": "        00  000  0002  000citizens  000l  000m  000s  000th  000人以上と伝える  002  \\\n0      0.0  0.0   0.0          0.0   0.0   0.0   0.0    0.0         0.0  0.0   \n1      0.0  0.0   0.0          0.0   0.0   0.0   0.0    0.0         0.0  0.0   \n2      0.0  0.0   0.0          0.0   0.0   0.0   0.0    0.0         0.0  0.0   \n3      0.0  0.0   0.0          0.0   0.0   0.0   0.0    0.0         0.0  0.0   \n4      0.0  0.0   0.0          0.0   0.0   0.0   0.0    0.0         0.0  0.0   \n...    ...  ...   ...          ...   ...   ...   ...    ...         ...  ...   \n14995  0.0  0.0   0.0          0.0   0.0   0.0   0.0    0.0         0.0  0.0   \n14996  0.0  0.0   0.0          0.0   0.0   0.0   0.0    0.0         0.0  0.0   \n14997  0.0  0.0   0.0          0.0   0.0   0.0   0.0    0.0         0.0  0.0   \n14998  0.0  0.0   0.0          0.0   0.0   0.0   0.0    0.0         0.0  0.0   \n14999  0.0  0.0   0.0          0.0   0.0   0.0   0.0    0.0         0.0  0.0   \n\n       ...  𝗙𝗲𝗯𝗿𝘂𝗮𝗿𝘆  𝗚𝗟𝗢𝗕𝗔𝗟  𝗝𝗮𝗻𝘂𝗮𝗿𝘆  𝗠𝗮𝗿𝗰𝗵  𝗿𝗲𝘀𝗽𝗼𝗻𝘀𝗲   𝘁𝗼  𝘢𝘤𝘤𝘶𝘳𝘢𝘵𝘦  \\\n0      ...       0.0     0.0      0.0    0.0       0.0  0.0       0.0   \n1      ...       0.0     0.0      0.0    0.0       0.0  0.0       0.0   \n2      ...       0.0     0.0      0.0    0.0       0.0  0.0       0.0   \n3      ...       0.0     0.0      0.0    0.0       0.0  0.0       0.0   \n4      ...       0.0     0.0      0.0    0.0       0.0  0.0       0.0   \n...    ...       ...     ...      ...    ...       ...  ...       ...   \n14995  ...       0.0     0.0      0.0    0.0       0.0  0.0       0.0   \n14996  ...       0.0     0.0      0.0    0.0       0.0  0.0       0.0   \n14997  ...       0.0     0.0      0.0    0.0       0.0  0.0       0.0   \n14998  ...       0.0     0.0      0.0    0.0       0.0  0.0       0.0   \n14999  ...       0.0     0.0      0.0    0.0       0.0  0.0       0.0   \n\n       𝘤𝘶𝘳𝘳𝘦𝘯𝘵   𝟭𝟳   𝟮𝟰  \n0          0.0  0.0  0.0  \n1          0.0  0.0  0.0  \n2          0.0  0.0  0.0  \n3          0.0  0.0  0.0  \n4          0.0  0.0  0.0  \n...        ...  ...  ...  \n14995      0.0  0.0  0.0  \n14996      0.0  0.0  0.0  \n14997      0.0  0.0  0.0  \n14998      0.0  0.0  0.0  \n14999      0.0  0.0  0.0  \n\n[15000 rows x 60268 columns]",
      "text/html": "<div>\n<style scoped>\n    .dataframe tbody tr th:only-of-type {\n        vertical-align: middle;\n    }\n\n    .dataframe tbody tr th {\n        vertical-align: top;\n    }\n\n    .dataframe thead th {\n        text-align: right;\n    }\n</style>\n<table border=\"1\" class=\"dataframe\">\n  <thead>\n    <tr style=\"text-align: right;\">\n      <th></th>\n      <th>00</th>\n      <th>000</th>\n      <th>0002</th>\n      <th>000citizens</th>\n      <th>000l</th>\n      <th>000m</th>\n      <th>000s</th>\n      <th>000th</th>\n      <th>000人以上と伝える</th>\n      <th>002</th>\n      <th>...</th>\n      <th>𝗙𝗲𝗯𝗿𝘂𝗮𝗿𝘆</th>\n      <th>𝗚𝗟𝗢𝗕𝗔𝗟</th>\n      <th>𝗝𝗮𝗻𝘂𝗮𝗿𝘆</th>\n      <th>𝗠𝗮𝗿𝗰𝗵</th>\n      <th>𝗿𝗲𝘀𝗽𝗼𝗻𝘀𝗲</th>\n      <th>𝘁𝗼</th>\n      <th>𝘢𝘤𝘤𝘶𝘳𝘢𝘵𝘦</th>\n      <th>𝘤𝘶𝘳𝘳𝘦𝘯𝘵</th>\n      <th>𝟭𝟳</th>\n      <th>𝟮𝟰</th>\n    </tr>\n  </thead>\n  <tbody>\n    <tr>\n      <th>0</th>\n      <td>0.0</td>\n      <td>0.0</td>\n      <td>0.0</td>\n      <td>0.0</td>\n      <td>0.0</td>\n      <td>0.0</td>\n      <td>0.0</td>\n      <td>0.0</td>\n      <td>0.0</td>\n      <td>0.0</td>\n      <td>...</td>\n      <td>0.0</td>\n      <td>0.0</td>\n      <td>0.0</td>\n      <td>0.0</td>\n      <td>0.0</td>\n      <td>0.0</td>\n      <td>0.0</td>\n      <td>0.0</td>\n      <td>0.0</td>\n      <td>0.0</td>\n    </tr>\n    <tr>\n      <th>1</th>\n      <td>0.0</td>\n      <td>0.0</td>\n      <td>0.0</td>\n      <td>0.0</td>\n      <td>0.0</td>\n      <td>0.0</td>\n      <td>0.0</td>\n      <td>0.0</td>\n      <td>0.0</td>\n      <td>0.0</td>\n      <td>...</td>\n      <td>0.0</td>\n      <td>0.0</td>\n      <td>0.0</td>\n      <td>0.0</td>\n      <td>0.0</td>\n      <td>0.0</td>\n      <td>0.0</td>\n      <td>0.0</td>\n      <td>0.0</td>\n      <td>0.0</td>\n    </tr>\n    <tr>\n      <th>2</th>\n      <td>0.0</td>\n      <td>0.0</td>\n      <td>0.0</td>\n      <td>0.0</td>\n      <td>0.0</td>\n      <td>0.0</td>\n      <td>0.0</td>\n      <td>0.0</td>\n      <td>0.0</td>\n      <td>0.0</td>\n      <td>...</td>\n      <td>0.0</td>\n      <td>0.0</td>\n      <td>0.0</td>\n      <td>0.0</td>\n      <td>0.0</td>\n      <td>0.0</td>\n      <td>0.0</td>\n      <td>0.0</td>\n      <td>0.0</td>\n      <td>0.0</td>\n    </tr>\n    <tr>\n      <th>3</th>\n      <td>0.0</td>\n      <td>0.0</td>\n      <td>0.0</td>\n      <td>0.0</td>\n      <td>0.0</td>\n      <td>0.0</td>\n      <td>0.0</td>\n      <td>0.0</td>\n      <td>0.0</td>\n      <td>0.0</td>\n      <td>...</td>\n      <td>0.0</td>\n      <td>0.0</td>\n      <td>0.0</td>\n      <td>0.0</td>\n      <td>0.0</td>\n      <td>0.0</td>\n      <td>0.0</td>\n      <td>0.0</td>\n      <td>0.0</td>\n      <td>0.0</td>\n    </tr>\n    <tr>\n      <th>4</th>\n      <td>0.0</td>\n      <td>0.0</td>\n      <td>0.0</td>\n      <td>0.0</td>\n      <td>0.0</td>\n      <td>0.0</td>\n      <td>0.0</td>\n      <td>0.0</td>\n      <td>0.0</td>\n      <td>0.0</td>\n      <td>...</td>\n      <td>0.0</td>\n      <td>0.0</td>\n      <td>0.0</td>\n      <td>0.0</td>\n      <td>0.0</td>\n      <td>0.0</td>\n      <td>0.0</td>\n      <td>0.0</td>\n      <td>0.0</td>\n      <td>0.0</td>\n    </tr>\n    <tr>\n      <th>...</th>\n      <td>...</td>\n      <td>...</td>\n      <td>...</td>\n      <td>...</td>\n      <td>...</td>\n      <td>...</td>\n      <td>...</td>\n      <td>...</td>\n      <td>...</td>\n      <td>...</td>\n      <td>...</td>\n      <td>...</td>\n      <td>...</td>\n      <td>...</td>\n      <td>...</td>\n      <td>...</td>\n      <td>...</td>\n      <td>...</td>\n      <td>...</td>\n      <td>...</td>\n      <td>...</td>\n    </tr>\n    <tr>\n      <th>14995</th>\n      <td>0.0</td>\n      <td>0.0</td>\n      <td>0.0</td>\n      <td>0.0</td>\n      <td>0.0</td>\n      <td>0.0</td>\n      <td>0.0</td>\n      <td>0.0</td>\n      <td>0.0</td>\n      <td>0.0</td>\n      <td>...</td>\n      <td>0.0</td>\n      <td>0.0</td>\n      <td>0.0</td>\n      <td>0.0</td>\n      <td>0.0</td>\n      <td>0.0</td>\n      <td>0.0</td>\n      <td>0.0</td>\n      <td>0.0</td>\n      <td>0.0</td>\n    </tr>\n    <tr>\n      <th>14996</th>\n      <td>0.0</td>\n      <td>0.0</td>\n      <td>0.0</td>\n      <td>0.0</td>\n      <td>0.0</td>\n      <td>0.0</td>\n      <td>0.0</td>\n      <td>0.0</td>\n      <td>0.0</td>\n      <td>0.0</td>\n      <td>...</td>\n      <td>0.0</td>\n      <td>0.0</td>\n      <td>0.0</td>\n      <td>0.0</td>\n      <td>0.0</td>\n      <td>0.0</td>\n      <td>0.0</td>\n      <td>0.0</td>\n      <td>0.0</td>\n      <td>0.0</td>\n    </tr>\n    <tr>\n      <th>14997</th>\n      <td>0.0</td>\n      <td>0.0</td>\n      <td>0.0</td>\n      <td>0.0</td>\n      <td>0.0</td>\n      <td>0.0</td>\n      <td>0.0</td>\n      <td>0.0</td>\n      <td>0.0</td>\n      <td>0.0</td>\n      <td>...</td>\n      <td>0.0</td>\n      <td>0.0</td>\n      <td>0.0</td>\n      <td>0.0</td>\n      <td>0.0</td>\n      <td>0.0</td>\n      <td>0.0</td>\n      <td>0.0</td>\n      <td>0.0</td>\n      <td>0.0</td>\n    </tr>\n    <tr>\n      <th>14998</th>\n      <td>0.0</td>\n      <td>0.0</td>\n      <td>0.0</td>\n      <td>0.0</td>\n      <td>0.0</td>\n      <td>0.0</td>\n      <td>0.0</td>\n      <td>0.0</td>\n      <td>0.0</td>\n      <td>0.0</td>\n      <td>...</td>\n      <td>0.0</td>\n      <td>0.0</td>\n      <td>0.0</td>\n      <td>0.0</td>\n      <td>0.0</td>\n      <td>0.0</td>\n      <td>0.0</td>\n      <td>0.0</td>\n      <td>0.0</td>\n      <td>0.0</td>\n    </tr>\n    <tr>\n      <th>14999</th>\n      <td>0.0</td>\n      <td>0.0</td>\n      <td>0.0</td>\n      <td>0.0</td>\n      <td>0.0</td>\n      <td>0.0</td>\n      <td>0.0</td>\n      <td>0.0</td>\n      <td>0.0</td>\n      <td>0.0</td>\n      <td>...</td>\n      <td>0.0</td>\n      <td>0.0</td>\n      <td>0.0</td>\n      <td>0.0</td>\n      <td>0.0</td>\n      <td>0.0</td>\n      <td>0.0</td>\n      <td>0.0</td>\n      <td>0.0</td>\n      <td>0.0</td>\n    </tr>\n  </tbody>\n</table>\n<p>15000 rows × 60268 columns</p>\n</div>"
     },
     "metadata": {},
     "execution_count": 14
    }
   ],
   "source": [
    "# create the transform\n",
    "vectorizer = TfidfVectorizer(stop_words='english')\n",
    "\n",
    "# tokenize and build vocab\n",
    "vectorizer.fit(new_tweets_dataset['Tweet'])\n",
    "\n",
    "# Tf-idf matrix by tweet\n",
    "tf_idf = vectorizer.transform(new_tweets_dataset['Tweet'])\n",
    "tf_idf = pd.DataFrame(tf_idf.toarray(), columns=vectorizer.get_feature_names())\n",
    "tf_idf\n",
    "# Add TF-IDF column to tweets_dataset\n",
    "# tweets_dataset = pd.concat([new_tweets_dataset, tf_idf], axis=1)"
   ]
  },
  {
   "cell_type": "code",
   "execution_count": 28,
   "metadata": {},
   "outputs": [
    {
     "output_type": "execute_result",
     "data": {
      "text/plain": "      Total tweets  Retweets  Images  Links  Chats  Text tweets     Impacts  \\\n0               13         0       0     12      5            1  1489476161   \n1               55         0       3     11      1           42  4100089350   \n2               55         0       3     11      1           42  4100089350   \n3               55         0       3     11      1           42  4100089350   \n4               55         0       3     11      1           42  4100089350   \n...            ...       ...     ...    ...    ...          ...         ...   \n5756             1         0       1      0      0            0           4   \n5757             1         0       1      0      0            0           3   \n5758             1         0       1      0      0            0           2   \n5759             1         0       1      0      0            0           1   \n5760             1         0       1      0      0            0           0   \n\n      Followers  User value  Tweets value  ...   대구   수호   엑소  엔시티드림_당장_입국시켜  \\\n0     115296834   150464.37    1466166.07  ...  0.0  0.0  0.0            0.0   \n1      76238523   103166.11    5644215.11  ...  0.0  0.0  0.0            0.0   \n2      76238523   103166.11    5644215.11  ...  0.0  0.0  0.0            0.0   \n3      76238523   103166.11    5644215.11  ...  0.0  0.0  0.0            0.0   \n4      76238523   103166.11    5644215.11  ...  0.0  0.0  0.0            0.0   \n...         ...         ...           ...  ...  ...  ...  ...            ...   \n5756          4        0.02          0.02  ...  0.0  0.0  0.0            0.0   \n5757          3        0.01          0.01  ...  0.0  0.0  0.0            0.0   \n5758          2        0.01          0.01  ...  0.0  0.0  0.0            0.0   \n5759          1        0.00          0.00  ...  0.0  0.0  0.0            0.0   \n5760          0        0.00          0.00  ...  0.0  0.0  0.0            0.0   \n\n      웨이션브이_당장_입국시켜  윤기야  좋은_날이_앞으로_많기를   찬열  트와이스  화이팅  \n0               0.0  0.0            0.0  0.0   0.0  0.0  \n1               0.0  0.0            0.0  0.0   0.0  0.0  \n2               0.0  0.0            0.0  0.0   0.0  0.0  \n3               0.0  0.0            0.0  0.0   0.0  0.0  \n4               0.0  0.0            0.0  0.0   0.0  0.0  \n...             ...  ...            ...  ...   ...  ...  \n5756            0.0  0.0            0.0  0.0   0.0  0.0  \n5757            0.0  0.0            0.0  0.0   0.0  0.0  \n5758            0.0  0.0            0.0  0.0   0.0  0.0  \n5759            0.0  0.0            0.0  0.0   0.0  0.0  \n5760            0.0  0.0            0.0  0.0   0.0  0.0  \n\n[5761 rows x 27648 columns]",
      "text/html": "<div>\n<style scoped>\n    .dataframe tbody tr th:only-of-type {\n        vertical-align: middle;\n    }\n\n    .dataframe tbody tr th {\n        vertical-align: top;\n    }\n\n    .dataframe thead th {\n        text-align: right;\n    }\n</style>\n<table border=\"1\" class=\"dataframe\">\n  <thead>\n    <tr style=\"text-align: right;\">\n      <th></th>\n      <th>Total tweets</th>\n      <th>Retweets</th>\n      <th>Images</th>\n      <th>Links</th>\n      <th>Chats</th>\n      <th>Text tweets</th>\n      <th>Impacts</th>\n      <th>Followers</th>\n      <th>User value</th>\n      <th>Tweets value</th>\n      <th>...</th>\n      <th>대구</th>\n      <th>수호</th>\n      <th>엑소</th>\n      <th>엔시티드림_당장_입국시켜</th>\n      <th>웨이션브이_당장_입국시켜</th>\n      <th>윤기야</th>\n      <th>좋은_날이_앞으로_많기를</th>\n      <th>찬열</th>\n      <th>트와이스</th>\n      <th>화이팅</th>\n    </tr>\n  </thead>\n  <tbody>\n    <tr>\n      <th>0</th>\n      <td>13</td>\n      <td>0</td>\n      <td>0</td>\n      <td>12</td>\n      <td>5</td>\n      <td>1</td>\n      <td>1489476161</td>\n      <td>115296834</td>\n      <td>150464.37</td>\n      <td>1466166.07</td>\n      <td>...</td>\n      <td>0.0</td>\n      <td>0.0</td>\n      <td>0.0</td>\n      <td>0.0</td>\n      <td>0.0</td>\n      <td>0.0</td>\n      <td>0.0</td>\n      <td>0.0</td>\n      <td>0.0</td>\n      <td>0.0</td>\n    </tr>\n    <tr>\n      <th>1</th>\n      <td>55</td>\n      <td>0</td>\n      <td>3</td>\n      <td>11</td>\n      <td>1</td>\n      <td>42</td>\n      <td>4100089350</td>\n      <td>76238523</td>\n      <td>103166.11</td>\n      <td>5644215.11</td>\n      <td>...</td>\n      <td>0.0</td>\n      <td>0.0</td>\n      <td>0.0</td>\n      <td>0.0</td>\n      <td>0.0</td>\n      <td>0.0</td>\n      <td>0.0</td>\n      <td>0.0</td>\n      <td>0.0</td>\n      <td>0.0</td>\n    </tr>\n    <tr>\n      <th>2</th>\n      <td>55</td>\n      <td>0</td>\n      <td>3</td>\n      <td>11</td>\n      <td>1</td>\n      <td>42</td>\n      <td>4100089350</td>\n      <td>76238523</td>\n      <td>103166.11</td>\n      <td>5644215.11</td>\n      <td>...</td>\n      <td>0.0</td>\n      <td>0.0</td>\n      <td>0.0</td>\n      <td>0.0</td>\n      <td>0.0</td>\n      <td>0.0</td>\n      <td>0.0</td>\n      <td>0.0</td>\n      <td>0.0</td>\n      <td>0.0</td>\n    </tr>\n    <tr>\n      <th>3</th>\n      <td>55</td>\n      <td>0</td>\n      <td>3</td>\n      <td>11</td>\n      <td>1</td>\n      <td>42</td>\n      <td>4100089350</td>\n      <td>76238523</td>\n      <td>103166.11</td>\n      <td>5644215.11</td>\n      <td>...</td>\n      <td>0.0</td>\n      <td>0.0</td>\n      <td>0.0</td>\n      <td>0.0</td>\n      <td>0.0</td>\n      <td>0.0</td>\n      <td>0.0</td>\n      <td>0.0</td>\n      <td>0.0</td>\n      <td>0.0</td>\n    </tr>\n    <tr>\n      <th>4</th>\n      <td>55</td>\n      <td>0</td>\n      <td>3</td>\n      <td>11</td>\n      <td>1</td>\n      <td>42</td>\n      <td>4100089350</td>\n      <td>76238523</td>\n      <td>103166.11</td>\n      <td>5644215.11</td>\n      <td>...</td>\n      <td>0.0</td>\n      <td>0.0</td>\n      <td>0.0</td>\n      <td>0.0</td>\n      <td>0.0</td>\n      <td>0.0</td>\n      <td>0.0</td>\n      <td>0.0</td>\n      <td>0.0</td>\n      <td>0.0</td>\n    </tr>\n    <tr>\n      <th>...</th>\n      <td>...</td>\n      <td>...</td>\n      <td>...</td>\n      <td>...</td>\n      <td>...</td>\n      <td>...</td>\n      <td>...</td>\n      <td>...</td>\n      <td>...</td>\n      <td>...</td>\n      <td>...</td>\n      <td>...</td>\n      <td>...</td>\n      <td>...</td>\n      <td>...</td>\n      <td>...</td>\n      <td>...</td>\n      <td>...</td>\n      <td>...</td>\n      <td>...</td>\n      <td>...</td>\n    </tr>\n    <tr>\n      <th>5756</th>\n      <td>1</td>\n      <td>0</td>\n      <td>1</td>\n      <td>0</td>\n      <td>0</td>\n      <td>0</td>\n      <td>4</td>\n      <td>4</td>\n      <td>0.02</td>\n      <td>0.02</td>\n      <td>...</td>\n      <td>0.0</td>\n      <td>0.0</td>\n      <td>0.0</td>\n      <td>0.0</td>\n      <td>0.0</td>\n      <td>0.0</td>\n      <td>0.0</td>\n      <td>0.0</td>\n      <td>0.0</td>\n      <td>0.0</td>\n    </tr>\n    <tr>\n      <th>5757</th>\n      <td>1</td>\n      <td>0</td>\n      <td>1</td>\n      <td>0</td>\n      <td>0</td>\n      <td>0</td>\n      <td>3</td>\n      <td>3</td>\n      <td>0.01</td>\n      <td>0.01</td>\n      <td>...</td>\n      <td>0.0</td>\n      <td>0.0</td>\n      <td>0.0</td>\n      <td>0.0</td>\n      <td>0.0</td>\n      <td>0.0</td>\n      <td>0.0</td>\n      <td>0.0</td>\n      <td>0.0</td>\n      <td>0.0</td>\n    </tr>\n    <tr>\n      <th>5758</th>\n      <td>1</td>\n      <td>0</td>\n      <td>1</td>\n      <td>0</td>\n      <td>0</td>\n      <td>0</td>\n      <td>2</td>\n      <td>2</td>\n      <td>0.01</td>\n      <td>0.01</td>\n      <td>...</td>\n      <td>0.0</td>\n      <td>0.0</td>\n      <td>0.0</td>\n      <td>0.0</td>\n      <td>0.0</td>\n      <td>0.0</td>\n      <td>0.0</td>\n      <td>0.0</td>\n      <td>0.0</td>\n      <td>0.0</td>\n    </tr>\n    <tr>\n      <th>5759</th>\n      <td>1</td>\n      <td>0</td>\n      <td>1</td>\n      <td>0</td>\n      <td>0</td>\n      <td>0</td>\n      <td>1</td>\n      <td>1</td>\n      <td>0.00</td>\n      <td>0.00</td>\n      <td>...</td>\n      <td>0.0</td>\n      <td>0.0</td>\n      <td>0.0</td>\n      <td>0.0</td>\n      <td>0.0</td>\n      <td>0.0</td>\n      <td>0.0</td>\n      <td>0.0</td>\n      <td>0.0</td>\n      <td>0.0</td>\n    </tr>\n    <tr>\n      <th>5760</th>\n      <td>1</td>\n      <td>0</td>\n      <td>1</td>\n      <td>0</td>\n      <td>0</td>\n      <td>0</td>\n      <td>0</td>\n      <td>0</td>\n      <td>0.00</td>\n      <td>0.00</td>\n      <td>...</td>\n      <td>0.0</td>\n      <td>0.0</td>\n      <td>0.0</td>\n      <td>0.0</td>\n      <td>0.0</td>\n      <td>0.0</td>\n      <td>0.0</td>\n      <td>0.0</td>\n      <td>0.0</td>\n      <td>0.0</td>\n    </tr>\n  </tbody>\n</table>\n<p>5761 rows × 27648 columns</p>\n</div>"
     },
     "metadata": {},
     "execution_count": 28
    },
    {
     "output_type": "execute_result",
     "data": {
      "text/plain": "0       131697\n1        13104\n2        81356\n3        14595\n4        25424\n         ...  \n5756     11880\n5757      2723\n5758      1590\n5759      6907\n5760     15214\nName: Retweet count, Length: 5761, dtype: int64"
     },
     "metadata": {},
     "execution_count": 28
    }
   ],
   "source": [
    "# split the custom_dataset both in training and testing sets\n",
    "new_custom_dataset = custom_dataset.drop(['Likes count','Tweet value','Popular'], axis=1)\n",
    "train_feat, train_labels= new_custom_dataset.drop('Retweet count', axis= 1), new_custom_dataset['Retweet count']\n",
    "train_feat\n",
    "train_labels"
   ]
  }
 ],
 "metadata": {
  "kernelspec": {
   "display_name": "Python 3.7.7 64-bit",
   "language": "python",
   "name": "python37764bit143e0931926745328698ed582faa8c26"
  },
  "language_info": {
   "codemirror_mode": {
    "name": "ipython",
    "version": 3
   },
   "file_extension": ".py",
   "mimetype": "text/x-python",
   "name": "python",
   "nbconvert_exporter": "python",
   "pygments_lexer": "ipython3",
   "version": "3.7.7-final"
  }
 },
 "nbformat": 4,
 "nbformat_minor": 4
}