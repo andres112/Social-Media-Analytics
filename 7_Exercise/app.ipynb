{
 "cells": [
  {
   "cell_type": "markdown",
   "metadata": {},
   "source": [
    "### Modules and libraries required"
   ]
  },
  {
   "cell_type": "code",
   "execution_count": 35,
   "metadata": {},
   "outputs": [],
   "source": [
    "import pandas as pd\n",
    "import numpy as np\n",
    "from sklearn.feature_extraction.text import CountVectorizer\n",
    "from sklearn.feature_extraction.text import TfidfVectorizer\n",
    "from sklearn.model_selection import train_test_split\n",
    "from sklearn import metrics\n",
    "\n",
    "from IPython.core.interactiveshell import InteractiveShell\n",
    "# Used to get multiple outputs per cell\n",
    "InteractiveShell.ast_node_interactivity = \"all\""
   ]
  },
  {
   "cell_type": "markdown",
   "metadata": {},
   "source": [
    "## TASK 1\n",
    "### Load Datasets"
   ]
  },
  {
   "cell_type": "code",
   "execution_count": 36,
   "metadata": {},
   "outputs": [
    {
     "output_type": "execute_result",
     "data": {
      "text/plain": "                             User            Date  \\\n7                               e  11.03.20 12:44   \n2             The Spectator Index  10.03.20 22:39   \n8                    Barack Obama  10.03.20 22:39   \n4                               e  10.03.20 21:56   \n0                      Judd Legum  11.03.20 13:25   \n5  Lenilda Luna 🇨🇺🇵🇸🇧🇷 🚩 🆙️8️⃣0️⃣  11.03.20 13:09   \n6               Isabel Díaz Ayuso  11.03.20 13:04   \n3             The Spectator Index  10.03.20 22:37   \n1                   CAPITÁN ADOBO  11.03.20 13:19   \n\n                                               Tweet  Binders  \\\n7  the coronavirus outbreak in Turkey https://t.c...      NaN   \n2  BREAKING: British Health Minister tests positi...      NaN   \n8  BREAKING: British Health Minister tests positi...      NaN   \n4          JUST IN: First coronavirus case in Turkey      NaN   \n0  TRUMP TWO WEEKS AGO: \"You have 35 people [in t...      NaN   \n5  Cuba anuncia vacina contra o Coronavírus \\n\\nh...      NaN   \n6  🔴Importante:\\n\\nLa Comunidad de Madrid no ha v...      NaN   \n3  BREAKING: British member of parliament tests p...      NaN   \n1  35 grados un 11 de marzo.\\n\\nLos sevillanos no...      NaN   \n\n                                           Permalink  Retweet count  \\\n7  https://www.twitter.com/user/status/1237721054...          53931   \n2  https://www.twitter.com/user/status/1237508289...          24043   \n8  https://www.twitter.com/user/status/1237508289...          24043   \n4  https://www.twitter.com/user/status/1237497648...           4702   \n0  https://www.twitter.com/user/status/1237731484...           5503   \n5  https://www.twitter.com/user/status/1237727402...           3215   \n6  https://www.twitter.com/user/status/1237725969...           6005   \n3  https://www.twitter.com/user/status/1237507835...           2008   \n1  https://www.twitter.com/user/status/1237729790...           2117   \n\n   Likes count  Tweet value  \n7       208546        12.04  \n2        51520      2598.05  \n8        51520      2598.05  \n4        20256      2598.05  \n0        19357       950.17  \n5        17909        22.20  \n6        11628       306.82  \n3         5610      2598.05  \n1         4978       100.28  ",
      "text/html": "<div>\n<style scoped>\n    .dataframe tbody tr th:only-of-type {\n        vertical-align: middle;\n    }\n\n    .dataframe tbody tr th {\n        vertical-align: top;\n    }\n\n    .dataframe thead th {\n        text-align: right;\n    }\n</style>\n<table border=\"1\" class=\"dataframe\">\n  <thead>\n    <tr style=\"text-align: right;\">\n      <th></th>\n      <th>User</th>\n      <th>Date</th>\n      <th>Tweet</th>\n      <th>Binders</th>\n      <th>Permalink</th>\n      <th>Retweet count</th>\n      <th>Likes count</th>\n      <th>Tweet value</th>\n    </tr>\n  </thead>\n  <tbody>\n    <tr>\n      <th>7</th>\n      <td>e</td>\n      <td>11.03.20 12:44</td>\n      <td>the coronavirus outbreak in Turkey https://t.c...</td>\n      <td>NaN</td>\n      <td>https://www.twitter.com/user/status/1237721054...</td>\n      <td>53931</td>\n      <td>208546</td>\n      <td>12.04</td>\n    </tr>\n    <tr>\n      <th>2</th>\n      <td>The Spectator Index</td>\n      <td>10.03.20 22:39</td>\n      <td>BREAKING: British Health Minister tests positi...</td>\n      <td>NaN</td>\n      <td>https://www.twitter.com/user/status/1237508289...</td>\n      <td>24043</td>\n      <td>51520</td>\n      <td>2598.05</td>\n    </tr>\n    <tr>\n      <th>8</th>\n      <td>Barack Obama</td>\n      <td>10.03.20 22:39</td>\n      <td>BREAKING: British Health Minister tests positi...</td>\n      <td>NaN</td>\n      <td>https://www.twitter.com/user/status/1237508289...</td>\n      <td>24043</td>\n      <td>51520</td>\n      <td>2598.05</td>\n    </tr>\n    <tr>\n      <th>4</th>\n      <td>e</td>\n      <td>10.03.20 21:56</td>\n      <td>JUST IN: First coronavirus case in Turkey</td>\n      <td>NaN</td>\n      <td>https://www.twitter.com/user/status/1237497648...</td>\n      <td>4702</td>\n      <td>20256</td>\n      <td>2598.05</td>\n    </tr>\n    <tr>\n      <th>0</th>\n      <td>Judd Legum</td>\n      <td>11.03.20 13:25</td>\n      <td>TRUMP TWO WEEKS AGO: \"You have 35 people [in t...</td>\n      <td>NaN</td>\n      <td>https://www.twitter.com/user/status/1237731484...</td>\n      <td>5503</td>\n      <td>19357</td>\n      <td>950.17</td>\n    </tr>\n    <tr>\n      <th>5</th>\n      <td>Lenilda Luna 🇨🇺🇵🇸🇧🇷 🚩 🆙️8️⃣0️⃣</td>\n      <td>11.03.20 13:09</td>\n      <td>Cuba anuncia vacina contra o Coronavírus \\n\\nh...</td>\n      <td>NaN</td>\n      <td>https://www.twitter.com/user/status/1237727402...</td>\n      <td>3215</td>\n      <td>17909</td>\n      <td>22.20</td>\n    </tr>\n    <tr>\n      <th>6</th>\n      <td>Isabel Díaz Ayuso</td>\n      <td>11.03.20 13:04</td>\n      <td>🔴Importante:\\n\\nLa Comunidad de Madrid no ha v...</td>\n      <td>NaN</td>\n      <td>https://www.twitter.com/user/status/1237725969...</td>\n      <td>6005</td>\n      <td>11628</td>\n      <td>306.82</td>\n    </tr>\n    <tr>\n      <th>3</th>\n      <td>The Spectator Index</td>\n      <td>10.03.20 22:37</td>\n      <td>BREAKING: British member of parliament tests p...</td>\n      <td>NaN</td>\n      <td>https://www.twitter.com/user/status/1237507835...</td>\n      <td>2008</td>\n      <td>5610</td>\n      <td>2598.05</td>\n    </tr>\n    <tr>\n      <th>1</th>\n      <td>CAPITÁN ADOBO</td>\n      <td>11.03.20 13:19</td>\n      <td>35 grados un 11 de marzo.\\n\\nLos sevillanos no...</td>\n      <td>NaN</td>\n      <td>https://www.twitter.com/user/status/1237729790...</td>\n      <td>2117</td>\n      <td>4978</td>\n      <td>100.28</td>\n    </tr>\n  </tbody>\n</table>\n</div>"
     },
     "metadata": {},
     "execution_count": 36
    },
    {
     "output_type": "execute_result",
     "data": {
      "text/plain": "                   Name               User               Location  \\\n0          @BarackObama       Barack Obama         Washington, DC   \n1            @Cristiano  Cristiano Ronaldo        Turim, Piemonte   \n2             @ladygaga          Lady Gaga                    NaN   \n3      @realDonaldTrump    Donald J. Trump         Washington, DC   \n4          @selenagomez       Selena Gomez            Los Angeles   \n...                 ...                ...                    ...   \n14263        @gegyrigle         JewelRigle                    NaN   \n14264         @sadbadme    กูจะอยู่กูจะรอด                    NaN   \n14265    @pawat58720145              pawat                    NaN   \n14266         @DelsVeja      🐉Y A S U K E🤺  Ile-de-France, France   \n14267  @archawi51088663           archawin                    NaN   \n\n       Total tweets  Retweets  Images  Links  Chats  Text tweets     Impacts  \\\n0                13         0       0     12      5            1  1489476161   \n1                 1         0       1      1      0            0    83133379   \n2                 2         0       0      2      0            0   162436360   \n3                55         0       3     11      1           42  4100089350   \n4                 1         0       0      1      0            0    60528525   \n...             ...       ...     ...    ...    ...          ...         ...   \n14263             1         0       1      0      0            0           1   \n14264             1         0       1      0      0            0           1   \n14265             1         0       1      0      0            0           1   \n14266             1         0       0      0      0            1           0   \n14267             1         0       1      0      0            0           0   \n\n       Followers  User value  Tweets value  \n0      115296834   150464.37    1466166.07  \n1       83133379   111363.10     146999.29  \n2       81218183   109802.60     241565.72  \n3       76238523   103166.11    5644215.11  \n4       60528525    83860.78      92246.86  \n...          ...         ...           ...  \n14263          1        0.00          0.00  \n14264          1        0.00          0.00  \n14265          1        0.00          0.00  \n14266          0        0.00          0.00  \n14267          0        0.00          0.00  \n\n[14268 rows x 13 columns]",
      "text/html": "<div>\n<style scoped>\n    .dataframe tbody tr th:only-of-type {\n        vertical-align: middle;\n    }\n\n    .dataframe tbody tr th {\n        vertical-align: top;\n    }\n\n    .dataframe thead th {\n        text-align: right;\n    }\n</style>\n<table border=\"1\" class=\"dataframe\">\n  <thead>\n    <tr style=\"text-align: right;\">\n      <th></th>\n      <th>Name</th>\n      <th>User</th>\n      <th>Location</th>\n      <th>Total tweets</th>\n      <th>Retweets</th>\n      <th>Images</th>\n      <th>Links</th>\n      <th>Chats</th>\n      <th>Text tweets</th>\n      <th>Impacts</th>\n      <th>Followers</th>\n      <th>User value</th>\n      <th>Tweets value</th>\n    </tr>\n  </thead>\n  <tbody>\n    <tr>\n      <th>0</th>\n      <td>@BarackObama</td>\n      <td>Barack Obama</td>\n      <td>Washington, DC</td>\n      <td>13</td>\n      <td>0</td>\n      <td>0</td>\n      <td>12</td>\n      <td>5</td>\n      <td>1</td>\n      <td>1489476161</td>\n      <td>115296834</td>\n      <td>150464.37</td>\n      <td>1466166.07</td>\n    </tr>\n    <tr>\n      <th>1</th>\n      <td>@Cristiano</td>\n      <td>Cristiano Ronaldo</td>\n      <td>Turim, Piemonte</td>\n      <td>1</td>\n      <td>0</td>\n      <td>1</td>\n      <td>1</td>\n      <td>0</td>\n      <td>0</td>\n      <td>83133379</td>\n      <td>83133379</td>\n      <td>111363.10</td>\n      <td>146999.29</td>\n    </tr>\n    <tr>\n      <th>2</th>\n      <td>@ladygaga</td>\n      <td>Lady Gaga</td>\n      <td>NaN</td>\n      <td>2</td>\n      <td>0</td>\n      <td>0</td>\n      <td>2</td>\n      <td>0</td>\n      <td>0</td>\n      <td>162436360</td>\n      <td>81218183</td>\n      <td>109802.60</td>\n      <td>241565.72</td>\n    </tr>\n    <tr>\n      <th>3</th>\n      <td>@realDonaldTrump</td>\n      <td>Donald J. Trump</td>\n      <td>Washington, DC</td>\n      <td>55</td>\n      <td>0</td>\n      <td>3</td>\n      <td>11</td>\n      <td>1</td>\n      <td>42</td>\n      <td>4100089350</td>\n      <td>76238523</td>\n      <td>103166.11</td>\n      <td>5644215.11</td>\n    </tr>\n    <tr>\n      <th>4</th>\n      <td>@selenagomez</td>\n      <td>Selena Gomez</td>\n      <td>Los Angeles</td>\n      <td>1</td>\n      <td>0</td>\n      <td>0</td>\n      <td>1</td>\n      <td>0</td>\n      <td>0</td>\n      <td>60528525</td>\n      <td>60528525</td>\n      <td>83860.78</td>\n      <td>92246.86</td>\n    </tr>\n    <tr>\n      <th>...</th>\n      <td>...</td>\n      <td>...</td>\n      <td>...</td>\n      <td>...</td>\n      <td>...</td>\n      <td>...</td>\n      <td>...</td>\n      <td>...</td>\n      <td>...</td>\n      <td>...</td>\n      <td>...</td>\n      <td>...</td>\n      <td>...</td>\n    </tr>\n    <tr>\n      <th>14263</th>\n      <td>@gegyrigle</td>\n      <td>JewelRigle</td>\n      <td>NaN</td>\n      <td>1</td>\n      <td>0</td>\n      <td>1</td>\n      <td>0</td>\n      <td>0</td>\n      <td>0</td>\n      <td>1</td>\n      <td>1</td>\n      <td>0.00</td>\n      <td>0.00</td>\n    </tr>\n    <tr>\n      <th>14264</th>\n      <td>@sadbadme</td>\n      <td>กูจะอยู่กูจะรอด</td>\n      <td>NaN</td>\n      <td>1</td>\n      <td>0</td>\n      <td>1</td>\n      <td>0</td>\n      <td>0</td>\n      <td>0</td>\n      <td>1</td>\n      <td>1</td>\n      <td>0.00</td>\n      <td>0.00</td>\n    </tr>\n    <tr>\n      <th>14265</th>\n      <td>@pawat58720145</td>\n      <td>pawat</td>\n      <td>NaN</td>\n      <td>1</td>\n      <td>0</td>\n      <td>1</td>\n      <td>0</td>\n      <td>0</td>\n      <td>0</td>\n      <td>1</td>\n      <td>1</td>\n      <td>0.00</td>\n      <td>0.00</td>\n    </tr>\n    <tr>\n      <th>14266</th>\n      <td>@DelsVeja</td>\n      <td>🐉Y A S U K E🤺</td>\n      <td>Ile-de-France, France</td>\n      <td>1</td>\n      <td>0</td>\n      <td>0</td>\n      <td>0</td>\n      <td>0</td>\n      <td>1</td>\n      <td>0</td>\n      <td>0</td>\n      <td>0.00</td>\n      <td>0.00</td>\n    </tr>\n    <tr>\n      <th>14267</th>\n      <td>@archawi51088663</td>\n      <td>archawin</td>\n      <td>NaN</td>\n      <td>1</td>\n      <td>0</td>\n      <td>1</td>\n      <td>0</td>\n      <td>0</td>\n      <td>0</td>\n      <td>0</td>\n      <td>0</td>\n      <td>0.00</td>\n      <td>0.00</td>\n    </tr>\n  </tbody>\n</table>\n<p>14268 rows × 13 columns</p>\n</div>"
     },
     "metadata": {},
     "execution_count": 36
    }
   ],
   "source": [
    "tweets_dataset = pd.read_csv('tweets_info_test.csv') \n",
    "user_dataset = pd.read_csv('user_info.csv') \n",
    "tweets_dataset.sort_values(by='Likes count', ascending = False)\n",
    "# tweets_dataset.groupby('User').count().sort_values(['Tweet'], ascending=False)\n",
    "user_dataset.sort_values(by='Followers', ascending=False)\n",
    "# user_dataset.groupby('User').count().sort_values(['Impacts'], ascending=False)"
   ]
  },
  {
   "cell_type": "markdown",
   "metadata": {},
   "source": [
    "### 1.1 Clean Data (Remove punctuation and stop-words)\n",
    "#### Count words by document"
   ]
  },
  {
   "cell_type": "code",
   "execution_count": 37,
   "metadata": {},
   "outputs": [
    {
     "output_type": "execute_result",
     "data": {
      "text/plain": "CountVectorizer(analyzer='word', binary=False, decode_error='strict',\n                dtype=<class 'numpy.int64'>, encoding='utf-8', input='content',\n                lowercase=True, max_df=1.0, max_features=None, min_df=1,\n                ngram_range=(1, 1), preprocessor=None, stop_words='english',\n                strip_accents=None, token_pattern='(?u)\\\\b\\\\w\\\\w+\\\\b',\n                tokenizer=None, vocabulary=None)"
     },
     "metadata": {},
     "execution_count": 37
    },
    {
     "output_type": "stream",
     "name": "stdout",
     "text": "Vector Representation\n"
    },
    {
     "output_type": "execute_result",
     "data": {
      "text/plain": "   039  11  15  35  acabar  ago  anuncia  atender  breaking  british  ...  \\\n0    1   0   1   1       0    1        0        0         0        0  ...   \n1    0   1   0   1       1    0        0        0         0        0  ...   \n2    0   0   0   0       0    0        0        0         1        1  ...   \n3    0   0   0   0       0    0        0        0         1        1  ...   \n4    0   0   0   0       0    0        0        0         0        0  ...   \n5    0   0   0   0       0    0        1        0         0        0  ...   \n6    0   0   0   0       0    0        0        1         0        0  ...   \n7    0   0   0   0       0    0        0        0         0        0  ...   \n8    0   0   0   0       0    0        0        0         1        1  ...   \n\n   today  todos  trump  turkey  united  vacina  valorado  weeks  ya  zero  \n0      1      0      1       0       1       0         0      1   0     1  \n1      0      0      0       0       0       0         0      0   1     0  \n2      0      0      0       0       0       0         0      0   0     0  \n3      0      0      0       0       0       0         0      0   0     0  \n4      0      0      0       1       0       0         0      0   0     0  \n5      0      0      0       0       0       1         0      0   0     0  \n6      0      1      0       0       0       0         1      0   0     0  \n7      0      0      0       1       0       0         0      0   0     0  \n8      0      0      0       0       0       0         0      0   0     0  \n\n[9 rows x 76 columns]",
      "text/html": "<div>\n<style scoped>\n    .dataframe tbody tr th:only-of-type {\n        vertical-align: middle;\n    }\n\n    .dataframe tbody tr th {\n        vertical-align: top;\n    }\n\n    .dataframe thead th {\n        text-align: right;\n    }\n</style>\n<table border=\"1\" class=\"dataframe\">\n  <thead>\n    <tr style=\"text-align: right;\">\n      <th></th>\n      <th>039</th>\n      <th>11</th>\n      <th>15</th>\n      <th>35</th>\n      <th>acabar</th>\n      <th>ago</th>\n      <th>anuncia</th>\n      <th>atender</th>\n      <th>breaking</th>\n      <th>british</th>\n      <th>...</th>\n      <th>today</th>\n      <th>todos</th>\n      <th>trump</th>\n      <th>turkey</th>\n      <th>united</th>\n      <th>vacina</th>\n      <th>valorado</th>\n      <th>weeks</th>\n      <th>ya</th>\n      <th>zero</th>\n    </tr>\n  </thead>\n  <tbody>\n    <tr>\n      <th>0</th>\n      <td>1</td>\n      <td>0</td>\n      <td>1</td>\n      <td>1</td>\n      <td>0</td>\n      <td>1</td>\n      <td>0</td>\n      <td>0</td>\n      <td>0</td>\n      <td>0</td>\n      <td>...</td>\n      <td>1</td>\n      <td>0</td>\n      <td>1</td>\n      <td>0</td>\n      <td>1</td>\n      <td>0</td>\n      <td>0</td>\n      <td>1</td>\n      <td>0</td>\n      <td>1</td>\n    </tr>\n    <tr>\n      <th>1</th>\n      <td>0</td>\n      <td>1</td>\n      <td>0</td>\n      <td>1</td>\n      <td>1</td>\n      <td>0</td>\n      <td>0</td>\n      <td>0</td>\n      <td>0</td>\n      <td>0</td>\n      <td>...</td>\n      <td>0</td>\n      <td>0</td>\n      <td>0</td>\n      <td>0</td>\n      <td>0</td>\n      <td>0</td>\n      <td>0</td>\n      <td>0</td>\n      <td>1</td>\n      <td>0</td>\n    </tr>\n    <tr>\n      <th>2</th>\n      <td>0</td>\n      <td>0</td>\n      <td>0</td>\n      <td>0</td>\n      <td>0</td>\n      <td>0</td>\n      <td>0</td>\n      <td>0</td>\n      <td>1</td>\n      <td>1</td>\n      <td>...</td>\n      <td>0</td>\n      <td>0</td>\n      <td>0</td>\n      <td>0</td>\n      <td>0</td>\n      <td>0</td>\n      <td>0</td>\n      <td>0</td>\n      <td>0</td>\n      <td>0</td>\n    </tr>\n    <tr>\n      <th>3</th>\n      <td>0</td>\n      <td>0</td>\n      <td>0</td>\n      <td>0</td>\n      <td>0</td>\n      <td>0</td>\n      <td>0</td>\n      <td>0</td>\n      <td>1</td>\n      <td>1</td>\n      <td>...</td>\n      <td>0</td>\n      <td>0</td>\n      <td>0</td>\n      <td>0</td>\n      <td>0</td>\n      <td>0</td>\n      <td>0</td>\n      <td>0</td>\n      <td>0</td>\n      <td>0</td>\n    </tr>\n    <tr>\n      <th>4</th>\n      <td>0</td>\n      <td>0</td>\n      <td>0</td>\n      <td>0</td>\n      <td>0</td>\n      <td>0</td>\n      <td>0</td>\n      <td>0</td>\n      <td>0</td>\n      <td>0</td>\n      <td>...</td>\n      <td>0</td>\n      <td>0</td>\n      <td>0</td>\n      <td>1</td>\n      <td>0</td>\n      <td>0</td>\n      <td>0</td>\n      <td>0</td>\n      <td>0</td>\n      <td>0</td>\n    </tr>\n    <tr>\n      <th>5</th>\n      <td>0</td>\n      <td>0</td>\n      <td>0</td>\n      <td>0</td>\n      <td>0</td>\n      <td>0</td>\n      <td>1</td>\n      <td>0</td>\n      <td>0</td>\n      <td>0</td>\n      <td>...</td>\n      <td>0</td>\n      <td>0</td>\n      <td>0</td>\n      <td>0</td>\n      <td>0</td>\n      <td>1</td>\n      <td>0</td>\n      <td>0</td>\n      <td>0</td>\n      <td>0</td>\n    </tr>\n    <tr>\n      <th>6</th>\n      <td>0</td>\n      <td>0</td>\n      <td>0</td>\n      <td>0</td>\n      <td>0</td>\n      <td>0</td>\n      <td>0</td>\n      <td>1</td>\n      <td>0</td>\n      <td>0</td>\n      <td>...</td>\n      <td>0</td>\n      <td>1</td>\n      <td>0</td>\n      <td>0</td>\n      <td>0</td>\n      <td>0</td>\n      <td>1</td>\n      <td>0</td>\n      <td>0</td>\n      <td>0</td>\n    </tr>\n    <tr>\n      <th>7</th>\n      <td>0</td>\n      <td>0</td>\n      <td>0</td>\n      <td>0</td>\n      <td>0</td>\n      <td>0</td>\n      <td>0</td>\n      <td>0</td>\n      <td>0</td>\n      <td>0</td>\n      <td>...</td>\n      <td>0</td>\n      <td>0</td>\n      <td>0</td>\n      <td>1</td>\n      <td>0</td>\n      <td>0</td>\n      <td>0</td>\n      <td>0</td>\n      <td>0</td>\n      <td>0</td>\n    </tr>\n    <tr>\n      <th>8</th>\n      <td>0</td>\n      <td>0</td>\n      <td>0</td>\n      <td>0</td>\n      <td>0</td>\n      <td>0</td>\n      <td>0</td>\n      <td>0</td>\n      <td>1</td>\n      <td>1</td>\n      <td>...</td>\n      <td>0</td>\n      <td>0</td>\n      <td>0</td>\n      <td>0</td>\n      <td>0</td>\n      <td>0</td>\n      <td>0</td>\n      <td>0</td>\n      <td>0</td>\n      <td>0</td>\n    </tr>\n  </tbody>\n</table>\n<p>9 rows × 76 columns</p>\n</div>"
     },
     "metadata": {},
     "execution_count": 37
    }
   ],
   "source": [
    "# first create the transform and stop words set for english\n",
    "vectorizer = CountVectorizer(stop_words='english')\n",
    "\n",
    "# The Tweet column is the list of documents\n",
    "vectorizer.fit(tweets_dataset['Tweet'])\n",
    "\n",
    "# Counter words by tweet array\n",
    "word_counter = vectorizer.transform(tweets_dataset['Tweet'])\n",
    "print('Vector Representation')\n",
    "pd.DataFrame(word_counter.toarray(), columns=vectorizer.get_feature_names())"
   ]
  },
  {
   "cell_type": "markdown",
   "metadata": {},
   "source": [
    "### TF-IDF computation by document"
   ]
  },
  {
   "cell_type": "code",
   "execution_count": 38,
   "metadata": {},
   "outputs": [
    {
     "output_type": "execute_result",
     "data": {
      "text/plain": "TfidfVectorizer(analyzer='word', binary=False, decode_error='strict',\n                dtype=<class 'numpy.float64'>, encoding='utf-8',\n                input='content', lowercase=True, max_df=1.0, max_features=None,\n                min_df=1, ngram_range=(1, 1), norm='l2', preprocessor=None,\n                smooth_idf=True, stop_words='english', strip_accents=None,\n                sublinear_tf=False, token_pattern='(?u)\\\\b\\\\w\\\\w+\\\\b',\n                tokenizer=None, use_idf=True, vocabulary=None)"
     },
     "metadata": {},
     "execution_count": 38
    },
    {
     "output_type": "execute_result",
     "data": {
      "text/plain": "               IDF\n039       2.609438\n11        2.609438\n15        2.609438\n35        2.203973\nacabar    2.609438\nago       2.609438\nanuncia   2.609438\natender   2.609438\nbreaking  1.916291\nbritish   1.916291",
      "text/html": "<div>\n<style scoped>\n    .dataframe tbody tr th:only-of-type {\n        vertical-align: middle;\n    }\n\n    .dataframe tbody tr th {\n        vertical-align: top;\n    }\n\n    .dataframe thead th {\n        text-align: right;\n    }\n</style>\n<table border=\"1\" class=\"dataframe\">\n  <thead>\n    <tr style=\"text-align: right;\">\n      <th></th>\n      <th>IDF</th>\n    </tr>\n  </thead>\n  <tbody>\n    <tr>\n      <th>039</th>\n      <td>2.609438</td>\n    </tr>\n    <tr>\n      <th>11</th>\n      <td>2.609438</td>\n    </tr>\n    <tr>\n      <th>15</th>\n      <td>2.609438</td>\n    </tr>\n    <tr>\n      <th>35</th>\n      <td>2.203973</td>\n    </tr>\n    <tr>\n      <th>acabar</th>\n      <td>2.609438</td>\n    </tr>\n    <tr>\n      <th>ago</th>\n      <td>2.609438</td>\n    </tr>\n    <tr>\n      <th>anuncia</th>\n      <td>2.609438</td>\n    </tr>\n    <tr>\n      <th>atender</th>\n      <td>2.609438</td>\n    </tr>\n    <tr>\n      <th>breaking</th>\n      <td>1.916291</td>\n    </tr>\n    <tr>\n      <th>british</th>\n      <td>1.916291</td>\n    </tr>\n  </tbody>\n</table>\n</div>"
     },
     "metadata": {},
     "execution_count": 38
    }
   ],
   "source": [
    "# create the transform\n",
    "vectorizer = TfidfVectorizer(stop_words='english')\n",
    "\n",
    "# tokenize and build vocab\n",
    "vectorizer.fit(tweets_dataset['Tweet'])\n",
    "pd.DataFrame(vectorizer.idf_, index=vectorizer.get_feature_names(), columns=['IDF']).head(10)\n",
    "\n",
    "# Tf-idf matrix by tweet\n",
    "tf_idf = vectorizer.transform(tweets_dataset['Tweet'])\n",
    "tf_idf = pd.DataFrame(tf_idf.toarray(), columns=vectorizer.get_feature_names())\n",
    "# Add TF-IDF column to tweets_dataset\n",
    "tweets_dataset = pd.concat([tweets_dataset, tf_idf], axis=1)"
   ]
  },
  {
   "cell_type": "markdown",
   "metadata": {},
   "source": [
    "## Feature set\n",
    "### 1.2 Merge User and Tweets info datasets\n",
    "\n",
    "**In this step is created the dataset both for task 1 as task 2, therefore is required to run this before [task_2.ipynb](task_2.ipynb)**"
   ]
  },
  {
   "cell_type": "code",
   "execution_count": 39,
   "metadata": {},
   "outputs": [
    {
     "output_type": "execute_result",
     "data": {
      "text/plain": "    Total tweets  Retweets  Images  Links  Chats  Text tweets     Impacts  \\\n0             13         0       0     12      5            1  1489476161   \n1            382         0       0      0      0          382   615260733   \n2            382         0       0      0      0          382   615260733   \n3             22         0       3      5      0           14     9061712   \n4             14         0       3      3      0            8     2403686   \n5              2         0       0      0      0            2       90156   \n6              1         0       0      1      0            0        8310   \n7              1         0       1      0      0            0        3645   \n8              1         0       1      0      0            0        3645   \n9              1         0       1      0      0            0         504   \n10             1         0       1      0      0            0         504   \n\n    Followers  User value  Tweets value  ...     today     todos     trump  \\\n0   115296834   150464.37    1466166.07  ...  0.000000  0.000000  0.000000   \n1     1665144     2722.29    1009497.14  ...  0.000000  0.000000  0.000000   \n2     1665144     2722.29    1009497.14  ...  0.000000  0.000000  0.000000   \n3      416833      960.40      21959.22  ...  0.239518  0.000000  0.239518   \n4      196831      460.34       6090.03  ...  0.000000  0.182474  0.000000   \n5       45078      100.28        200.56  ...  0.000000  0.000000  0.000000   \n6        8310       20.18         22.20  ...  0.000000  0.000000  0.000000   \n7        3645       10.03         12.04  ...  0.000000  0.000000  0.000000   \n8        3645       10.03         12.04  ...  0.000000  0.000000  0.000000   \n9         504        1.70          2.04  ...  0.000000  0.000000  0.000000   \n10        504        1.70          2.04  ...  0.000000  0.000000  0.000000   \n\n      turkey    united    vacina  valorado     weeks        ya      zero  \n0   0.000000  0.000000  0.000000  0.000000  0.000000  0.000000  0.000000  \n1   0.000000  0.000000  0.000000  0.000000  0.000000  0.000000  0.000000  \n2   0.000000  0.000000  0.000000  0.000000  0.000000  0.000000  0.000000  \n3   0.000000  0.239518  0.000000  0.000000  0.239518  0.000000  0.239518  \n4   0.000000  0.000000  0.000000  0.182474  0.000000  0.000000  0.000000  \n5   0.000000  0.000000  0.000000  0.000000  0.000000  0.261657  0.000000  \n6   0.000000  0.000000  0.385949  0.000000  0.000000  0.000000  0.000000  \n7   0.496591  0.000000  0.000000  0.000000  0.000000  0.000000  0.000000  \n8   0.444769  0.000000  0.000000  0.000000  0.000000  0.000000  0.000000  \n9   0.496591  0.000000  0.000000  0.000000  0.000000  0.000000  0.000000  \n10  0.444769  0.000000  0.000000  0.000000  0.000000  0.000000  0.000000  \n\n[11 rows x 89 columns]",
      "text/html": "<div>\n<style scoped>\n    .dataframe tbody tr th:only-of-type {\n        vertical-align: middle;\n    }\n\n    .dataframe tbody tr th {\n        vertical-align: top;\n    }\n\n    .dataframe thead th {\n        text-align: right;\n    }\n</style>\n<table border=\"1\" class=\"dataframe\">\n  <thead>\n    <tr style=\"text-align: right;\">\n      <th></th>\n      <th>Total tweets</th>\n      <th>Retweets</th>\n      <th>Images</th>\n      <th>Links</th>\n      <th>Chats</th>\n      <th>Text tweets</th>\n      <th>Impacts</th>\n      <th>Followers</th>\n      <th>User value</th>\n      <th>Tweets value</th>\n      <th>...</th>\n      <th>today</th>\n      <th>todos</th>\n      <th>trump</th>\n      <th>turkey</th>\n      <th>united</th>\n      <th>vacina</th>\n      <th>valorado</th>\n      <th>weeks</th>\n      <th>ya</th>\n      <th>zero</th>\n    </tr>\n  </thead>\n  <tbody>\n    <tr>\n      <th>0</th>\n      <td>13</td>\n      <td>0</td>\n      <td>0</td>\n      <td>12</td>\n      <td>5</td>\n      <td>1</td>\n      <td>1489476161</td>\n      <td>115296834</td>\n      <td>150464.37</td>\n      <td>1466166.07</td>\n      <td>...</td>\n      <td>0.000000</td>\n      <td>0.000000</td>\n      <td>0.000000</td>\n      <td>0.000000</td>\n      <td>0.000000</td>\n      <td>0.000000</td>\n      <td>0.000000</td>\n      <td>0.000000</td>\n      <td>0.000000</td>\n      <td>0.000000</td>\n    </tr>\n    <tr>\n      <th>1</th>\n      <td>382</td>\n      <td>0</td>\n      <td>0</td>\n      <td>0</td>\n      <td>0</td>\n      <td>382</td>\n      <td>615260733</td>\n      <td>1665144</td>\n      <td>2722.29</td>\n      <td>1009497.14</td>\n      <td>...</td>\n      <td>0.000000</td>\n      <td>0.000000</td>\n      <td>0.000000</td>\n      <td>0.000000</td>\n      <td>0.000000</td>\n      <td>0.000000</td>\n      <td>0.000000</td>\n      <td>0.000000</td>\n      <td>0.000000</td>\n      <td>0.000000</td>\n    </tr>\n    <tr>\n      <th>2</th>\n      <td>382</td>\n      <td>0</td>\n      <td>0</td>\n      <td>0</td>\n      <td>0</td>\n      <td>382</td>\n      <td>615260733</td>\n      <td>1665144</td>\n      <td>2722.29</td>\n      <td>1009497.14</td>\n      <td>...</td>\n      <td>0.000000</td>\n      <td>0.000000</td>\n      <td>0.000000</td>\n      <td>0.000000</td>\n      <td>0.000000</td>\n      <td>0.000000</td>\n      <td>0.000000</td>\n      <td>0.000000</td>\n      <td>0.000000</td>\n      <td>0.000000</td>\n    </tr>\n    <tr>\n      <th>3</th>\n      <td>22</td>\n      <td>0</td>\n      <td>3</td>\n      <td>5</td>\n      <td>0</td>\n      <td>14</td>\n      <td>9061712</td>\n      <td>416833</td>\n      <td>960.40</td>\n      <td>21959.22</td>\n      <td>...</td>\n      <td>0.239518</td>\n      <td>0.000000</td>\n      <td>0.239518</td>\n      <td>0.000000</td>\n      <td>0.239518</td>\n      <td>0.000000</td>\n      <td>0.000000</td>\n      <td>0.239518</td>\n      <td>0.000000</td>\n      <td>0.239518</td>\n    </tr>\n    <tr>\n      <th>4</th>\n      <td>14</td>\n      <td>0</td>\n      <td>3</td>\n      <td>3</td>\n      <td>0</td>\n      <td>8</td>\n      <td>2403686</td>\n      <td>196831</td>\n      <td>460.34</td>\n      <td>6090.03</td>\n      <td>...</td>\n      <td>0.000000</td>\n      <td>0.182474</td>\n      <td>0.000000</td>\n      <td>0.000000</td>\n      <td>0.000000</td>\n      <td>0.000000</td>\n      <td>0.182474</td>\n      <td>0.000000</td>\n      <td>0.000000</td>\n      <td>0.000000</td>\n    </tr>\n    <tr>\n      <th>5</th>\n      <td>2</td>\n      <td>0</td>\n      <td>0</td>\n      <td>0</td>\n      <td>0</td>\n      <td>2</td>\n      <td>90156</td>\n      <td>45078</td>\n      <td>100.28</td>\n      <td>200.56</td>\n      <td>...</td>\n      <td>0.000000</td>\n      <td>0.000000</td>\n      <td>0.000000</td>\n      <td>0.000000</td>\n      <td>0.000000</td>\n      <td>0.000000</td>\n      <td>0.000000</td>\n      <td>0.000000</td>\n      <td>0.261657</td>\n      <td>0.000000</td>\n    </tr>\n    <tr>\n      <th>6</th>\n      <td>1</td>\n      <td>0</td>\n      <td>0</td>\n      <td>1</td>\n      <td>0</td>\n      <td>0</td>\n      <td>8310</td>\n      <td>8310</td>\n      <td>20.18</td>\n      <td>22.20</td>\n      <td>...</td>\n      <td>0.000000</td>\n      <td>0.000000</td>\n      <td>0.000000</td>\n      <td>0.000000</td>\n      <td>0.000000</td>\n      <td>0.385949</td>\n      <td>0.000000</td>\n      <td>0.000000</td>\n      <td>0.000000</td>\n      <td>0.000000</td>\n    </tr>\n    <tr>\n      <th>7</th>\n      <td>1</td>\n      <td>0</td>\n      <td>1</td>\n      <td>0</td>\n      <td>0</td>\n      <td>0</td>\n      <td>3645</td>\n      <td>3645</td>\n      <td>10.03</td>\n      <td>12.04</td>\n      <td>...</td>\n      <td>0.000000</td>\n      <td>0.000000</td>\n      <td>0.000000</td>\n      <td>0.496591</td>\n      <td>0.000000</td>\n      <td>0.000000</td>\n      <td>0.000000</td>\n      <td>0.000000</td>\n      <td>0.000000</td>\n      <td>0.000000</td>\n    </tr>\n    <tr>\n      <th>8</th>\n      <td>1</td>\n      <td>0</td>\n      <td>1</td>\n      <td>0</td>\n      <td>0</td>\n      <td>0</td>\n      <td>3645</td>\n      <td>3645</td>\n      <td>10.03</td>\n      <td>12.04</td>\n      <td>...</td>\n      <td>0.000000</td>\n      <td>0.000000</td>\n      <td>0.000000</td>\n      <td>0.444769</td>\n      <td>0.000000</td>\n      <td>0.000000</td>\n      <td>0.000000</td>\n      <td>0.000000</td>\n      <td>0.000000</td>\n      <td>0.000000</td>\n    </tr>\n    <tr>\n      <th>9</th>\n      <td>1</td>\n      <td>0</td>\n      <td>1</td>\n      <td>0</td>\n      <td>0</td>\n      <td>0</td>\n      <td>504</td>\n      <td>504</td>\n      <td>1.70</td>\n      <td>2.04</td>\n      <td>...</td>\n      <td>0.000000</td>\n      <td>0.000000</td>\n      <td>0.000000</td>\n      <td>0.496591</td>\n      <td>0.000000</td>\n      <td>0.000000</td>\n      <td>0.000000</td>\n      <td>0.000000</td>\n      <td>0.000000</td>\n      <td>0.000000</td>\n    </tr>\n    <tr>\n      <th>10</th>\n      <td>1</td>\n      <td>0</td>\n      <td>1</td>\n      <td>0</td>\n      <td>0</td>\n      <td>0</td>\n      <td>504</td>\n      <td>504</td>\n      <td>1.70</td>\n      <td>2.04</td>\n      <td>...</td>\n      <td>0.000000</td>\n      <td>0.000000</td>\n      <td>0.000000</td>\n      <td>0.444769</td>\n      <td>0.000000</td>\n      <td>0.000000</td>\n      <td>0.000000</td>\n      <td>0.000000</td>\n      <td>0.000000</td>\n      <td>0.000000</td>\n    </tr>\n  </tbody>\n</table>\n<p>11 rows × 89 columns</p>\n</div>"
     },
     "metadata": {},
     "execution_count": 39
    }
   ],
   "source": [
    "# Construct the feature set\n",
    "custom_dataset = pd.merge(user_dataset, tweets_dataset, on=['User'], how='inner')\n",
    "drop_columns = ['User','Date','Tweet','Binders','Permalink','Name','Location']\n",
    "custom_dataset.drop(drop_columns, axis=1, inplace=True)\n",
    "custom_dataset"
   ]
  },
  {
   "cell_type": "markdown",
   "metadata": {},
   "source": [
    "### 1.3 Calculate the tweet popularity and append feature set"
   ]
  },
  {
   "cell_type": "code",
   "execution_count": 40,
   "metadata": {},
   "outputs": [
    {
     "output_type": "execute_result",
     "data": {
      "text/plain": "    Total tweets  Retweets  Images  Links  Chats  Text tweets     Impacts  \\\n0             13         0       0     12      5            1  1489476161   \n1            382         0       0      0      0          382   615260733   \n2            382         0       0      0      0          382   615260733   \n3             22         0       3      5      0           14     9061712   \n4             14         0       3      3      0            8     2403686   \n5              2         0       0      0      0            2       90156   \n6              1         0       0      1      0            0        8310   \n7              1         0       1      0      0            0        3645   \n8              1         0       1      0      0            0        3645   \n9              1         0       1      0      0            0         504   \n10             1         0       1      0      0            0         504   \n\n    Followers  User value  Tweets value  ...     todos     trump    turkey  \\\n0   115296834   150464.37    1466166.07  ...  0.000000  0.000000  0.000000   \n1     1665144     2722.29    1009497.14  ...  0.000000  0.000000  0.000000   \n2     1665144     2722.29    1009497.14  ...  0.000000  0.000000  0.000000   \n3      416833      960.40      21959.22  ...  0.000000  0.239518  0.000000   \n4      196831      460.34       6090.03  ...  0.182474  0.000000  0.000000   \n5       45078      100.28        200.56  ...  0.000000  0.000000  0.000000   \n6        8310       20.18         22.20  ...  0.000000  0.000000  0.000000   \n7        3645       10.03         12.04  ...  0.000000  0.000000  0.496591   \n8        3645       10.03         12.04  ...  0.000000  0.000000  0.444769   \n9         504        1.70          2.04  ...  0.000000  0.000000  0.496591   \n10        504        1.70          2.04  ...  0.000000  0.000000  0.444769   \n\n      united    vacina  valorado     weeks        ya      zero  Popular  \n0   0.000000  0.000000  0.000000  0.000000  0.000000  0.000000     True  \n1   0.000000  0.000000  0.000000  0.000000  0.000000  0.000000     True  \n2   0.000000  0.000000  0.000000  0.000000  0.000000  0.000000    False  \n3   0.239518  0.000000  0.000000  0.239518  0.000000  0.239518     True  \n4   0.000000  0.000000  0.182474  0.000000  0.000000  0.000000     True  \n5   0.000000  0.000000  0.000000  0.000000  0.261657  0.000000    False  \n6   0.000000  0.385949  0.000000  0.000000  0.000000  0.000000     True  \n7   0.000000  0.000000  0.000000  0.000000  0.000000  0.000000     True  \n8   0.000000  0.000000  0.000000  0.000000  0.000000  0.000000     True  \n9   0.000000  0.000000  0.000000  0.000000  0.000000  0.000000     True  \n10  0.000000  0.000000  0.000000  0.000000  0.000000  0.000000     True  \n\n[11 rows x 90 columns]",
      "text/html": "<div>\n<style scoped>\n    .dataframe tbody tr th:only-of-type {\n        vertical-align: middle;\n    }\n\n    .dataframe tbody tr th {\n        vertical-align: top;\n    }\n\n    .dataframe thead th {\n        text-align: right;\n    }\n</style>\n<table border=\"1\" class=\"dataframe\">\n  <thead>\n    <tr style=\"text-align: right;\">\n      <th></th>\n      <th>Total tweets</th>\n      <th>Retweets</th>\n      <th>Images</th>\n      <th>Links</th>\n      <th>Chats</th>\n      <th>Text tweets</th>\n      <th>Impacts</th>\n      <th>Followers</th>\n      <th>User value</th>\n      <th>Tweets value</th>\n      <th>...</th>\n      <th>todos</th>\n      <th>trump</th>\n      <th>turkey</th>\n      <th>united</th>\n      <th>vacina</th>\n      <th>valorado</th>\n      <th>weeks</th>\n      <th>ya</th>\n      <th>zero</th>\n      <th>Popular</th>\n    </tr>\n  </thead>\n  <tbody>\n    <tr>\n      <th>0</th>\n      <td>13</td>\n      <td>0</td>\n      <td>0</td>\n      <td>12</td>\n      <td>5</td>\n      <td>1</td>\n      <td>1489476161</td>\n      <td>115296834</td>\n      <td>150464.37</td>\n      <td>1466166.07</td>\n      <td>...</td>\n      <td>0.000000</td>\n      <td>0.000000</td>\n      <td>0.000000</td>\n      <td>0.000000</td>\n      <td>0.000000</td>\n      <td>0.000000</td>\n      <td>0.000000</td>\n      <td>0.000000</td>\n      <td>0.000000</td>\n      <td>True</td>\n    </tr>\n    <tr>\n      <th>1</th>\n      <td>382</td>\n      <td>0</td>\n      <td>0</td>\n      <td>0</td>\n      <td>0</td>\n      <td>382</td>\n      <td>615260733</td>\n      <td>1665144</td>\n      <td>2722.29</td>\n      <td>1009497.14</td>\n      <td>...</td>\n      <td>0.000000</td>\n      <td>0.000000</td>\n      <td>0.000000</td>\n      <td>0.000000</td>\n      <td>0.000000</td>\n      <td>0.000000</td>\n      <td>0.000000</td>\n      <td>0.000000</td>\n      <td>0.000000</td>\n      <td>True</td>\n    </tr>\n    <tr>\n      <th>2</th>\n      <td>382</td>\n      <td>0</td>\n      <td>0</td>\n      <td>0</td>\n      <td>0</td>\n      <td>382</td>\n      <td>615260733</td>\n      <td>1665144</td>\n      <td>2722.29</td>\n      <td>1009497.14</td>\n      <td>...</td>\n      <td>0.000000</td>\n      <td>0.000000</td>\n      <td>0.000000</td>\n      <td>0.000000</td>\n      <td>0.000000</td>\n      <td>0.000000</td>\n      <td>0.000000</td>\n      <td>0.000000</td>\n      <td>0.000000</td>\n      <td>False</td>\n    </tr>\n    <tr>\n      <th>3</th>\n      <td>22</td>\n      <td>0</td>\n      <td>3</td>\n      <td>5</td>\n      <td>0</td>\n      <td>14</td>\n      <td>9061712</td>\n      <td>416833</td>\n      <td>960.40</td>\n      <td>21959.22</td>\n      <td>...</td>\n      <td>0.000000</td>\n      <td>0.239518</td>\n      <td>0.000000</td>\n      <td>0.239518</td>\n      <td>0.000000</td>\n      <td>0.000000</td>\n      <td>0.239518</td>\n      <td>0.000000</td>\n      <td>0.239518</td>\n      <td>True</td>\n    </tr>\n    <tr>\n      <th>4</th>\n      <td>14</td>\n      <td>0</td>\n      <td>3</td>\n      <td>3</td>\n      <td>0</td>\n      <td>8</td>\n      <td>2403686</td>\n      <td>196831</td>\n      <td>460.34</td>\n      <td>6090.03</td>\n      <td>...</td>\n      <td>0.182474</td>\n      <td>0.000000</td>\n      <td>0.000000</td>\n      <td>0.000000</td>\n      <td>0.000000</td>\n      <td>0.182474</td>\n      <td>0.000000</td>\n      <td>0.000000</td>\n      <td>0.000000</td>\n      <td>True</td>\n    </tr>\n    <tr>\n      <th>5</th>\n      <td>2</td>\n      <td>0</td>\n      <td>0</td>\n      <td>0</td>\n      <td>0</td>\n      <td>2</td>\n      <td>90156</td>\n      <td>45078</td>\n      <td>100.28</td>\n      <td>200.56</td>\n      <td>...</td>\n      <td>0.000000</td>\n      <td>0.000000</td>\n      <td>0.000000</td>\n      <td>0.000000</td>\n      <td>0.000000</td>\n      <td>0.000000</td>\n      <td>0.000000</td>\n      <td>0.261657</td>\n      <td>0.000000</td>\n      <td>False</td>\n    </tr>\n    <tr>\n      <th>6</th>\n      <td>1</td>\n      <td>0</td>\n      <td>0</td>\n      <td>1</td>\n      <td>0</td>\n      <td>0</td>\n      <td>8310</td>\n      <td>8310</td>\n      <td>20.18</td>\n      <td>22.20</td>\n      <td>...</td>\n      <td>0.000000</td>\n      <td>0.000000</td>\n      <td>0.000000</td>\n      <td>0.000000</td>\n      <td>0.385949</td>\n      <td>0.000000</td>\n      <td>0.000000</td>\n      <td>0.000000</td>\n      <td>0.000000</td>\n      <td>True</td>\n    </tr>\n    <tr>\n      <th>7</th>\n      <td>1</td>\n      <td>0</td>\n      <td>1</td>\n      <td>0</td>\n      <td>0</td>\n      <td>0</td>\n      <td>3645</td>\n      <td>3645</td>\n      <td>10.03</td>\n      <td>12.04</td>\n      <td>...</td>\n      <td>0.000000</td>\n      <td>0.000000</td>\n      <td>0.496591</td>\n      <td>0.000000</td>\n      <td>0.000000</td>\n      <td>0.000000</td>\n      <td>0.000000</td>\n      <td>0.000000</td>\n      <td>0.000000</td>\n      <td>True</td>\n    </tr>\n    <tr>\n      <th>8</th>\n      <td>1</td>\n      <td>0</td>\n      <td>1</td>\n      <td>0</td>\n      <td>0</td>\n      <td>0</td>\n      <td>3645</td>\n      <td>3645</td>\n      <td>10.03</td>\n      <td>12.04</td>\n      <td>...</td>\n      <td>0.000000</td>\n      <td>0.000000</td>\n      <td>0.444769</td>\n      <td>0.000000</td>\n      <td>0.000000</td>\n      <td>0.000000</td>\n      <td>0.000000</td>\n      <td>0.000000</td>\n      <td>0.000000</td>\n      <td>True</td>\n    </tr>\n    <tr>\n      <th>9</th>\n      <td>1</td>\n      <td>0</td>\n      <td>1</td>\n      <td>0</td>\n      <td>0</td>\n      <td>0</td>\n      <td>504</td>\n      <td>504</td>\n      <td>1.70</td>\n      <td>2.04</td>\n      <td>...</td>\n      <td>0.000000</td>\n      <td>0.000000</td>\n      <td>0.496591</td>\n      <td>0.000000</td>\n      <td>0.000000</td>\n      <td>0.000000</td>\n      <td>0.000000</td>\n      <td>0.000000</td>\n      <td>0.000000</td>\n      <td>True</td>\n    </tr>\n    <tr>\n      <th>10</th>\n      <td>1</td>\n      <td>0</td>\n      <td>1</td>\n      <td>0</td>\n      <td>0</td>\n      <td>0</td>\n      <td>504</td>\n      <td>504</td>\n      <td>1.70</td>\n      <td>2.04</td>\n      <td>...</td>\n      <td>0.000000</td>\n      <td>0.000000</td>\n      <td>0.444769</td>\n      <td>0.000000</td>\n      <td>0.000000</td>\n      <td>0.000000</td>\n      <td>0.000000</td>\n      <td>0.000000</td>\n      <td>0.000000</td>\n      <td>True</td>\n    </tr>\n  </tbody>\n</table>\n<p>11 rows × 90 columns</p>\n</div>"
     },
     "metadata": {},
     "execution_count": 40
    }
   ],
   "source": [
    "# Calculate tweet popularity\n",
    "custom_dataset['Popular'] = np.where(custom_dataset['Likes count'] > 10000, True, False)\n",
    "custom_dataset"
   ]
  },
  {
   "cell_type": "markdown",
   "metadata": {},
   "source": [
    "### 1.4 Divide the dataset into 80% training and 20% testing"
   ]
  },
  {
   "cell_type": "code",
   "execution_count": 41,
   "metadata": {},
   "outputs": [
    {
     "output_type": "stream",
     "name": "stdout",
     "text": "Training Dataset\n\n"
    },
    {
     "output_type": "execute_result",
     "data": {
      "text/plain": "    Total tweets  Retweets  Images  Links  Chats  Text tweets     Impacts  \\\n9              1         0       1      0      0            0         504   \n2            382         0       0      0      0          382   615260733   \n0             13         0       0     12      5            1  1489476161   \n6              1         0       0      1      0            0        8310   \n4             14         0       3      3      0            8     2403686   \n5              2         0       0      0      0            2       90156   \n10             1         0       1      0      0            0         504   \n3             22         0       3      5      0           14     9061712   \n\n    Followers  User value  Tweets value  ...     today     todos     trump  \\\n9         504        1.70          2.04  ...  0.000000  0.000000  0.000000   \n2     1665144     2722.29    1009497.14  ...  0.000000  0.000000  0.000000   \n0   115296834   150464.37    1466166.07  ...  0.000000  0.000000  0.000000   \n6        8310       20.18         22.20  ...  0.000000  0.000000  0.000000   \n4      196831      460.34       6090.03  ...  0.000000  0.182474  0.000000   \n5       45078      100.28        200.56  ...  0.000000  0.000000  0.000000   \n10        504        1.70          2.04  ...  0.000000  0.000000  0.000000   \n3      416833      960.40      21959.22  ...  0.239518  0.000000  0.239518   \n\n      turkey    united    vacina  valorado     weeks        ya      zero  \n9   0.496591  0.000000  0.000000  0.000000  0.000000  0.000000  0.000000  \n2   0.000000  0.000000  0.000000  0.000000  0.000000  0.000000  0.000000  \n0   0.000000  0.000000  0.000000  0.000000  0.000000  0.000000  0.000000  \n6   0.000000  0.000000  0.385949  0.000000  0.000000  0.000000  0.000000  \n4   0.000000  0.000000  0.000000  0.182474  0.000000  0.000000  0.000000  \n5   0.000000  0.000000  0.000000  0.000000  0.000000  0.261657  0.000000  \n10  0.444769  0.000000  0.000000  0.000000  0.000000  0.000000  0.000000  \n3   0.000000  0.239518  0.000000  0.000000  0.239518  0.000000  0.239518  \n\n[8 rows x 89 columns]",
      "text/html": "<div>\n<style scoped>\n    .dataframe tbody tr th:only-of-type {\n        vertical-align: middle;\n    }\n\n    .dataframe tbody tr th {\n        vertical-align: top;\n    }\n\n    .dataframe thead th {\n        text-align: right;\n    }\n</style>\n<table border=\"1\" class=\"dataframe\">\n  <thead>\n    <tr style=\"text-align: right;\">\n      <th></th>\n      <th>Total tweets</th>\n      <th>Retweets</th>\n      <th>Images</th>\n      <th>Links</th>\n      <th>Chats</th>\n      <th>Text tweets</th>\n      <th>Impacts</th>\n      <th>Followers</th>\n      <th>User value</th>\n      <th>Tweets value</th>\n      <th>...</th>\n      <th>today</th>\n      <th>todos</th>\n      <th>trump</th>\n      <th>turkey</th>\n      <th>united</th>\n      <th>vacina</th>\n      <th>valorado</th>\n      <th>weeks</th>\n      <th>ya</th>\n      <th>zero</th>\n    </tr>\n  </thead>\n  <tbody>\n    <tr>\n      <th>9</th>\n      <td>1</td>\n      <td>0</td>\n      <td>1</td>\n      <td>0</td>\n      <td>0</td>\n      <td>0</td>\n      <td>504</td>\n      <td>504</td>\n      <td>1.70</td>\n      <td>2.04</td>\n      <td>...</td>\n      <td>0.000000</td>\n      <td>0.000000</td>\n      <td>0.000000</td>\n      <td>0.496591</td>\n      <td>0.000000</td>\n      <td>0.000000</td>\n      <td>0.000000</td>\n      <td>0.000000</td>\n      <td>0.000000</td>\n      <td>0.000000</td>\n    </tr>\n    <tr>\n      <th>2</th>\n      <td>382</td>\n      <td>0</td>\n      <td>0</td>\n      <td>0</td>\n      <td>0</td>\n      <td>382</td>\n      <td>615260733</td>\n      <td>1665144</td>\n      <td>2722.29</td>\n      <td>1009497.14</td>\n      <td>...</td>\n      <td>0.000000</td>\n      <td>0.000000</td>\n      <td>0.000000</td>\n      <td>0.000000</td>\n      <td>0.000000</td>\n      <td>0.000000</td>\n      <td>0.000000</td>\n      <td>0.000000</td>\n      <td>0.000000</td>\n      <td>0.000000</td>\n    </tr>\n    <tr>\n      <th>0</th>\n      <td>13</td>\n      <td>0</td>\n      <td>0</td>\n      <td>12</td>\n      <td>5</td>\n      <td>1</td>\n      <td>1489476161</td>\n      <td>115296834</td>\n      <td>150464.37</td>\n      <td>1466166.07</td>\n      <td>...</td>\n      <td>0.000000</td>\n      <td>0.000000</td>\n      <td>0.000000</td>\n      <td>0.000000</td>\n      <td>0.000000</td>\n      <td>0.000000</td>\n      <td>0.000000</td>\n      <td>0.000000</td>\n      <td>0.000000</td>\n      <td>0.000000</td>\n    </tr>\n    <tr>\n      <th>6</th>\n      <td>1</td>\n      <td>0</td>\n      <td>0</td>\n      <td>1</td>\n      <td>0</td>\n      <td>0</td>\n      <td>8310</td>\n      <td>8310</td>\n      <td>20.18</td>\n      <td>22.20</td>\n      <td>...</td>\n      <td>0.000000</td>\n      <td>0.000000</td>\n      <td>0.000000</td>\n      <td>0.000000</td>\n      <td>0.000000</td>\n      <td>0.385949</td>\n      <td>0.000000</td>\n      <td>0.000000</td>\n      <td>0.000000</td>\n      <td>0.000000</td>\n    </tr>\n    <tr>\n      <th>4</th>\n      <td>14</td>\n      <td>0</td>\n      <td>3</td>\n      <td>3</td>\n      <td>0</td>\n      <td>8</td>\n      <td>2403686</td>\n      <td>196831</td>\n      <td>460.34</td>\n      <td>6090.03</td>\n      <td>...</td>\n      <td>0.000000</td>\n      <td>0.182474</td>\n      <td>0.000000</td>\n      <td>0.000000</td>\n      <td>0.000000</td>\n      <td>0.000000</td>\n      <td>0.182474</td>\n      <td>0.000000</td>\n      <td>0.000000</td>\n      <td>0.000000</td>\n    </tr>\n    <tr>\n      <th>5</th>\n      <td>2</td>\n      <td>0</td>\n      <td>0</td>\n      <td>0</td>\n      <td>0</td>\n      <td>2</td>\n      <td>90156</td>\n      <td>45078</td>\n      <td>100.28</td>\n      <td>200.56</td>\n      <td>...</td>\n      <td>0.000000</td>\n      <td>0.000000</td>\n      <td>0.000000</td>\n      <td>0.000000</td>\n      <td>0.000000</td>\n      <td>0.000000</td>\n      <td>0.000000</td>\n      <td>0.000000</td>\n      <td>0.261657</td>\n      <td>0.000000</td>\n    </tr>\n    <tr>\n      <th>10</th>\n      <td>1</td>\n      <td>0</td>\n      <td>1</td>\n      <td>0</td>\n      <td>0</td>\n      <td>0</td>\n      <td>504</td>\n      <td>504</td>\n      <td>1.70</td>\n      <td>2.04</td>\n      <td>...</td>\n      <td>0.000000</td>\n      <td>0.000000</td>\n      <td>0.000000</td>\n      <td>0.444769</td>\n      <td>0.000000</td>\n      <td>0.000000</td>\n      <td>0.000000</td>\n      <td>0.000000</td>\n      <td>0.000000</td>\n      <td>0.000000</td>\n    </tr>\n    <tr>\n      <th>3</th>\n      <td>22</td>\n      <td>0</td>\n      <td>3</td>\n      <td>5</td>\n      <td>0</td>\n      <td>14</td>\n      <td>9061712</td>\n      <td>416833</td>\n      <td>960.40</td>\n      <td>21959.22</td>\n      <td>...</td>\n      <td>0.239518</td>\n      <td>0.000000</td>\n      <td>0.239518</td>\n      <td>0.000000</td>\n      <td>0.239518</td>\n      <td>0.000000</td>\n      <td>0.000000</td>\n      <td>0.239518</td>\n      <td>0.000000</td>\n      <td>0.239518</td>\n    </tr>\n  </tbody>\n</table>\n<p>8 rows × 89 columns</p>\n</div>"
     },
     "metadata": {},
     "execution_count": 41
    },
    {
     "output_type": "execute_result",
     "data": {
      "text/plain": "9      True\n2     False\n0      True\n6      True\n4      True\n5     False\n10     True\n3      True\nName: Popular, dtype: bool"
     },
     "metadata": {},
     "execution_count": 41
    },
    {
     "output_type": "stream",
     "name": "stdout",
     "text": "Testing Dataset\n\n"
    },
    {
     "output_type": "execute_result",
     "data": {
      "text/plain": "   Total tweets  Retweets  Images  Links  Chats  Text tweets    Impacts  \\\n8             1         0       1      0      0            0       3645   \n1           382         0       0      0      0          382  615260733   \n7             1         0       1      0      0            0       3645   \n\n   Followers  User value  Tweets value  ...  today  todos  trump    turkey  \\\n8       3645       10.03         12.04  ...    0.0    0.0    0.0  0.444769   \n1    1665144     2722.29    1009497.14  ...    0.0    0.0    0.0  0.000000   \n7       3645       10.03         12.04  ...    0.0    0.0    0.0  0.496591   \n\n   united  vacina  valorado  weeks   ya  zero  \n8     0.0     0.0       0.0    0.0  0.0   0.0  \n1     0.0     0.0       0.0    0.0  0.0   0.0  \n7     0.0     0.0       0.0    0.0  0.0   0.0  \n\n[3 rows x 89 columns]",
      "text/html": "<div>\n<style scoped>\n    .dataframe tbody tr th:only-of-type {\n        vertical-align: middle;\n    }\n\n    .dataframe tbody tr th {\n        vertical-align: top;\n    }\n\n    .dataframe thead th {\n        text-align: right;\n    }\n</style>\n<table border=\"1\" class=\"dataframe\">\n  <thead>\n    <tr style=\"text-align: right;\">\n      <th></th>\n      <th>Total tweets</th>\n      <th>Retweets</th>\n      <th>Images</th>\n      <th>Links</th>\n      <th>Chats</th>\n      <th>Text tweets</th>\n      <th>Impacts</th>\n      <th>Followers</th>\n      <th>User value</th>\n      <th>Tweets value</th>\n      <th>...</th>\n      <th>today</th>\n      <th>todos</th>\n      <th>trump</th>\n      <th>turkey</th>\n      <th>united</th>\n      <th>vacina</th>\n      <th>valorado</th>\n      <th>weeks</th>\n      <th>ya</th>\n      <th>zero</th>\n    </tr>\n  </thead>\n  <tbody>\n    <tr>\n      <th>8</th>\n      <td>1</td>\n      <td>0</td>\n      <td>1</td>\n      <td>0</td>\n      <td>0</td>\n      <td>0</td>\n      <td>3645</td>\n      <td>3645</td>\n      <td>10.03</td>\n      <td>12.04</td>\n      <td>...</td>\n      <td>0.0</td>\n      <td>0.0</td>\n      <td>0.0</td>\n      <td>0.444769</td>\n      <td>0.0</td>\n      <td>0.0</td>\n      <td>0.0</td>\n      <td>0.0</td>\n      <td>0.0</td>\n      <td>0.0</td>\n    </tr>\n    <tr>\n      <th>1</th>\n      <td>382</td>\n      <td>0</td>\n      <td>0</td>\n      <td>0</td>\n      <td>0</td>\n      <td>382</td>\n      <td>615260733</td>\n      <td>1665144</td>\n      <td>2722.29</td>\n      <td>1009497.14</td>\n      <td>...</td>\n      <td>0.0</td>\n      <td>0.0</td>\n      <td>0.0</td>\n      <td>0.000000</td>\n      <td>0.0</td>\n      <td>0.0</td>\n      <td>0.0</td>\n      <td>0.0</td>\n      <td>0.0</td>\n      <td>0.0</td>\n    </tr>\n    <tr>\n      <th>7</th>\n      <td>1</td>\n      <td>0</td>\n      <td>1</td>\n      <td>0</td>\n      <td>0</td>\n      <td>0</td>\n      <td>3645</td>\n      <td>3645</td>\n      <td>10.03</td>\n      <td>12.04</td>\n      <td>...</td>\n      <td>0.0</td>\n      <td>0.0</td>\n      <td>0.0</td>\n      <td>0.496591</td>\n      <td>0.0</td>\n      <td>0.0</td>\n      <td>0.0</td>\n      <td>0.0</td>\n      <td>0.0</td>\n      <td>0.0</td>\n    </tr>\n  </tbody>\n</table>\n<p>3 rows × 89 columns</p>\n</div>"
     },
     "metadata": {},
     "execution_count": 41
    },
    {
     "output_type": "execute_result",
     "data": {
      "text/plain": "8    True\n1    True\n7    True\nName: Popular, dtype: bool"
     },
     "metadata": {},
     "execution_count": 41
    }
   ],
   "source": [
    "# split the custom_dataset both in training and testing sets\n",
    "train_feat, test_feat, train_labels, test_labels = train_test_split(custom_dataset.drop('Popular', axis= 1), custom_dataset['Popular'], test_size= 0.2)\n",
    "print('Training Dataset\\n')\n",
    "train_feat\n",
    "train_labels\n",
    "print('Testing Dataset\\n')\n",
    "test_feat\n",
    "test_labels"
   ]
  },
  {
   "cell_type": "markdown",
   "metadata": {},
   "source": [
    "### 1.5 Classifiers\n",
    "#### Naive Bayes"
   ]
  },
  {
   "cell_type": "code",
   "execution_count": 42,
   "metadata": {},
   "outputs": [
    {
     "output_type": "execute_result",
     "data": {
      "text/plain": "MultinomialNB(alpha=1.0, class_prior=None, fit_prior=True)"
     },
     "metadata": {},
     "execution_count": 42
    },
    {
     "output_type": "stream",
     "name": "stdout",
     "text": "Train set score:  0.875\nPrediction accuracy: 0.6666666666666666\n"
    }
   ],
   "source": [
    "#Import Gaussian Naive Bayes model\n",
    "from sklearn.naive_bayes import MultinomialNB\n",
    "\n",
    "#Create a Gaussian Classifier\n",
    "model = MultinomialNB()\n",
    "\n",
    "# Train the model using the training sets\n",
    "model.fit(train_feat, train_labels)\n",
    "\n",
    "score_train =  model.score(train_feat, train_labels)\n",
    "print('Train set score: ', score_train)\n",
    "\n",
    "#Predict the response for test dataset\n",
    "prediction = model.predict(test_feat)\n",
    "\n",
    "# Model Accuracy, how often is the classifier correct?\n",
    "print(\"Prediction accuracy:\",metrics.accuracy_score(test_labels, prediction))"
   ]
  },
  {
   "cell_type": "markdown",
   "metadata": {},
   "source": [
    "#### Nearest Neighbors "
   ]
  },
  {
   "cell_type": "code",
   "execution_count": 43,
   "metadata": {},
   "outputs": [
    {
     "output_type": "execute_result",
     "data": {
      "text/plain": "KNeighborsClassifier(algorithm='auto', leaf_size=30, metric='minkowski',\n                     metric_params=None, n_jobs=None, n_neighbors=5, p=2,\n                     weights='uniform')"
     },
     "metadata": {},
     "execution_count": 43
    },
    {
     "output_type": "stream",
     "name": "stdout",
     "text": "Train set score:  0.75\nPrediction accuracy: 1.0\n"
    }
   ],
   "source": [
    "#Import KNN Classifier\n",
    "from sklearn.neighbors import KNeighborsClassifier\n",
    "\n",
    "#Create a KNeighbors Classifier\n",
    "model = KNeighborsClassifier(n_neighbors=5)\n",
    "\n",
    "# Train the model using the training sets\n",
    "model.fit(train_feat,train_labels)\n",
    "\n",
    "score_train =  model.score(train_feat, train_labels)\n",
    "print('Train set score: ', score_train)\n",
    "\n",
    "#Predict the response for test dataset\n",
    "prediction = model.predict(test_feat)\n",
    "\n",
    "# Model Accuracy, how often is the classifier correct?\n",
    "print(\"Prediction accuracy:\",metrics.accuracy_score(test_labels, prediction))"
   ]
  },
  {
   "cell_type": "markdown",
   "metadata": {},
   "source": [
    "## Task 2\n",
    "### 2.1 Logistic Regression\n",
    "#### Split custom dataset into 90% for training and 10% for testing"
   ]
  },
  {
   "cell_type": "code",
   "execution_count": 44,
   "metadata": {},
   "outputs": [
    {
     "output_type": "stream",
     "name": "stdout",
     "text": "Training Dataset\n\n"
    },
    {
     "output_type": "execute_result",
     "data": {
      "text/plain": "    Total tweets  Retweets  Images  Links  Chats  Text tweets     Impacts  \\\n0             13         0       0     12      5            1  1489476161   \n3             22         0       3      5      0           14     9061712   \n5              2         0       0      0      0            2       90156   \n8              1         0       1      0      0            0        3645   \n6              1         0       0      1      0            0        8310   \n10             1         0       1      0      0            0         504   \n2            382         0       0      0      0          382   615260733   \n7              1         0       1      0      0            0        3645   \n9              1         0       1      0      0            0         504   \n\n    Followers  User value  Tweets value  ...     today  todos     trump  \\\n0   115296834   150464.37    1466166.07  ...  0.000000    0.0  0.000000   \n3      416833      960.40      21959.22  ...  0.239518    0.0  0.239518   \n5       45078      100.28        200.56  ...  0.000000    0.0  0.000000   \n8        3645       10.03         12.04  ...  0.000000    0.0  0.000000   \n6        8310       20.18         22.20  ...  0.000000    0.0  0.000000   \n10        504        1.70          2.04  ...  0.000000    0.0  0.000000   \n2     1665144     2722.29    1009497.14  ...  0.000000    0.0  0.000000   \n7        3645       10.03         12.04  ...  0.000000    0.0  0.000000   \n9         504        1.70          2.04  ...  0.000000    0.0  0.000000   \n\n      turkey    united    vacina  valorado     weeks        ya      zero  \n0   0.000000  0.000000  0.000000       0.0  0.000000  0.000000  0.000000  \n3   0.000000  0.239518  0.000000       0.0  0.239518  0.000000  0.239518  \n5   0.000000  0.000000  0.000000       0.0  0.000000  0.261657  0.000000  \n8   0.444769  0.000000  0.000000       0.0  0.000000  0.000000  0.000000  \n6   0.000000  0.000000  0.385949       0.0  0.000000  0.000000  0.000000  \n10  0.444769  0.000000  0.000000       0.0  0.000000  0.000000  0.000000  \n2   0.000000  0.000000  0.000000       0.0  0.000000  0.000000  0.000000  \n7   0.496591  0.000000  0.000000       0.0  0.000000  0.000000  0.000000  \n9   0.496591  0.000000  0.000000       0.0  0.000000  0.000000  0.000000  \n\n[9 rows x 89 columns]",
      "text/html": "<div>\n<style scoped>\n    .dataframe tbody tr th:only-of-type {\n        vertical-align: middle;\n    }\n\n    .dataframe tbody tr th {\n        vertical-align: top;\n    }\n\n    .dataframe thead th {\n        text-align: right;\n    }\n</style>\n<table border=\"1\" class=\"dataframe\">\n  <thead>\n    <tr style=\"text-align: right;\">\n      <th></th>\n      <th>Total tweets</th>\n      <th>Retweets</th>\n      <th>Images</th>\n      <th>Links</th>\n      <th>Chats</th>\n      <th>Text tweets</th>\n      <th>Impacts</th>\n      <th>Followers</th>\n      <th>User value</th>\n      <th>Tweets value</th>\n      <th>...</th>\n      <th>today</th>\n      <th>todos</th>\n      <th>trump</th>\n      <th>turkey</th>\n      <th>united</th>\n      <th>vacina</th>\n      <th>valorado</th>\n      <th>weeks</th>\n      <th>ya</th>\n      <th>zero</th>\n    </tr>\n  </thead>\n  <tbody>\n    <tr>\n      <th>0</th>\n      <td>13</td>\n      <td>0</td>\n      <td>0</td>\n      <td>12</td>\n      <td>5</td>\n      <td>1</td>\n      <td>1489476161</td>\n      <td>115296834</td>\n      <td>150464.37</td>\n      <td>1466166.07</td>\n      <td>...</td>\n      <td>0.000000</td>\n      <td>0.0</td>\n      <td>0.000000</td>\n      <td>0.000000</td>\n      <td>0.000000</td>\n      <td>0.000000</td>\n      <td>0.0</td>\n      <td>0.000000</td>\n      <td>0.000000</td>\n      <td>0.000000</td>\n    </tr>\n    <tr>\n      <th>3</th>\n      <td>22</td>\n      <td>0</td>\n      <td>3</td>\n      <td>5</td>\n      <td>0</td>\n      <td>14</td>\n      <td>9061712</td>\n      <td>416833</td>\n      <td>960.40</td>\n      <td>21959.22</td>\n      <td>...</td>\n      <td>0.239518</td>\n      <td>0.0</td>\n      <td>0.239518</td>\n      <td>0.000000</td>\n      <td>0.239518</td>\n      <td>0.000000</td>\n      <td>0.0</td>\n      <td>0.239518</td>\n      <td>0.000000</td>\n      <td>0.239518</td>\n    </tr>\n    <tr>\n      <th>5</th>\n      <td>2</td>\n      <td>0</td>\n      <td>0</td>\n      <td>0</td>\n      <td>0</td>\n      <td>2</td>\n      <td>90156</td>\n      <td>45078</td>\n      <td>100.28</td>\n      <td>200.56</td>\n      <td>...</td>\n      <td>0.000000</td>\n      <td>0.0</td>\n      <td>0.000000</td>\n      <td>0.000000</td>\n      <td>0.000000</td>\n      <td>0.000000</td>\n      <td>0.0</td>\n      <td>0.000000</td>\n      <td>0.261657</td>\n      <td>0.000000</td>\n    </tr>\n    <tr>\n      <th>8</th>\n      <td>1</td>\n      <td>0</td>\n      <td>1</td>\n      <td>0</td>\n      <td>0</td>\n      <td>0</td>\n      <td>3645</td>\n      <td>3645</td>\n      <td>10.03</td>\n      <td>12.04</td>\n      <td>...</td>\n      <td>0.000000</td>\n      <td>0.0</td>\n      <td>0.000000</td>\n      <td>0.444769</td>\n      <td>0.000000</td>\n      <td>0.000000</td>\n      <td>0.0</td>\n      <td>0.000000</td>\n      <td>0.000000</td>\n      <td>0.000000</td>\n    </tr>\n    <tr>\n      <th>6</th>\n      <td>1</td>\n      <td>0</td>\n      <td>0</td>\n      <td>1</td>\n      <td>0</td>\n      <td>0</td>\n      <td>8310</td>\n      <td>8310</td>\n      <td>20.18</td>\n      <td>22.20</td>\n      <td>...</td>\n      <td>0.000000</td>\n      <td>0.0</td>\n      <td>0.000000</td>\n      <td>0.000000</td>\n      <td>0.000000</td>\n      <td>0.385949</td>\n      <td>0.0</td>\n      <td>0.000000</td>\n      <td>0.000000</td>\n      <td>0.000000</td>\n    </tr>\n    <tr>\n      <th>10</th>\n      <td>1</td>\n      <td>0</td>\n      <td>1</td>\n      <td>0</td>\n      <td>0</td>\n      <td>0</td>\n      <td>504</td>\n      <td>504</td>\n      <td>1.70</td>\n      <td>2.04</td>\n      <td>...</td>\n      <td>0.000000</td>\n      <td>0.0</td>\n      <td>0.000000</td>\n      <td>0.444769</td>\n      <td>0.000000</td>\n      <td>0.000000</td>\n      <td>0.0</td>\n      <td>0.000000</td>\n      <td>0.000000</td>\n      <td>0.000000</td>\n    </tr>\n    <tr>\n      <th>2</th>\n      <td>382</td>\n      <td>0</td>\n      <td>0</td>\n      <td>0</td>\n      <td>0</td>\n      <td>382</td>\n      <td>615260733</td>\n      <td>1665144</td>\n      <td>2722.29</td>\n      <td>1009497.14</td>\n      <td>...</td>\n      <td>0.000000</td>\n      <td>0.0</td>\n      <td>0.000000</td>\n      <td>0.000000</td>\n      <td>0.000000</td>\n      <td>0.000000</td>\n      <td>0.0</td>\n      <td>0.000000</td>\n      <td>0.000000</td>\n      <td>0.000000</td>\n    </tr>\n    <tr>\n      <th>7</th>\n      <td>1</td>\n      <td>0</td>\n      <td>1</td>\n      <td>0</td>\n      <td>0</td>\n      <td>0</td>\n      <td>3645</td>\n      <td>3645</td>\n      <td>10.03</td>\n      <td>12.04</td>\n      <td>...</td>\n      <td>0.000000</td>\n      <td>0.0</td>\n      <td>0.000000</td>\n      <td>0.496591</td>\n      <td>0.000000</td>\n      <td>0.000000</td>\n      <td>0.0</td>\n      <td>0.000000</td>\n      <td>0.000000</td>\n      <td>0.000000</td>\n    </tr>\n    <tr>\n      <th>9</th>\n      <td>1</td>\n      <td>0</td>\n      <td>1</td>\n      <td>0</td>\n      <td>0</td>\n      <td>0</td>\n      <td>504</td>\n      <td>504</td>\n      <td>1.70</td>\n      <td>2.04</td>\n      <td>...</td>\n      <td>0.000000</td>\n      <td>0.0</td>\n      <td>0.000000</td>\n      <td>0.496591</td>\n      <td>0.000000</td>\n      <td>0.000000</td>\n      <td>0.0</td>\n      <td>0.000000</td>\n      <td>0.000000</td>\n      <td>0.000000</td>\n    </tr>\n  </tbody>\n</table>\n<p>9 rows × 89 columns</p>\n</div>"
     },
     "metadata": {},
     "execution_count": 44
    },
    {
     "output_type": "execute_result",
     "data": {
      "text/plain": "0      True\n3      True\n5     False\n8      True\n6      True\n10     True\n2     False\n7      True\n9      True\nName: Popular, dtype: bool"
     },
     "metadata": {},
     "execution_count": 44
    },
    {
     "output_type": "stream",
     "name": "stdout",
     "text": "Testing Dataset\n\n"
    },
    {
     "output_type": "execute_result",
     "data": {
      "text/plain": "   Total tweets  Retweets  Images  Links  Chats  Text tweets    Impacts  \\\n1           382         0       0      0      0          382  615260733   \n4            14         0       3      3      0            8    2403686   \n\n   Followers  User value  Tweets value  ...  today     todos  trump  turkey  \\\n1    1665144     2722.29    1009497.14  ...    0.0  0.000000    0.0     0.0   \n4     196831      460.34       6090.03  ...    0.0  0.182474    0.0     0.0   \n\n   united  vacina  valorado  weeks   ya  zero  \n1     0.0     0.0  0.000000    0.0  0.0   0.0  \n4     0.0     0.0  0.182474    0.0  0.0   0.0  \n\n[2 rows x 89 columns]",
      "text/html": "<div>\n<style scoped>\n    .dataframe tbody tr th:only-of-type {\n        vertical-align: middle;\n    }\n\n    .dataframe tbody tr th {\n        vertical-align: top;\n    }\n\n    .dataframe thead th {\n        text-align: right;\n    }\n</style>\n<table border=\"1\" class=\"dataframe\">\n  <thead>\n    <tr style=\"text-align: right;\">\n      <th></th>\n      <th>Total tweets</th>\n      <th>Retweets</th>\n      <th>Images</th>\n      <th>Links</th>\n      <th>Chats</th>\n      <th>Text tweets</th>\n      <th>Impacts</th>\n      <th>Followers</th>\n      <th>User value</th>\n      <th>Tweets value</th>\n      <th>...</th>\n      <th>today</th>\n      <th>todos</th>\n      <th>trump</th>\n      <th>turkey</th>\n      <th>united</th>\n      <th>vacina</th>\n      <th>valorado</th>\n      <th>weeks</th>\n      <th>ya</th>\n      <th>zero</th>\n    </tr>\n  </thead>\n  <tbody>\n    <tr>\n      <th>1</th>\n      <td>382</td>\n      <td>0</td>\n      <td>0</td>\n      <td>0</td>\n      <td>0</td>\n      <td>382</td>\n      <td>615260733</td>\n      <td>1665144</td>\n      <td>2722.29</td>\n      <td>1009497.14</td>\n      <td>...</td>\n      <td>0.0</td>\n      <td>0.000000</td>\n      <td>0.0</td>\n      <td>0.0</td>\n      <td>0.0</td>\n      <td>0.0</td>\n      <td>0.000000</td>\n      <td>0.0</td>\n      <td>0.0</td>\n      <td>0.0</td>\n    </tr>\n    <tr>\n      <th>4</th>\n      <td>14</td>\n      <td>0</td>\n      <td>3</td>\n      <td>3</td>\n      <td>0</td>\n      <td>8</td>\n      <td>2403686</td>\n      <td>196831</td>\n      <td>460.34</td>\n      <td>6090.03</td>\n      <td>...</td>\n      <td>0.0</td>\n      <td>0.182474</td>\n      <td>0.0</td>\n      <td>0.0</td>\n      <td>0.0</td>\n      <td>0.0</td>\n      <td>0.182474</td>\n      <td>0.0</td>\n      <td>0.0</td>\n      <td>0.0</td>\n    </tr>\n  </tbody>\n</table>\n<p>2 rows × 89 columns</p>\n</div>"
     },
     "metadata": {},
     "execution_count": 44
    },
    {
     "output_type": "execute_result",
     "data": {
      "text/plain": "1    True\n4    True\nName: Popular, dtype: bool"
     },
     "metadata": {},
     "execution_count": 44
    }
   ],
   "source": [
    "# split the custom_dataset both in training and testing sets\n",
    "train_feat, test_feat, train_labels, test_labels = train_test_split(custom_dataset.drop('Popular', axis= 1), custom_dataset['Popular'], test_size= 0.1)\n",
    "print('Training Dataset\\n')\n",
    "train_feat\n",
    "train_labels\n",
    "print('Testing Dataset\\n')\n",
    "test_feat\n",
    "test_labels"
   ]
  },
  {
   "cell_type": "markdown",
   "metadata": {},
   "source": [
    "#### Logistic Regression implementation"
   ]
  },
  {
   "cell_type": "code",
   "execution_count": 45,
   "metadata": {},
   "outputs": [
    {
     "output_type": "execute_result",
     "data": {
      "text/plain": "LogisticRegression(C=1.0, class_weight=None, dual=False, fit_intercept=True,\n                   intercept_scaling=1, l1_ratio=None, max_iter=100,\n                   multi_class='auto', n_jobs=None, penalty='l2',\n                   random_state=None, solver='lbfgs', tol=0.0001, verbose=0,\n                   warm_start=False)"
     },
     "metadata": {},
     "execution_count": 45
    },
    {
     "output_type": "stream",
     "name": "stdout",
     "text": "Train set score:  0.7777777777777778\nPrediction accuracy: 1.0\n"
    }
   ],
   "source": [
    "#Import Logistic Regression classifier\n",
    "from sklearn.linear_model import LogisticRegression\n",
    "\n",
    "logreg = LogisticRegression()\n",
    "logreg.fit(train_feat, train_labels)\n",
    "\n",
    "score_train =  model.score(train_feat, train_labels)\n",
    "print('Train set score: ', score_train)\n",
    "\n",
    "#Predict the response for test dataset\n",
    "prediction = model.predict(test_feat)\n",
    "\n",
    "# Model Accuracy, how often is the classifier correct?\n",
    "print(\"Prediction accuracy:\",metrics.accuracy_score(test_labels, prediction))"
   ]
  },
  {
   "cell_type": "markdown",
   "metadata": {},
   "source": [
    "### 2.2 Root Mean Squared Root (RMSE)"
   ]
  },
  {
   "cell_type": "code",
   "execution_count": 46,
   "metadata": {},
   "outputs": [
    {
     "output_type": "stream",
     "name": "stdout",
     "text": "RMSE score: 0.0\n"
    }
   ],
   "source": [
    "#Import RMSE metric\n",
    "from sklearn.metrics import mean_squared_error\n",
    "# converting True to 1 and False to 0, to compute RMSE\n",
    "test_labels = test_labels.astype(int)\n",
    "prediction = prediction.astype(int)\n",
    "\n",
    "rmse = mean_squared_error(test_labels, prediction)\n",
    "# RMSE result\n",
    "print(\"RMSE score:\",rmse)"
   ]
  },
  {
   "cell_type": "markdown",
   "metadata": {},
   "source": [
    "### 2.3 No. of retweets Prediction\n",
    "#### Load new dataset"
   ]
  },
  {
   "cell_type": "code",
   "execution_count": 47,
   "metadata": {},
   "outputs": [
    {
     "output_type": "execute_result",
     "data": {
      "text/plain": "                      User                                              Tweet\n0          The White House  LIVE: Press Briefing with Coronavirus Task For...\n1                isentoes2  Após governo americano dizer que China esconde...\n2            Adam Schefter  Twitter CEO Jack Dorsey pledged $1 billion tow...\n3             Kyle Griffin  House Armed Services Chairman Adam Smith: \"The...\n4            Kamala Harris  Black communities disproportionately suffer fr...\n...                    ...                                                ...\n14995   Juanita Broaddrick  Many questions emerging about Dr Fauci’s agend...\n14996                Benny  Taiwan Says It Warned @WHO About Coronavirus I...\n14997  The Spectator Index  SPAIN: Coronavirus death toll rises by 324 ove...\n14998     Donald Trump Jr.  David Bossie: Americans uniting to fight coron...\n14999         Kyle Griffin  On Feb. 25, Nancy Messonnier, a senior CDC off...\n\n[15000 rows x 2 columns]",
      "text/html": "<div>\n<style scoped>\n    .dataframe tbody tr th:only-of-type {\n        vertical-align: middle;\n    }\n\n    .dataframe tbody tr th {\n        vertical-align: top;\n    }\n\n    .dataframe thead th {\n        text-align: right;\n    }\n</style>\n<table border=\"1\" class=\"dataframe\">\n  <thead>\n    <tr style=\"text-align: right;\">\n      <th></th>\n      <th>User</th>\n      <th>Tweet</th>\n    </tr>\n  </thead>\n  <tbody>\n    <tr>\n      <th>0</th>\n      <td>The White House</td>\n      <td>LIVE: Press Briefing with Coronavirus Task For...</td>\n    </tr>\n    <tr>\n      <th>1</th>\n      <td>isentoes2</td>\n      <td>Após governo americano dizer que China esconde...</td>\n    </tr>\n    <tr>\n      <th>2</th>\n      <td>Adam Schefter</td>\n      <td>Twitter CEO Jack Dorsey pledged $1 billion tow...</td>\n    </tr>\n    <tr>\n      <th>3</th>\n      <td>Kyle Griffin</td>\n      <td>House Armed Services Chairman Adam Smith: \"The...</td>\n    </tr>\n    <tr>\n      <th>4</th>\n      <td>Kamala Harris</td>\n      <td>Black communities disproportionately suffer fr...</td>\n    </tr>\n    <tr>\n      <th>...</th>\n      <td>...</td>\n      <td>...</td>\n    </tr>\n    <tr>\n      <th>14995</th>\n      <td>Juanita Broaddrick</td>\n      <td>Many questions emerging about Dr Fauci’s agend...</td>\n    </tr>\n    <tr>\n      <th>14996</th>\n      <td>Benny</td>\n      <td>Taiwan Says It Warned @WHO About Coronavirus I...</td>\n    </tr>\n    <tr>\n      <th>14997</th>\n      <td>The Spectator Index</td>\n      <td>SPAIN: Coronavirus death toll rises by 324 ove...</td>\n    </tr>\n    <tr>\n      <th>14998</th>\n      <td>Donald Trump Jr.</td>\n      <td>David Bossie: Americans uniting to fight coron...</td>\n    </tr>\n    <tr>\n      <th>14999</th>\n      <td>Kyle Griffin</td>\n      <td>On Feb. 25, Nancy Messonnier, a senior CDC off...</td>\n    </tr>\n  </tbody>\n</table>\n<p>15000 rows × 2 columns</p>\n</div>"
     },
     "metadata": {},
     "execution_count": 47
    }
   ],
   "source": [
    "new_tweets_dataset = pd.read_csv('new_tweets.csv') \n",
    "new_tweets_dataset"
   ]
  }
 ],
 "metadata": {
  "kernelspec": {
   "display_name": "Python 3.7.7 64-bit",
   "language": "python",
   "name": "python37764bit143e0931926745328698ed582faa8c26"
  },
  "language_info": {
   "codemirror_mode": {
    "name": "ipython",
    "version": 3
   },
   "file_extension": ".py",
   "mimetype": "text/x-python",
   "name": "python",
   "nbconvert_exporter": "python",
   "pygments_lexer": "ipython3",
   "version": "3.7.7-final"
  }
 },
 "nbformat": 4,
 "nbformat_minor": 4
}