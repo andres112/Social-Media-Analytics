{
 "cells": [
  {
   "cell_type": "markdown",
   "metadata": {},
   "source": [
    "### Modules and libraries required"
   ]
  },
  {
   "cell_type": "code",
   "execution_count": 2,
   "metadata": {},
   "outputs": [],
   "source": [
    "import pandas as pd\n",
    "import numpy as np\n",
    "from sklearn.feature_extraction.text import CountVectorizer\n",
    "from sklearn.feature_extraction.text import TfidfVectorizer\n",
    "from sklearn.model_selection import train_test_split\n",
    "from sklearn import metrics\n",
    "\n",
    "from IPython.core.interactiveshell import InteractiveShell\n",
    "# Used to get multiple outputs per cell\n",
    "InteractiveShell.ast_node_interactivity = \"all\""
   ]
  },
  {
   "cell_type": "markdown",
   "metadata": {},
   "source": [
    "## TASK 1\n",
    "### Load Datasets"
   ]
  },
  {
   "cell_type": "code",
   "execution_count": 3,
   "metadata": {},
   "outputs": [
    {
     "output_type": "execute_result",
     "data": {
      "text/plain": "                    User            Date  \\\n2168           Elon Musk  06.03.20 20:42   \n1764      Bernie Sanders  08.03.20 20:20   \n544              J Hooch  10.03.20 17:25   \n1833         Ally Carter  08.03.20 14:53   \n1284            Taylor ☾  09.03.20 19:22   \n...                  ...             ...   \n293   ϟ 𝓟𝓻𝓲𝓶𝓶𝓲𝓲 𝓟𝓸𝓽𝓽𝓮𝓻 ☍  11.03.20 00:07   \n807   Cel ☆ ‎ลาแล้วปีสี่  10.03.20 10:50   \n902               Ryn J.  10.03.20 05:13   \n1011                  พส  10.03.20 00:34   \n545                   พส  10.03.20 17:20   \n\n                                                  Tweet  Binders  \\\n2168                      The coronavirus panic is dumb      NaN   \n1764  Once a vaccine for coronavirus is developed, i...      NaN   \n544   Coronavirus is everywhere. BOOK THAT FLIGHT. T...      NaN   \n1833  I see a lot of people being like “I would surv...      NaN   \n1284  Coronavirus has crossed the line for Italians ...      NaN   \n...                                                 ...      ...   \n293   คือร้านอาหารใน All Seasons มีคนเป็น #COVID19 แ...      NaN   \n807   มาขอใช้พื้นที่ประชาสัมพันธ์นิดนึงค่ะ ตอนนี้รพ....      NaN   \n902   สำนักข่าว Bloomberg รายงานว่าชายไทยอายุ 26 ปี ...      NaN   \n1011  รัฐมนตรีว่าการกระทรวงวัฒนธรรมฝรั่งเศส ป่วย #CO...      NaN   \n545   เจ้าของร้าน Ohana Poké ที่ตึก All Seasons ออกม...      NaN   \n\n                                              Permalink  Retweet count  \\\n2168  https://www.twitter.com/user/status/1236029449...         350555   \n1764  https://www.twitter.com/user/status/1236748536...         125019   \n544   https://www.twitter.com/user/status/1237429345...         139366   \n1833  https://www.twitter.com/user/status/1236666460...         157052   \n1284  https://www.twitter.com/user/status/1237096480...         206430   \n...                                                 ...            ...   \n293   https://www.twitter.com/user/status/1237530520...           1285   \n807   https://www.twitter.com/user/status/1237330092...           1903   \n902   https://www.twitter.com/user/status/1237245162...           2852   \n1011  https://www.twitter.com/user/status/1237175016...           3306   \n545   https://www.twitter.com/user/status/1237428222...           1472   \n\n      Likes count  Tweet value  \n2168      1729596     47385.34  \n1764       841283     18291.78  \n544        727945        14.75  \n1833       719464       118.95  \n1284       688358        30.02  \n...           ...          ...  \n293           150         0.52  \n807           138         7.76  \n902           137        61.16  \n1011          100       107.36  \n545            90       128.83  \n\n[5531 rows x 8 columns]",
      "text/html": "<div>\n<style scoped>\n    .dataframe tbody tr th:only-of-type {\n        vertical-align: middle;\n    }\n\n    .dataframe tbody tr th {\n        vertical-align: top;\n    }\n\n    .dataframe thead th {\n        text-align: right;\n    }\n</style>\n<table border=\"1\" class=\"dataframe\">\n  <thead>\n    <tr style=\"text-align: right;\">\n      <th></th>\n      <th>User</th>\n      <th>Date</th>\n      <th>Tweet</th>\n      <th>Binders</th>\n      <th>Permalink</th>\n      <th>Retweet count</th>\n      <th>Likes count</th>\n      <th>Tweet value</th>\n    </tr>\n  </thead>\n  <tbody>\n    <tr>\n      <th>2168</th>\n      <td>Elon Musk</td>\n      <td>06.03.20 20:42</td>\n      <td>The coronavirus panic is dumb</td>\n      <td>NaN</td>\n      <td>https://www.twitter.com/user/status/1236029449...</td>\n      <td>350555</td>\n      <td>1729596</td>\n      <td>47385.34</td>\n    </tr>\n    <tr>\n      <th>1764</th>\n      <td>Bernie Sanders</td>\n      <td>08.03.20 20:20</td>\n      <td>Once a vaccine for coronavirus is developed, i...</td>\n      <td>NaN</td>\n      <td>https://www.twitter.com/user/status/1236748536...</td>\n      <td>125019</td>\n      <td>841283</td>\n      <td>18291.78</td>\n    </tr>\n    <tr>\n      <th>544</th>\n      <td>J Hooch</td>\n      <td>10.03.20 17:25</td>\n      <td>Coronavirus is everywhere. BOOK THAT FLIGHT. T...</td>\n      <td>NaN</td>\n      <td>https://www.twitter.com/user/status/1237429345...</td>\n      <td>139366</td>\n      <td>727945</td>\n      <td>14.75</td>\n    </tr>\n    <tr>\n      <th>1833</th>\n      <td>Ally Carter</td>\n      <td>08.03.20 14:53</td>\n      <td>I see a lot of people being like “I would surv...</td>\n      <td>NaN</td>\n      <td>https://www.twitter.com/user/status/1236666460...</td>\n      <td>157052</td>\n      <td>719464</td>\n      <td>118.95</td>\n    </tr>\n    <tr>\n      <th>1284</th>\n      <td>Taylor ☾</td>\n      <td>09.03.20 19:22</td>\n      <td>Coronavirus has crossed the line for Italians ...</td>\n      <td>NaN</td>\n      <td>https://www.twitter.com/user/status/1237096480...</td>\n      <td>206430</td>\n      <td>688358</td>\n      <td>30.02</td>\n    </tr>\n    <tr>\n      <th>...</th>\n      <td>...</td>\n      <td>...</td>\n      <td>...</td>\n      <td>...</td>\n      <td>...</td>\n      <td>...</td>\n      <td>...</td>\n      <td>...</td>\n    </tr>\n    <tr>\n      <th>293</th>\n      <td>ϟ 𝓟𝓻𝓲𝓶𝓶𝓲𝓲 𝓟𝓸𝓽𝓽𝓮𝓻 ☍</td>\n      <td>11.03.20 00:07</td>\n      <td>คือร้านอาหารใน All Seasons มีคนเป็น #COVID19 แ...</td>\n      <td>NaN</td>\n      <td>https://www.twitter.com/user/status/1237530520...</td>\n      <td>1285</td>\n      <td>150</td>\n      <td>0.52</td>\n    </tr>\n    <tr>\n      <th>807</th>\n      <td>Cel ☆ ‎ลาแล้วปีสี่</td>\n      <td>10.03.20 10:50</td>\n      <td>มาขอใช้พื้นที่ประชาสัมพันธ์นิดนึงค่ะ ตอนนี้รพ....</td>\n      <td>NaN</td>\n      <td>https://www.twitter.com/user/status/1237330092...</td>\n      <td>1903</td>\n      <td>138</td>\n      <td>7.76</td>\n    </tr>\n    <tr>\n      <th>902</th>\n      <td>Ryn J.</td>\n      <td>10.03.20 05:13</td>\n      <td>สำนักข่าว Bloomberg รายงานว่าชายไทยอายุ 26 ปี ...</td>\n      <td>NaN</td>\n      <td>https://www.twitter.com/user/status/1237245162...</td>\n      <td>2852</td>\n      <td>137</td>\n      <td>61.16</td>\n    </tr>\n    <tr>\n      <th>1011</th>\n      <td>พส</td>\n      <td>10.03.20 00:34</td>\n      <td>รัฐมนตรีว่าการกระทรวงวัฒนธรรมฝรั่งเศส ป่วย #CO...</td>\n      <td>NaN</td>\n      <td>https://www.twitter.com/user/status/1237175016...</td>\n      <td>3306</td>\n      <td>100</td>\n      <td>107.36</td>\n    </tr>\n    <tr>\n      <th>545</th>\n      <td>พส</td>\n      <td>10.03.20 17:20</td>\n      <td>เจ้าของร้าน Ohana Poké ที่ตึก All Seasons ออกม...</td>\n      <td>NaN</td>\n      <td>https://www.twitter.com/user/status/1237428222...</td>\n      <td>1472</td>\n      <td>90</td>\n      <td>128.83</td>\n    </tr>\n  </tbody>\n</table>\n<p>5531 rows × 8 columns</p>\n</div>"
     },
     "metadata": {},
     "execution_count": 3
    },
    {
     "output_type": "execute_result",
     "data": {
      "text/plain": "                   Name               User               Location  \\\n0          @BarackObama       Barack Obama         Washington, DC   \n1            @Cristiano  Cristiano Ronaldo        Turim, Piemonte   \n2             @ladygaga          Lady Gaga                    NaN   \n3      @realDonaldTrump    Donald J. Trump         Washington, DC   \n4          @selenagomez       Selena Gomez            Los Angeles   \n...                 ...                ...                    ...   \n14263        @gegyrigle         JewelRigle                    NaN   \n14264         @sadbadme    กูจะอยู่กูจะรอด                    NaN   \n14265    @pawat58720145              pawat                    NaN   \n14266         @DelsVeja      🐉Y A S U K E🤺  Ile-de-France, France   \n14267  @archawi51088663           archawin                    NaN   \n\n       Total tweets  Retweets  Images  Links  Chats  Text tweets     Impacts  \\\n0                13         0       0     12      5            1  1489476161   \n1                 1         0       1      1      0            0    83133379   \n2                 2         0       0      2      0            0   162436360   \n3                55         0       3     11      1           42  4100089350   \n4                 1         0       0      1      0            0    60528525   \n...             ...       ...     ...    ...    ...          ...         ...   \n14263             1         0       1      0      0            0           1   \n14264             1         0       1      0      0            0           1   \n14265             1         0       1      0      0            0           1   \n14266             1         0       0      0      0            1           0   \n14267             1         0       1      0      0            0           0   \n\n       Followers  User value  Tweets value  \n0      115296834   150464.37    1466166.07  \n1       83133379   111363.10     146999.29  \n2       81218183   109802.60     241565.72  \n3       76238523   103166.11    5644215.11  \n4       60528525    83860.78      92246.86  \n...          ...         ...           ...  \n14263          1        0.00          0.00  \n14264          1        0.00          0.00  \n14265          1        0.00          0.00  \n14266          0        0.00          0.00  \n14267          0        0.00          0.00  \n\n[14268 rows x 13 columns]",
      "text/html": "<div>\n<style scoped>\n    .dataframe tbody tr th:only-of-type {\n        vertical-align: middle;\n    }\n\n    .dataframe tbody tr th {\n        vertical-align: top;\n    }\n\n    .dataframe thead th {\n        text-align: right;\n    }\n</style>\n<table border=\"1\" class=\"dataframe\">\n  <thead>\n    <tr style=\"text-align: right;\">\n      <th></th>\n      <th>Name</th>\n      <th>User</th>\n      <th>Location</th>\n      <th>Total tweets</th>\n      <th>Retweets</th>\n      <th>Images</th>\n      <th>Links</th>\n      <th>Chats</th>\n      <th>Text tweets</th>\n      <th>Impacts</th>\n      <th>Followers</th>\n      <th>User value</th>\n      <th>Tweets value</th>\n    </tr>\n  </thead>\n  <tbody>\n    <tr>\n      <th>0</th>\n      <td>@BarackObama</td>\n      <td>Barack Obama</td>\n      <td>Washington, DC</td>\n      <td>13</td>\n      <td>0</td>\n      <td>0</td>\n      <td>12</td>\n      <td>5</td>\n      <td>1</td>\n      <td>1489476161</td>\n      <td>115296834</td>\n      <td>150464.37</td>\n      <td>1466166.07</td>\n    </tr>\n    <tr>\n      <th>1</th>\n      <td>@Cristiano</td>\n      <td>Cristiano Ronaldo</td>\n      <td>Turim, Piemonte</td>\n      <td>1</td>\n      <td>0</td>\n      <td>1</td>\n      <td>1</td>\n      <td>0</td>\n      <td>0</td>\n      <td>83133379</td>\n      <td>83133379</td>\n      <td>111363.10</td>\n      <td>146999.29</td>\n    </tr>\n    <tr>\n      <th>2</th>\n      <td>@ladygaga</td>\n      <td>Lady Gaga</td>\n      <td>NaN</td>\n      <td>2</td>\n      <td>0</td>\n      <td>0</td>\n      <td>2</td>\n      <td>0</td>\n      <td>0</td>\n      <td>162436360</td>\n      <td>81218183</td>\n      <td>109802.60</td>\n      <td>241565.72</td>\n    </tr>\n    <tr>\n      <th>3</th>\n      <td>@realDonaldTrump</td>\n      <td>Donald J. Trump</td>\n      <td>Washington, DC</td>\n      <td>55</td>\n      <td>0</td>\n      <td>3</td>\n      <td>11</td>\n      <td>1</td>\n      <td>42</td>\n      <td>4100089350</td>\n      <td>76238523</td>\n      <td>103166.11</td>\n      <td>5644215.11</td>\n    </tr>\n    <tr>\n      <th>4</th>\n      <td>@selenagomez</td>\n      <td>Selena Gomez</td>\n      <td>Los Angeles</td>\n      <td>1</td>\n      <td>0</td>\n      <td>0</td>\n      <td>1</td>\n      <td>0</td>\n      <td>0</td>\n      <td>60528525</td>\n      <td>60528525</td>\n      <td>83860.78</td>\n      <td>92246.86</td>\n    </tr>\n    <tr>\n      <th>...</th>\n      <td>...</td>\n      <td>...</td>\n      <td>...</td>\n      <td>...</td>\n      <td>...</td>\n      <td>...</td>\n      <td>...</td>\n      <td>...</td>\n      <td>...</td>\n      <td>...</td>\n      <td>...</td>\n      <td>...</td>\n      <td>...</td>\n    </tr>\n    <tr>\n      <th>14263</th>\n      <td>@gegyrigle</td>\n      <td>JewelRigle</td>\n      <td>NaN</td>\n      <td>1</td>\n      <td>0</td>\n      <td>1</td>\n      <td>0</td>\n      <td>0</td>\n      <td>0</td>\n      <td>1</td>\n      <td>1</td>\n      <td>0.00</td>\n      <td>0.00</td>\n    </tr>\n    <tr>\n      <th>14264</th>\n      <td>@sadbadme</td>\n      <td>กูจะอยู่กูจะรอด</td>\n      <td>NaN</td>\n      <td>1</td>\n      <td>0</td>\n      <td>1</td>\n      <td>0</td>\n      <td>0</td>\n      <td>0</td>\n      <td>1</td>\n      <td>1</td>\n      <td>0.00</td>\n      <td>0.00</td>\n    </tr>\n    <tr>\n      <th>14265</th>\n      <td>@pawat58720145</td>\n      <td>pawat</td>\n      <td>NaN</td>\n      <td>1</td>\n      <td>0</td>\n      <td>1</td>\n      <td>0</td>\n      <td>0</td>\n      <td>0</td>\n      <td>1</td>\n      <td>1</td>\n      <td>0.00</td>\n      <td>0.00</td>\n    </tr>\n    <tr>\n      <th>14266</th>\n      <td>@DelsVeja</td>\n      <td>🐉Y A S U K E🤺</td>\n      <td>Ile-de-France, France</td>\n      <td>1</td>\n      <td>0</td>\n      <td>0</td>\n      <td>0</td>\n      <td>0</td>\n      <td>1</td>\n      <td>0</td>\n      <td>0</td>\n      <td>0.00</td>\n      <td>0.00</td>\n    </tr>\n    <tr>\n      <th>14267</th>\n      <td>@archawi51088663</td>\n      <td>archawin</td>\n      <td>NaN</td>\n      <td>1</td>\n      <td>0</td>\n      <td>1</td>\n      <td>0</td>\n      <td>0</td>\n      <td>0</td>\n      <td>0</td>\n      <td>0</td>\n      <td>0.00</td>\n      <td>0.00</td>\n    </tr>\n  </tbody>\n</table>\n<p>14268 rows × 13 columns</p>\n</div>"
     },
     "metadata": {},
     "execution_count": 3
    }
   ],
   "source": [
    "tweets_dataset = pd.read_csv('tweets_info.csv') \n",
    "user_dataset = pd.read_csv('user_info.csv') \n",
    "tweets_dataset.sort_values(by='Likes count', ascending = False)\n",
    "# tweets_dataset.groupby('User').count().sort_values(['Tweet'], ascending=False)\n",
    "user_dataset.sort_values(by='Followers', ascending=False)\n",
    "# user_dataset.groupby('User').count().sort_values(['Impacts'], ascending=False)"
   ]
  },
  {
   "cell_type": "markdown",
   "metadata": {},
   "source": [
    "### 1.1 Clean Data (Remove punctuation and stop-words)\n",
    "#### Count words by document"
   ]
  },
  {
   "cell_type": "code",
   "execution_count": 4,
   "metadata": {},
   "outputs": [
    {
     "output_type": "execute_result",
     "data": {
      "text/plain": "CountVectorizer(analyzer='word', binary=False, decode_error='strict',\n                dtype=<class 'numpy.int64'>, encoding='utf-8', input='content',\n                lowercase=True, max_df=1.0, max_features=None, min_df=1,\n                ngram_range=(1, 1), preprocessor=None, stop_words='english',\n                strip_accents=None, token_pattern='(?u)\\\\b\\\\w\\\\w+\\\\b',\n                tokenizer=None, vocabulary=None)"
     },
     "metadata": {},
     "execution_count": 4
    },
    {
     "output_type": "stream",
     "name": "stdout",
     "text": "Vector Representation\n"
    },
    {
     "output_type": "execute_result",
     "data": {
      "text/plain": "      00  000  00001  000morts  004  005  008uae3frs  01  015  016  ...  대구  \\\n0      0    0      0         0    0    0           0   0    0    0  ...   0   \n1      0    0      0         0    0    0           0   0    0    0  ...   0   \n2      0    0      0         0    0    0           0   0    0    0  ...   0   \n3      0    0      0         0    0    0           0   0    0    0  ...   0   \n4      0    1      0         0    0    0           0   0    0    0  ...   0   \n...   ..  ...    ...       ...  ...  ...         ...  ..  ...  ...  ...  ..   \n5526   0    0      0         0    0    0           0   0    0    0  ...   0   \n5527   0    0      0         0    0    0           0   0    0    0  ...   0   \n5528   0    0      0         0    0    0           0   0    0    0  ...   0   \n5529   0    0      0         0    0    0           0   0    0    0  ...   0   \n5530   0    0      0         0    0    0           0   0    0    0  ...   0   \n\n      수호  엑소  엔시티드림_당장_입국시켜  웨이션브이_당장_입국시켜  윤기야  좋은_날이_앞으로_많기를  찬열  트와이스  화이팅  \n0      0   0              0              0    0              0   0     0    0  \n1      0   0              0              0    0              0   0     0    0  \n2      0   0              0              0    0              0   0     0    0  \n3      0   0              0              0    0              0   0     0    0  \n4      0   0              0              0    0              0   0     0    0  \n...   ..  ..            ...            ...  ...            ...  ..   ...  ...  \n5526   0   0              0              0    0              0   0     0    0  \n5527   0   0              0              0    0              0   0     0    0  \n5528   0   0              0              0    0              0   0     0    0  \n5529   0   0              0              0    0              0   0     0    0  \n5530   0   0              0              0    0              0   0     0    0  \n\n[5531 rows x 27638 columns]",
      "text/html": "<div>\n<style scoped>\n    .dataframe tbody tr th:only-of-type {\n        vertical-align: middle;\n    }\n\n    .dataframe tbody tr th {\n        vertical-align: top;\n    }\n\n    .dataframe thead th {\n        text-align: right;\n    }\n</style>\n<table border=\"1\" class=\"dataframe\">\n  <thead>\n    <tr style=\"text-align: right;\">\n      <th></th>\n      <th>00</th>\n      <th>000</th>\n      <th>00001</th>\n      <th>000morts</th>\n      <th>004</th>\n      <th>005</th>\n      <th>008uae3frs</th>\n      <th>01</th>\n      <th>015</th>\n      <th>016</th>\n      <th>...</th>\n      <th>대구</th>\n      <th>수호</th>\n      <th>엑소</th>\n      <th>엔시티드림_당장_입국시켜</th>\n      <th>웨이션브이_당장_입국시켜</th>\n      <th>윤기야</th>\n      <th>좋은_날이_앞으로_많기를</th>\n      <th>찬열</th>\n      <th>트와이스</th>\n      <th>화이팅</th>\n    </tr>\n  </thead>\n  <tbody>\n    <tr>\n      <th>0</th>\n      <td>0</td>\n      <td>0</td>\n      <td>0</td>\n      <td>0</td>\n      <td>0</td>\n      <td>0</td>\n      <td>0</td>\n      <td>0</td>\n      <td>0</td>\n      <td>0</td>\n      <td>...</td>\n      <td>0</td>\n      <td>0</td>\n      <td>0</td>\n      <td>0</td>\n      <td>0</td>\n      <td>0</td>\n      <td>0</td>\n      <td>0</td>\n      <td>0</td>\n      <td>0</td>\n    </tr>\n    <tr>\n      <th>1</th>\n      <td>0</td>\n      <td>0</td>\n      <td>0</td>\n      <td>0</td>\n      <td>0</td>\n      <td>0</td>\n      <td>0</td>\n      <td>0</td>\n      <td>0</td>\n      <td>0</td>\n      <td>...</td>\n      <td>0</td>\n      <td>0</td>\n      <td>0</td>\n      <td>0</td>\n      <td>0</td>\n      <td>0</td>\n      <td>0</td>\n      <td>0</td>\n      <td>0</td>\n      <td>0</td>\n    </tr>\n    <tr>\n      <th>2</th>\n      <td>0</td>\n      <td>0</td>\n      <td>0</td>\n      <td>0</td>\n      <td>0</td>\n      <td>0</td>\n      <td>0</td>\n      <td>0</td>\n      <td>0</td>\n      <td>0</td>\n      <td>...</td>\n      <td>0</td>\n      <td>0</td>\n      <td>0</td>\n      <td>0</td>\n      <td>0</td>\n      <td>0</td>\n      <td>0</td>\n      <td>0</td>\n      <td>0</td>\n      <td>0</td>\n    </tr>\n    <tr>\n      <th>3</th>\n      <td>0</td>\n      <td>0</td>\n      <td>0</td>\n      <td>0</td>\n      <td>0</td>\n      <td>0</td>\n      <td>0</td>\n      <td>0</td>\n      <td>0</td>\n      <td>0</td>\n      <td>...</td>\n      <td>0</td>\n      <td>0</td>\n      <td>0</td>\n      <td>0</td>\n      <td>0</td>\n      <td>0</td>\n      <td>0</td>\n      <td>0</td>\n      <td>0</td>\n      <td>0</td>\n    </tr>\n    <tr>\n      <th>4</th>\n      <td>0</td>\n      <td>1</td>\n      <td>0</td>\n      <td>0</td>\n      <td>0</td>\n      <td>0</td>\n      <td>0</td>\n      <td>0</td>\n      <td>0</td>\n      <td>0</td>\n      <td>...</td>\n      <td>0</td>\n      <td>0</td>\n      <td>0</td>\n      <td>0</td>\n      <td>0</td>\n      <td>0</td>\n      <td>0</td>\n      <td>0</td>\n      <td>0</td>\n      <td>0</td>\n    </tr>\n    <tr>\n      <th>...</th>\n      <td>...</td>\n      <td>...</td>\n      <td>...</td>\n      <td>...</td>\n      <td>...</td>\n      <td>...</td>\n      <td>...</td>\n      <td>...</td>\n      <td>...</td>\n      <td>...</td>\n      <td>...</td>\n      <td>...</td>\n      <td>...</td>\n      <td>...</td>\n      <td>...</td>\n      <td>...</td>\n      <td>...</td>\n      <td>...</td>\n      <td>...</td>\n      <td>...</td>\n      <td>...</td>\n    </tr>\n    <tr>\n      <th>5526</th>\n      <td>0</td>\n      <td>0</td>\n      <td>0</td>\n      <td>0</td>\n      <td>0</td>\n      <td>0</td>\n      <td>0</td>\n      <td>0</td>\n      <td>0</td>\n      <td>0</td>\n      <td>...</td>\n      <td>0</td>\n      <td>0</td>\n      <td>0</td>\n      <td>0</td>\n      <td>0</td>\n      <td>0</td>\n      <td>0</td>\n      <td>0</td>\n      <td>0</td>\n      <td>0</td>\n    </tr>\n    <tr>\n      <th>5527</th>\n      <td>0</td>\n      <td>0</td>\n      <td>0</td>\n      <td>0</td>\n      <td>0</td>\n      <td>0</td>\n      <td>0</td>\n      <td>0</td>\n      <td>0</td>\n      <td>0</td>\n      <td>...</td>\n      <td>0</td>\n      <td>0</td>\n      <td>0</td>\n      <td>0</td>\n      <td>0</td>\n      <td>0</td>\n      <td>0</td>\n      <td>0</td>\n      <td>0</td>\n      <td>0</td>\n    </tr>\n    <tr>\n      <th>5528</th>\n      <td>0</td>\n      <td>0</td>\n      <td>0</td>\n      <td>0</td>\n      <td>0</td>\n      <td>0</td>\n      <td>0</td>\n      <td>0</td>\n      <td>0</td>\n      <td>0</td>\n      <td>...</td>\n      <td>0</td>\n      <td>0</td>\n      <td>0</td>\n      <td>0</td>\n      <td>0</td>\n      <td>0</td>\n      <td>0</td>\n      <td>0</td>\n      <td>0</td>\n      <td>0</td>\n    </tr>\n    <tr>\n      <th>5529</th>\n      <td>0</td>\n      <td>0</td>\n      <td>0</td>\n      <td>0</td>\n      <td>0</td>\n      <td>0</td>\n      <td>0</td>\n      <td>0</td>\n      <td>0</td>\n      <td>0</td>\n      <td>...</td>\n      <td>0</td>\n      <td>0</td>\n      <td>0</td>\n      <td>0</td>\n      <td>0</td>\n      <td>0</td>\n      <td>0</td>\n      <td>0</td>\n      <td>0</td>\n      <td>0</td>\n    </tr>\n    <tr>\n      <th>5530</th>\n      <td>0</td>\n      <td>0</td>\n      <td>0</td>\n      <td>0</td>\n      <td>0</td>\n      <td>0</td>\n      <td>0</td>\n      <td>0</td>\n      <td>0</td>\n      <td>0</td>\n      <td>...</td>\n      <td>0</td>\n      <td>0</td>\n      <td>0</td>\n      <td>0</td>\n      <td>0</td>\n      <td>0</td>\n      <td>0</td>\n      <td>0</td>\n      <td>0</td>\n      <td>0</td>\n    </tr>\n  </tbody>\n</table>\n<p>5531 rows × 27638 columns</p>\n</div>"
     },
     "metadata": {},
     "execution_count": 4
    }
   ],
   "source": [
    "# first create the transform and stop words set for english\n",
    "vectorizer = CountVectorizer(stop_words='english')\n",
    "\n",
    "# The Tweet column is the list of documents\n",
    "vectorizer.fit(tweets_dataset['Tweet'])\n",
    "\n",
    "# Counter words by tweet array\n",
    "word_counter = vectorizer.transform(tweets_dataset['Tweet'])\n",
    "print('Vector Representation')\n",
    "pd.DataFrame(word_counter.toarray(), columns=vectorizer.get_feature_names())"
   ]
  },
  {
   "cell_type": "markdown",
   "metadata": {},
   "source": [
    "### TF-IDF computation by document"
   ]
  },
  {
   "cell_type": "code",
   "execution_count": 5,
   "metadata": {},
   "outputs": [
    {
     "output_type": "execute_result",
     "data": {
      "text/plain": "TfidfVectorizer(analyzer='word', binary=False, decode_error='strict',\n                dtype=<class 'numpy.float64'>, encoding='utf-8',\n                input='content', lowercase=True, max_df=1.0, max_features=None,\n                min_df=1, ngram_range=(1, 1), norm='l2', preprocessor=None,\n                smooth_idf=True, stop_words='english', strip_accents=None,\n                sublinear_tf=False, token_pattern='(?u)\\\\b\\\\w\\\\w+\\\\b',\n                tokenizer=None, use_idf=True, vocabulary=None)"
     },
     "metadata": {},
     "execution_count": 5
    },
    {
     "output_type": "execute_result",
     "data": {
      "text/plain": "                 IDF\n00          7.672395\n000         4.530708\n00001       8.925158\n000morts    8.925158\n004         8.519692\n005         8.925158\n008uae3frs  8.925158\n01          8.519692\n015         8.925158\n016         8.925158",
      "text/html": "<div>\n<style scoped>\n    .dataframe tbody tr th:only-of-type {\n        vertical-align: middle;\n    }\n\n    .dataframe tbody tr th {\n        vertical-align: top;\n    }\n\n    .dataframe thead th {\n        text-align: right;\n    }\n</style>\n<table border=\"1\" class=\"dataframe\">\n  <thead>\n    <tr style=\"text-align: right;\">\n      <th></th>\n      <th>IDF</th>\n    </tr>\n  </thead>\n  <tbody>\n    <tr>\n      <th>00</th>\n      <td>7.672395</td>\n    </tr>\n    <tr>\n      <th>000</th>\n      <td>4.530708</td>\n    </tr>\n    <tr>\n      <th>00001</th>\n      <td>8.925158</td>\n    </tr>\n    <tr>\n      <th>000morts</th>\n      <td>8.925158</td>\n    </tr>\n    <tr>\n      <th>004</th>\n      <td>8.519692</td>\n    </tr>\n    <tr>\n      <th>005</th>\n      <td>8.925158</td>\n    </tr>\n    <tr>\n      <th>008uae3frs</th>\n      <td>8.925158</td>\n    </tr>\n    <tr>\n      <th>01</th>\n      <td>8.519692</td>\n    </tr>\n    <tr>\n      <th>015</th>\n      <td>8.925158</td>\n    </tr>\n    <tr>\n      <th>016</th>\n      <td>8.925158</td>\n    </tr>\n  </tbody>\n</table>\n</div>"
     },
     "metadata": {},
     "execution_count": 5
    }
   ],
   "source": [
    "# create the transform\n",
    "vectorizer = TfidfVectorizer(stop_words='english')\n",
    "\n",
    "# tokenize and build vocab\n",
    "vectorizer.fit(tweets_dataset['Tweet'])\n",
    "pd.DataFrame(vectorizer.idf_, index=vectorizer.get_feature_names(), columns=['IDF']).head(10)\n",
    "\n",
    "# Tf-idf matrix by tweet\n",
    "tf_idf = vectorizer.transform(tweets_dataset['Tweet'])\n",
    "tf_idf = pd.DataFrame(tf_idf.toarray(), columns=vectorizer.get_feature_names())\n",
    "# Add TF-IDF column to tweets_dataset\n",
    "tweets_dataset = pd.concat([tweets_dataset, tf_idf], axis=1)"
   ]
  },
  {
   "cell_type": "markdown",
   "metadata": {},
   "source": [
    "## Feature set\n",
    "### 1.2 Merge User and Tweets info datasets\n",
    "\n",
    "**In this step is created the dataset both for task 1 as task 2, therefore is required to run this before [task_2.ipynb](task_2.ipynb)**"
   ]
  },
  {
   "cell_type": "code",
   "execution_count": 6,
   "metadata": {},
   "outputs": [
    {
     "output_type": "execute_result",
     "data": {
      "text/plain": "      Total tweets  Retweets  Images  Links  Chats  Text tweets     Impacts  \\\n0               13         0       0     12      5            1  1489476161   \n1               55         0       3     11      1           42  4100089350   \n2               55         0       3     11      1           42  4100089350   \n3               55         0       3     11      1           42  4100089350   \n4               55         0       3     11      1           42  4100089350   \n...            ...       ...     ...    ...    ...          ...         ...   \n5756             1         0       1      0      0            0           4   \n5757             1         0       1      0      0            0           3   \n5758             1         0       1      0      0            0           2   \n5759             1         0       1      0      0            0           1   \n5760             1         0       1      0      0            0           0   \n\n      Followers  User value  Tweets value  ...   대구   수호   엑소  엔시티드림_당장_입국시켜  \\\n0     115296834   150464.37    1466166.07  ...  0.0  0.0  0.0            0.0   \n1      76238523   103166.11    5644215.11  ...  0.0  0.0  0.0            0.0   \n2      76238523   103166.11    5644215.11  ...  0.0  0.0  0.0            0.0   \n3      76238523   103166.11    5644215.11  ...  0.0  0.0  0.0            0.0   \n4      76238523   103166.11    5644215.11  ...  0.0  0.0  0.0            0.0   \n...         ...         ...           ...  ...  ...  ...  ...            ...   \n5756          4        0.02          0.02  ...  0.0  0.0  0.0            0.0   \n5757          3        0.01          0.01  ...  0.0  0.0  0.0            0.0   \n5758          2        0.01          0.01  ...  0.0  0.0  0.0            0.0   \n5759          1        0.00          0.00  ...  0.0  0.0  0.0            0.0   \n5760          0        0.00          0.00  ...  0.0  0.0  0.0            0.0   \n\n      웨이션브이_당장_입국시켜  윤기야  좋은_날이_앞으로_많기를   찬열  트와이스  화이팅  \n0               0.0  0.0            0.0  0.0   0.0  0.0  \n1               0.0  0.0            0.0  0.0   0.0  0.0  \n2               0.0  0.0            0.0  0.0   0.0  0.0  \n3               0.0  0.0            0.0  0.0   0.0  0.0  \n4               0.0  0.0            0.0  0.0   0.0  0.0  \n...             ...  ...            ...  ...   ...  ...  \n5756            0.0  0.0            0.0  0.0   0.0  0.0  \n5757            0.0  0.0            0.0  0.0   0.0  0.0  \n5758            0.0  0.0            0.0  0.0   0.0  0.0  \n5759            0.0  0.0            0.0  0.0   0.0  0.0  \n5760            0.0  0.0            0.0  0.0   0.0  0.0  \n\n[5761 rows x 27651 columns]",
      "text/html": "<div>\n<style scoped>\n    .dataframe tbody tr th:only-of-type {\n        vertical-align: middle;\n    }\n\n    .dataframe tbody tr th {\n        vertical-align: top;\n    }\n\n    .dataframe thead th {\n        text-align: right;\n    }\n</style>\n<table border=\"1\" class=\"dataframe\">\n  <thead>\n    <tr style=\"text-align: right;\">\n      <th></th>\n      <th>Total tweets</th>\n      <th>Retweets</th>\n      <th>Images</th>\n      <th>Links</th>\n      <th>Chats</th>\n      <th>Text tweets</th>\n      <th>Impacts</th>\n      <th>Followers</th>\n      <th>User value</th>\n      <th>Tweets value</th>\n      <th>...</th>\n      <th>대구</th>\n      <th>수호</th>\n      <th>엑소</th>\n      <th>엔시티드림_당장_입국시켜</th>\n      <th>웨이션브이_당장_입국시켜</th>\n      <th>윤기야</th>\n      <th>좋은_날이_앞으로_많기를</th>\n      <th>찬열</th>\n      <th>트와이스</th>\n      <th>화이팅</th>\n    </tr>\n  </thead>\n  <tbody>\n    <tr>\n      <th>0</th>\n      <td>13</td>\n      <td>0</td>\n      <td>0</td>\n      <td>12</td>\n      <td>5</td>\n      <td>1</td>\n      <td>1489476161</td>\n      <td>115296834</td>\n      <td>150464.37</td>\n      <td>1466166.07</td>\n      <td>...</td>\n      <td>0.0</td>\n      <td>0.0</td>\n      <td>0.0</td>\n      <td>0.0</td>\n      <td>0.0</td>\n      <td>0.0</td>\n      <td>0.0</td>\n      <td>0.0</td>\n      <td>0.0</td>\n      <td>0.0</td>\n    </tr>\n    <tr>\n      <th>1</th>\n      <td>55</td>\n      <td>0</td>\n      <td>3</td>\n      <td>11</td>\n      <td>1</td>\n      <td>42</td>\n      <td>4100089350</td>\n      <td>76238523</td>\n      <td>103166.11</td>\n      <td>5644215.11</td>\n      <td>...</td>\n      <td>0.0</td>\n      <td>0.0</td>\n      <td>0.0</td>\n      <td>0.0</td>\n      <td>0.0</td>\n      <td>0.0</td>\n      <td>0.0</td>\n      <td>0.0</td>\n      <td>0.0</td>\n      <td>0.0</td>\n    </tr>\n    <tr>\n      <th>2</th>\n      <td>55</td>\n      <td>0</td>\n      <td>3</td>\n      <td>11</td>\n      <td>1</td>\n      <td>42</td>\n      <td>4100089350</td>\n      <td>76238523</td>\n      <td>103166.11</td>\n      <td>5644215.11</td>\n      <td>...</td>\n      <td>0.0</td>\n      <td>0.0</td>\n      <td>0.0</td>\n      <td>0.0</td>\n      <td>0.0</td>\n      <td>0.0</td>\n      <td>0.0</td>\n      <td>0.0</td>\n      <td>0.0</td>\n      <td>0.0</td>\n    </tr>\n    <tr>\n      <th>3</th>\n      <td>55</td>\n      <td>0</td>\n      <td>3</td>\n      <td>11</td>\n      <td>1</td>\n      <td>42</td>\n      <td>4100089350</td>\n      <td>76238523</td>\n      <td>103166.11</td>\n      <td>5644215.11</td>\n      <td>...</td>\n      <td>0.0</td>\n      <td>0.0</td>\n      <td>0.0</td>\n      <td>0.0</td>\n      <td>0.0</td>\n      <td>0.0</td>\n      <td>0.0</td>\n      <td>0.0</td>\n      <td>0.0</td>\n      <td>0.0</td>\n    </tr>\n    <tr>\n      <th>4</th>\n      <td>55</td>\n      <td>0</td>\n      <td>3</td>\n      <td>11</td>\n      <td>1</td>\n      <td>42</td>\n      <td>4100089350</td>\n      <td>76238523</td>\n      <td>103166.11</td>\n      <td>5644215.11</td>\n      <td>...</td>\n      <td>0.0</td>\n      <td>0.0</td>\n      <td>0.0</td>\n      <td>0.0</td>\n      <td>0.0</td>\n      <td>0.0</td>\n      <td>0.0</td>\n      <td>0.0</td>\n      <td>0.0</td>\n      <td>0.0</td>\n    </tr>\n    <tr>\n      <th>...</th>\n      <td>...</td>\n      <td>...</td>\n      <td>...</td>\n      <td>...</td>\n      <td>...</td>\n      <td>...</td>\n      <td>...</td>\n      <td>...</td>\n      <td>...</td>\n      <td>...</td>\n      <td>...</td>\n      <td>...</td>\n      <td>...</td>\n      <td>...</td>\n      <td>...</td>\n      <td>...</td>\n      <td>...</td>\n      <td>...</td>\n      <td>...</td>\n      <td>...</td>\n      <td>...</td>\n    </tr>\n    <tr>\n      <th>5756</th>\n      <td>1</td>\n      <td>0</td>\n      <td>1</td>\n      <td>0</td>\n      <td>0</td>\n      <td>0</td>\n      <td>4</td>\n      <td>4</td>\n      <td>0.02</td>\n      <td>0.02</td>\n      <td>...</td>\n      <td>0.0</td>\n      <td>0.0</td>\n      <td>0.0</td>\n      <td>0.0</td>\n      <td>0.0</td>\n      <td>0.0</td>\n      <td>0.0</td>\n      <td>0.0</td>\n      <td>0.0</td>\n      <td>0.0</td>\n    </tr>\n    <tr>\n      <th>5757</th>\n      <td>1</td>\n      <td>0</td>\n      <td>1</td>\n      <td>0</td>\n      <td>0</td>\n      <td>0</td>\n      <td>3</td>\n      <td>3</td>\n      <td>0.01</td>\n      <td>0.01</td>\n      <td>...</td>\n      <td>0.0</td>\n      <td>0.0</td>\n      <td>0.0</td>\n      <td>0.0</td>\n      <td>0.0</td>\n      <td>0.0</td>\n      <td>0.0</td>\n      <td>0.0</td>\n      <td>0.0</td>\n      <td>0.0</td>\n    </tr>\n    <tr>\n      <th>5758</th>\n      <td>1</td>\n      <td>0</td>\n      <td>1</td>\n      <td>0</td>\n      <td>0</td>\n      <td>0</td>\n      <td>2</td>\n      <td>2</td>\n      <td>0.01</td>\n      <td>0.01</td>\n      <td>...</td>\n      <td>0.0</td>\n      <td>0.0</td>\n      <td>0.0</td>\n      <td>0.0</td>\n      <td>0.0</td>\n      <td>0.0</td>\n      <td>0.0</td>\n      <td>0.0</td>\n      <td>0.0</td>\n      <td>0.0</td>\n    </tr>\n    <tr>\n      <th>5759</th>\n      <td>1</td>\n      <td>0</td>\n      <td>1</td>\n      <td>0</td>\n      <td>0</td>\n      <td>0</td>\n      <td>1</td>\n      <td>1</td>\n      <td>0.00</td>\n      <td>0.00</td>\n      <td>...</td>\n      <td>0.0</td>\n      <td>0.0</td>\n      <td>0.0</td>\n      <td>0.0</td>\n      <td>0.0</td>\n      <td>0.0</td>\n      <td>0.0</td>\n      <td>0.0</td>\n      <td>0.0</td>\n      <td>0.0</td>\n    </tr>\n    <tr>\n      <th>5760</th>\n      <td>1</td>\n      <td>0</td>\n      <td>1</td>\n      <td>0</td>\n      <td>0</td>\n      <td>0</td>\n      <td>0</td>\n      <td>0</td>\n      <td>0.00</td>\n      <td>0.00</td>\n      <td>...</td>\n      <td>0.0</td>\n      <td>0.0</td>\n      <td>0.0</td>\n      <td>0.0</td>\n      <td>0.0</td>\n      <td>0.0</td>\n      <td>0.0</td>\n      <td>0.0</td>\n      <td>0.0</td>\n      <td>0.0</td>\n    </tr>\n  </tbody>\n</table>\n<p>5761 rows × 27651 columns</p>\n</div>"
     },
     "metadata": {},
     "execution_count": 6
    }
   ],
   "source": [
    "# Construct the feature set\n",
    "custom_dataset = pd.merge(user_dataset, tweets_dataset, on=['User'], how='inner')\n",
    "drop_columns = ['User','Date','Tweet','Binders','Permalink','Name','Location']\n",
    "custom_dataset.drop(drop_columns, axis=1, inplace=True)\n",
    "custom_dataset"
   ]
  },
  {
   "cell_type": "markdown",
   "metadata": {},
   "source": [
    "### 1.3 Calculate the tweet popularity and append feature set"
   ]
  },
  {
   "cell_type": "code",
   "execution_count": 7,
   "metadata": {},
   "outputs": [
    {
     "output_type": "execute_result",
     "data": {
      "text/plain": "      Total tweets  Retweets  Images  Links  Chats  Text tweets     Impacts  \\\n0               13         0       0     12      5            1  1489476161   \n1               55         0       3     11      1           42  4100089350   \n2               55         0       3     11      1           42  4100089350   \n3               55         0       3     11      1           42  4100089350   \n4               55         0       3     11      1           42  4100089350   \n...            ...       ...     ...    ...    ...          ...         ...   \n5756             1         0       1      0      0            0           4   \n5757             1         0       1      0      0            0           3   \n5758             1         0       1      0      0            0           2   \n5759             1         0       1      0      0            0           1   \n5760             1         0       1      0      0            0           0   \n\n      Followers  User value  Tweets value  ...   수호   엑소  엔시티드림_당장_입국시켜  \\\n0     115296834   150464.37    1466166.07  ...  0.0  0.0            0.0   \n1      76238523   103166.11    5644215.11  ...  0.0  0.0            0.0   \n2      76238523   103166.11    5644215.11  ...  0.0  0.0            0.0   \n3      76238523   103166.11    5644215.11  ...  0.0  0.0            0.0   \n4      76238523   103166.11    5644215.11  ...  0.0  0.0            0.0   \n...         ...         ...           ...  ...  ...  ...            ...   \n5756          4        0.02          0.02  ...  0.0  0.0            0.0   \n5757          3        0.01          0.01  ...  0.0  0.0            0.0   \n5758          2        0.01          0.01  ...  0.0  0.0            0.0   \n5759          1        0.00          0.00  ...  0.0  0.0            0.0   \n5760          0        0.00          0.00  ...  0.0  0.0            0.0   \n\n      웨이션브이_당장_입국시켜  윤기야  좋은_날이_앞으로_많기를   찬열  트와이스  화이팅  Popular  \n0               0.0  0.0            0.0  0.0   0.0  0.0     True  \n1               0.0  0.0            0.0  0.0   0.0  0.0     True  \n2               0.0  0.0            0.0  0.0   0.0  0.0     True  \n3               0.0  0.0            0.0  0.0   0.0  0.0     True  \n4               0.0  0.0            0.0  0.0   0.0  0.0     True  \n...             ...  ...            ...  ...   ...  ...      ...  \n5756            0.0  0.0            0.0  0.0   0.0  0.0    False  \n5757            0.0  0.0            0.0  0.0   0.0  0.0    False  \n5758            0.0  0.0            0.0  0.0   0.0  0.0    False  \n5759            0.0  0.0            0.0  0.0   0.0  0.0    False  \n5760            0.0  0.0            0.0  0.0   0.0  0.0    False  \n\n[5761 rows x 27652 columns]",
      "text/html": "<div>\n<style scoped>\n    .dataframe tbody tr th:only-of-type {\n        vertical-align: middle;\n    }\n\n    .dataframe tbody tr th {\n        vertical-align: top;\n    }\n\n    .dataframe thead th {\n        text-align: right;\n    }\n</style>\n<table border=\"1\" class=\"dataframe\">\n  <thead>\n    <tr style=\"text-align: right;\">\n      <th></th>\n      <th>Total tweets</th>\n      <th>Retweets</th>\n      <th>Images</th>\n      <th>Links</th>\n      <th>Chats</th>\n      <th>Text tweets</th>\n      <th>Impacts</th>\n      <th>Followers</th>\n      <th>User value</th>\n      <th>Tweets value</th>\n      <th>...</th>\n      <th>수호</th>\n      <th>엑소</th>\n      <th>엔시티드림_당장_입국시켜</th>\n      <th>웨이션브이_당장_입국시켜</th>\n      <th>윤기야</th>\n      <th>좋은_날이_앞으로_많기를</th>\n      <th>찬열</th>\n      <th>트와이스</th>\n      <th>화이팅</th>\n      <th>Popular</th>\n    </tr>\n  </thead>\n  <tbody>\n    <tr>\n      <th>0</th>\n      <td>13</td>\n      <td>0</td>\n      <td>0</td>\n      <td>12</td>\n      <td>5</td>\n      <td>1</td>\n      <td>1489476161</td>\n      <td>115296834</td>\n      <td>150464.37</td>\n      <td>1466166.07</td>\n      <td>...</td>\n      <td>0.0</td>\n      <td>0.0</td>\n      <td>0.0</td>\n      <td>0.0</td>\n      <td>0.0</td>\n      <td>0.0</td>\n      <td>0.0</td>\n      <td>0.0</td>\n      <td>0.0</td>\n      <td>True</td>\n    </tr>\n    <tr>\n      <th>1</th>\n      <td>55</td>\n      <td>0</td>\n      <td>3</td>\n      <td>11</td>\n      <td>1</td>\n      <td>42</td>\n      <td>4100089350</td>\n      <td>76238523</td>\n      <td>103166.11</td>\n      <td>5644215.11</td>\n      <td>...</td>\n      <td>0.0</td>\n      <td>0.0</td>\n      <td>0.0</td>\n      <td>0.0</td>\n      <td>0.0</td>\n      <td>0.0</td>\n      <td>0.0</td>\n      <td>0.0</td>\n      <td>0.0</td>\n      <td>True</td>\n    </tr>\n    <tr>\n      <th>2</th>\n      <td>55</td>\n      <td>0</td>\n      <td>3</td>\n      <td>11</td>\n      <td>1</td>\n      <td>42</td>\n      <td>4100089350</td>\n      <td>76238523</td>\n      <td>103166.11</td>\n      <td>5644215.11</td>\n      <td>...</td>\n      <td>0.0</td>\n      <td>0.0</td>\n      <td>0.0</td>\n      <td>0.0</td>\n      <td>0.0</td>\n      <td>0.0</td>\n      <td>0.0</td>\n      <td>0.0</td>\n      <td>0.0</td>\n      <td>True</td>\n    </tr>\n    <tr>\n      <th>3</th>\n      <td>55</td>\n      <td>0</td>\n      <td>3</td>\n      <td>11</td>\n      <td>1</td>\n      <td>42</td>\n      <td>4100089350</td>\n      <td>76238523</td>\n      <td>103166.11</td>\n      <td>5644215.11</td>\n      <td>...</td>\n      <td>0.0</td>\n      <td>0.0</td>\n      <td>0.0</td>\n      <td>0.0</td>\n      <td>0.0</td>\n      <td>0.0</td>\n      <td>0.0</td>\n      <td>0.0</td>\n      <td>0.0</td>\n      <td>True</td>\n    </tr>\n    <tr>\n      <th>4</th>\n      <td>55</td>\n      <td>0</td>\n      <td>3</td>\n      <td>11</td>\n      <td>1</td>\n      <td>42</td>\n      <td>4100089350</td>\n      <td>76238523</td>\n      <td>103166.11</td>\n      <td>5644215.11</td>\n      <td>...</td>\n      <td>0.0</td>\n      <td>0.0</td>\n      <td>0.0</td>\n      <td>0.0</td>\n      <td>0.0</td>\n      <td>0.0</td>\n      <td>0.0</td>\n      <td>0.0</td>\n      <td>0.0</td>\n      <td>True</td>\n    </tr>\n    <tr>\n      <th>...</th>\n      <td>...</td>\n      <td>...</td>\n      <td>...</td>\n      <td>...</td>\n      <td>...</td>\n      <td>...</td>\n      <td>...</td>\n      <td>...</td>\n      <td>...</td>\n      <td>...</td>\n      <td>...</td>\n      <td>...</td>\n      <td>...</td>\n      <td>...</td>\n      <td>...</td>\n      <td>...</td>\n      <td>...</td>\n      <td>...</td>\n      <td>...</td>\n      <td>...</td>\n      <td>...</td>\n    </tr>\n    <tr>\n      <th>5756</th>\n      <td>1</td>\n      <td>0</td>\n      <td>1</td>\n      <td>0</td>\n      <td>0</td>\n      <td>0</td>\n      <td>4</td>\n      <td>4</td>\n      <td>0.02</td>\n      <td>0.02</td>\n      <td>...</td>\n      <td>0.0</td>\n      <td>0.0</td>\n      <td>0.0</td>\n      <td>0.0</td>\n      <td>0.0</td>\n      <td>0.0</td>\n      <td>0.0</td>\n      <td>0.0</td>\n      <td>0.0</td>\n      <td>False</td>\n    </tr>\n    <tr>\n      <th>5757</th>\n      <td>1</td>\n      <td>0</td>\n      <td>1</td>\n      <td>0</td>\n      <td>0</td>\n      <td>0</td>\n      <td>3</td>\n      <td>3</td>\n      <td>0.01</td>\n      <td>0.01</td>\n      <td>...</td>\n      <td>0.0</td>\n      <td>0.0</td>\n      <td>0.0</td>\n      <td>0.0</td>\n      <td>0.0</td>\n      <td>0.0</td>\n      <td>0.0</td>\n      <td>0.0</td>\n      <td>0.0</td>\n      <td>False</td>\n    </tr>\n    <tr>\n      <th>5758</th>\n      <td>1</td>\n      <td>0</td>\n      <td>1</td>\n      <td>0</td>\n      <td>0</td>\n      <td>0</td>\n      <td>2</td>\n      <td>2</td>\n      <td>0.01</td>\n      <td>0.01</td>\n      <td>...</td>\n      <td>0.0</td>\n      <td>0.0</td>\n      <td>0.0</td>\n      <td>0.0</td>\n      <td>0.0</td>\n      <td>0.0</td>\n      <td>0.0</td>\n      <td>0.0</td>\n      <td>0.0</td>\n      <td>False</td>\n    </tr>\n    <tr>\n      <th>5759</th>\n      <td>1</td>\n      <td>0</td>\n      <td>1</td>\n      <td>0</td>\n      <td>0</td>\n      <td>0</td>\n      <td>1</td>\n      <td>1</td>\n      <td>0.00</td>\n      <td>0.00</td>\n      <td>...</td>\n      <td>0.0</td>\n      <td>0.0</td>\n      <td>0.0</td>\n      <td>0.0</td>\n      <td>0.0</td>\n      <td>0.0</td>\n      <td>0.0</td>\n      <td>0.0</td>\n      <td>0.0</td>\n      <td>False</td>\n    </tr>\n    <tr>\n      <th>5760</th>\n      <td>1</td>\n      <td>0</td>\n      <td>1</td>\n      <td>0</td>\n      <td>0</td>\n      <td>0</td>\n      <td>0</td>\n      <td>0</td>\n      <td>0.00</td>\n      <td>0.00</td>\n      <td>...</td>\n      <td>0.0</td>\n      <td>0.0</td>\n      <td>0.0</td>\n      <td>0.0</td>\n      <td>0.0</td>\n      <td>0.0</td>\n      <td>0.0</td>\n      <td>0.0</td>\n      <td>0.0</td>\n      <td>False</td>\n    </tr>\n  </tbody>\n</table>\n<p>5761 rows × 27652 columns</p>\n</div>"
     },
     "metadata": {},
     "execution_count": 7
    }
   ],
   "source": [
    "# Calculate tweet popularity\n",
    "custom_dataset['Popular'] = np.where(custom_dataset['Likes count'] > 10000, True, False)\n",
    "custom_dataset"
   ]
  },
  {
   "cell_type": "markdown",
   "metadata": {},
   "source": [
    "### 1.4 Divide the dataset into 80% training and 20% testing"
   ]
  },
  {
   "cell_type": "code",
   "execution_count": 8,
   "metadata": {},
   "outputs": [
    {
     "output_type": "stream",
     "name": "stdout",
     "text": "Training Dataset\n\n"
    },
    {
     "output_type": "execute_result",
     "data": {
      "text/plain": "      Total tweets  Retweets  Images  Links  Chats  Text tweets    Impacts  \\\n2378            17         0       1     13      0            3    4426349   \n4004             1         0       1      1      0            0      14662   \n1820            12         0       4      4      0            4    5359956   \n1511            16         0       3      7      0            6   10510192   \n5638             1         0       1      0      0            0        179   \n...            ...       ...     ...    ...    ...          ...        ...   \n5730             1         0       1      0      0            0         31   \n2524             1         0       0      0      0            1     221690   \n2803            26         0      10     17      0            0    3546247   \n453             28         0       7      5      0           16  120891870   \n5410             1         0       0      1      0            0        723   \n\n      Followers  User value  Tweets value  ...   대구   수호   엑소  엔시티드림_당장_입국시켜  \\\n2378     268917      498.49       9135.69  ...  0.0  0.0  0.0            0.0   \n4004      14662       35.20         46.46  ...  0.0  0.0  0.0            0.0   \n1820     451856     1010.38      13206.08  ...  0.0  0.0  0.0            0.0   \n1511     660932     1402.81      24133.18  ...  0.0  0.0  0.0            0.0   \n5638        179        0.64          0.77  ...  0.0  0.0  0.0            0.0   \n...         ...         ...           ...  ...  ...  ...  ...            ...   \n5730         31        0.12          0.14  ...  0.0  0.0  0.0            0.0   \n2524     221690      511.93        511.93  ...  0.0  0.0  0.0            0.0   \n2803     155905      397.74       9436.71  ...  0.0  0.0  0.0            0.0   \n453     4347795     7654.53     227443.77  ...  0.0  0.0  0.0            0.0   \n5410        723        2.29          2.52  ...  0.0  0.0  0.0            0.0   \n\n      웨이션브이_당장_입국시켜  윤기야  좋은_날이_앞으로_많기를   찬열  트와이스  화이팅  \n2378            0.0  0.0            0.0  0.0   0.0  0.0  \n4004            0.0  0.0            0.0  0.0   0.0  0.0  \n1820            0.0  0.0            0.0  0.0   0.0  0.0  \n1511            0.0  0.0            0.0  0.0   0.0  0.0  \n5638            0.0  0.0            0.0  0.0   0.0  0.0  \n...             ...  ...            ...  ...   ...  ...  \n5730            0.0  0.0            0.0  0.0   0.0  0.0  \n2524            0.0  0.0            0.0  0.0   0.0  0.0  \n2803            0.0  0.0            0.0  0.0   0.0  0.0  \n453             0.0  0.0            0.0  0.0   0.0  0.0  \n5410            0.0  0.0            0.0  0.0   0.0  0.0  \n\n[4608 rows x 27651 columns]",
      "text/html": "<div>\n<style scoped>\n    .dataframe tbody tr th:only-of-type {\n        vertical-align: middle;\n    }\n\n    .dataframe tbody tr th {\n        vertical-align: top;\n    }\n\n    .dataframe thead th {\n        text-align: right;\n    }\n</style>\n<table border=\"1\" class=\"dataframe\">\n  <thead>\n    <tr style=\"text-align: right;\">\n      <th></th>\n      <th>Total tweets</th>\n      <th>Retweets</th>\n      <th>Images</th>\n      <th>Links</th>\n      <th>Chats</th>\n      <th>Text tweets</th>\n      <th>Impacts</th>\n      <th>Followers</th>\n      <th>User value</th>\n      <th>Tweets value</th>\n      <th>...</th>\n      <th>대구</th>\n      <th>수호</th>\n      <th>엑소</th>\n      <th>엔시티드림_당장_입국시켜</th>\n      <th>웨이션브이_당장_입국시켜</th>\n      <th>윤기야</th>\n      <th>좋은_날이_앞으로_많기를</th>\n      <th>찬열</th>\n      <th>트와이스</th>\n      <th>화이팅</th>\n    </tr>\n  </thead>\n  <tbody>\n    <tr>\n      <th>2378</th>\n      <td>17</td>\n      <td>0</td>\n      <td>1</td>\n      <td>13</td>\n      <td>0</td>\n      <td>3</td>\n      <td>4426349</td>\n      <td>268917</td>\n      <td>498.49</td>\n      <td>9135.69</td>\n      <td>...</td>\n      <td>0.0</td>\n      <td>0.0</td>\n      <td>0.0</td>\n      <td>0.0</td>\n      <td>0.0</td>\n      <td>0.0</td>\n      <td>0.0</td>\n      <td>0.0</td>\n      <td>0.0</td>\n      <td>0.0</td>\n    </tr>\n    <tr>\n      <th>4004</th>\n      <td>1</td>\n      <td>0</td>\n      <td>1</td>\n      <td>1</td>\n      <td>0</td>\n      <td>0</td>\n      <td>14662</td>\n      <td>14662</td>\n      <td>35.20</td>\n      <td>46.46</td>\n      <td>...</td>\n      <td>0.0</td>\n      <td>0.0</td>\n      <td>0.0</td>\n      <td>0.0</td>\n      <td>0.0</td>\n      <td>0.0</td>\n      <td>0.0</td>\n      <td>0.0</td>\n      <td>0.0</td>\n      <td>0.0</td>\n    </tr>\n    <tr>\n      <th>1820</th>\n      <td>12</td>\n      <td>0</td>\n      <td>4</td>\n      <td>4</td>\n      <td>0</td>\n      <td>4</td>\n      <td>5359956</td>\n      <td>451856</td>\n      <td>1010.38</td>\n      <td>13206.08</td>\n      <td>...</td>\n      <td>0.0</td>\n      <td>0.0</td>\n      <td>0.0</td>\n      <td>0.0</td>\n      <td>0.0</td>\n      <td>0.0</td>\n      <td>0.0</td>\n      <td>0.0</td>\n      <td>0.0</td>\n      <td>0.0</td>\n    </tr>\n    <tr>\n      <th>1511</th>\n      <td>16</td>\n      <td>0</td>\n      <td>3</td>\n      <td>7</td>\n      <td>0</td>\n      <td>6</td>\n      <td>10510192</td>\n      <td>660932</td>\n      <td>1402.81</td>\n      <td>24133.18</td>\n      <td>...</td>\n      <td>0.0</td>\n      <td>0.0</td>\n      <td>0.0</td>\n      <td>0.0</td>\n      <td>0.0</td>\n      <td>0.0</td>\n      <td>0.0</td>\n      <td>0.0</td>\n      <td>0.0</td>\n      <td>0.0</td>\n    </tr>\n    <tr>\n      <th>5638</th>\n      <td>1</td>\n      <td>0</td>\n      <td>1</td>\n      <td>0</td>\n      <td>0</td>\n      <td>0</td>\n      <td>179</td>\n      <td>179</td>\n      <td>0.64</td>\n      <td>0.77</td>\n      <td>...</td>\n      <td>0.0</td>\n      <td>0.0</td>\n      <td>0.0</td>\n      <td>0.0</td>\n      <td>0.0</td>\n      <td>0.0</td>\n      <td>0.0</td>\n      <td>0.0</td>\n      <td>0.0</td>\n      <td>0.0</td>\n    </tr>\n    <tr>\n      <th>...</th>\n      <td>...</td>\n      <td>...</td>\n      <td>...</td>\n      <td>...</td>\n      <td>...</td>\n      <td>...</td>\n      <td>...</td>\n      <td>...</td>\n      <td>...</td>\n      <td>...</td>\n      <td>...</td>\n      <td>...</td>\n      <td>...</td>\n      <td>...</td>\n      <td>...</td>\n      <td>...</td>\n      <td>...</td>\n      <td>...</td>\n      <td>...</td>\n      <td>...</td>\n      <td>...</td>\n    </tr>\n    <tr>\n      <th>5730</th>\n      <td>1</td>\n      <td>0</td>\n      <td>1</td>\n      <td>0</td>\n      <td>0</td>\n      <td>0</td>\n      <td>31</td>\n      <td>31</td>\n      <td>0.12</td>\n      <td>0.14</td>\n      <td>...</td>\n      <td>0.0</td>\n      <td>0.0</td>\n      <td>0.0</td>\n      <td>0.0</td>\n      <td>0.0</td>\n      <td>0.0</td>\n      <td>0.0</td>\n      <td>0.0</td>\n      <td>0.0</td>\n      <td>0.0</td>\n    </tr>\n    <tr>\n      <th>2524</th>\n      <td>1</td>\n      <td>0</td>\n      <td>0</td>\n      <td>0</td>\n      <td>0</td>\n      <td>1</td>\n      <td>221690</td>\n      <td>221690</td>\n      <td>511.93</td>\n      <td>511.93</td>\n      <td>...</td>\n      <td>0.0</td>\n      <td>0.0</td>\n      <td>0.0</td>\n      <td>0.0</td>\n      <td>0.0</td>\n      <td>0.0</td>\n      <td>0.0</td>\n      <td>0.0</td>\n      <td>0.0</td>\n      <td>0.0</td>\n    </tr>\n    <tr>\n      <th>2803</th>\n      <td>26</td>\n      <td>0</td>\n      <td>10</td>\n      <td>17</td>\n      <td>0</td>\n      <td>0</td>\n      <td>3546247</td>\n      <td>155905</td>\n      <td>397.74</td>\n      <td>9436.71</td>\n      <td>...</td>\n      <td>0.0</td>\n      <td>0.0</td>\n      <td>0.0</td>\n      <td>0.0</td>\n      <td>0.0</td>\n      <td>0.0</td>\n      <td>0.0</td>\n      <td>0.0</td>\n      <td>0.0</td>\n      <td>0.0</td>\n    </tr>\n    <tr>\n      <th>453</th>\n      <td>28</td>\n      <td>0</td>\n      <td>7</td>\n      <td>5</td>\n      <td>0</td>\n      <td>16</td>\n      <td>120891870</td>\n      <td>4347795</td>\n      <td>7654.53</td>\n      <td>227443.77</td>\n      <td>...</td>\n      <td>0.0</td>\n      <td>0.0</td>\n      <td>0.0</td>\n      <td>0.0</td>\n      <td>0.0</td>\n      <td>0.0</td>\n      <td>0.0</td>\n      <td>0.0</td>\n      <td>0.0</td>\n      <td>0.0</td>\n    </tr>\n    <tr>\n      <th>5410</th>\n      <td>1</td>\n      <td>0</td>\n      <td>0</td>\n      <td>1</td>\n      <td>0</td>\n      <td>0</td>\n      <td>723</td>\n      <td>723</td>\n      <td>2.29</td>\n      <td>2.52</td>\n      <td>...</td>\n      <td>0.0</td>\n      <td>0.0</td>\n      <td>0.0</td>\n      <td>0.0</td>\n      <td>0.0</td>\n      <td>0.0</td>\n      <td>0.0</td>\n      <td>0.0</td>\n      <td>0.0</td>\n      <td>0.0</td>\n    </tr>\n  </tbody>\n</table>\n<p>4608 rows × 27651 columns</p>\n</div>"
     },
     "metadata": {},
     "execution_count": 8
    },
    {
     "output_type": "execute_result",
     "data": {
      "text/plain": "2378    False\n4004    False\n1820    False\n1511     True\n5638    False\n        ...  \n5730    False\n2524    False\n2803    False\n453      True\n5410     True\nName: Popular, Length: 4608, dtype: bool"
     },
     "metadata": {},
     "execution_count": 8
    },
    {
     "output_type": "stream",
     "name": "stdout",
     "text": "Testing Dataset\n\n"
    },
    {
     "output_type": "execute_result",
     "data": {
      "text/plain": "      Total tweets  Retweets  Images  Links  Chats  Text tweets   Impacts  \\\n1776            15         0       1      9      0            5   6972664   \n2142             6         0       6      0      0            0   1972471   \n4315             1         0       0      0      0            1     15791   \n3579             2         0       1      0      0            1    101530   \n4658             2         0       2      0      0            0     15808   \n...            ...       ...     ...    ...    ...          ...       ...   \n4386             1         0       0      1      0            0     13650   \n2676            11         0       5      3      0            6   1489711   \n595             35         0      16     35      6            0  85425882   \n1862            25         0       0      1      0           24  10485807   \n1934            48         0       4     12      5           27  19344011   \n\n      Followers  User value  Tweets value  ...   대구   수호   엑소  엔시티드림_당장_입국시켜  \\\n1776     475601     1042.57      16442.07  ...  0.0  0.0  0.0            0.0   \n2142     329084      610.58       4397.01  ...  0.0  0.0  0.0            0.0   \n4315      15791       46.47         46.47  ...  0.0  0.0  0.0            0.0   \n3579      50798      110.86        243.74  ...  0.0  0.0  0.0            0.0   \n4658       7904       20.44         49.06  ...  0.0  0.0  0.0            0.0   \n...         ...         ...           ...  ...  ...  ...  ...            ...   \n4386      13650       34.73         38.20  ...  0.0  0.0  0.0            0.0   \n2676     186267      440.42       3971.44  ...  0.0  0.0  0.0            0.0   \n595     2484384     4635.50     163766.90  ...  0.0  0.0  0.0            0.0   \n1862     425420      955.44      23677.41  ...  0.0  0.0  0.0            0.0   \n1934     409976      744.63      33732.32  ...  0.0  0.0  0.0            0.0   \n\n      웨이션브이_당장_입국시켜  윤기야  좋은_날이_앞으로_많기를   찬열  트와이스  화이팅  \n1776            0.0  0.0            0.0  0.0   0.0  0.0  \n2142            0.0  0.0            0.0  0.0   0.0  0.0  \n4315            0.0  0.0            0.0  0.0   0.0  0.0  \n3579            0.0  0.0            0.0  0.0   0.0  0.0  \n4658            0.0  0.0            0.0  0.0   0.0  0.0  \n...             ...  ...            ...  ...   ...  ...  \n4386            0.0  0.0            0.0  0.0   0.0  0.0  \n2676            0.0  0.0            0.0  0.0   0.0  0.0  \n595             0.0  0.0            0.0  0.0   0.0  0.0  \n1862            0.0  0.0            0.0  0.0   0.0  0.0  \n1934            0.0  0.0            0.0  0.0   0.0  0.0  \n\n[1153 rows x 27651 columns]",
      "text/html": "<div>\n<style scoped>\n    .dataframe tbody tr th:only-of-type {\n        vertical-align: middle;\n    }\n\n    .dataframe tbody tr th {\n        vertical-align: top;\n    }\n\n    .dataframe thead th {\n        text-align: right;\n    }\n</style>\n<table border=\"1\" class=\"dataframe\">\n  <thead>\n    <tr style=\"text-align: right;\">\n      <th></th>\n      <th>Total tweets</th>\n      <th>Retweets</th>\n      <th>Images</th>\n      <th>Links</th>\n      <th>Chats</th>\n      <th>Text tweets</th>\n      <th>Impacts</th>\n      <th>Followers</th>\n      <th>User value</th>\n      <th>Tweets value</th>\n      <th>...</th>\n      <th>대구</th>\n      <th>수호</th>\n      <th>엑소</th>\n      <th>엔시티드림_당장_입국시켜</th>\n      <th>웨이션브이_당장_입국시켜</th>\n      <th>윤기야</th>\n      <th>좋은_날이_앞으로_많기를</th>\n      <th>찬열</th>\n      <th>트와이스</th>\n      <th>화이팅</th>\n    </tr>\n  </thead>\n  <tbody>\n    <tr>\n      <th>1776</th>\n      <td>15</td>\n      <td>0</td>\n      <td>1</td>\n      <td>9</td>\n      <td>0</td>\n      <td>5</td>\n      <td>6972664</td>\n      <td>475601</td>\n      <td>1042.57</td>\n      <td>16442.07</td>\n      <td>...</td>\n      <td>0.0</td>\n      <td>0.0</td>\n      <td>0.0</td>\n      <td>0.0</td>\n      <td>0.0</td>\n      <td>0.0</td>\n      <td>0.0</td>\n      <td>0.0</td>\n      <td>0.0</td>\n      <td>0.0</td>\n    </tr>\n    <tr>\n      <th>2142</th>\n      <td>6</td>\n      <td>0</td>\n      <td>6</td>\n      <td>0</td>\n      <td>0</td>\n      <td>0</td>\n      <td>1972471</td>\n      <td>329084</td>\n      <td>610.58</td>\n      <td>4397.01</td>\n      <td>...</td>\n      <td>0.0</td>\n      <td>0.0</td>\n      <td>0.0</td>\n      <td>0.0</td>\n      <td>0.0</td>\n      <td>0.0</td>\n      <td>0.0</td>\n      <td>0.0</td>\n      <td>0.0</td>\n      <td>0.0</td>\n    </tr>\n    <tr>\n      <th>4315</th>\n      <td>1</td>\n      <td>0</td>\n      <td>0</td>\n      <td>0</td>\n      <td>0</td>\n      <td>1</td>\n      <td>15791</td>\n      <td>15791</td>\n      <td>46.47</td>\n      <td>46.47</td>\n      <td>...</td>\n      <td>0.0</td>\n      <td>0.0</td>\n      <td>0.0</td>\n      <td>0.0</td>\n      <td>0.0</td>\n      <td>0.0</td>\n      <td>0.0</td>\n      <td>0.0</td>\n      <td>0.0</td>\n      <td>0.0</td>\n    </tr>\n    <tr>\n      <th>3579</th>\n      <td>2</td>\n      <td>0</td>\n      <td>1</td>\n      <td>0</td>\n      <td>0</td>\n      <td>1</td>\n      <td>101530</td>\n      <td>50798</td>\n      <td>110.86</td>\n      <td>243.74</td>\n      <td>...</td>\n      <td>0.0</td>\n      <td>0.0</td>\n      <td>0.0</td>\n      <td>0.0</td>\n      <td>0.0</td>\n      <td>0.0</td>\n      <td>0.0</td>\n      <td>0.0</td>\n      <td>0.0</td>\n      <td>0.0</td>\n    </tr>\n    <tr>\n      <th>4658</th>\n      <td>2</td>\n      <td>0</td>\n      <td>2</td>\n      <td>0</td>\n      <td>0</td>\n      <td>0</td>\n      <td>15808</td>\n      <td>7904</td>\n      <td>20.44</td>\n      <td>49.06</td>\n      <td>...</td>\n      <td>0.0</td>\n      <td>0.0</td>\n      <td>0.0</td>\n      <td>0.0</td>\n      <td>0.0</td>\n      <td>0.0</td>\n      <td>0.0</td>\n      <td>0.0</td>\n      <td>0.0</td>\n      <td>0.0</td>\n    </tr>\n    <tr>\n      <th>...</th>\n      <td>...</td>\n      <td>...</td>\n      <td>...</td>\n      <td>...</td>\n      <td>...</td>\n      <td>...</td>\n      <td>...</td>\n      <td>...</td>\n      <td>...</td>\n      <td>...</td>\n      <td>...</td>\n      <td>...</td>\n      <td>...</td>\n      <td>...</td>\n      <td>...</td>\n      <td>...</td>\n      <td>...</td>\n      <td>...</td>\n      <td>...</td>\n      <td>...</td>\n      <td>...</td>\n    </tr>\n    <tr>\n      <th>4386</th>\n      <td>1</td>\n      <td>0</td>\n      <td>0</td>\n      <td>1</td>\n      <td>0</td>\n      <td>0</td>\n      <td>13650</td>\n      <td>13650</td>\n      <td>34.73</td>\n      <td>38.20</td>\n      <td>...</td>\n      <td>0.0</td>\n      <td>0.0</td>\n      <td>0.0</td>\n      <td>0.0</td>\n      <td>0.0</td>\n      <td>0.0</td>\n      <td>0.0</td>\n      <td>0.0</td>\n      <td>0.0</td>\n      <td>0.0</td>\n    </tr>\n    <tr>\n      <th>2676</th>\n      <td>11</td>\n      <td>0</td>\n      <td>5</td>\n      <td>3</td>\n      <td>0</td>\n      <td>6</td>\n      <td>1489711</td>\n      <td>186267</td>\n      <td>440.42</td>\n      <td>3971.44</td>\n      <td>...</td>\n      <td>0.0</td>\n      <td>0.0</td>\n      <td>0.0</td>\n      <td>0.0</td>\n      <td>0.0</td>\n      <td>0.0</td>\n      <td>0.0</td>\n      <td>0.0</td>\n      <td>0.0</td>\n      <td>0.0</td>\n    </tr>\n    <tr>\n      <th>595</th>\n      <td>35</td>\n      <td>0</td>\n      <td>16</td>\n      <td>35</td>\n      <td>6</td>\n      <td>0</td>\n      <td>85425882</td>\n      <td>2484384</td>\n      <td>4635.50</td>\n      <td>163766.90</td>\n      <td>...</td>\n      <td>0.0</td>\n      <td>0.0</td>\n      <td>0.0</td>\n      <td>0.0</td>\n      <td>0.0</td>\n      <td>0.0</td>\n      <td>0.0</td>\n      <td>0.0</td>\n      <td>0.0</td>\n      <td>0.0</td>\n    </tr>\n    <tr>\n      <th>1862</th>\n      <td>25</td>\n      <td>0</td>\n      <td>0</td>\n      <td>1</td>\n      <td>0</td>\n      <td>24</td>\n      <td>10485807</td>\n      <td>425420</td>\n      <td>955.44</td>\n      <td>23677.41</td>\n      <td>...</td>\n      <td>0.0</td>\n      <td>0.0</td>\n      <td>0.0</td>\n      <td>0.0</td>\n      <td>0.0</td>\n      <td>0.0</td>\n      <td>0.0</td>\n      <td>0.0</td>\n      <td>0.0</td>\n      <td>0.0</td>\n    </tr>\n    <tr>\n      <th>1934</th>\n      <td>48</td>\n      <td>0</td>\n      <td>4</td>\n      <td>12</td>\n      <td>5</td>\n      <td>27</td>\n      <td>19344011</td>\n      <td>409976</td>\n      <td>744.63</td>\n      <td>33732.32</td>\n      <td>...</td>\n      <td>0.0</td>\n      <td>0.0</td>\n      <td>0.0</td>\n      <td>0.0</td>\n      <td>0.0</td>\n      <td>0.0</td>\n      <td>0.0</td>\n      <td>0.0</td>\n      <td>0.0</td>\n      <td>0.0</td>\n    </tr>\n  </tbody>\n</table>\n<p>1153 rows × 27651 columns</p>\n</div>"
     },
     "metadata": {},
     "execution_count": 8
    },
    {
     "output_type": "execute_result",
     "data": {
      "text/plain": "1776     True\n2142    False\n4315     True\n3579     True\n4658    False\n        ...  \n4386     True\n2676    False\n595     False\n1862     True\n1934     True\nName: Popular, Length: 1153, dtype: bool"
     },
     "metadata": {},
     "execution_count": 8
    }
   ],
   "source": [
    "# split the custom_dataset both in training and testing sets\n",
    "train_feat, test_feat, train_labels, test_labels = train_test_split(custom_dataset.drop('Popular', axis= 1), custom_dataset['Popular'], test_size= 0.2)\n",
    "print('Training Dataset\\n')\n",
    "train_feat\n",
    "train_labels\n",
    "print('Testing Dataset\\n')\n",
    "test_feat\n",
    "test_labels"
   ]
  },
  {
   "cell_type": "markdown",
   "metadata": {},
   "source": [
    "### 1.5 Classifiers\n",
    "#### Naive Bayes"
   ]
  },
  {
   "cell_type": "code",
   "execution_count": 9,
   "metadata": {},
   "outputs": [
    {
     "output_type": "execute_result",
     "data": {
      "text/plain": "MultinomialNB(alpha=1.0, class_prior=None, fit_prior=True)"
     },
     "metadata": {},
     "execution_count": 9
    },
    {
     "output_type": "stream",
     "name": "stdout",
     "text": "Train set score:  0.4822048611111111\nPrediction accuracy: 0.4856895056374675\n"
    }
   ],
   "source": [
    "#Import Gaussian Naive Bayes model\n",
    "from sklearn.naive_bayes import MultinomialNB\n",
    "\n",
    "#Create a Gaussian Classifier\n",
    "model = MultinomialNB()\n",
    "\n",
    "# Train the model using the training sets\n",
    "model.fit(train_feat, train_labels)\n",
    "\n",
    "score_train =  model.score(train_feat, train_labels)\n",
    "print('Train set score: ', score_train)\n",
    "\n",
    "#Predict the response for test dataset\n",
    "prediction = model.predict(test_feat)\n",
    "\n",
    "# Model Accuracy, how often is the classifier correct?\n",
    "print(\"Prediction accuracy:\",metrics.accuracy_score(test_labels, prediction))"
   ]
  },
  {
   "cell_type": "markdown",
   "metadata": {},
   "source": [
    "#### Nearest Neighbors "
   ]
  },
  {
   "cell_type": "code",
   "execution_count": 10,
   "metadata": {},
   "outputs": [
    {
     "output_type": "execute_result",
     "data": {
      "text/plain": "KNeighborsClassifier(algorithm='auto', leaf_size=30, metric='minkowski',\n                     metric_params=None, n_jobs=None, n_neighbors=5, p=2,\n                     weights='uniform')"
     },
     "metadata": {},
     "execution_count": 10
    },
    {
     "output_type": "stream",
     "name": "stdout",
     "text": "Train set score:  0.9086371527777778\nPrediction accuracy: 0.8447528187337381\n"
    }
   ],
   "source": [
    "#Import KNN Classifier\n",
    "from sklearn.neighbors import KNeighborsClassifier\n",
    "\n",
    "#Create a KNeighbors Classifier\n",
    "model = KNeighborsClassifier(n_neighbors=5)\n",
    "\n",
    "# Train the model using the training sets\n",
    "model.fit(train_feat,train_labels)\n",
    "\n",
    "score_train =  model.score(train_feat, train_labels)\n",
    "print('Train set score: ', score_train)\n",
    "\n",
    "#Predict the response for test dataset\n",
    "prediction = model.predict(test_feat)\n",
    "\n",
    "# Model Accuracy, how often is the classifier correct?\n",
    "print(\"Prediction accuracy:\",metrics.accuracy_score(test_labels, prediction))"
   ]
  },
  {
   "cell_type": "markdown",
   "metadata": {},
   "source": [
    "## Task 2\n",
    "### 2.1 Logistic Regression\n",
    "#### Split custom dataset into 90% for training and 10% for testing"
   ]
  },
  {
   "cell_type": "code",
   "execution_count": 11,
   "metadata": {},
   "outputs": [
    {
     "output_type": "stream",
     "name": "stdout",
     "text": "Training Dataset\n\n"
    },
    {
     "output_type": "execute_result",
     "data": {
      "text/plain": "      Total tweets  Retweets  Images  Links  Chats  Text tweets   Impacts  \\\n4666             1         0       0      0      0            1      7796   \n3774             1         0       1      0      0            0     38573   \n4153             1         0       0      0      0            1     19887   \n757             44         0       5      7      0           33  75610388   \n1280            25         0       0      1      0           24  20977608   \n...            ...       ...     ...    ...    ...          ...       ...   \n1397             2         0       0      0      0            2      8628   \n2634            22         0       8      6      1            8   4110417   \n4601             1         0       1      0      0            0      9014   \n2734             1         0       0      1      0            0    171424   \n773             12         0      12      2      0            0  19943788   \n\n      Followers  User value  Tweets value  ...   대구   수호   엑소  엔시티드림_당장_입국시켜  \\\n4666       7796       23.61         23.61  ...  0.0  0.0  0.0            0.0   \n3774      38573       90.68        108.82  ...  0.0  0.0  0.0            0.0   \n4153      19887       48.88         48.88  ...  0.0  0.0  0.0            0.0   \n757     1741615     3294.98     148832.02  ...  0.0  0.0  0.0            0.0   \n1280     847475     1663.30      41363.65  ...  0.0  0.0  0.0            0.0   \n...         ...         ...           ...  ...  ...  ...  ...            ...   \n1397       4314       11.74         23.48  ...  0.0  0.0  0.0            0.0   \n2634     193074      397.93       9050.06  ...  0.0  0.0  0.0            0.0   \n4601       9014       23.35         28.02  ...  0.0  0.0  0.0            0.0   \n2734     171424      406.18        446.80  ...  0.0  0.0  0.0            0.0   \n773     1703801     3201.61      46790.65  ...  0.0  0.0  0.0            0.0   \n\n      웨이션브이_당장_입국시켜  윤기야  좋은_날이_앞으로_많기를   찬열  트와이스  화이팅  \n4666            0.0  0.0            0.0  0.0   0.0  0.0  \n3774            0.0  0.0            0.0  0.0   0.0  0.0  \n4153            0.0  0.0            0.0  0.0   0.0  0.0  \n757             0.0  0.0            0.0  0.0   0.0  0.0  \n1280            0.0  0.0            0.0  0.0   0.0  0.0  \n...             ...  ...            ...  ...   ...  ...  \n1397            0.0  0.0            0.0  0.0   0.0  0.0  \n2634            0.0  0.0            0.0  0.0   0.0  0.0  \n4601            0.0  0.0            0.0  0.0   0.0  0.0  \n2734            0.0  0.0            0.0  0.0   0.0  0.0  \n773             0.0  0.0            0.0  0.0   0.0  0.0  \n\n[5184 rows x 27651 columns]",
      "text/html": "<div>\n<style scoped>\n    .dataframe tbody tr th:only-of-type {\n        vertical-align: middle;\n    }\n\n    .dataframe tbody tr th {\n        vertical-align: top;\n    }\n\n    .dataframe thead th {\n        text-align: right;\n    }\n</style>\n<table border=\"1\" class=\"dataframe\">\n  <thead>\n    <tr style=\"text-align: right;\">\n      <th></th>\n      <th>Total tweets</th>\n      <th>Retweets</th>\n      <th>Images</th>\n      <th>Links</th>\n      <th>Chats</th>\n      <th>Text tweets</th>\n      <th>Impacts</th>\n      <th>Followers</th>\n      <th>User value</th>\n      <th>Tweets value</th>\n      <th>...</th>\n      <th>대구</th>\n      <th>수호</th>\n      <th>엑소</th>\n      <th>엔시티드림_당장_입국시켜</th>\n      <th>웨이션브이_당장_입국시켜</th>\n      <th>윤기야</th>\n      <th>좋은_날이_앞으로_많기를</th>\n      <th>찬열</th>\n      <th>트와이스</th>\n      <th>화이팅</th>\n    </tr>\n  </thead>\n  <tbody>\n    <tr>\n      <th>4666</th>\n      <td>1</td>\n      <td>0</td>\n      <td>0</td>\n      <td>0</td>\n      <td>0</td>\n      <td>1</td>\n      <td>7796</td>\n      <td>7796</td>\n      <td>23.61</td>\n      <td>23.61</td>\n      <td>...</td>\n      <td>0.0</td>\n      <td>0.0</td>\n      <td>0.0</td>\n      <td>0.0</td>\n      <td>0.0</td>\n      <td>0.0</td>\n      <td>0.0</td>\n      <td>0.0</td>\n      <td>0.0</td>\n      <td>0.0</td>\n    </tr>\n    <tr>\n      <th>3774</th>\n      <td>1</td>\n      <td>0</td>\n      <td>1</td>\n      <td>0</td>\n      <td>0</td>\n      <td>0</td>\n      <td>38573</td>\n      <td>38573</td>\n      <td>90.68</td>\n      <td>108.82</td>\n      <td>...</td>\n      <td>0.0</td>\n      <td>0.0</td>\n      <td>0.0</td>\n      <td>0.0</td>\n      <td>0.0</td>\n      <td>0.0</td>\n      <td>0.0</td>\n      <td>0.0</td>\n      <td>0.0</td>\n      <td>0.0</td>\n    </tr>\n    <tr>\n      <th>4153</th>\n      <td>1</td>\n      <td>0</td>\n      <td>0</td>\n      <td>0</td>\n      <td>0</td>\n      <td>1</td>\n      <td>19887</td>\n      <td>19887</td>\n      <td>48.88</td>\n      <td>48.88</td>\n      <td>...</td>\n      <td>0.0</td>\n      <td>0.0</td>\n      <td>0.0</td>\n      <td>0.0</td>\n      <td>0.0</td>\n      <td>0.0</td>\n      <td>0.0</td>\n      <td>0.0</td>\n      <td>0.0</td>\n      <td>0.0</td>\n    </tr>\n    <tr>\n      <th>757</th>\n      <td>44</td>\n      <td>0</td>\n      <td>5</td>\n      <td>7</td>\n      <td>0</td>\n      <td>33</td>\n      <td>75610388</td>\n      <td>1741615</td>\n      <td>3294.98</td>\n      <td>148832.02</td>\n      <td>...</td>\n      <td>0.0</td>\n      <td>0.0</td>\n      <td>0.0</td>\n      <td>0.0</td>\n      <td>0.0</td>\n      <td>0.0</td>\n      <td>0.0</td>\n      <td>0.0</td>\n      <td>0.0</td>\n      <td>0.0</td>\n    </tr>\n    <tr>\n      <th>1280</th>\n      <td>25</td>\n      <td>0</td>\n      <td>0</td>\n      <td>1</td>\n      <td>0</td>\n      <td>24</td>\n      <td>20977608</td>\n      <td>847475</td>\n      <td>1663.30</td>\n      <td>41363.65</td>\n      <td>...</td>\n      <td>0.0</td>\n      <td>0.0</td>\n      <td>0.0</td>\n      <td>0.0</td>\n      <td>0.0</td>\n      <td>0.0</td>\n      <td>0.0</td>\n      <td>0.0</td>\n      <td>0.0</td>\n      <td>0.0</td>\n    </tr>\n    <tr>\n      <th>...</th>\n      <td>...</td>\n      <td>...</td>\n      <td>...</td>\n      <td>...</td>\n      <td>...</td>\n      <td>...</td>\n      <td>...</td>\n      <td>...</td>\n      <td>...</td>\n      <td>...</td>\n      <td>...</td>\n      <td>...</td>\n      <td>...</td>\n      <td>...</td>\n      <td>...</td>\n      <td>...</td>\n      <td>...</td>\n      <td>...</td>\n      <td>...</td>\n      <td>...</td>\n      <td>...</td>\n    </tr>\n    <tr>\n      <th>1397</th>\n      <td>2</td>\n      <td>0</td>\n      <td>0</td>\n      <td>0</td>\n      <td>0</td>\n      <td>2</td>\n      <td>8628</td>\n      <td>4314</td>\n      <td>11.74</td>\n      <td>23.48</td>\n      <td>...</td>\n      <td>0.0</td>\n      <td>0.0</td>\n      <td>0.0</td>\n      <td>0.0</td>\n      <td>0.0</td>\n      <td>0.0</td>\n      <td>0.0</td>\n      <td>0.0</td>\n      <td>0.0</td>\n      <td>0.0</td>\n    </tr>\n    <tr>\n      <th>2634</th>\n      <td>22</td>\n      <td>0</td>\n      <td>8</td>\n      <td>6</td>\n      <td>1</td>\n      <td>8</td>\n      <td>4110417</td>\n      <td>193074</td>\n      <td>397.93</td>\n      <td>9050.06</td>\n      <td>...</td>\n      <td>0.0</td>\n      <td>0.0</td>\n      <td>0.0</td>\n      <td>0.0</td>\n      <td>0.0</td>\n      <td>0.0</td>\n      <td>0.0</td>\n      <td>0.0</td>\n      <td>0.0</td>\n      <td>0.0</td>\n    </tr>\n    <tr>\n      <th>4601</th>\n      <td>1</td>\n      <td>0</td>\n      <td>1</td>\n      <td>0</td>\n      <td>0</td>\n      <td>0</td>\n      <td>9014</td>\n      <td>9014</td>\n      <td>23.35</td>\n      <td>28.02</td>\n      <td>...</td>\n      <td>0.0</td>\n      <td>0.0</td>\n      <td>0.0</td>\n      <td>0.0</td>\n      <td>0.0</td>\n      <td>0.0</td>\n      <td>0.0</td>\n      <td>0.0</td>\n      <td>0.0</td>\n      <td>0.0</td>\n    </tr>\n    <tr>\n      <th>2734</th>\n      <td>1</td>\n      <td>0</td>\n      <td>0</td>\n      <td>1</td>\n      <td>0</td>\n      <td>0</td>\n      <td>171424</td>\n      <td>171424</td>\n      <td>406.18</td>\n      <td>446.80</td>\n      <td>...</td>\n      <td>0.0</td>\n      <td>0.0</td>\n      <td>0.0</td>\n      <td>0.0</td>\n      <td>0.0</td>\n      <td>0.0</td>\n      <td>0.0</td>\n      <td>0.0</td>\n      <td>0.0</td>\n      <td>0.0</td>\n    </tr>\n    <tr>\n      <th>773</th>\n      <td>12</td>\n      <td>0</td>\n      <td>12</td>\n      <td>2</td>\n      <td>0</td>\n      <td>0</td>\n      <td>19943788</td>\n      <td>1703801</td>\n      <td>3201.61</td>\n      <td>46790.65</td>\n      <td>...</td>\n      <td>0.0</td>\n      <td>0.0</td>\n      <td>0.0</td>\n      <td>0.0</td>\n      <td>0.0</td>\n      <td>0.0</td>\n      <td>0.0</td>\n      <td>0.0</td>\n      <td>0.0</td>\n      <td>0.0</td>\n    </tr>\n  </tbody>\n</table>\n<p>5184 rows × 27651 columns</p>\n</div>"
     },
     "metadata": {},
     "execution_count": 11
    },
    {
     "output_type": "execute_result",
     "data": {
      "text/plain": "4666     True\n3774    False\n4153    False\n757      True\n1280     True\n        ...  \n1397     True\n2634     True\n4601    False\n2734     True\n773     False\nName: Popular, Length: 5184, dtype: bool"
     },
     "metadata": {},
     "execution_count": 11
    },
    {
     "output_type": "stream",
     "name": "stdout",
     "text": "Testing Dataset\n\n"
    },
    {
     "output_type": "execute_result",
     "data": {
      "text/plain": "      Total tweets  Retweets  Images  Links  Chats  Text tweets   Impacts  \\\n2280            33         0       5     21      1            7   9278657   \n2587            18         0       1      0      1           16   3614789   \n2170            33         0       1      1      2           29  10409222   \n4024             1         0       1      0      0            0       958   \n1589             7         0       0      3      0            4   4228811   \n...            ...       ...     ...    ...    ...          ...       ...   \n2064           115         0      55    102      0           15  42510984   \n960             41         0      41      0      0            0  64001481   \n3591            23         0      22      2      0            0    996539   \n5114             1         0       0      1      0            0      2347   \n1645             2         0       1      2      0            0   1096598   \n\n      Followers  User value  Tweets value  ...   대구   수호   엑소  엔시티드림_당장_입국시켜  \\\n2280     287660      538.78      18581.92  ...  0.0  0.0  0.0            0.0   \n2587     204342      398.27       6822.52  ...  0.0  0.0  0.0            0.0   \n2170     317898      684.50      21545.93  ...  0.0  0.0  0.0            0.0   \n4024        958        2.66          3.19  ...  0.0  0.0  0.0            0.0   \n1589     604133     1288.21       9403.75  ...  0.0  0.0  0.0            0.0   \n...         ...         ...           ...  ...  ...  ...  ...            ...   \n2064     372490      686.90      93457.67  ...  0.0  0.0  0.0            0.0   \n960     1582264     3093.17     150365.47  ...  0.0  0.0  0.0            0.0   \n3591      49463      108.80       2664.71  ...  0.0  0.0  0.0            0.0   \n5114       2347        6.46          7.11  ...  0.0  0.0  0.0            0.0   \n1645     548799     1195.42       2890.45  ...  0.0  0.0  0.0            0.0   \n\n      웨이션브이_당장_입국시켜  윤기야  좋은_날이_앞으로_많기를   찬열  트와이스  화이팅  \n2280            0.0  0.0            0.0  0.0   0.0  0.0  \n2587            0.0  0.0            0.0  0.0   0.0  0.0  \n2170            0.0  0.0            0.0  0.0   0.0  0.0  \n4024            0.0  0.0            0.0  0.0   0.0  0.0  \n1589            0.0  0.0            0.0  0.0   0.0  0.0  \n...             ...  ...            ...  ...   ...  ...  \n2064            0.0  0.0            0.0  0.0   0.0  0.0  \n960             0.0  0.0            0.0  0.0   0.0  0.0  \n3591            0.0  0.0            0.0  0.0   0.0  0.0  \n5114            0.0  0.0            0.0  0.0   0.0  0.0  \n1645            0.0  0.0            0.0  0.0   0.0  0.0  \n\n[577 rows x 27651 columns]",
      "text/html": "<div>\n<style scoped>\n    .dataframe tbody tr th:only-of-type {\n        vertical-align: middle;\n    }\n\n    .dataframe tbody tr th {\n        vertical-align: top;\n    }\n\n    .dataframe thead th {\n        text-align: right;\n    }\n</style>\n<table border=\"1\" class=\"dataframe\">\n  <thead>\n    <tr style=\"text-align: right;\">\n      <th></th>\n      <th>Total tweets</th>\n      <th>Retweets</th>\n      <th>Images</th>\n      <th>Links</th>\n      <th>Chats</th>\n      <th>Text tweets</th>\n      <th>Impacts</th>\n      <th>Followers</th>\n      <th>User value</th>\n      <th>Tweets value</th>\n      <th>...</th>\n      <th>대구</th>\n      <th>수호</th>\n      <th>엑소</th>\n      <th>엔시티드림_당장_입국시켜</th>\n      <th>웨이션브이_당장_입국시켜</th>\n      <th>윤기야</th>\n      <th>좋은_날이_앞으로_많기를</th>\n      <th>찬열</th>\n      <th>트와이스</th>\n      <th>화이팅</th>\n    </tr>\n  </thead>\n  <tbody>\n    <tr>\n      <th>2280</th>\n      <td>33</td>\n      <td>0</td>\n      <td>5</td>\n      <td>21</td>\n      <td>1</td>\n      <td>7</td>\n      <td>9278657</td>\n      <td>287660</td>\n      <td>538.78</td>\n      <td>18581.92</td>\n      <td>...</td>\n      <td>0.0</td>\n      <td>0.0</td>\n      <td>0.0</td>\n      <td>0.0</td>\n      <td>0.0</td>\n      <td>0.0</td>\n      <td>0.0</td>\n      <td>0.0</td>\n      <td>0.0</td>\n      <td>0.0</td>\n    </tr>\n    <tr>\n      <th>2587</th>\n      <td>18</td>\n      <td>0</td>\n      <td>1</td>\n      <td>0</td>\n      <td>1</td>\n      <td>16</td>\n      <td>3614789</td>\n      <td>204342</td>\n      <td>398.27</td>\n      <td>6822.52</td>\n      <td>...</td>\n      <td>0.0</td>\n      <td>0.0</td>\n      <td>0.0</td>\n      <td>0.0</td>\n      <td>0.0</td>\n      <td>0.0</td>\n      <td>0.0</td>\n      <td>0.0</td>\n      <td>0.0</td>\n      <td>0.0</td>\n    </tr>\n    <tr>\n      <th>2170</th>\n      <td>33</td>\n      <td>0</td>\n      <td>1</td>\n      <td>1</td>\n      <td>2</td>\n      <td>29</td>\n      <td>10409222</td>\n      <td>317898</td>\n      <td>684.50</td>\n      <td>21545.93</td>\n      <td>...</td>\n      <td>0.0</td>\n      <td>0.0</td>\n      <td>0.0</td>\n      <td>0.0</td>\n      <td>0.0</td>\n      <td>0.0</td>\n      <td>0.0</td>\n      <td>0.0</td>\n      <td>0.0</td>\n      <td>0.0</td>\n    </tr>\n    <tr>\n      <th>4024</th>\n      <td>1</td>\n      <td>0</td>\n      <td>1</td>\n      <td>0</td>\n      <td>0</td>\n      <td>0</td>\n      <td>958</td>\n      <td>958</td>\n      <td>2.66</td>\n      <td>3.19</td>\n      <td>...</td>\n      <td>0.0</td>\n      <td>0.0</td>\n      <td>0.0</td>\n      <td>0.0</td>\n      <td>0.0</td>\n      <td>0.0</td>\n      <td>0.0</td>\n      <td>0.0</td>\n      <td>0.0</td>\n      <td>0.0</td>\n    </tr>\n    <tr>\n      <th>1589</th>\n      <td>7</td>\n      <td>0</td>\n      <td>0</td>\n      <td>3</td>\n      <td>0</td>\n      <td>4</td>\n      <td>4228811</td>\n      <td>604133</td>\n      <td>1288.21</td>\n      <td>9403.75</td>\n      <td>...</td>\n      <td>0.0</td>\n      <td>0.0</td>\n      <td>0.0</td>\n      <td>0.0</td>\n      <td>0.0</td>\n      <td>0.0</td>\n      <td>0.0</td>\n      <td>0.0</td>\n      <td>0.0</td>\n      <td>0.0</td>\n    </tr>\n    <tr>\n      <th>...</th>\n      <td>...</td>\n      <td>...</td>\n      <td>...</td>\n      <td>...</td>\n      <td>...</td>\n      <td>...</td>\n      <td>...</td>\n      <td>...</td>\n      <td>...</td>\n      <td>...</td>\n      <td>...</td>\n      <td>...</td>\n      <td>...</td>\n      <td>...</td>\n      <td>...</td>\n      <td>...</td>\n      <td>...</td>\n      <td>...</td>\n      <td>...</td>\n      <td>...</td>\n      <td>...</td>\n    </tr>\n    <tr>\n      <th>2064</th>\n      <td>115</td>\n      <td>0</td>\n      <td>55</td>\n      <td>102</td>\n      <td>0</td>\n      <td>15</td>\n      <td>42510984</td>\n      <td>372490</td>\n      <td>686.90</td>\n      <td>93457.67</td>\n      <td>...</td>\n      <td>0.0</td>\n      <td>0.0</td>\n      <td>0.0</td>\n      <td>0.0</td>\n      <td>0.0</td>\n      <td>0.0</td>\n      <td>0.0</td>\n      <td>0.0</td>\n      <td>0.0</td>\n      <td>0.0</td>\n    </tr>\n    <tr>\n      <th>960</th>\n      <td>41</td>\n      <td>0</td>\n      <td>41</td>\n      <td>0</td>\n      <td>0</td>\n      <td>0</td>\n      <td>64001481</td>\n      <td>1582264</td>\n      <td>3093.17</td>\n      <td>150365.47</td>\n      <td>...</td>\n      <td>0.0</td>\n      <td>0.0</td>\n      <td>0.0</td>\n      <td>0.0</td>\n      <td>0.0</td>\n      <td>0.0</td>\n      <td>0.0</td>\n      <td>0.0</td>\n      <td>0.0</td>\n      <td>0.0</td>\n    </tr>\n    <tr>\n      <th>3591</th>\n      <td>23</td>\n      <td>0</td>\n      <td>22</td>\n      <td>2</td>\n      <td>0</td>\n      <td>0</td>\n      <td>996539</td>\n      <td>49463</td>\n      <td>108.80</td>\n      <td>2664.71</td>\n      <td>...</td>\n      <td>0.0</td>\n      <td>0.0</td>\n      <td>0.0</td>\n      <td>0.0</td>\n      <td>0.0</td>\n      <td>0.0</td>\n      <td>0.0</td>\n      <td>0.0</td>\n      <td>0.0</td>\n      <td>0.0</td>\n    </tr>\n    <tr>\n      <th>5114</th>\n      <td>1</td>\n      <td>0</td>\n      <td>0</td>\n      <td>1</td>\n      <td>0</td>\n      <td>0</td>\n      <td>2347</td>\n      <td>2347</td>\n      <td>6.46</td>\n      <td>7.11</td>\n      <td>...</td>\n      <td>0.0</td>\n      <td>0.0</td>\n      <td>0.0</td>\n      <td>0.0</td>\n      <td>0.0</td>\n      <td>0.0</td>\n      <td>0.0</td>\n      <td>0.0</td>\n      <td>0.0</td>\n      <td>0.0</td>\n    </tr>\n    <tr>\n      <th>1645</th>\n      <td>2</td>\n      <td>0</td>\n      <td>1</td>\n      <td>2</td>\n      <td>0</td>\n      <td>0</td>\n      <td>1096598</td>\n      <td>548799</td>\n      <td>1195.42</td>\n      <td>2890.45</td>\n      <td>...</td>\n      <td>0.0</td>\n      <td>0.0</td>\n      <td>0.0</td>\n      <td>0.0</td>\n      <td>0.0</td>\n      <td>0.0</td>\n      <td>0.0</td>\n      <td>0.0</td>\n      <td>0.0</td>\n      <td>0.0</td>\n    </tr>\n  </tbody>\n</table>\n<p>577 rows × 27651 columns</p>\n</div>"
     },
     "metadata": {},
     "execution_count": 11
    },
    {
     "output_type": "execute_result",
     "data": {
      "text/plain": "2280    False\n2587    False\n2170    False\n4024    False\n1589     True\n        ...  \n2064     True\n960      True\n3591    False\n5114    False\n1645    False\nName: Popular, Length: 577, dtype: bool"
     },
     "metadata": {},
     "execution_count": 11
    }
   ],
   "source": [
    "# split the custom_dataset both in training and testing sets\n",
    "train_feat, test_feat, train_labels, test_labels = train_test_split(custom_dataset.drop('Popular', axis= 1), custom_dataset['Popular'], test_size= 0.1)\n",
    "print('Training Dataset\\n')\n",
    "train_feat\n",
    "train_labels\n",
    "print('Testing Dataset\\n')\n",
    "test_feat\n",
    "test_labels"
   ]
  },
  {
   "cell_type": "markdown",
   "metadata": {},
   "source": [
    "#### Logistic Regression implementation"
   ]
  },
  {
   "cell_type": "code",
   "execution_count": 12,
   "metadata": {},
   "outputs": [
    {
     "output_type": "execute_result",
     "data": {
      "text/plain": "LogisticRegression(C=1.0, class_weight=None, dual=False, fit_intercept=True,\n                   intercept_scaling=1, l1_ratio=None, max_iter=100,\n                   multi_class='auto', n_jobs=None, penalty='l2',\n                   random_state=None, solver='lbfgs', tol=0.0001, verbose=0,\n                   warm_start=False)"
     },
     "metadata": {},
     "execution_count": 12
    },
    {
     "output_type": "stream",
     "name": "stdout",
     "text": "Train set score:  0.6730324074074074\nPrediction accuracy: 0.6221837088388215\n"
    }
   ],
   "source": [
    "#Import Logistic Regression classifier\n",
    "from sklearn.linear_model import LogisticRegression\n",
    "\n",
    "model = LogisticRegression()\n",
    "model.fit(train_feat, train_labels)\n",
    "\n",
    "score_train =  model.score(train_feat, train_labels)\n",
    "print('Train set score: ', score_train)\n",
    "\n",
    "#Predict the response for test dataset\n",
    "prediction = model.predict(test_feat)\n",
    "\n",
    "# Model Accuracy, how often is the classifier correct?\n",
    "print(\"Prediction accuracy:\",metrics.accuracy_score(test_labels, prediction))"
   ]
  },
  {
   "cell_type": "markdown",
   "metadata": {},
   "source": [
    "### 2.2 Root Mean Squared Root (RMSE)"
   ]
  },
  {
   "cell_type": "code",
   "execution_count": 13,
   "metadata": {},
   "outputs": [
    {
     "output_type": "stream",
     "name": "stdout",
     "text": "RMSE score: 0.3778162911611785\n"
    }
   ],
   "source": [
    "#Import RMSE metric\n",
    "from sklearn.metrics import mean_squared_error\n",
    "# converting True to 1 and False to 0, to compute RMSE\n",
    "test_labels = test_labels.astype(int)\n",
    "prediction = prediction.astype(int)\n",
    "\n",
    "rmse = mean_squared_error(test_labels, prediction)\n",
    "# RMSE result\n",
    "print(\"RMSE score:\",rmse)"
   ]
  },
  {
   "cell_type": "markdown",
   "metadata": {},
   "source": [
    "### 2.3 No. of retweets Prediction\n",
    "#### Load new dataset"
   ]
  },
  {
   "cell_type": "code",
   "execution_count": 14,
   "metadata": {},
   "outputs": [
    {
     "output_type": "execute_result",
     "data": {
      "text/plain": "                      User                                              Tweet\n0          The White House  LIVE: Press Briefing with Coronavirus Task For...\n1                isentoes2  Após governo americano dizer que China esconde...\n2            Adam Schefter  Twitter CEO Jack Dorsey pledged $1 billion tow...\n3             Kyle Griffin  House Armed Services Chairman Adam Smith: \"The...\n4            Kamala Harris  Black communities disproportionately suffer fr...\n...                    ...                                                ...\n14995   Juanita Broaddrick  Many questions emerging about Dr Fauci’s agend...\n14996                Benny  Taiwan Says It Warned @WHO About Coronavirus I...\n14997  The Spectator Index  SPAIN: Coronavirus death toll rises by 324 ove...\n14998     Donald Trump Jr.  David Bossie: Americans uniting to fight coron...\n14999         Kyle Griffin  On Feb. 25, Nancy Messonnier, a senior CDC off...\n\n[15000 rows x 2 columns]",
      "text/html": "<div>\n<style scoped>\n    .dataframe tbody tr th:only-of-type {\n        vertical-align: middle;\n    }\n\n    .dataframe tbody tr th {\n        vertical-align: top;\n    }\n\n    .dataframe thead th {\n        text-align: right;\n    }\n</style>\n<table border=\"1\" class=\"dataframe\">\n  <thead>\n    <tr style=\"text-align: right;\">\n      <th></th>\n      <th>User</th>\n      <th>Tweet</th>\n    </tr>\n  </thead>\n  <tbody>\n    <tr>\n      <th>0</th>\n      <td>The White House</td>\n      <td>LIVE: Press Briefing with Coronavirus Task For...</td>\n    </tr>\n    <tr>\n      <th>1</th>\n      <td>isentoes2</td>\n      <td>Após governo americano dizer que China esconde...</td>\n    </tr>\n    <tr>\n      <th>2</th>\n      <td>Adam Schefter</td>\n      <td>Twitter CEO Jack Dorsey pledged $1 billion tow...</td>\n    </tr>\n    <tr>\n      <th>3</th>\n      <td>Kyle Griffin</td>\n      <td>House Armed Services Chairman Adam Smith: \"The...</td>\n    </tr>\n    <tr>\n      <th>4</th>\n      <td>Kamala Harris</td>\n      <td>Black communities disproportionately suffer fr...</td>\n    </tr>\n    <tr>\n      <th>...</th>\n      <td>...</td>\n      <td>...</td>\n    </tr>\n    <tr>\n      <th>14995</th>\n      <td>Juanita Broaddrick</td>\n      <td>Many questions emerging about Dr Fauci’s agend...</td>\n    </tr>\n    <tr>\n      <th>14996</th>\n      <td>Benny</td>\n      <td>Taiwan Says It Warned @WHO About Coronavirus I...</td>\n    </tr>\n    <tr>\n      <th>14997</th>\n      <td>The Spectator Index</td>\n      <td>SPAIN: Coronavirus death toll rises by 324 ove...</td>\n    </tr>\n    <tr>\n      <th>14998</th>\n      <td>Donald Trump Jr.</td>\n      <td>David Bossie: Americans uniting to fight coron...</td>\n    </tr>\n    <tr>\n      <th>14999</th>\n      <td>Kyle Griffin</td>\n      <td>On Feb. 25, Nancy Messonnier, a senior CDC off...</td>\n    </tr>\n  </tbody>\n</table>\n<p>15000 rows × 2 columns</p>\n</div>"
     },
     "metadata": {},
     "execution_count": 14
    }
   ],
   "source": [
    "new_tweets_dataset = pd.read_csv('new_tweets.csv') \n",
    "new_tweets_dataset"
   ]
  },
  {
   "cell_type": "markdown",
   "metadata": {},
   "source": [
    "#### Calculate the tf-idf of new tweets"
   ]
  },
  {
   "cell_type": "code",
   "execution_count": 15,
   "metadata": {},
   "outputs": [
    {
     "output_type": "execute_result",
     "data": {
      "text/plain": "TfidfVectorizer(analyzer='word', binary=False, decode_error='strict',\n                dtype=<class 'numpy.float64'>, encoding='utf-8',\n                input='content', lowercase=True, max_df=1.0, max_features=None,\n                min_df=1, ngram_range=(1, 1), norm='l2', preprocessor=None,\n                smooth_idf=True, stop_words='english', strip_accents=None,\n                sublinear_tf=False, token_pattern='(?u)\\\\b\\\\w\\\\w+\\\\b',\n                tokenizer=None, use_idf=True, vocabulary=None)"
     },
     "metadata": {},
     "execution_count": 15
    },
    {
     "output_type": "execute_result",
     "data": {
      "text/plain": "                      User                                              Tweet  \\\n0          The White House  LIVE: Press Briefing with Coronavirus Task For...   \n1                isentoes2  Após governo americano dizer que China esconde...   \n2            Adam Schefter  Twitter CEO Jack Dorsey pledged $1 billion tow...   \n3             Kyle Griffin  House Armed Services Chairman Adam Smith: \"The...   \n4            Kamala Harris  Black communities disproportionately suffer fr...   \n...                    ...                                                ...   \n14995   Juanita Broaddrick  Many questions emerging about Dr Fauci’s agend...   \n14996                Benny  Taiwan Says It Warned @WHO About Coronavirus I...   \n14997  The Spectator Index  SPAIN: Coronavirus death toll rises by 324 ove...   \n14998     Donald Trump Jr.  David Bossie: Americans uniting to fight coron...   \n14999         Kyle Griffin  On Feb. 25, Nancy Messonnier, a senior CDC off...   \n\n        00  000  0002  000citizens  000l  000m  000s  000th  ...  𝗙𝗲𝗯𝗿𝘂𝗮𝗿𝘆  \\\n0      0.0  0.0   0.0          0.0   0.0   0.0   0.0    0.0  ...       0.0   \n1      0.0  0.0   0.0          0.0   0.0   0.0   0.0    0.0  ...       0.0   \n2      0.0  0.0   0.0          0.0   0.0   0.0   0.0    0.0  ...       0.0   \n3      0.0  0.0   0.0          0.0   0.0   0.0   0.0    0.0  ...       0.0   \n4      0.0  0.0   0.0          0.0   0.0   0.0   0.0    0.0  ...       0.0   \n...    ...  ...   ...          ...   ...   ...   ...    ...  ...       ...   \n14995  0.0  0.0   0.0          0.0   0.0   0.0   0.0    0.0  ...       0.0   \n14996  0.0  0.0   0.0          0.0   0.0   0.0   0.0    0.0  ...       0.0   \n14997  0.0  0.0   0.0          0.0   0.0   0.0   0.0    0.0  ...       0.0   \n14998  0.0  0.0   0.0          0.0   0.0   0.0   0.0    0.0  ...       0.0   \n14999  0.0  0.0   0.0          0.0   0.0   0.0   0.0    0.0  ...       0.0   \n\n       𝗚𝗟𝗢𝗕𝗔𝗟  𝗝𝗮𝗻𝘂𝗮𝗿𝘆  𝗠𝗮𝗿𝗰𝗵  𝗿𝗲𝘀𝗽𝗼𝗻𝘀𝗲   𝘁𝗼  𝘢𝘤𝘤𝘶𝘳𝘢𝘵𝘦  𝘤𝘶𝘳𝘳𝘦𝘯𝘵   𝟭𝟳   𝟮𝟰  \n0         0.0      0.0    0.0       0.0  0.0       0.0      0.0  0.0  0.0  \n1         0.0      0.0    0.0       0.0  0.0       0.0      0.0  0.0  0.0  \n2         0.0      0.0    0.0       0.0  0.0       0.0      0.0  0.0  0.0  \n3         0.0      0.0    0.0       0.0  0.0       0.0      0.0  0.0  0.0  \n4         0.0      0.0    0.0       0.0  0.0       0.0      0.0  0.0  0.0  \n...       ...      ...    ...       ...  ...       ...      ...  ...  ...  \n14995     0.0      0.0    0.0       0.0  0.0       0.0      0.0  0.0  0.0  \n14996     0.0      0.0    0.0       0.0  0.0       0.0      0.0  0.0  0.0  \n14997     0.0      0.0    0.0       0.0  0.0       0.0      0.0  0.0  0.0  \n14998     0.0      0.0    0.0       0.0  0.0       0.0      0.0  0.0  0.0  \n14999     0.0      0.0    0.0       0.0  0.0       0.0      0.0  0.0  0.0  \n\n[15000 rows x 60270 columns]",
      "text/html": "<div>\n<style scoped>\n    .dataframe tbody tr th:only-of-type {\n        vertical-align: middle;\n    }\n\n    .dataframe tbody tr th {\n        vertical-align: top;\n    }\n\n    .dataframe thead th {\n        text-align: right;\n    }\n</style>\n<table border=\"1\" class=\"dataframe\">\n  <thead>\n    <tr style=\"text-align: right;\">\n      <th></th>\n      <th>User</th>\n      <th>Tweet</th>\n      <th>00</th>\n      <th>000</th>\n      <th>0002</th>\n      <th>000citizens</th>\n      <th>000l</th>\n      <th>000m</th>\n      <th>000s</th>\n      <th>000th</th>\n      <th>...</th>\n      <th>𝗙𝗲𝗯𝗿𝘂𝗮𝗿𝘆</th>\n      <th>𝗚𝗟𝗢𝗕𝗔𝗟</th>\n      <th>𝗝𝗮𝗻𝘂𝗮𝗿𝘆</th>\n      <th>𝗠𝗮𝗿𝗰𝗵</th>\n      <th>𝗿𝗲𝘀𝗽𝗼𝗻𝘀𝗲</th>\n      <th>𝘁𝗼</th>\n      <th>𝘢𝘤𝘤𝘶𝘳𝘢𝘵𝘦</th>\n      <th>𝘤𝘶𝘳𝘳𝘦𝘯𝘵</th>\n      <th>𝟭𝟳</th>\n      <th>𝟮𝟰</th>\n    </tr>\n  </thead>\n  <tbody>\n    <tr>\n      <th>0</th>\n      <td>The White House</td>\n      <td>LIVE: Press Briefing with Coronavirus Task For...</td>\n      <td>0.0</td>\n      <td>0.0</td>\n      <td>0.0</td>\n      <td>0.0</td>\n      <td>0.0</td>\n      <td>0.0</td>\n      <td>0.0</td>\n      <td>0.0</td>\n      <td>...</td>\n      <td>0.0</td>\n      <td>0.0</td>\n      <td>0.0</td>\n      <td>0.0</td>\n      <td>0.0</td>\n      <td>0.0</td>\n      <td>0.0</td>\n      <td>0.0</td>\n      <td>0.0</td>\n      <td>0.0</td>\n    </tr>\n    <tr>\n      <th>1</th>\n      <td>isentoes2</td>\n      <td>Após governo americano dizer que China esconde...</td>\n      <td>0.0</td>\n      <td>0.0</td>\n      <td>0.0</td>\n      <td>0.0</td>\n      <td>0.0</td>\n      <td>0.0</td>\n      <td>0.0</td>\n      <td>0.0</td>\n      <td>...</td>\n      <td>0.0</td>\n      <td>0.0</td>\n      <td>0.0</td>\n      <td>0.0</td>\n      <td>0.0</td>\n      <td>0.0</td>\n      <td>0.0</td>\n      <td>0.0</td>\n      <td>0.0</td>\n      <td>0.0</td>\n    </tr>\n    <tr>\n      <th>2</th>\n      <td>Adam Schefter</td>\n      <td>Twitter CEO Jack Dorsey pledged $1 billion tow...</td>\n      <td>0.0</td>\n      <td>0.0</td>\n      <td>0.0</td>\n      <td>0.0</td>\n      <td>0.0</td>\n      <td>0.0</td>\n      <td>0.0</td>\n      <td>0.0</td>\n      <td>...</td>\n      <td>0.0</td>\n      <td>0.0</td>\n      <td>0.0</td>\n      <td>0.0</td>\n      <td>0.0</td>\n      <td>0.0</td>\n      <td>0.0</td>\n      <td>0.0</td>\n      <td>0.0</td>\n      <td>0.0</td>\n    </tr>\n    <tr>\n      <th>3</th>\n      <td>Kyle Griffin</td>\n      <td>House Armed Services Chairman Adam Smith: \"The...</td>\n      <td>0.0</td>\n      <td>0.0</td>\n      <td>0.0</td>\n      <td>0.0</td>\n      <td>0.0</td>\n      <td>0.0</td>\n      <td>0.0</td>\n      <td>0.0</td>\n      <td>...</td>\n      <td>0.0</td>\n      <td>0.0</td>\n      <td>0.0</td>\n      <td>0.0</td>\n      <td>0.0</td>\n      <td>0.0</td>\n      <td>0.0</td>\n      <td>0.0</td>\n      <td>0.0</td>\n      <td>0.0</td>\n    </tr>\n    <tr>\n      <th>4</th>\n      <td>Kamala Harris</td>\n      <td>Black communities disproportionately suffer fr...</td>\n      <td>0.0</td>\n      <td>0.0</td>\n      <td>0.0</td>\n      <td>0.0</td>\n      <td>0.0</td>\n      <td>0.0</td>\n      <td>0.0</td>\n      <td>0.0</td>\n      <td>...</td>\n      <td>0.0</td>\n      <td>0.0</td>\n      <td>0.0</td>\n      <td>0.0</td>\n      <td>0.0</td>\n      <td>0.0</td>\n      <td>0.0</td>\n      <td>0.0</td>\n      <td>0.0</td>\n      <td>0.0</td>\n    </tr>\n    <tr>\n      <th>...</th>\n      <td>...</td>\n      <td>...</td>\n      <td>...</td>\n      <td>...</td>\n      <td>...</td>\n      <td>...</td>\n      <td>...</td>\n      <td>...</td>\n      <td>...</td>\n      <td>...</td>\n      <td>...</td>\n      <td>...</td>\n      <td>...</td>\n      <td>...</td>\n      <td>...</td>\n      <td>...</td>\n      <td>...</td>\n      <td>...</td>\n      <td>...</td>\n      <td>...</td>\n      <td>...</td>\n    </tr>\n    <tr>\n      <th>14995</th>\n      <td>Juanita Broaddrick</td>\n      <td>Many questions emerging about Dr Fauci’s agend...</td>\n      <td>0.0</td>\n      <td>0.0</td>\n      <td>0.0</td>\n      <td>0.0</td>\n      <td>0.0</td>\n      <td>0.0</td>\n      <td>0.0</td>\n      <td>0.0</td>\n      <td>...</td>\n      <td>0.0</td>\n      <td>0.0</td>\n      <td>0.0</td>\n      <td>0.0</td>\n      <td>0.0</td>\n      <td>0.0</td>\n      <td>0.0</td>\n      <td>0.0</td>\n      <td>0.0</td>\n      <td>0.0</td>\n    </tr>\n    <tr>\n      <th>14996</th>\n      <td>Benny</td>\n      <td>Taiwan Says It Warned @WHO About Coronavirus I...</td>\n      <td>0.0</td>\n      <td>0.0</td>\n      <td>0.0</td>\n      <td>0.0</td>\n      <td>0.0</td>\n      <td>0.0</td>\n      <td>0.0</td>\n      <td>0.0</td>\n      <td>...</td>\n      <td>0.0</td>\n      <td>0.0</td>\n      <td>0.0</td>\n      <td>0.0</td>\n      <td>0.0</td>\n      <td>0.0</td>\n      <td>0.0</td>\n      <td>0.0</td>\n      <td>0.0</td>\n      <td>0.0</td>\n    </tr>\n    <tr>\n      <th>14997</th>\n      <td>The Spectator Index</td>\n      <td>SPAIN: Coronavirus death toll rises by 324 ove...</td>\n      <td>0.0</td>\n      <td>0.0</td>\n      <td>0.0</td>\n      <td>0.0</td>\n      <td>0.0</td>\n      <td>0.0</td>\n      <td>0.0</td>\n      <td>0.0</td>\n      <td>...</td>\n      <td>0.0</td>\n      <td>0.0</td>\n      <td>0.0</td>\n      <td>0.0</td>\n      <td>0.0</td>\n      <td>0.0</td>\n      <td>0.0</td>\n      <td>0.0</td>\n      <td>0.0</td>\n      <td>0.0</td>\n    </tr>\n    <tr>\n      <th>14998</th>\n      <td>Donald Trump Jr.</td>\n      <td>David Bossie: Americans uniting to fight coron...</td>\n      <td>0.0</td>\n      <td>0.0</td>\n      <td>0.0</td>\n      <td>0.0</td>\n      <td>0.0</td>\n      <td>0.0</td>\n      <td>0.0</td>\n      <td>0.0</td>\n      <td>...</td>\n      <td>0.0</td>\n      <td>0.0</td>\n      <td>0.0</td>\n      <td>0.0</td>\n      <td>0.0</td>\n      <td>0.0</td>\n      <td>0.0</td>\n      <td>0.0</td>\n      <td>0.0</td>\n      <td>0.0</td>\n    </tr>\n    <tr>\n      <th>14999</th>\n      <td>Kyle Griffin</td>\n      <td>On Feb. 25, Nancy Messonnier, a senior CDC off...</td>\n      <td>0.0</td>\n      <td>0.0</td>\n      <td>0.0</td>\n      <td>0.0</td>\n      <td>0.0</td>\n      <td>0.0</td>\n      <td>0.0</td>\n      <td>0.0</td>\n      <td>...</td>\n      <td>0.0</td>\n      <td>0.0</td>\n      <td>0.0</td>\n      <td>0.0</td>\n      <td>0.0</td>\n      <td>0.0</td>\n      <td>0.0</td>\n      <td>0.0</td>\n      <td>0.0</td>\n      <td>0.0</td>\n    </tr>\n  </tbody>\n</table>\n<p>15000 rows × 60270 columns</p>\n</div>"
     },
     "metadata": {},
     "execution_count": 15
    }
   ],
   "source": [
    "vectorizer = TfidfVectorizer(stop_words='english')\n",
    "\n",
    "# tokenize and build vocab\n",
    "vectorizer.fit(new_tweets_dataset['Tweet'])\n",
    "\n",
    "# Tf-idf matrix by tweet\n",
    "tf_idf = vectorizer.transform(new_tweets_dataset['Tweet'])\n",
    "tf_idf = pd.DataFrame(tf_idf.toarray(), columns=vectorizer.get_feature_names())\n",
    "# Add TF-IDF column to tweets_dataset\n",
    "new_tweets_dataset = pd.concat([new_tweets_dataset, tf_idf], axis=1)\n",
    "new_tweets_dataset"
   ]
  },
  {
   "cell_type": "markdown",
   "metadata": {},
   "source": [
    "#### Split custom dataset in labels(Retweet count) and features"
   ]
  },
  {
   "cell_type": "code",
   "execution_count": 16,
   "metadata": {},
   "outputs": [
    {
     "output_type": "execute_result",
     "data": {
      "text/plain": "       00       000  00001  000morts  004  005  008uae3frs   01  015  016  \\\n0     0.0  0.000000    0.0       0.0  0.0  0.0         0.0  0.0  0.0  0.0   \n1     0.0  0.000000    0.0       0.0  0.0  0.0         0.0  0.0  0.0  0.0   \n2     0.0  0.431112    0.0       0.0  0.0  0.0         0.0  0.0  0.0  0.0   \n3     0.0  0.000000    0.0       0.0  0.0  0.0         0.0  0.0  0.0  0.0   \n4     0.0  0.000000    0.0       0.0  0.0  0.0         0.0  0.0  0.0  0.0   \n...   ...       ...    ...       ...  ...  ...         ...  ...  ...  ...   \n5756  0.0  0.000000    0.0       0.0  0.0  0.0         0.0  0.0  0.0  0.0   \n5757  0.0  0.000000    0.0       0.0  0.0  0.0         0.0  0.0  0.0  0.0   \n5758  0.0  0.000000    0.0       0.0  0.0  0.0         0.0  0.0  0.0  0.0   \n5759  0.0  0.000000    0.0       0.0  0.0  0.0         0.0  0.0  0.0  0.0   \n5760  0.0  0.000000    0.0       0.0  0.0  0.0         0.0  0.0  0.0  0.0   \n\n      ...   대구   수호   엑소  엔시티드림_당장_입국시켜  웨이션브이_당장_입국시켜  윤기야  좋은_날이_앞으로_많기를  \\\n0     ...  0.0  0.0  0.0            0.0            0.0  0.0            0.0   \n1     ...  0.0  0.0  0.0            0.0            0.0  0.0            0.0   \n2     ...  0.0  0.0  0.0            0.0            0.0  0.0            0.0   \n3     ...  0.0  0.0  0.0            0.0            0.0  0.0            0.0   \n4     ...  0.0  0.0  0.0            0.0            0.0  0.0            0.0   \n...   ...  ...  ...  ...            ...            ...  ...            ...   \n5756  ...  0.0  0.0  0.0            0.0            0.0  0.0            0.0   \n5757  ...  0.0  0.0  0.0            0.0            0.0  0.0            0.0   \n5758  ...  0.0  0.0  0.0            0.0            0.0  0.0            0.0   \n5759  ...  0.0  0.0  0.0            0.0            0.0  0.0            0.0   \n5760  ...  0.0  0.0  0.0            0.0            0.0  0.0            0.0   \n\n       찬열  트와이스  화이팅  \n0     0.0   0.0  0.0  \n1     0.0   0.0  0.0  \n2     0.0   0.0  0.0  \n3     0.0   0.0  0.0  \n4     0.0   0.0  0.0  \n...   ...   ...  ...  \n5756  0.0   0.0  0.0  \n5757  0.0   0.0  0.0  \n5758  0.0   0.0  0.0  \n5759  0.0   0.0  0.0  \n5760  0.0   0.0  0.0  \n\n[5761 rows x 27638 columns]",
      "text/html": "<div>\n<style scoped>\n    .dataframe tbody tr th:only-of-type {\n        vertical-align: middle;\n    }\n\n    .dataframe tbody tr th {\n        vertical-align: top;\n    }\n\n    .dataframe thead th {\n        text-align: right;\n    }\n</style>\n<table border=\"1\" class=\"dataframe\">\n  <thead>\n    <tr style=\"text-align: right;\">\n      <th></th>\n      <th>00</th>\n      <th>000</th>\n      <th>00001</th>\n      <th>000morts</th>\n      <th>004</th>\n      <th>005</th>\n      <th>008uae3frs</th>\n      <th>01</th>\n      <th>015</th>\n      <th>016</th>\n      <th>...</th>\n      <th>대구</th>\n      <th>수호</th>\n      <th>엑소</th>\n      <th>엔시티드림_당장_입국시켜</th>\n      <th>웨이션브이_당장_입국시켜</th>\n      <th>윤기야</th>\n      <th>좋은_날이_앞으로_많기를</th>\n      <th>찬열</th>\n      <th>트와이스</th>\n      <th>화이팅</th>\n    </tr>\n  </thead>\n  <tbody>\n    <tr>\n      <th>0</th>\n      <td>0.0</td>\n      <td>0.000000</td>\n      <td>0.0</td>\n      <td>0.0</td>\n      <td>0.0</td>\n      <td>0.0</td>\n      <td>0.0</td>\n      <td>0.0</td>\n      <td>0.0</td>\n      <td>0.0</td>\n      <td>...</td>\n      <td>0.0</td>\n      <td>0.0</td>\n      <td>0.0</td>\n      <td>0.0</td>\n      <td>0.0</td>\n      <td>0.0</td>\n      <td>0.0</td>\n      <td>0.0</td>\n      <td>0.0</td>\n      <td>0.0</td>\n    </tr>\n    <tr>\n      <th>1</th>\n      <td>0.0</td>\n      <td>0.000000</td>\n      <td>0.0</td>\n      <td>0.0</td>\n      <td>0.0</td>\n      <td>0.0</td>\n      <td>0.0</td>\n      <td>0.0</td>\n      <td>0.0</td>\n      <td>0.0</td>\n      <td>...</td>\n      <td>0.0</td>\n      <td>0.0</td>\n      <td>0.0</td>\n      <td>0.0</td>\n      <td>0.0</td>\n      <td>0.0</td>\n      <td>0.0</td>\n      <td>0.0</td>\n      <td>0.0</td>\n      <td>0.0</td>\n    </tr>\n    <tr>\n      <th>2</th>\n      <td>0.0</td>\n      <td>0.431112</td>\n      <td>0.0</td>\n      <td>0.0</td>\n      <td>0.0</td>\n      <td>0.0</td>\n      <td>0.0</td>\n      <td>0.0</td>\n      <td>0.0</td>\n      <td>0.0</td>\n      <td>...</td>\n      <td>0.0</td>\n      <td>0.0</td>\n      <td>0.0</td>\n      <td>0.0</td>\n      <td>0.0</td>\n      <td>0.0</td>\n      <td>0.0</td>\n      <td>0.0</td>\n      <td>0.0</td>\n      <td>0.0</td>\n    </tr>\n    <tr>\n      <th>3</th>\n      <td>0.0</td>\n      <td>0.000000</td>\n      <td>0.0</td>\n      <td>0.0</td>\n      <td>0.0</td>\n      <td>0.0</td>\n      <td>0.0</td>\n      <td>0.0</td>\n      <td>0.0</td>\n      <td>0.0</td>\n      <td>...</td>\n      <td>0.0</td>\n      <td>0.0</td>\n      <td>0.0</td>\n      <td>0.0</td>\n      <td>0.0</td>\n      <td>0.0</td>\n      <td>0.0</td>\n      <td>0.0</td>\n      <td>0.0</td>\n      <td>0.0</td>\n    </tr>\n    <tr>\n      <th>4</th>\n      <td>0.0</td>\n      <td>0.000000</td>\n      <td>0.0</td>\n      <td>0.0</td>\n      <td>0.0</td>\n      <td>0.0</td>\n      <td>0.0</td>\n      <td>0.0</td>\n      <td>0.0</td>\n      <td>0.0</td>\n      <td>...</td>\n      <td>0.0</td>\n      <td>0.0</td>\n      <td>0.0</td>\n      <td>0.0</td>\n      <td>0.0</td>\n      <td>0.0</td>\n      <td>0.0</td>\n      <td>0.0</td>\n      <td>0.0</td>\n      <td>0.0</td>\n    </tr>\n    <tr>\n      <th>...</th>\n      <td>...</td>\n      <td>...</td>\n      <td>...</td>\n      <td>...</td>\n      <td>...</td>\n      <td>...</td>\n      <td>...</td>\n      <td>...</td>\n      <td>...</td>\n      <td>...</td>\n      <td>...</td>\n      <td>...</td>\n      <td>...</td>\n      <td>...</td>\n      <td>...</td>\n      <td>...</td>\n      <td>...</td>\n      <td>...</td>\n      <td>...</td>\n      <td>...</td>\n      <td>...</td>\n    </tr>\n    <tr>\n      <th>5756</th>\n      <td>0.0</td>\n      <td>0.000000</td>\n      <td>0.0</td>\n      <td>0.0</td>\n      <td>0.0</td>\n      <td>0.0</td>\n      <td>0.0</td>\n      <td>0.0</td>\n      <td>0.0</td>\n      <td>0.0</td>\n      <td>...</td>\n      <td>0.0</td>\n      <td>0.0</td>\n      <td>0.0</td>\n      <td>0.0</td>\n      <td>0.0</td>\n      <td>0.0</td>\n      <td>0.0</td>\n      <td>0.0</td>\n      <td>0.0</td>\n      <td>0.0</td>\n    </tr>\n    <tr>\n      <th>5757</th>\n      <td>0.0</td>\n      <td>0.000000</td>\n      <td>0.0</td>\n      <td>0.0</td>\n      <td>0.0</td>\n      <td>0.0</td>\n      <td>0.0</td>\n      <td>0.0</td>\n      <td>0.0</td>\n      <td>0.0</td>\n      <td>...</td>\n      <td>0.0</td>\n      <td>0.0</td>\n      <td>0.0</td>\n      <td>0.0</td>\n      <td>0.0</td>\n      <td>0.0</td>\n      <td>0.0</td>\n      <td>0.0</td>\n      <td>0.0</td>\n      <td>0.0</td>\n    </tr>\n    <tr>\n      <th>5758</th>\n      <td>0.0</td>\n      <td>0.000000</td>\n      <td>0.0</td>\n      <td>0.0</td>\n      <td>0.0</td>\n      <td>0.0</td>\n      <td>0.0</td>\n      <td>0.0</td>\n      <td>0.0</td>\n      <td>0.0</td>\n      <td>...</td>\n      <td>0.0</td>\n      <td>0.0</td>\n      <td>0.0</td>\n      <td>0.0</td>\n      <td>0.0</td>\n      <td>0.0</td>\n      <td>0.0</td>\n      <td>0.0</td>\n      <td>0.0</td>\n      <td>0.0</td>\n    </tr>\n    <tr>\n      <th>5759</th>\n      <td>0.0</td>\n      <td>0.000000</td>\n      <td>0.0</td>\n      <td>0.0</td>\n      <td>0.0</td>\n      <td>0.0</td>\n      <td>0.0</td>\n      <td>0.0</td>\n      <td>0.0</td>\n      <td>0.0</td>\n      <td>...</td>\n      <td>0.0</td>\n      <td>0.0</td>\n      <td>0.0</td>\n      <td>0.0</td>\n      <td>0.0</td>\n      <td>0.0</td>\n      <td>0.0</td>\n      <td>0.0</td>\n      <td>0.0</td>\n      <td>0.0</td>\n    </tr>\n    <tr>\n      <th>5760</th>\n      <td>0.0</td>\n      <td>0.000000</td>\n      <td>0.0</td>\n      <td>0.0</td>\n      <td>0.0</td>\n      <td>0.0</td>\n      <td>0.0</td>\n      <td>0.0</td>\n      <td>0.0</td>\n      <td>0.0</td>\n      <td>...</td>\n      <td>0.0</td>\n      <td>0.0</td>\n      <td>0.0</td>\n      <td>0.0</td>\n      <td>0.0</td>\n      <td>0.0</td>\n      <td>0.0</td>\n      <td>0.0</td>\n      <td>0.0</td>\n      <td>0.0</td>\n    </tr>\n  </tbody>\n</table>\n<p>5761 rows × 27638 columns</p>\n</div>"
     },
     "metadata": {},
     "execution_count": 16
    },
    {
     "output_type": "execute_result",
     "data": {
      "text/plain": "0       131697\n1        13104\n2        81356\n3        14595\n4        25424\n         ...  \n5756     11880\n5757      2723\n5758      1590\n5759      6907\n5760     15214\nName: Retweet count, Length: 5761, dtype: int64"
     },
     "metadata": {},
     "execution_count": 16
    }
   ],
   "source": [
    "# split the custom_dataset both in training and testing sets\n",
    "new_custom_dataset = custom_dataset.drop(['Likes count','Tweet value','Popular','Total tweets','Retweets','Images','Links','Chats','Text tweets','Impacts','Followers','User value','Tweets value'], axis=1)\n",
    "new_train_feat, new_train_labels= new_custom_dataset.drop('Retweet count', axis= 1), new_custom_dataset['Retweet count']\n",
    "new_train_feat\n",
    "new_train_labels"
   ]
  },
  {
   "cell_type": "code",
   "execution_count": 17,
   "metadata": {},
   "outputs": [
    {
     "output_type": "error",
     "ename": "MemoryError",
     "evalue": "Unable to allocate 823. MiB for an array with shape (107875017,) and data type float64",
     "traceback": [
      "\u001b[1;31m---------------------------------------------------------------------------\u001b[0m",
      "\u001b[1;31mMemoryError\u001b[0m                               Traceback (most recent call last)",
      "\u001b[1;32m<ipython-input-17-e43596fa4f1f>\u001b[0m in \u001b[0;36m<module>\u001b[1;34m\u001b[0m\n\u001b[0;32m      1\u001b[0m \u001b[0mmodel\u001b[0m \u001b[1;33m=\u001b[0m \u001b[0mLogisticRegression\u001b[0m\u001b[1;33m(\u001b[0m\u001b[1;33m)\u001b[0m\u001b[1;33m\u001b[0m\u001b[1;33m\u001b[0m\u001b[0m\n\u001b[1;32m----> 2\u001b[1;33m \u001b[0mmodel\u001b[0m\u001b[1;33m.\u001b[0m\u001b[0mfit\u001b[0m\u001b[1;33m(\u001b[0m\u001b[0mnew_train_feat\u001b[0m\u001b[1;33m,\u001b[0m \u001b[0mnew_train_labels\u001b[0m\u001b[1;33m)\u001b[0m\u001b[1;33m\u001b[0m\u001b[1;33m\u001b[0m\u001b[0m\n\u001b[0m\u001b[0;32m      3\u001b[0m \u001b[1;33m\u001b[0m\u001b[0m\n\u001b[0;32m      4\u001b[0m \u001b[0mscore_train\u001b[0m \u001b[1;33m=\u001b[0m  \u001b[0mmodel\u001b[0m\u001b[1;33m.\u001b[0m\u001b[0mscore\u001b[0m\u001b[1;33m(\u001b[0m\u001b[0mnew_train_feat\u001b[0m\u001b[1;33m,\u001b[0m \u001b[0mnew_train_labels\u001b[0m\u001b[1;33m)\u001b[0m\u001b[1;33m\u001b[0m\u001b[1;33m\u001b[0m\u001b[0m\n\u001b[0;32m      5\u001b[0m \u001b[0mprint\u001b[0m\u001b[1;33m(\u001b[0m\u001b[1;34m'Train set score: '\u001b[0m\u001b[1;33m,\u001b[0m \u001b[0mscore_train\u001b[0m\u001b[1;33m)\u001b[0m\u001b[1;33m\u001b[0m\u001b[1;33m\u001b[0m\u001b[0m\n",
      "\u001b[1;32mC:\\Program Files\\Python37\\lib\\site-packages\\sklearn\\linear_model\\_logistic.py\u001b[0m in \u001b[0;36mfit\u001b[1;34m(self, X, y, sample_weight)\u001b[0m\n\u001b[0;32m   1599\u001b[0m                       \u001b[0mpenalty\u001b[0m\u001b[1;33m=\u001b[0m\u001b[0mpenalty\u001b[0m\u001b[1;33m,\u001b[0m \u001b[0mmax_squared_sum\u001b[0m\u001b[1;33m=\u001b[0m\u001b[0mmax_squared_sum\u001b[0m\u001b[1;33m,\u001b[0m\u001b[1;33m\u001b[0m\u001b[1;33m\u001b[0m\u001b[0m\n\u001b[0;32m   1600\u001b[0m                       sample_weight=sample_weight)\n\u001b[1;32m-> 1601\u001b[1;33m             for class_, warm_start_coef_ in zip(classes_, warm_start_coef))\n\u001b[0m\u001b[0;32m   1602\u001b[0m \u001b[1;33m\u001b[0m\u001b[0m\n\u001b[0;32m   1603\u001b[0m         \u001b[0mfold_coefs_\u001b[0m\u001b[1;33m,\u001b[0m \u001b[0m_\u001b[0m\u001b[1;33m,\u001b[0m \u001b[0mn_iter_\u001b[0m \u001b[1;33m=\u001b[0m \u001b[0mzip\u001b[0m\u001b[1;33m(\u001b[0m\u001b[1;33m*\u001b[0m\u001b[0mfold_coefs_\u001b[0m\u001b[1;33m)\u001b[0m\u001b[1;33m\u001b[0m\u001b[1;33m\u001b[0m\u001b[0m\n",
      "\u001b[1;32mC:\\Program Files\\Python37\\lib\\site-packages\\joblib\\parallel.py\u001b[0m in \u001b[0;36m__call__\u001b[1;34m(self, iterable)\u001b[0m\n\u001b[0;32m   1002\u001b[0m             \u001b[1;31m# remaining jobs.\u001b[0m\u001b[1;33m\u001b[0m\u001b[1;33m\u001b[0m\u001b[1;33m\u001b[0m\u001b[0m\n\u001b[0;32m   1003\u001b[0m             \u001b[0mself\u001b[0m\u001b[1;33m.\u001b[0m\u001b[0m_iterating\u001b[0m \u001b[1;33m=\u001b[0m \u001b[1;32mFalse\u001b[0m\u001b[1;33m\u001b[0m\u001b[1;33m\u001b[0m\u001b[0m\n\u001b[1;32m-> 1004\u001b[1;33m             \u001b[1;32mif\u001b[0m \u001b[0mself\u001b[0m\u001b[1;33m.\u001b[0m\u001b[0mdispatch_one_batch\u001b[0m\u001b[1;33m(\u001b[0m\u001b[0miterator\u001b[0m\u001b[1;33m)\u001b[0m\u001b[1;33m:\u001b[0m\u001b[1;33m\u001b[0m\u001b[1;33m\u001b[0m\u001b[0m\n\u001b[0m\u001b[0;32m   1005\u001b[0m                 \u001b[0mself\u001b[0m\u001b[1;33m.\u001b[0m\u001b[0m_iterating\u001b[0m \u001b[1;33m=\u001b[0m \u001b[0mself\u001b[0m\u001b[1;33m.\u001b[0m\u001b[0m_original_iterator\u001b[0m \u001b[1;32mis\u001b[0m \u001b[1;32mnot\u001b[0m \u001b[1;32mNone\u001b[0m\u001b[1;33m\u001b[0m\u001b[1;33m\u001b[0m\u001b[0m\n\u001b[0;32m   1006\u001b[0m \u001b[1;33m\u001b[0m\u001b[0m\n",
      "\u001b[1;32mC:\\Program Files\\Python37\\lib\\site-packages\\joblib\\parallel.py\u001b[0m in \u001b[0;36mdispatch_one_batch\u001b[1;34m(self, iterator)\u001b[0m\n\u001b[0;32m    833\u001b[0m                 \u001b[1;32mreturn\u001b[0m \u001b[1;32mFalse\u001b[0m\u001b[1;33m\u001b[0m\u001b[1;33m\u001b[0m\u001b[0m\n\u001b[0;32m    834\u001b[0m             \u001b[1;32melse\u001b[0m\u001b[1;33m:\u001b[0m\u001b[1;33m\u001b[0m\u001b[1;33m\u001b[0m\u001b[0m\n\u001b[1;32m--> 835\u001b[1;33m                 \u001b[0mself\u001b[0m\u001b[1;33m.\u001b[0m\u001b[0m_dispatch\u001b[0m\u001b[1;33m(\u001b[0m\u001b[0mtasks\u001b[0m\u001b[1;33m)\u001b[0m\u001b[1;33m\u001b[0m\u001b[1;33m\u001b[0m\u001b[0m\n\u001b[0m\u001b[0;32m    836\u001b[0m                 \u001b[1;32mreturn\u001b[0m \u001b[1;32mTrue\u001b[0m\u001b[1;33m\u001b[0m\u001b[1;33m\u001b[0m\u001b[0m\n\u001b[0;32m    837\u001b[0m \u001b[1;33m\u001b[0m\u001b[0m\n",
      "\u001b[1;32mC:\\Program Files\\Python37\\lib\\site-packages\\joblib\\parallel.py\u001b[0m in \u001b[0;36m_dispatch\u001b[1;34m(self, batch)\u001b[0m\n\u001b[0;32m    752\u001b[0m         \u001b[1;32mwith\u001b[0m \u001b[0mself\u001b[0m\u001b[1;33m.\u001b[0m\u001b[0m_lock\u001b[0m\u001b[1;33m:\u001b[0m\u001b[1;33m\u001b[0m\u001b[1;33m\u001b[0m\u001b[0m\n\u001b[0;32m    753\u001b[0m             \u001b[0mjob_idx\u001b[0m \u001b[1;33m=\u001b[0m \u001b[0mlen\u001b[0m\u001b[1;33m(\u001b[0m\u001b[0mself\u001b[0m\u001b[1;33m.\u001b[0m\u001b[0m_jobs\u001b[0m\u001b[1;33m)\u001b[0m\u001b[1;33m\u001b[0m\u001b[1;33m\u001b[0m\u001b[0m\n\u001b[1;32m--> 754\u001b[1;33m             \u001b[0mjob\u001b[0m \u001b[1;33m=\u001b[0m \u001b[0mself\u001b[0m\u001b[1;33m.\u001b[0m\u001b[0m_backend\u001b[0m\u001b[1;33m.\u001b[0m\u001b[0mapply_async\u001b[0m\u001b[1;33m(\u001b[0m\u001b[0mbatch\u001b[0m\u001b[1;33m,\u001b[0m \u001b[0mcallback\u001b[0m\u001b[1;33m=\u001b[0m\u001b[0mcb\u001b[0m\u001b[1;33m)\u001b[0m\u001b[1;33m\u001b[0m\u001b[1;33m\u001b[0m\u001b[0m\n\u001b[0m\u001b[0;32m    755\u001b[0m             \u001b[1;31m# A job can complete so quickly than its callback is\u001b[0m\u001b[1;33m\u001b[0m\u001b[1;33m\u001b[0m\u001b[1;33m\u001b[0m\u001b[0m\n\u001b[0;32m    756\u001b[0m             \u001b[1;31m# called before we get here, causing self._jobs to\u001b[0m\u001b[1;33m\u001b[0m\u001b[1;33m\u001b[0m\u001b[1;33m\u001b[0m\u001b[0m\n",
      "\u001b[1;32mC:\\Program Files\\Python37\\lib\\site-packages\\joblib\\_parallel_backends.py\u001b[0m in \u001b[0;36mapply_async\u001b[1;34m(self, func, callback)\u001b[0m\n\u001b[0;32m    207\u001b[0m     \u001b[1;32mdef\u001b[0m \u001b[0mapply_async\u001b[0m\u001b[1;33m(\u001b[0m\u001b[0mself\u001b[0m\u001b[1;33m,\u001b[0m \u001b[0mfunc\u001b[0m\u001b[1;33m,\u001b[0m \u001b[0mcallback\u001b[0m\u001b[1;33m=\u001b[0m\u001b[1;32mNone\u001b[0m\u001b[1;33m)\u001b[0m\u001b[1;33m:\u001b[0m\u001b[1;33m\u001b[0m\u001b[1;33m\u001b[0m\u001b[0m\n\u001b[0;32m    208\u001b[0m         \u001b[1;34m\"\"\"Schedule a func to be run\"\"\"\u001b[0m\u001b[1;33m\u001b[0m\u001b[1;33m\u001b[0m\u001b[0m\n\u001b[1;32m--> 209\u001b[1;33m         \u001b[0mresult\u001b[0m \u001b[1;33m=\u001b[0m \u001b[0mImmediateResult\u001b[0m\u001b[1;33m(\u001b[0m\u001b[0mfunc\u001b[0m\u001b[1;33m)\u001b[0m\u001b[1;33m\u001b[0m\u001b[1;33m\u001b[0m\u001b[0m\n\u001b[0m\u001b[0;32m    210\u001b[0m         \u001b[1;32mif\u001b[0m \u001b[0mcallback\u001b[0m\u001b[1;33m:\u001b[0m\u001b[1;33m\u001b[0m\u001b[1;33m\u001b[0m\u001b[0m\n\u001b[0;32m    211\u001b[0m             \u001b[0mcallback\u001b[0m\u001b[1;33m(\u001b[0m\u001b[0mresult\u001b[0m\u001b[1;33m)\u001b[0m\u001b[1;33m\u001b[0m\u001b[1;33m\u001b[0m\u001b[0m\n",
      "\u001b[1;32mC:\\Program Files\\Python37\\lib\\site-packages\\joblib\\_parallel_backends.py\u001b[0m in \u001b[0;36m__init__\u001b[1;34m(self, batch)\u001b[0m\n\u001b[0;32m    588\u001b[0m         \u001b[1;31m# Don't delay the application, to avoid keeping the input\u001b[0m\u001b[1;33m\u001b[0m\u001b[1;33m\u001b[0m\u001b[1;33m\u001b[0m\u001b[0m\n\u001b[0;32m    589\u001b[0m         \u001b[1;31m# arguments in memory\u001b[0m\u001b[1;33m\u001b[0m\u001b[1;33m\u001b[0m\u001b[1;33m\u001b[0m\u001b[0m\n\u001b[1;32m--> 590\u001b[1;33m         \u001b[0mself\u001b[0m\u001b[1;33m.\u001b[0m\u001b[0mresults\u001b[0m \u001b[1;33m=\u001b[0m \u001b[0mbatch\u001b[0m\u001b[1;33m(\u001b[0m\u001b[1;33m)\u001b[0m\u001b[1;33m\u001b[0m\u001b[1;33m\u001b[0m\u001b[0m\n\u001b[0m\u001b[0;32m    591\u001b[0m \u001b[1;33m\u001b[0m\u001b[0m\n\u001b[0;32m    592\u001b[0m     \u001b[1;32mdef\u001b[0m \u001b[0mget\u001b[0m\u001b[1;33m(\u001b[0m\u001b[0mself\u001b[0m\u001b[1;33m)\u001b[0m\u001b[1;33m:\u001b[0m\u001b[1;33m\u001b[0m\u001b[1;33m\u001b[0m\u001b[0m\n",
      "\u001b[1;32mC:\\Program Files\\Python37\\lib\\site-packages\\joblib\\parallel.py\u001b[0m in \u001b[0;36m__call__\u001b[1;34m(self)\u001b[0m\n\u001b[0;32m    254\u001b[0m         \u001b[1;32mwith\u001b[0m \u001b[0mparallel_backend\u001b[0m\u001b[1;33m(\u001b[0m\u001b[0mself\u001b[0m\u001b[1;33m.\u001b[0m\u001b[0m_backend\u001b[0m\u001b[1;33m,\u001b[0m \u001b[0mn_jobs\u001b[0m\u001b[1;33m=\u001b[0m\u001b[0mself\u001b[0m\u001b[1;33m.\u001b[0m\u001b[0m_n_jobs\u001b[0m\u001b[1;33m)\u001b[0m\u001b[1;33m:\u001b[0m\u001b[1;33m\u001b[0m\u001b[1;33m\u001b[0m\u001b[0m\n\u001b[0;32m    255\u001b[0m             return [func(*args, **kwargs)\n\u001b[1;32m--> 256\u001b[1;33m                     for func, args, kwargs in self.items]\n\u001b[0m\u001b[0;32m    257\u001b[0m \u001b[1;33m\u001b[0m\u001b[0m\n\u001b[0;32m    258\u001b[0m     \u001b[1;32mdef\u001b[0m \u001b[0m__len__\u001b[0m\u001b[1;33m(\u001b[0m\u001b[0mself\u001b[0m\u001b[1;33m)\u001b[0m\u001b[1;33m:\u001b[0m\u001b[1;33m\u001b[0m\u001b[1;33m\u001b[0m\u001b[0m\n",
      "\u001b[1;32mC:\\Program Files\\Python37\\lib\\site-packages\\joblib\\parallel.py\u001b[0m in \u001b[0;36m<listcomp>\u001b[1;34m(.0)\u001b[0m\n\u001b[0;32m    254\u001b[0m         \u001b[1;32mwith\u001b[0m \u001b[0mparallel_backend\u001b[0m\u001b[1;33m(\u001b[0m\u001b[0mself\u001b[0m\u001b[1;33m.\u001b[0m\u001b[0m_backend\u001b[0m\u001b[1;33m,\u001b[0m \u001b[0mn_jobs\u001b[0m\u001b[1;33m=\u001b[0m\u001b[0mself\u001b[0m\u001b[1;33m.\u001b[0m\u001b[0m_n_jobs\u001b[0m\u001b[1;33m)\u001b[0m\u001b[1;33m:\u001b[0m\u001b[1;33m\u001b[0m\u001b[1;33m\u001b[0m\u001b[0m\n\u001b[0;32m    255\u001b[0m             return [func(*args, **kwargs)\n\u001b[1;32m--> 256\u001b[1;33m                     for func, args, kwargs in self.items]\n\u001b[0m\u001b[0;32m    257\u001b[0m \u001b[1;33m\u001b[0m\u001b[0m\n\u001b[0;32m    258\u001b[0m     \u001b[1;32mdef\u001b[0m \u001b[0m__len__\u001b[0m\u001b[1;33m(\u001b[0m\u001b[0mself\u001b[0m\u001b[1;33m)\u001b[0m\u001b[1;33m:\u001b[0m\u001b[1;33m\u001b[0m\u001b[1;33m\u001b[0m\u001b[0m\n",
      "\u001b[1;32mC:\\Program Files\\Python37\\lib\\site-packages\\sklearn\\linear_model\\_logistic.py\u001b[0m in \u001b[0;36m_logistic_regression_path\u001b[1;34m(X, y, pos_class, Cs, fit_intercept, max_iter, tol, verbose, solver, coef, class_weight, dual, penalty, intercept_scaling, multi_class, random_state, check_input, max_squared_sum, sample_weight, l1_ratio)\u001b[0m\n\u001b[0;32m    934\u001b[0m                 \u001b[0mfunc\u001b[0m\u001b[1;33m,\u001b[0m \u001b[0mw0\u001b[0m\u001b[1;33m,\u001b[0m \u001b[0mmethod\u001b[0m\u001b[1;33m=\u001b[0m\u001b[1;34m\"L-BFGS-B\"\u001b[0m\u001b[1;33m,\u001b[0m \u001b[0mjac\u001b[0m\u001b[1;33m=\u001b[0m\u001b[1;32mTrue\u001b[0m\u001b[1;33m,\u001b[0m\u001b[1;33m\u001b[0m\u001b[1;33m\u001b[0m\u001b[0m\n\u001b[0;32m    935\u001b[0m                 \u001b[0margs\u001b[0m\u001b[1;33m=\u001b[0m\u001b[1;33m(\u001b[0m\u001b[0mX\u001b[0m\u001b[1;33m,\u001b[0m \u001b[0mtarget\u001b[0m\u001b[1;33m,\u001b[0m \u001b[1;36m1.\u001b[0m \u001b[1;33m/\u001b[0m \u001b[0mC\u001b[0m\u001b[1;33m,\u001b[0m \u001b[0msample_weight\u001b[0m\u001b[1;33m)\u001b[0m\u001b[1;33m,\u001b[0m\u001b[1;33m\u001b[0m\u001b[1;33m\u001b[0m\u001b[0m\n\u001b[1;32m--> 936\u001b[1;33m                 \u001b[0moptions\u001b[0m\u001b[1;33m=\u001b[0m\u001b[1;33m{\u001b[0m\u001b[1;34m\"iprint\"\u001b[0m\u001b[1;33m:\u001b[0m \u001b[0miprint\u001b[0m\u001b[1;33m,\u001b[0m \u001b[1;34m\"gtol\"\u001b[0m\u001b[1;33m:\u001b[0m \u001b[0mtol\u001b[0m\u001b[1;33m,\u001b[0m \u001b[1;34m\"maxiter\"\u001b[0m\u001b[1;33m:\u001b[0m \u001b[0mmax_iter\u001b[0m\u001b[1;33m}\u001b[0m\u001b[1;33m\u001b[0m\u001b[1;33m\u001b[0m\u001b[0m\n\u001b[0m\u001b[0;32m    937\u001b[0m             )\n\u001b[0;32m    938\u001b[0m             n_iter_i = _check_optimize_result(\n",
      "\u001b[1;32mC:\\Program Files\\Python37\\lib\\site-packages\\scipy\\optimize\\_minimize.py\u001b[0m in \u001b[0;36mminimize\u001b[1;34m(fun, x0, args, method, jac, hess, hessp, bounds, constraints, tol, callback, options)\u001b[0m\n\u001b[0;32m    608\u001b[0m     \u001b[1;32melif\u001b[0m \u001b[0mmeth\u001b[0m \u001b[1;33m==\u001b[0m \u001b[1;34m'l-bfgs-b'\u001b[0m\u001b[1;33m:\u001b[0m\u001b[1;33m\u001b[0m\u001b[1;33m\u001b[0m\u001b[0m\n\u001b[0;32m    609\u001b[0m         return _minimize_lbfgsb(fun, x0, args, jac, bounds,\n\u001b[1;32m--> 610\u001b[1;33m                                 callback=callback, **options)\n\u001b[0m\u001b[0;32m    611\u001b[0m     \u001b[1;32melif\u001b[0m \u001b[0mmeth\u001b[0m \u001b[1;33m==\u001b[0m \u001b[1;34m'tnc'\u001b[0m\u001b[1;33m:\u001b[0m\u001b[1;33m\u001b[0m\u001b[1;33m\u001b[0m\u001b[0m\n\u001b[0;32m    612\u001b[0m         return _minimize_tnc(fun, x0, args, jac, bounds, callback=callback,\n",
      "\u001b[1;32mC:\\Program Files\\Python37\\lib\\site-packages\\scipy\\optimize\\lbfgsb.py\u001b[0m in \u001b[0;36m_minimize_lbfgsb\u001b[1;34m(fun, x0, args, jac, bounds, disp, maxcor, ftol, gtol, eps, maxfun, maxiter, iprint, callback, maxls, **unknown_options)\u001b[0m\n\u001b[0;32m    317\u001b[0m         \u001b[1;32mraise\u001b[0m \u001b[0mValueError\u001b[0m\u001b[1;33m(\u001b[0m\u001b[1;34m'maxls must be positive.'\u001b[0m\u001b[1;33m)\u001b[0m\u001b[1;33m\u001b[0m\u001b[1;33m\u001b[0m\u001b[0m\n\u001b[0;32m    318\u001b[0m \u001b[1;33m\u001b[0m\u001b[0m\n\u001b[1;32m--> 319\u001b[1;33m     \u001b[0mx\u001b[0m \u001b[1;33m=\u001b[0m \u001b[0marray\u001b[0m\u001b[1;33m(\u001b[0m\u001b[0mx0\u001b[0m\u001b[1;33m,\u001b[0m \u001b[0mfloat64\u001b[0m\u001b[1;33m)\u001b[0m\u001b[1;33m\u001b[0m\u001b[1;33m\u001b[0m\u001b[0m\n\u001b[0m\u001b[0;32m    320\u001b[0m     \u001b[0mf\u001b[0m \u001b[1;33m=\u001b[0m \u001b[0marray\u001b[0m\u001b[1;33m(\u001b[0m\u001b[1;36m0.0\u001b[0m\u001b[1;33m,\u001b[0m \u001b[0mfloat64\u001b[0m\u001b[1;33m)\u001b[0m\u001b[1;33m\u001b[0m\u001b[1;33m\u001b[0m\u001b[0m\n\u001b[0;32m    321\u001b[0m     \u001b[0mg\u001b[0m \u001b[1;33m=\u001b[0m \u001b[0mzeros\u001b[0m\u001b[1;33m(\u001b[0m\u001b[1;33m(\u001b[0m\u001b[0mn\u001b[0m\u001b[1;33m,\u001b[0m\u001b[1;33m)\u001b[0m\u001b[1;33m,\u001b[0m \u001b[0mfloat64\u001b[0m\u001b[1;33m)\u001b[0m\u001b[1;33m\u001b[0m\u001b[1;33m\u001b[0m\u001b[0m\n",
      "\u001b[1;31mMemoryError\u001b[0m: Unable to allocate 823. MiB for an array with shape (107875017,) and data type float64"
     ]
    }
   ],
   "source": [
    "model = LogisticRegression()\n",
    "model.fit(new_train_feat, new_train_labels)\n",
    "\n",
    "score_train =  model.score(new_train_feat, new_train_labels)\n",
    "print('Train set score: ', score_train)"
   ]
  }
 ],
 "metadata": {
  "kernelspec": {
   "display_name": "Python 3.7.7 64-bit",
   "language": "python",
   "name": "python37764bit143e0931926745328698ed582faa8c26"
  },
  "language_info": {
   "codemirror_mode": {
    "name": "ipython",
    "version": 3
   },
   "file_extension": ".py",
   "mimetype": "text/x-python",
   "name": "python",
   "nbconvert_exporter": "python",
   "pygments_lexer": "ipython3",
   "version": "3.7.7-final"
  }
 },
 "nbformat": 4,
 "nbformat_minor": 4
}