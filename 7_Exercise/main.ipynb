{
 "cells": [
  {
   "cell_type": "markdown",
   "metadata": {},
   "source": [
    "### Modules and libraries required"
   ]
  },
  {
   "cell_type": "code",
   "execution_count": 84,
   "metadata": {},
   "outputs": [],
   "source": [
    "import pandas as pd\n",
    "import numpy as np\n",
    "from sklearn.feature_extraction.text import CountVectorizer\n",
    "from sklearn.feature_extraction.text import TfidfVectorizer\n",
    "from sklearn.model_selection import train_test_split\n",
    "from sklearn import metrics\n",
    "\n",
    "from IPython.core.interactiveshell import InteractiveShell\n",
    "# Used to get multiple outputs per cell\n",
    "InteractiveShell.ast_node_interactivity = \"all\""
   ]
  },
  {
   "cell_type": "markdown",
   "metadata": {},
   "source": [
    "### TASK 1: Main implementation\n",
    "### Load Datasets"
   ]
  },
  {
   "cell_type": "code",
   "execution_count": 85,
   "metadata": {},
   "outputs": [
    {
     "output_type": "execute_result",
     "data": {
      "text/plain": "                    User            Date  \\\n2168           Elon Musk  06.03.20 20:42   \n1764      Bernie Sanders  08.03.20 20:20   \n544              J Hooch  10.03.20 17:25   \n1833         Ally Carter  08.03.20 14:53   \n1284            Taylor ☾  09.03.20 19:22   \n...                  ...             ...   \n293   ϟ 𝓟𝓻𝓲𝓶𝓶𝓲𝓲 𝓟𝓸𝓽𝓽𝓮𝓻 ☍  11.03.20 00:07   \n807   Cel ☆ ‎ลาแล้วปีสี่  10.03.20 10:50   \n902               Ryn J.  10.03.20 05:13   \n1011                  พส  10.03.20 00:34   \n545                   พส  10.03.20 17:20   \n\n                                                  Tweet  Binders  \\\n2168                      The coronavirus panic is dumb      NaN   \n1764  Once a vaccine for coronavirus is developed, i...      NaN   \n544   Coronavirus is everywhere. BOOK THAT FLIGHT. T...      NaN   \n1833  I see a lot of people being like “I would surv...      NaN   \n1284  Coronavirus has crossed the line for Italians ...      NaN   \n...                                                 ...      ...   \n293   คือร้านอาหารใน All Seasons มีคนเป็น #COVID19 แ...      NaN   \n807   มาขอใช้พื้นที่ประชาสัมพันธ์นิดนึงค่ะ ตอนนี้รพ....      NaN   \n902   สำนักข่าว Bloomberg รายงานว่าชายไทยอายุ 26 ปี ...      NaN   \n1011  รัฐมนตรีว่าการกระทรวงวัฒนธรรมฝรั่งเศส ป่วย #CO...      NaN   \n545   เจ้าของร้าน Ohana Poké ที่ตึก All Seasons ออกม...      NaN   \n\n                                              Permalink  Retweet count  \\\n2168  https://www.twitter.com/user/status/1236029449...         350555   \n1764  https://www.twitter.com/user/status/1236748536...         125019   \n544   https://www.twitter.com/user/status/1237429345...         139366   \n1833  https://www.twitter.com/user/status/1236666460...         157052   \n1284  https://www.twitter.com/user/status/1237096480...         206430   \n...                                                 ...            ...   \n293   https://www.twitter.com/user/status/1237530520...           1285   \n807   https://www.twitter.com/user/status/1237330092...           1903   \n902   https://www.twitter.com/user/status/1237245162...           2852   \n1011  https://www.twitter.com/user/status/1237175016...           3306   \n545   https://www.twitter.com/user/status/1237428222...           1472   \n\n      Likes count  Tweet value  \n2168      1729596     47385.34  \n1764       841283     18291.78  \n544        727945        14.75  \n1833       719464       118.95  \n1284       688358        30.02  \n...           ...          ...  \n293           150         0.52  \n807           138         7.76  \n902           137        61.16  \n1011          100       107.36  \n545            90       128.83  \n\n[5531 rows x 8 columns]",
      "text/html": "<div>\n<style scoped>\n    .dataframe tbody tr th:only-of-type {\n        vertical-align: middle;\n    }\n\n    .dataframe tbody tr th {\n        vertical-align: top;\n    }\n\n    .dataframe thead th {\n        text-align: right;\n    }\n</style>\n<table border=\"1\" class=\"dataframe\">\n  <thead>\n    <tr style=\"text-align: right;\">\n      <th></th>\n      <th>User</th>\n      <th>Date</th>\n      <th>Tweet</th>\n      <th>Binders</th>\n      <th>Permalink</th>\n      <th>Retweet count</th>\n      <th>Likes count</th>\n      <th>Tweet value</th>\n    </tr>\n  </thead>\n  <tbody>\n    <tr>\n      <th>2168</th>\n      <td>Elon Musk</td>\n      <td>06.03.20 20:42</td>\n      <td>The coronavirus panic is dumb</td>\n      <td>NaN</td>\n      <td>https://www.twitter.com/user/status/1236029449...</td>\n      <td>350555</td>\n      <td>1729596</td>\n      <td>47385.34</td>\n    </tr>\n    <tr>\n      <th>1764</th>\n      <td>Bernie Sanders</td>\n      <td>08.03.20 20:20</td>\n      <td>Once a vaccine for coronavirus is developed, i...</td>\n      <td>NaN</td>\n      <td>https://www.twitter.com/user/status/1236748536...</td>\n      <td>125019</td>\n      <td>841283</td>\n      <td>18291.78</td>\n    </tr>\n    <tr>\n      <th>544</th>\n      <td>J Hooch</td>\n      <td>10.03.20 17:25</td>\n      <td>Coronavirus is everywhere. BOOK THAT FLIGHT. T...</td>\n      <td>NaN</td>\n      <td>https://www.twitter.com/user/status/1237429345...</td>\n      <td>139366</td>\n      <td>727945</td>\n      <td>14.75</td>\n    </tr>\n    <tr>\n      <th>1833</th>\n      <td>Ally Carter</td>\n      <td>08.03.20 14:53</td>\n      <td>I see a lot of people being like “I would surv...</td>\n      <td>NaN</td>\n      <td>https://www.twitter.com/user/status/1236666460...</td>\n      <td>157052</td>\n      <td>719464</td>\n      <td>118.95</td>\n    </tr>\n    <tr>\n      <th>1284</th>\n      <td>Taylor ☾</td>\n      <td>09.03.20 19:22</td>\n      <td>Coronavirus has crossed the line for Italians ...</td>\n      <td>NaN</td>\n      <td>https://www.twitter.com/user/status/1237096480...</td>\n      <td>206430</td>\n      <td>688358</td>\n      <td>30.02</td>\n    </tr>\n    <tr>\n      <th>...</th>\n      <td>...</td>\n      <td>...</td>\n      <td>...</td>\n      <td>...</td>\n      <td>...</td>\n      <td>...</td>\n      <td>...</td>\n      <td>...</td>\n    </tr>\n    <tr>\n      <th>293</th>\n      <td>ϟ 𝓟𝓻𝓲𝓶𝓶𝓲𝓲 𝓟𝓸𝓽𝓽𝓮𝓻 ☍</td>\n      <td>11.03.20 00:07</td>\n      <td>คือร้านอาหารใน All Seasons มีคนเป็น #COVID19 แ...</td>\n      <td>NaN</td>\n      <td>https://www.twitter.com/user/status/1237530520...</td>\n      <td>1285</td>\n      <td>150</td>\n      <td>0.52</td>\n    </tr>\n    <tr>\n      <th>807</th>\n      <td>Cel ☆ ‎ลาแล้วปีสี่</td>\n      <td>10.03.20 10:50</td>\n      <td>มาขอใช้พื้นที่ประชาสัมพันธ์นิดนึงค่ะ ตอนนี้รพ....</td>\n      <td>NaN</td>\n      <td>https://www.twitter.com/user/status/1237330092...</td>\n      <td>1903</td>\n      <td>138</td>\n      <td>7.76</td>\n    </tr>\n    <tr>\n      <th>902</th>\n      <td>Ryn J.</td>\n      <td>10.03.20 05:13</td>\n      <td>สำนักข่าว Bloomberg รายงานว่าชายไทยอายุ 26 ปี ...</td>\n      <td>NaN</td>\n      <td>https://www.twitter.com/user/status/1237245162...</td>\n      <td>2852</td>\n      <td>137</td>\n      <td>61.16</td>\n    </tr>\n    <tr>\n      <th>1011</th>\n      <td>พส</td>\n      <td>10.03.20 00:34</td>\n      <td>รัฐมนตรีว่าการกระทรวงวัฒนธรรมฝรั่งเศส ป่วย #CO...</td>\n      <td>NaN</td>\n      <td>https://www.twitter.com/user/status/1237175016...</td>\n      <td>3306</td>\n      <td>100</td>\n      <td>107.36</td>\n    </tr>\n    <tr>\n      <th>545</th>\n      <td>พส</td>\n      <td>10.03.20 17:20</td>\n      <td>เจ้าของร้าน Ohana Poké ที่ตึก All Seasons ออกม...</td>\n      <td>NaN</td>\n      <td>https://www.twitter.com/user/status/1237428222...</td>\n      <td>1472</td>\n      <td>90</td>\n      <td>128.83</td>\n    </tr>\n  </tbody>\n</table>\n<p>5531 rows × 8 columns</p>\n</div>"
     },
     "metadata": {},
     "execution_count": 85
    },
    {
     "output_type": "execute_result",
     "data": {
      "text/plain": "                   Name               User               Location  \\\n0          @BarackObama       Barack Obama         Washington, DC   \n1            @Cristiano  Cristiano Ronaldo        Turim, Piemonte   \n2             @ladygaga          Lady Gaga                    NaN   \n3      @realDonaldTrump    Donald J. Trump         Washington, DC   \n4          @selenagomez       Selena Gomez            Los Angeles   \n...                 ...                ...                    ...   \n14263        @gegyrigle         JewelRigle                    NaN   \n14264         @sadbadme    กูจะอยู่กูจะรอด                    NaN   \n14265    @pawat58720145              pawat                    NaN   \n14266         @DelsVeja      🐉Y A S U K E🤺  Ile-de-France, France   \n14267  @archawi51088663           archawin                    NaN   \n\n       Total tweets  Retweets  Images  Links  Chats  Text tweets     Impacts  \\\n0                13         0       0     12      5            1  1489476161   \n1                 1         0       1      1      0            0    83133379   \n2                 2         0       0      2      0            0   162436360   \n3                55         0       3     11      1           42  4100089350   \n4                 1         0       0      1      0            0    60528525   \n...             ...       ...     ...    ...    ...          ...         ...   \n14263             1         0       1      0      0            0           1   \n14264             1         0       1      0      0            0           1   \n14265             1         0       1      0      0            0           1   \n14266             1         0       0      0      0            1           0   \n14267             1         0       1      0      0            0           0   \n\n       Followers  User value  Tweets value  \n0      115296834   150464.37    1466166.07  \n1       83133379   111363.10     146999.29  \n2       81218183   109802.60     241565.72  \n3       76238523   103166.11    5644215.11  \n4       60528525    83860.78      92246.86  \n...          ...         ...           ...  \n14263          1        0.00          0.00  \n14264          1        0.00          0.00  \n14265          1        0.00          0.00  \n14266          0        0.00          0.00  \n14267          0        0.00          0.00  \n\n[14268 rows x 13 columns]",
      "text/html": "<div>\n<style scoped>\n    .dataframe tbody tr th:only-of-type {\n        vertical-align: middle;\n    }\n\n    .dataframe tbody tr th {\n        vertical-align: top;\n    }\n\n    .dataframe thead th {\n        text-align: right;\n    }\n</style>\n<table border=\"1\" class=\"dataframe\">\n  <thead>\n    <tr style=\"text-align: right;\">\n      <th></th>\n      <th>Name</th>\n      <th>User</th>\n      <th>Location</th>\n      <th>Total tweets</th>\n      <th>Retweets</th>\n      <th>Images</th>\n      <th>Links</th>\n      <th>Chats</th>\n      <th>Text tweets</th>\n      <th>Impacts</th>\n      <th>Followers</th>\n      <th>User value</th>\n      <th>Tweets value</th>\n    </tr>\n  </thead>\n  <tbody>\n    <tr>\n      <th>0</th>\n      <td>@BarackObama</td>\n      <td>Barack Obama</td>\n      <td>Washington, DC</td>\n      <td>13</td>\n      <td>0</td>\n      <td>0</td>\n      <td>12</td>\n      <td>5</td>\n      <td>1</td>\n      <td>1489476161</td>\n      <td>115296834</td>\n      <td>150464.37</td>\n      <td>1466166.07</td>\n    </tr>\n    <tr>\n      <th>1</th>\n      <td>@Cristiano</td>\n      <td>Cristiano Ronaldo</td>\n      <td>Turim, Piemonte</td>\n      <td>1</td>\n      <td>0</td>\n      <td>1</td>\n      <td>1</td>\n      <td>0</td>\n      <td>0</td>\n      <td>83133379</td>\n      <td>83133379</td>\n      <td>111363.10</td>\n      <td>146999.29</td>\n    </tr>\n    <tr>\n      <th>2</th>\n      <td>@ladygaga</td>\n      <td>Lady Gaga</td>\n      <td>NaN</td>\n      <td>2</td>\n      <td>0</td>\n      <td>0</td>\n      <td>2</td>\n      <td>0</td>\n      <td>0</td>\n      <td>162436360</td>\n      <td>81218183</td>\n      <td>109802.60</td>\n      <td>241565.72</td>\n    </tr>\n    <tr>\n      <th>3</th>\n      <td>@realDonaldTrump</td>\n      <td>Donald J. Trump</td>\n      <td>Washington, DC</td>\n      <td>55</td>\n      <td>0</td>\n      <td>3</td>\n      <td>11</td>\n      <td>1</td>\n      <td>42</td>\n      <td>4100089350</td>\n      <td>76238523</td>\n      <td>103166.11</td>\n      <td>5644215.11</td>\n    </tr>\n    <tr>\n      <th>4</th>\n      <td>@selenagomez</td>\n      <td>Selena Gomez</td>\n      <td>Los Angeles</td>\n      <td>1</td>\n      <td>0</td>\n      <td>0</td>\n      <td>1</td>\n      <td>0</td>\n      <td>0</td>\n      <td>60528525</td>\n      <td>60528525</td>\n      <td>83860.78</td>\n      <td>92246.86</td>\n    </tr>\n    <tr>\n      <th>...</th>\n      <td>...</td>\n      <td>...</td>\n      <td>...</td>\n      <td>...</td>\n      <td>...</td>\n      <td>...</td>\n      <td>...</td>\n      <td>...</td>\n      <td>...</td>\n      <td>...</td>\n      <td>...</td>\n      <td>...</td>\n      <td>...</td>\n    </tr>\n    <tr>\n      <th>14263</th>\n      <td>@gegyrigle</td>\n      <td>JewelRigle</td>\n      <td>NaN</td>\n      <td>1</td>\n      <td>0</td>\n      <td>1</td>\n      <td>0</td>\n      <td>0</td>\n      <td>0</td>\n      <td>1</td>\n      <td>1</td>\n      <td>0.00</td>\n      <td>0.00</td>\n    </tr>\n    <tr>\n      <th>14264</th>\n      <td>@sadbadme</td>\n      <td>กูจะอยู่กูจะรอด</td>\n      <td>NaN</td>\n      <td>1</td>\n      <td>0</td>\n      <td>1</td>\n      <td>0</td>\n      <td>0</td>\n      <td>0</td>\n      <td>1</td>\n      <td>1</td>\n      <td>0.00</td>\n      <td>0.00</td>\n    </tr>\n    <tr>\n      <th>14265</th>\n      <td>@pawat58720145</td>\n      <td>pawat</td>\n      <td>NaN</td>\n      <td>1</td>\n      <td>0</td>\n      <td>1</td>\n      <td>0</td>\n      <td>0</td>\n      <td>0</td>\n      <td>1</td>\n      <td>1</td>\n      <td>0.00</td>\n      <td>0.00</td>\n    </tr>\n    <tr>\n      <th>14266</th>\n      <td>@DelsVeja</td>\n      <td>🐉Y A S U K E🤺</td>\n      <td>Ile-de-France, France</td>\n      <td>1</td>\n      <td>0</td>\n      <td>0</td>\n      <td>0</td>\n      <td>0</td>\n      <td>1</td>\n      <td>0</td>\n      <td>0</td>\n      <td>0.00</td>\n      <td>0.00</td>\n    </tr>\n    <tr>\n      <th>14267</th>\n      <td>@archawi51088663</td>\n      <td>archawin</td>\n      <td>NaN</td>\n      <td>1</td>\n      <td>0</td>\n      <td>1</td>\n      <td>0</td>\n      <td>0</td>\n      <td>0</td>\n      <td>0</td>\n      <td>0</td>\n      <td>0.00</td>\n      <td>0.00</td>\n    </tr>\n  </tbody>\n</table>\n<p>14268 rows × 13 columns</p>\n</div>"
     },
     "metadata": {},
     "execution_count": 85
    }
   ],
   "source": [
    "tweets_dataset = pd.read_csv('tweets_info.csv') \n",
    "user_dataset = pd.read_csv('user_info.csv') \n",
    "tweets_dataset.sort_values(by='Likes count', ascending = False)\n",
    "# tweets_dataset.groupby('User').count().sort_values(['Tweet'], ascending=False)\n",
    "user_dataset.sort_values(by='Followers', ascending=False)\n",
    "# user_dataset.groupby('User').count().sort_values(['Impacts'], ascending=False)"
   ]
  },
  {
   "cell_type": "markdown",
   "metadata": {},
   "source": [
    "### 1.1 Clean Data (Remove punctuation and stop-words)\n",
    "#### Count words by document"
   ]
  },
  {
   "cell_type": "code",
   "execution_count": 86,
   "metadata": {},
   "outputs": [
    {
     "output_type": "execute_result",
     "data": {
      "text/plain": "CountVectorizer(analyzer='word', binary=False, decode_error='strict',\n                dtype=<class 'numpy.int64'>, encoding='utf-8', input='content',\n                lowercase=True, max_df=1.0, max_features=None, min_df=1,\n                ngram_range=(1, 1), preprocessor=None, stop_words='english',\n                strip_accents=None, token_pattern='(?u)\\\\b\\\\w\\\\w+\\\\b',\n                tokenizer=None, vocabulary=None)"
     },
     "metadata": {},
     "execution_count": 86
    },
    {
     "output_type": "stream",
     "name": "stdout",
     "text": "Vector Representation\n"
    },
    {
     "output_type": "execute_result",
     "data": {
      "text/plain": "      00  000  00001  000morts  004  005  008uae3frs  01  015  016  ...  대구  \\\n0      0    0      0         0    0    0           0   0    0    0  ...   0   \n1      0    0      0         0    0    0           0   0    0    0  ...   0   \n2      0    0      0         0    0    0           0   0    0    0  ...   0   \n3      0    0      0         0    0    0           0   0    0    0  ...   0   \n4      0    1      0         0    0    0           0   0    0    0  ...   0   \n...   ..  ...    ...       ...  ...  ...         ...  ..  ...  ...  ...  ..   \n5526   0    0      0         0    0    0           0   0    0    0  ...   0   \n5527   0    0      0         0    0    0           0   0    0    0  ...   0   \n5528   0    0      0         0    0    0           0   0    0    0  ...   0   \n5529   0    0      0         0    0    0           0   0    0    0  ...   0   \n5530   0    0      0         0    0    0           0   0    0    0  ...   0   \n\n      수호  엑소  엔시티드림_당장_입국시켜  웨이션브이_당장_입국시켜  윤기야  좋은_날이_앞으로_많기를  찬열  트와이스  화이팅  \n0      0   0              0              0    0              0   0     0    0  \n1      0   0              0              0    0              0   0     0    0  \n2      0   0              0              0    0              0   0     0    0  \n3      0   0              0              0    0              0   0     0    0  \n4      0   0              0              0    0              0   0     0    0  \n...   ..  ..            ...            ...  ...            ...  ..   ...  ...  \n5526   0   0              0              0    0              0   0     0    0  \n5527   0   0              0              0    0              0   0     0    0  \n5528   0   0              0              0    0              0   0     0    0  \n5529   0   0              0              0    0              0   0     0    0  \n5530   0   0              0              0    0              0   0     0    0  \n\n[5531 rows x 27638 columns]",
      "text/html": "<div>\n<style scoped>\n    .dataframe tbody tr th:only-of-type {\n        vertical-align: middle;\n    }\n\n    .dataframe tbody tr th {\n        vertical-align: top;\n    }\n\n    .dataframe thead th {\n        text-align: right;\n    }\n</style>\n<table border=\"1\" class=\"dataframe\">\n  <thead>\n    <tr style=\"text-align: right;\">\n      <th></th>\n      <th>00</th>\n      <th>000</th>\n      <th>00001</th>\n      <th>000morts</th>\n      <th>004</th>\n      <th>005</th>\n      <th>008uae3frs</th>\n      <th>01</th>\n      <th>015</th>\n      <th>016</th>\n      <th>...</th>\n      <th>대구</th>\n      <th>수호</th>\n      <th>엑소</th>\n      <th>엔시티드림_당장_입국시켜</th>\n      <th>웨이션브이_당장_입국시켜</th>\n      <th>윤기야</th>\n      <th>좋은_날이_앞으로_많기를</th>\n      <th>찬열</th>\n      <th>트와이스</th>\n      <th>화이팅</th>\n    </tr>\n  </thead>\n  <tbody>\n    <tr>\n      <th>0</th>\n      <td>0</td>\n      <td>0</td>\n      <td>0</td>\n      <td>0</td>\n      <td>0</td>\n      <td>0</td>\n      <td>0</td>\n      <td>0</td>\n      <td>0</td>\n      <td>0</td>\n      <td>...</td>\n      <td>0</td>\n      <td>0</td>\n      <td>0</td>\n      <td>0</td>\n      <td>0</td>\n      <td>0</td>\n      <td>0</td>\n      <td>0</td>\n      <td>0</td>\n      <td>0</td>\n    </tr>\n    <tr>\n      <th>1</th>\n      <td>0</td>\n      <td>0</td>\n      <td>0</td>\n      <td>0</td>\n      <td>0</td>\n      <td>0</td>\n      <td>0</td>\n      <td>0</td>\n      <td>0</td>\n      <td>0</td>\n      <td>...</td>\n      <td>0</td>\n      <td>0</td>\n      <td>0</td>\n      <td>0</td>\n      <td>0</td>\n      <td>0</td>\n      <td>0</td>\n      <td>0</td>\n      <td>0</td>\n      <td>0</td>\n    </tr>\n    <tr>\n      <th>2</th>\n      <td>0</td>\n      <td>0</td>\n      <td>0</td>\n      <td>0</td>\n      <td>0</td>\n      <td>0</td>\n      <td>0</td>\n      <td>0</td>\n      <td>0</td>\n      <td>0</td>\n      <td>...</td>\n      <td>0</td>\n      <td>0</td>\n      <td>0</td>\n      <td>0</td>\n      <td>0</td>\n      <td>0</td>\n      <td>0</td>\n      <td>0</td>\n      <td>0</td>\n      <td>0</td>\n    </tr>\n    <tr>\n      <th>3</th>\n      <td>0</td>\n      <td>0</td>\n      <td>0</td>\n      <td>0</td>\n      <td>0</td>\n      <td>0</td>\n      <td>0</td>\n      <td>0</td>\n      <td>0</td>\n      <td>0</td>\n      <td>...</td>\n      <td>0</td>\n      <td>0</td>\n      <td>0</td>\n      <td>0</td>\n      <td>0</td>\n      <td>0</td>\n      <td>0</td>\n      <td>0</td>\n      <td>0</td>\n      <td>0</td>\n    </tr>\n    <tr>\n      <th>4</th>\n      <td>0</td>\n      <td>1</td>\n      <td>0</td>\n      <td>0</td>\n      <td>0</td>\n      <td>0</td>\n      <td>0</td>\n      <td>0</td>\n      <td>0</td>\n      <td>0</td>\n      <td>...</td>\n      <td>0</td>\n      <td>0</td>\n      <td>0</td>\n      <td>0</td>\n      <td>0</td>\n      <td>0</td>\n      <td>0</td>\n      <td>0</td>\n      <td>0</td>\n      <td>0</td>\n    </tr>\n    <tr>\n      <th>...</th>\n      <td>...</td>\n      <td>...</td>\n      <td>...</td>\n      <td>...</td>\n      <td>...</td>\n      <td>...</td>\n      <td>...</td>\n      <td>...</td>\n      <td>...</td>\n      <td>...</td>\n      <td>...</td>\n      <td>...</td>\n      <td>...</td>\n      <td>...</td>\n      <td>...</td>\n      <td>...</td>\n      <td>...</td>\n      <td>...</td>\n      <td>...</td>\n      <td>...</td>\n      <td>...</td>\n    </tr>\n    <tr>\n      <th>5526</th>\n      <td>0</td>\n      <td>0</td>\n      <td>0</td>\n      <td>0</td>\n      <td>0</td>\n      <td>0</td>\n      <td>0</td>\n      <td>0</td>\n      <td>0</td>\n      <td>0</td>\n      <td>...</td>\n      <td>0</td>\n      <td>0</td>\n      <td>0</td>\n      <td>0</td>\n      <td>0</td>\n      <td>0</td>\n      <td>0</td>\n      <td>0</td>\n      <td>0</td>\n      <td>0</td>\n    </tr>\n    <tr>\n      <th>5527</th>\n      <td>0</td>\n      <td>0</td>\n      <td>0</td>\n      <td>0</td>\n      <td>0</td>\n      <td>0</td>\n      <td>0</td>\n      <td>0</td>\n      <td>0</td>\n      <td>0</td>\n      <td>...</td>\n      <td>0</td>\n      <td>0</td>\n      <td>0</td>\n      <td>0</td>\n      <td>0</td>\n      <td>0</td>\n      <td>0</td>\n      <td>0</td>\n      <td>0</td>\n      <td>0</td>\n    </tr>\n    <tr>\n      <th>5528</th>\n      <td>0</td>\n      <td>0</td>\n      <td>0</td>\n      <td>0</td>\n      <td>0</td>\n      <td>0</td>\n      <td>0</td>\n      <td>0</td>\n      <td>0</td>\n      <td>0</td>\n      <td>...</td>\n      <td>0</td>\n      <td>0</td>\n      <td>0</td>\n      <td>0</td>\n      <td>0</td>\n      <td>0</td>\n      <td>0</td>\n      <td>0</td>\n      <td>0</td>\n      <td>0</td>\n    </tr>\n    <tr>\n      <th>5529</th>\n      <td>0</td>\n      <td>0</td>\n      <td>0</td>\n      <td>0</td>\n      <td>0</td>\n      <td>0</td>\n      <td>0</td>\n      <td>0</td>\n      <td>0</td>\n      <td>0</td>\n      <td>...</td>\n      <td>0</td>\n      <td>0</td>\n      <td>0</td>\n      <td>0</td>\n      <td>0</td>\n      <td>0</td>\n      <td>0</td>\n      <td>0</td>\n      <td>0</td>\n      <td>0</td>\n    </tr>\n    <tr>\n      <th>5530</th>\n      <td>0</td>\n      <td>0</td>\n      <td>0</td>\n      <td>0</td>\n      <td>0</td>\n      <td>0</td>\n      <td>0</td>\n      <td>0</td>\n      <td>0</td>\n      <td>0</td>\n      <td>...</td>\n      <td>0</td>\n      <td>0</td>\n      <td>0</td>\n      <td>0</td>\n      <td>0</td>\n      <td>0</td>\n      <td>0</td>\n      <td>0</td>\n      <td>0</td>\n      <td>0</td>\n    </tr>\n  </tbody>\n</table>\n<p>5531 rows × 27638 columns</p>\n</div>"
     },
     "metadata": {},
     "execution_count": 86
    }
   ],
   "source": [
    "# first create the transform and stop words set for english\n",
    "vectorizer = CountVectorizer(stop_words='english')\n",
    "\n",
    "# The Tweet column is the list of documents\n",
    "vectorizer.fit(tweets_dataset['Tweet'])\n",
    "\n",
    "# Counter words by tweet array\n",
    "word_counter = vectorizer.transform(tweets_dataset['Tweet'])\n",
    "print('Vector Representation')\n",
    "pd.DataFrame(word_counter.toarray(), columns=vectorizer.get_feature_names())"
   ]
  },
  {
   "cell_type": "markdown",
   "metadata": {},
   "source": [
    "### TF-IDF computation by document"
   ]
  },
  {
   "cell_type": "code",
   "execution_count": 87,
   "metadata": {},
   "outputs": [
    {
     "output_type": "execute_result",
     "data": {
      "text/plain": "TfidfVectorizer(analyzer='word', binary=False, decode_error='strict',\n                dtype=<class 'numpy.float64'>, encoding='utf-8',\n                input='content', lowercase=True, max_df=1.0, max_features=None,\n                min_df=1, ngram_range=(1, 1), norm='l2', preprocessor=None,\n                smooth_idf=True, stop_words='english', strip_accents=None,\n                sublinear_tf=False, token_pattern='(?u)\\\\b\\\\w\\\\w+\\\\b',\n                tokenizer=None, use_idf=True, vocabulary=None)"
     },
     "metadata": {},
     "execution_count": 87
    },
    {
     "output_type": "execute_result",
     "data": {
      "text/plain": "                 IDF\n00          7.672395\n000         4.530708\n00001       8.925158\n000morts    8.925158\n004         8.519692\n005         8.925158\n008uae3frs  8.925158\n01          8.519692\n015         8.925158\n016         8.925158",
      "text/html": "<div>\n<style scoped>\n    .dataframe tbody tr th:only-of-type {\n        vertical-align: middle;\n    }\n\n    .dataframe tbody tr th {\n        vertical-align: top;\n    }\n\n    .dataframe thead th {\n        text-align: right;\n    }\n</style>\n<table border=\"1\" class=\"dataframe\">\n  <thead>\n    <tr style=\"text-align: right;\">\n      <th></th>\n      <th>IDF</th>\n    </tr>\n  </thead>\n  <tbody>\n    <tr>\n      <th>00</th>\n      <td>7.672395</td>\n    </tr>\n    <tr>\n      <th>000</th>\n      <td>4.530708</td>\n    </tr>\n    <tr>\n      <th>00001</th>\n      <td>8.925158</td>\n    </tr>\n    <tr>\n      <th>000morts</th>\n      <td>8.925158</td>\n    </tr>\n    <tr>\n      <th>004</th>\n      <td>8.519692</td>\n    </tr>\n    <tr>\n      <th>005</th>\n      <td>8.925158</td>\n    </tr>\n    <tr>\n      <th>008uae3frs</th>\n      <td>8.925158</td>\n    </tr>\n    <tr>\n      <th>01</th>\n      <td>8.519692</td>\n    </tr>\n    <tr>\n      <th>015</th>\n      <td>8.925158</td>\n    </tr>\n    <tr>\n      <th>016</th>\n      <td>8.925158</td>\n    </tr>\n  </tbody>\n</table>\n</div>"
     },
     "metadata": {},
     "execution_count": 87
    },
    {
     "output_type": "stream",
     "name": "stdout",
     "text": "TF-IDF\n"
    },
    {
     "output_type": "execute_result",
     "data": {
      "text/plain": "       00       000  00001  000morts  004  005  008uae3frs   01  015  016  \\\n0     0.0  0.000000    0.0       0.0  0.0  0.0         0.0  0.0  0.0  0.0   \n1     0.0  0.000000    0.0       0.0  0.0  0.0         0.0  0.0  0.0  0.0   \n2     0.0  0.000000    0.0       0.0  0.0  0.0         0.0  0.0  0.0  0.0   \n3     0.0  0.000000    0.0       0.0  0.0  0.0         0.0  0.0  0.0  0.0   \n4     0.0  0.133443    0.0       0.0  0.0  0.0         0.0  0.0  0.0  0.0   \n...   ...       ...    ...       ...  ...  ...         ...  ...  ...  ...   \n5526  0.0  0.000000    0.0       0.0  0.0  0.0         0.0  0.0  0.0  0.0   \n5527  0.0  0.000000    0.0       0.0  0.0  0.0         0.0  0.0  0.0  0.0   \n5528  0.0  0.000000    0.0       0.0  0.0  0.0         0.0  0.0  0.0  0.0   \n5529  0.0  0.000000    0.0       0.0  0.0  0.0         0.0  0.0  0.0  0.0   \n5530  0.0  0.000000    0.0       0.0  0.0  0.0         0.0  0.0  0.0  0.0   \n\n      ...   대구   수호   엑소  엔시티드림_당장_입국시켜  웨이션브이_당장_입국시켜  윤기야  좋은_날이_앞으로_많기를  \\\n0     ...  0.0  0.0  0.0            0.0            0.0  0.0            0.0   \n1     ...  0.0  0.0  0.0            0.0            0.0  0.0            0.0   \n2     ...  0.0  0.0  0.0            0.0            0.0  0.0            0.0   \n3     ...  0.0  0.0  0.0            0.0            0.0  0.0            0.0   \n4     ...  0.0  0.0  0.0            0.0            0.0  0.0            0.0   \n...   ...  ...  ...  ...            ...            ...  ...            ...   \n5526  ...  0.0  0.0  0.0            0.0            0.0  0.0            0.0   \n5527  ...  0.0  0.0  0.0            0.0            0.0  0.0            0.0   \n5528  ...  0.0  0.0  0.0            0.0            0.0  0.0            0.0   \n5529  ...  0.0  0.0  0.0            0.0            0.0  0.0            0.0   \n5530  ...  0.0  0.0  0.0            0.0            0.0  0.0            0.0   \n\n       찬열  트와이스  화이팅  \n0     0.0   0.0  0.0  \n1     0.0   0.0  0.0  \n2     0.0   0.0  0.0  \n3     0.0   0.0  0.0  \n4     0.0   0.0  0.0  \n...   ...   ...  ...  \n5526  0.0   0.0  0.0  \n5527  0.0   0.0  0.0  \n5528  0.0   0.0  0.0  \n5529  0.0   0.0  0.0  \n5530  0.0   0.0  0.0  \n\n[5531 rows x 27638 columns]",
      "text/html": "<div>\n<style scoped>\n    .dataframe tbody tr th:only-of-type {\n        vertical-align: middle;\n    }\n\n    .dataframe tbody tr th {\n        vertical-align: top;\n    }\n\n    .dataframe thead th {\n        text-align: right;\n    }\n</style>\n<table border=\"1\" class=\"dataframe\">\n  <thead>\n    <tr style=\"text-align: right;\">\n      <th></th>\n      <th>00</th>\n      <th>000</th>\n      <th>00001</th>\n      <th>000morts</th>\n      <th>004</th>\n      <th>005</th>\n      <th>008uae3frs</th>\n      <th>01</th>\n      <th>015</th>\n      <th>016</th>\n      <th>...</th>\n      <th>대구</th>\n      <th>수호</th>\n      <th>엑소</th>\n      <th>엔시티드림_당장_입국시켜</th>\n      <th>웨이션브이_당장_입국시켜</th>\n      <th>윤기야</th>\n      <th>좋은_날이_앞으로_많기를</th>\n      <th>찬열</th>\n      <th>트와이스</th>\n      <th>화이팅</th>\n    </tr>\n  </thead>\n  <tbody>\n    <tr>\n      <th>0</th>\n      <td>0.0</td>\n      <td>0.000000</td>\n      <td>0.0</td>\n      <td>0.0</td>\n      <td>0.0</td>\n      <td>0.0</td>\n      <td>0.0</td>\n      <td>0.0</td>\n      <td>0.0</td>\n      <td>0.0</td>\n      <td>...</td>\n      <td>0.0</td>\n      <td>0.0</td>\n      <td>0.0</td>\n      <td>0.0</td>\n      <td>0.0</td>\n      <td>0.0</td>\n      <td>0.0</td>\n      <td>0.0</td>\n      <td>0.0</td>\n      <td>0.0</td>\n    </tr>\n    <tr>\n      <th>1</th>\n      <td>0.0</td>\n      <td>0.000000</td>\n      <td>0.0</td>\n      <td>0.0</td>\n      <td>0.0</td>\n      <td>0.0</td>\n      <td>0.0</td>\n      <td>0.0</td>\n      <td>0.0</td>\n      <td>0.0</td>\n      <td>...</td>\n      <td>0.0</td>\n      <td>0.0</td>\n      <td>0.0</td>\n      <td>0.0</td>\n      <td>0.0</td>\n      <td>0.0</td>\n      <td>0.0</td>\n      <td>0.0</td>\n      <td>0.0</td>\n      <td>0.0</td>\n    </tr>\n    <tr>\n      <th>2</th>\n      <td>0.0</td>\n      <td>0.000000</td>\n      <td>0.0</td>\n      <td>0.0</td>\n      <td>0.0</td>\n      <td>0.0</td>\n      <td>0.0</td>\n      <td>0.0</td>\n      <td>0.0</td>\n      <td>0.0</td>\n      <td>...</td>\n      <td>0.0</td>\n      <td>0.0</td>\n      <td>0.0</td>\n      <td>0.0</td>\n      <td>0.0</td>\n      <td>0.0</td>\n      <td>0.0</td>\n      <td>0.0</td>\n      <td>0.0</td>\n      <td>0.0</td>\n    </tr>\n    <tr>\n      <th>3</th>\n      <td>0.0</td>\n      <td>0.000000</td>\n      <td>0.0</td>\n      <td>0.0</td>\n      <td>0.0</td>\n      <td>0.0</td>\n      <td>0.0</td>\n      <td>0.0</td>\n      <td>0.0</td>\n      <td>0.0</td>\n      <td>...</td>\n      <td>0.0</td>\n      <td>0.0</td>\n      <td>0.0</td>\n      <td>0.0</td>\n      <td>0.0</td>\n      <td>0.0</td>\n      <td>0.0</td>\n      <td>0.0</td>\n      <td>0.0</td>\n      <td>0.0</td>\n    </tr>\n    <tr>\n      <th>4</th>\n      <td>0.0</td>\n      <td>0.133443</td>\n      <td>0.0</td>\n      <td>0.0</td>\n      <td>0.0</td>\n      <td>0.0</td>\n      <td>0.0</td>\n      <td>0.0</td>\n      <td>0.0</td>\n      <td>0.0</td>\n      <td>...</td>\n      <td>0.0</td>\n      <td>0.0</td>\n      <td>0.0</td>\n      <td>0.0</td>\n      <td>0.0</td>\n      <td>0.0</td>\n      <td>0.0</td>\n      <td>0.0</td>\n      <td>0.0</td>\n      <td>0.0</td>\n    </tr>\n    <tr>\n      <th>...</th>\n      <td>...</td>\n      <td>...</td>\n      <td>...</td>\n      <td>...</td>\n      <td>...</td>\n      <td>...</td>\n      <td>...</td>\n      <td>...</td>\n      <td>...</td>\n      <td>...</td>\n      <td>...</td>\n      <td>...</td>\n      <td>...</td>\n      <td>...</td>\n      <td>...</td>\n      <td>...</td>\n      <td>...</td>\n      <td>...</td>\n      <td>...</td>\n      <td>...</td>\n      <td>...</td>\n    </tr>\n    <tr>\n      <th>5526</th>\n      <td>0.0</td>\n      <td>0.000000</td>\n      <td>0.0</td>\n      <td>0.0</td>\n      <td>0.0</td>\n      <td>0.0</td>\n      <td>0.0</td>\n      <td>0.0</td>\n      <td>0.0</td>\n      <td>0.0</td>\n      <td>...</td>\n      <td>0.0</td>\n      <td>0.0</td>\n      <td>0.0</td>\n      <td>0.0</td>\n      <td>0.0</td>\n      <td>0.0</td>\n      <td>0.0</td>\n      <td>0.0</td>\n      <td>0.0</td>\n      <td>0.0</td>\n    </tr>\n    <tr>\n      <th>5527</th>\n      <td>0.0</td>\n      <td>0.000000</td>\n      <td>0.0</td>\n      <td>0.0</td>\n      <td>0.0</td>\n      <td>0.0</td>\n      <td>0.0</td>\n      <td>0.0</td>\n      <td>0.0</td>\n      <td>0.0</td>\n      <td>...</td>\n      <td>0.0</td>\n      <td>0.0</td>\n      <td>0.0</td>\n      <td>0.0</td>\n      <td>0.0</td>\n      <td>0.0</td>\n      <td>0.0</td>\n      <td>0.0</td>\n      <td>0.0</td>\n      <td>0.0</td>\n    </tr>\n    <tr>\n      <th>5528</th>\n      <td>0.0</td>\n      <td>0.000000</td>\n      <td>0.0</td>\n      <td>0.0</td>\n      <td>0.0</td>\n      <td>0.0</td>\n      <td>0.0</td>\n      <td>0.0</td>\n      <td>0.0</td>\n      <td>0.0</td>\n      <td>...</td>\n      <td>0.0</td>\n      <td>0.0</td>\n      <td>0.0</td>\n      <td>0.0</td>\n      <td>0.0</td>\n      <td>0.0</td>\n      <td>0.0</td>\n      <td>0.0</td>\n      <td>0.0</td>\n      <td>0.0</td>\n    </tr>\n    <tr>\n      <th>5529</th>\n      <td>0.0</td>\n      <td>0.000000</td>\n      <td>0.0</td>\n      <td>0.0</td>\n      <td>0.0</td>\n      <td>0.0</td>\n      <td>0.0</td>\n      <td>0.0</td>\n      <td>0.0</td>\n      <td>0.0</td>\n      <td>...</td>\n      <td>0.0</td>\n      <td>0.0</td>\n      <td>0.0</td>\n      <td>0.0</td>\n      <td>0.0</td>\n      <td>0.0</td>\n      <td>0.0</td>\n      <td>0.0</td>\n      <td>0.0</td>\n      <td>0.0</td>\n    </tr>\n    <tr>\n      <th>5530</th>\n      <td>0.0</td>\n      <td>0.000000</td>\n      <td>0.0</td>\n      <td>0.0</td>\n      <td>0.0</td>\n      <td>0.0</td>\n      <td>0.0</td>\n      <td>0.0</td>\n      <td>0.0</td>\n      <td>0.0</td>\n      <td>...</td>\n      <td>0.0</td>\n      <td>0.0</td>\n      <td>0.0</td>\n      <td>0.0</td>\n      <td>0.0</td>\n      <td>0.0</td>\n      <td>0.0</td>\n      <td>0.0</td>\n      <td>0.0</td>\n      <td>0.0</td>\n    </tr>\n  </tbody>\n</table>\n<p>5531 rows × 27638 columns</p>\n</div>"
     },
     "metadata": {},
     "execution_count": 87
    }
   ],
   "source": [
    "# create the transform\n",
    "vectorizer = TfidfVectorizer(stop_words='english')\n",
    "\n",
    "# tokenize and build vocab\n",
    "vectorizer.fit(tweets_dataset['Tweet'])\n",
    "pd.DataFrame(vectorizer.idf_, index=vectorizer.get_feature_names(), columns=['IDF']).head(10)\n",
    "\n",
    "# Tf-idf matrix by tweet\n",
    "tf_idf = vectorizer.transform(tweets_dataset['Tweet'])\n",
    "print('TF-IDF')\n",
    "pd.DataFrame(tf_idf.toarray(), columns=vectorizer.get_feature_names())"
   ]
  },
  {
   "cell_type": "markdown",
   "metadata": {},
   "source": [
    "### Feature set\n",
    "#### 1.2 Merge User and Tweets info datasets"
   ]
  },
  {
   "cell_type": "code",
   "execution_count": 88,
   "metadata": {},
   "outputs": [],
   "source": [
    "# Construct the feature set\n",
    "custom_dataset = pd.merge(tweets_dataset, user_dataset, on=['User'], how='inner', indicator=True)\n",
    "columns = ['Total tweets','Retweets','Images','Links','Chats','Text tweets','Impacts', 'Followers', 'User value','Tweets value', 'Retweet count', 'Likes count','Tweet value']\n",
    "custom_dataset = custom_dataset[columns]"
   ]
  },
  {
   "cell_type": "markdown",
   "metadata": {},
   "source": [
    "#### 1.3 Calculate the tweet popularity and append feature set"
   ]
  },
  {
   "cell_type": "code",
   "execution_count": 89,
   "metadata": {},
   "outputs": [
    {
     "output_type": "execute_result",
     "data": {
      "text/plain": "      Total tweets  Retweets  Images  Links  Chats  Text tweets  Impacts  \\\n0               22         0       3      5      0           14  9061712   \n1               22         0       3      5      0           14  9061712   \n2               22         0       3      5      0           14  9061712   \n3               22         0       3      5      0           14  9061712   \n4               22         0       3      5      0           14  9061712   \n...            ...       ...     ...    ...    ...          ...      ...   \n5756             2         0       2      1      0            0    52386   \n5757             1         0       1      0      0            0      387   \n5758             1         0       0      1      0            0    24010   \n5759             2         0       2      0      1            0     6330   \n5760             1         0       1      0      0            0    46498   \n\n      Followers  User value  Tweets value  Retweet count  Likes count  \\\n0        416833      960.40      21959.22           5503        19357   \n1        416833      960.40      21959.22           1520         3253   \n2        416833      960.40      21959.22           1278         2567   \n3        416833      960.40      21959.22           1827         4246   \n4        416833      960.40      21959.22           3770         9834   \n...         ...         ...           ...            ...          ...   \n5756      26285       63.42        156.26           4398         4607   \n5757        387        1.17          1.40           4522         8830   \n5758      24010       76.18         83.80           1891         2105   \n5759       3292        8.50         13.03           2336         2884   \n5760      46498      109.21        131.05           7546        12698   \n\n      Tweet value  Popular  \n0          950.17     True  \n1         1140.20    False  \n2         1140.20    False  \n3          950.17    False  \n4         1045.19    False  \n...           ...      ...  \n5756        76.10    False  \n5757         1.40    False  \n5758        83.80    False  \n5759         2.04    False  \n5760       131.05     True  \n\n[5761 rows x 14 columns]",
      "text/html": "<div>\n<style scoped>\n    .dataframe tbody tr th:only-of-type {\n        vertical-align: middle;\n    }\n\n    .dataframe tbody tr th {\n        vertical-align: top;\n    }\n\n    .dataframe thead th {\n        text-align: right;\n    }\n</style>\n<table border=\"1\" class=\"dataframe\">\n  <thead>\n    <tr style=\"text-align: right;\">\n      <th></th>\n      <th>Total tweets</th>\n      <th>Retweets</th>\n      <th>Images</th>\n      <th>Links</th>\n      <th>Chats</th>\n      <th>Text tweets</th>\n      <th>Impacts</th>\n      <th>Followers</th>\n      <th>User value</th>\n      <th>Tweets value</th>\n      <th>Retweet count</th>\n      <th>Likes count</th>\n      <th>Tweet value</th>\n      <th>Popular</th>\n    </tr>\n  </thead>\n  <tbody>\n    <tr>\n      <th>0</th>\n      <td>22</td>\n      <td>0</td>\n      <td>3</td>\n      <td>5</td>\n      <td>0</td>\n      <td>14</td>\n      <td>9061712</td>\n      <td>416833</td>\n      <td>960.40</td>\n      <td>21959.22</td>\n      <td>5503</td>\n      <td>19357</td>\n      <td>950.17</td>\n      <td>True</td>\n    </tr>\n    <tr>\n      <th>1</th>\n      <td>22</td>\n      <td>0</td>\n      <td>3</td>\n      <td>5</td>\n      <td>0</td>\n      <td>14</td>\n      <td>9061712</td>\n      <td>416833</td>\n      <td>960.40</td>\n      <td>21959.22</td>\n      <td>1520</td>\n      <td>3253</td>\n      <td>1140.20</td>\n      <td>False</td>\n    </tr>\n    <tr>\n      <th>2</th>\n      <td>22</td>\n      <td>0</td>\n      <td>3</td>\n      <td>5</td>\n      <td>0</td>\n      <td>14</td>\n      <td>9061712</td>\n      <td>416833</td>\n      <td>960.40</td>\n      <td>21959.22</td>\n      <td>1278</td>\n      <td>2567</td>\n      <td>1140.20</td>\n      <td>False</td>\n    </tr>\n    <tr>\n      <th>3</th>\n      <td>22</td>\n      <td>0</td>\n      <td>3</td>\n      <td>5</td>\n      <td>0</td>\n      <td>14</td>\n      <td>9061712</td>\n      <td>416833</td>\n      <td>960.40</td>\n      <td>21959.22</td>\n      <td>1827</td>\n      <td>4246</td>\n      <td>950.17</td>\n      <td>False</td>\n    </tr>\n    <tr>\n      <th>4</th>\n      <td>22</td>\n      <td>0</td>\n      <td>3</td>\n      <td>5</td>\n      <td>0</td>\n      <td>14</td>\n      <td>9061712</td>\n      <td>416833</td>\n      <td>960.40</td>\n      <td>21959.22</td>\n      <td>3770</td>\n      <td>9834</td>\n      <td>1045.19</td>\n      <td>False</td>\n    </tr>\n    <tr>\n      <th>...</th>\n      <td>...</td>\n      <td>...</td>\n      <td>...</td>\n      <td>...</td>\n      <td>...</td>\n      <td>...</td>\n      <td>...</td>\n      <td>...</td>\n      <td>...</td>\n      <td>...</td>\n      <td>...</td>\n      <td>...</td>\n      <td>...</td>\n      <td>...</td>\n    </tr>\n    <tr>\n      <th>5756</th>\n      <td>2</td>\n      <td>0</td>\n      <td>2</td>\n      <td>1</td>\n      <td>0</td>\n      <td>0</td>\n      <td>52386</td>\n      <td>26285</td>\n      <td>63.42</td>\n      <td>156.26</td>\n      <td>4398</td>\n      <td>4607</td>\n      <td>76.10</td>\n      <td>False</td>\n    </tr>\n    <tr>\n      <th>5757</th>\n      <td>1</td>\n      <td>0</td>\n      <td>1</td>\n      <td>0</td>\n      <td>0</td>\n      <td>0</td>\n      <td>387</td>\n      <td>387</td>\n      <td>1.17</td>\n      <td>1.40</td>\n      <td>4522</td>\n      <td>8830</td>\n      <td>1.40</td>\n      <td>False</td>\n    </tr>\n    <tr>\n      <th>5758</th>\n      <td>1</td>\n      <td>0</td>\n      <td>0</td>\n      <td>1</td>\n      <td>0</td>\n      <td>0</td>\n      <td>24010</td>\n      <td>24010</td>\n      <td>76.18</td>\n      <td>83.80</td>\n      <td>1891</td>\n      <td>2105</td>\n      <td>83.80</td>\n      <td>False</td>\n    </tr>\n    <tr>\n      <th>5759</th>\n      <td>2</td>\n      <td>0</td>\n      <td>2</td>\n      <td>0</td>\n      <td>1</td>\n      <td>0</td>\n      <td>6330</td>\n      <td>3292</td>\n      <td>8.50</td>\n      <td>13.03</td>\n      <td>2336</td>\n      <td>2884</td>\n      <td>2.04</td>\n      <td>False</td>\n    </tr>\n    <tr>\n      <th>5760</th>\n      <td>1</td>\n      <td>0</td>\n      <td>1</td>\n      <td>0</td>\n      <td>0</td>\n      <td>0</td>\n      <td>46498</td>\n      <td>46498</td>\n      <td>109.21</td>\n      <td>131.05</td>\n      <td>7546</td>\n      <td>12698</td>\n      <td>131.05</td>\n      <td>True</td>\n    </tr>\n  </tbody>\n</table>\n<p>5761 rows × 14 columns</p>\n</div>"
     },
     "metadata": {},
     "execution_count": 89
    }
   ],
   "source": [
    "# Calculate tweet popularity\n",
    "custom_dataset['Popular'] = np.where(custom_dataset['Likes count'] > 10000, True, False)\n",
    "custom_dataset"
   ]
  },
  {
   "cell_type": "markdown",
   "metadata": {},
   "source": [
    "#### 1.4 Divide the dataset into 80% training and 20% testing"
   ]
  },
  {
   "cell_type": "code",
   "execution_count": 90,
   "metadata": {},
   "outputs": [
    {
     "output_type": "stream",
     "name": "stdout",
     "text": "Training Dataset\n\n"
    },
    {
     "output_type": "execute_result",
     "data": {
      "text/plain": "      Total tweets  Retweets  Images  Links  Chats  Text tweets   Impacts  \\\n1369             4         0       2      2      0            0    177287   \n4494             1         0       0      0      0            1     11877   \n1638            26         0      10     17      0            0   3546247   \n4819             1         0       0      0      0            1       768   \n5163             5         0       0      0      0            5    860734   \n...            ...       ...     ...    ...    ...          ...       ...   \n5268             6         0       6      0      0            0    701850   \n944            115         0      55    102      0           15  42510984   \n1582            20         0       2      2      3           14   3639162   \n4901             5         0       1      5      0            0   1478913   \n2024            38         0       0     30      0            8  39106905   \n\n      Followers  User value  Tweets value  Retweet count  Likes count  \\\n1369      66521       83.02        487.12           1983         3788   \n4494      11877       36.77         36.77           2320         4270   \n1638     155905      397.74       9436.71           2070         4483   \n4819        768        2.20          2.20           2592         3528   \n5163     174098      400.22       2014.94           3252        12670   \n...         ...         ...           ...            ...          ...   \n5268     117917      242.05       1730.13           2062         7161   \n944      372490      686.90      93457.67           2618         7162   \n1582     224986      521.83       7947.06           2481         5253   \n4901     296816      684.18       3901.79           2259         2449   \n2024    1052701     2122.59      85287.96           2204         7872   \n\n      Tweet value  \n1369        91.32  \n4494        36.77  \n1638       296.29  \n4819         2.20  \n5163       400.22  \n...           ...  \n5268       287.46  \n944        681.76  \n1582       356.00  \n4901       748.70  \n2024      2062.71  \n\n[4608 rows x 13 columns]",
      "text/html": "<div>\n<style scoped>\n    .dataframe tbody tr th:only-of-type {\n        vertical-align: middle;\n    }\n\n    .dataframe tbody tr th {\n        vertical-align: top;\n    }\n\n    .dataframe thead th {\n        text-align: right;\n    }\n</style>\n<table border=\"1\" class=\"dataframe\">\n  <thead>\n    <tr style=\"text-align: right;\">\n      <th></th>\n      <th>Total tweets</th>\n      <th>Retweets</th>\n      <th>Images</th>\n      <th>Links</th>\n      <th>Chats</th>\n      <th>Text tweets</th>\n      <th>Impacts</th>\n      <th>Followers</th>\n      <th>User value</th>\n      <th>Tweets value</th>\n      <th>Retweet count</th>\n      <th>Likes count</th>\n      <th>Tweet value</th>\n    </tr>\n  </thead>\n  <tbody>\n    <tr>\n      <th>1369</th>\n      <td>4</td>\n      <td>0</td>\n      <td>2</td>\n      <td>2</td>\n      <td>0</td>\n      <td>0</td>\n      <td>177287</td>\n      <td>66521</td>\n      <td>83.02</td>\n      <td>487.12</td>\n      <td>1983</td>\n      <td>3788</td>\n      <td>91.32</td>\n    </tr>\n    <tr>\n      <th>4494</th>\n      <td>1</td>\n      <td>0</td>\n      <td>0</td>\n      <td>0</td>\n      <td>0</td>\n      <td>1</td>\n      <td>11877</td>\n      <td>11877</td>\n      <td>36.77</td>\n      <td>36.77</td>\n      <td>2320</td>\n      <td>4270</td>\n      <td>36.77</td>\n    </tr>\n    <tr>\n      <th>1638</th>\n      <td>26</td>\n      <td>0</td>\n      <td>10</td>\n      <td>17</td>\n      <td>0</td>\n      <td>0</td>\n      <td>3546247</td>\n      <td>155905</td>\n      <td>397.74</td>\n      <td>9436.71</td>\n      <td>2070</td>\n      <td>4483</td>\n      <td>296.29</td>\n    </tr>\n    <tr>\n      <th>4819</th>\n      <td>1</td>\n      <td>0</td>\n      <td>0</td>\n      <td>0</td>\n      <td>0</td>\n      <td>1</td>\n      <td>768</td>\n      <td>768</td>\n      <td>2.20</td>\n      <td>2.20</td>\n      <td>2592</td>\n      <td>3528</td>\n      <td>2.20</td>\n    </tr>\n    <tr>\n      <th>5163</th>\n      <td>5</td>\n      <td>0</td>\n      <td>0</td>\n      <td>0</td>\n      <td>0</td>\n      <td>5</td>\n      <td>860734</td>\n      <td>174098</td>\n      <td>400.22</td>\n      <td>2014.94</td>\n      <td>3252</td>\n      <td>12670</td>\n      <td>400.22</td>\n    </tr>\n    <tr>\n      <th>...</th>\n      <td>...</td>\n      <td>...</td>\n      <td>...</td>\n      <td>...</td>\n      <td>...</td>\n      <td>...</td>\n      <td>...</td>\n      <td>...</td>\n      <td>...</td>\n      <td>...</td>\n      <td>...</td>\n      <td>...</td>\n      <td>...</td>\n    </tr>\n    <tr>\n      <th>5268</th>\n      <td>6</td>\n      <td>0</td>\n      <td>6</td>\n      <td>0</td>\n      <td>0</td>\n      <td>0</td>\n      <td>701850</td>\n      <td>117917</td>\n      <td>242.05</td>\n      <td>1730.13</td>\n      <td>2062</td>\n      <td>7161</td>\n      <td>287.46</td>\n    </tr>\n    <tr>\n      <th>944</th>\n      <td>115</td>\n      <td>0</td>\n      <td>55</td>\n      <td>102</td>\n      <td>0</td>\n      <td>15</td>\n      <td>42510984</td>\n      <td>372490</td>\n      <td>686.90</td>\n      <td>93457.67</td>\n      <td>2618</td>\n      <td>7162</td>\n      <td>681.76</td>\n    </tr>\n    <tr>\n      <th>1582</th>\n      <td>20</td>\n      <td>0</td>\n      <td>2</td>\n      <td>2</td>\n      <td>3</td>\n      <td>14</td>\n      <td>3639162</td>\n      <td>224986</td>\n      <td>521.83</td>\n      <td>7947.06</td>\n      <td>2481</td>\n      <td>5253</td>\n      <td>356.00</td>\n    </tr>\n    <tr>\n      <th>4901</th>\n      <td>5</td>\n      <td>0</td>\n      <td>1</td>\n      <td>5</td>\n      <td>0</td>\n      <td>0</td>\n      <td>1478913</td>\n      <td>296816</td>\n      <td>684.18</td>\n      <td>3901.79</td>\n      <td>2259</td>\n      <td>2449</td>\n      <td>748.70</td>\n    </tr>\n    <tr>\n      <th>2024</th>\n      <td>38</td>\n      <td>0</td>\n      <td>0</td>\n      <td>30</td>\n      <td>0</td>\n      <td>8</td>\n      <td>39106905</td>\n      <td>1052701</td>\n      <td>2122.59</td>\n      <td>85287.96</td>\n      <td>2204</td>\n      <td>7872</td>\n      <td>2062.71</td>\n    </tr>\n  </tbody>\n</table>\n<p>4608 rows × 13 columns</p>\n</div>"
     },
     "metadata": {},
     "execution_count": 90
    },
    {
     "output_type": "execute_result",
     "data": {
      "text/plain": "1369    False\n4494    False\n1638    False\n4819    False\n5163     True\n        ...  \n5268    False\n944     False\n1582    False\n4901    False\n2024    False\nName: Popular, Length: 4608, dtype: bool"
     },
     "metadata": {},
     "execution_count": 90
    },
    {
     "output_type": "stream",
     "name": "stdout",
     "text": "Testing Dataset\n\n"
    },
    {
     "output_type": "execute_result",
     "data": {
      "text/plain": "      Total tweets  Retweets  Images  Links  Chats  Text tweets    Impacts  \\\n5709             1         0       1      0      0            0        750   \n2484            11         0       1      1      0            9     820707   \n2770            50         0       0     27      2           25  117545980   \n3730             1         0       1      0      0            0       3266   \n3178             3         0       0      3      0            0     278874   \n...            ...       ...     ...    ...    ...          ...        ...   \n235              8         0       8      8      0            0   12856768   \n4367             2         0       2      1      0            0       2422   \n614              2         0       2      0      0            0      27613   \n4046             5         0       5      0      1            0      23640   \n3234             3         0       0      1      0            2    6384259   \n\n      Followers  User value  Tweets value  Retweet count  Likes count  \\\n5709        750        2.58          3.10           5213        15259   \n2484      76829      151.49       1638.28           3832        31347   \n2770    2399451     4604.92     229539.39           2694         6942   \n3730       3266        8.92         10.70           4246        11360   \n3178      93377      198.90        657.67           3644         8985   \n...         ...         ...           ...            ...          ...   \n235     1618859     3219.81      34097.90           1626         7310   \n4367       1211        3.73          9.40           2064         2726   \n614       13940       29.93         71.39           3644         5307   \n4046       4728       12.88         64.93           6092          657   \n3234    2128087     3967.38      12298.88           5695        21475   \n\n      Tweet value  \n5709         3.10  \n2484       140.87  \n2770      4483.29  \n3730        10.70  \n3178       218.79  \n...           ...  \n235       4250.15  \n4367         4.48  \n614          2.30  \n4046         3.09  \n3234      3967.38  \n\n[1153 rows x 13 columns]",
      "text/html": "<div>\n<style scoped>\n    .dataframe tbody tr th:only-of-type {\n        vertical-align: middle;\n    }\n\n    .dataframe tbody tr th {\n        vertical-align: top;\n    }\n\n    .dataframe thead th {\n        text-align: right;\n    }\n</style>\n<table border=\"1\" class=\"dataframe\">\n  <thead>\n    <tr style=\"text-align: right;\">\n      <th></th>\n      <th>Total tweets</th>\n      <th>Retweets</th>\n      <th>Images</th>\n      <th>Links</th>\n      <th>Chats</th>\n      <th>Text tweets</th>\n      <th>Impacts</th>\n      <th>Followers</th>\n      <th>User value</th>\n      <th>Tweets value</th>\n      <th>Retweet count</th>\n      <th>Likes count</th>\n      <th>Tweet value</th>\n    </tr>\n  </thead>\n  <tbody>\n    <tr>\n      <th>5709</th>\n      <td>1</td>\n      <td>0</td>\n      <td>1</td>\n      <td>0</td>\n      <td>0</td>\n      <td>0</td>\n      <td>750</td>\n      <td>750</td>\n      <td>2.58</td>\n      <td>3.10</td>\n      <td>5213</td>\n      <td>15259</td>\n      <td>3.10</td>\n    </tr>\n    <tr>\n      <th>2484</th>\n      <td>11</td>\n      <td>0</td>\n      <td>1</td>\n      <td>1</td>\n      <td>0</td>\n      <td>9</td>\n      <td>820707</td>\n      <td>76829</td>\n      <td>151.49</td>\n      <td>1638.28</td>\n      <td>3832</td>\n      <td>31347</td>\n      <td>140.87</td>\n    </tr>\n    <tr>\n      <th>2770</th>\n      <td>50</td>\n      <td>0</td>\n      <td>0</td>\n      <td>27</td>\n      <td>2</td>\n      <td>25</td>\n      <td>117545980</td>\n      <td>2399451</td>\n      <td>4604.92</td>\n      <td>229539.39</td>\n      <td>2694</td>\n      <td>6942</td>\n      <td>4483.29</td>\n    </tr>\n    <tr>\n      <th>3730</th>\n      <td>1</td>\n      <td>0</td>\n      <td>1</td>\n      <td>0</td>\n      <td>0</td>\n      <td>0</td>\n      <td>3266</td>\n      <td>3266</td>\n      <td>8.92</td>\n      <td>10.70</td>\n      <td>4246</td>\n      <td>11360</td>\n      <td>10.70</td>\n    </tr>\n    <tr>\n      <th>3178</th>\n      <td>3</td>\n      <td>0</td>\n      <td>0</td>\n      <td>3</td>\n      <td>0</td>\n      <td>0</td>\n      <td>278874</td>\n      <td>93377</td>\n      <td>198.90</td>\n      <td>657.67</td>\n      <td>3644</td>\n      <td>8985</td>\n      <td>218.79</td>\n    </tr>\n    <tr>\n      <th>...</th>\n      <td>...</td>\n      <td>...</td>\n      <td>...</td>\n      <td>...</td>\n      <td>...</td>\n      <td>...</td>\n      <td>...</td>\n      <td>...</td>\n      <td>...</td>\n      <td>...</td>\n      <td>...</td>\n      <td>...</td>\n      <td>...</td>\n    </tr>\n    <tr>\n      <th>235</th>\n      <td>8</td>\n      <td>0</td>\n      <td>8</td>\n      <td>8</td>\n      <td>0</td>\n      <td>0</td>\n      <td>12856768</td>\n      <td>1618859</td>\n      <td>3219.81</td>\n      <td>34097.90</td>\n      <td>1626</td>\n      <td>7310</td>\n      <td>4250.15</td>\n    </tr>\n    <tr>\n      <th>4367</th>\n      <td>2</td>\n      <td>0</td>\n      <td>2</td>\n      <td>1</td>\n      <td>0</td>\n      <td>0</td>\n      <td>2422</td>\n      <td>1211</td>\n      <td>3.73</td>\n      <td>9.40</td>\n      <td>2064</td>\n      <td>2726</td>\n      <td>4.48</td>\n    </tr>\n    <tr>\n      <th>614</th>\n      <td>2</td>\n      <td>0</td>\n      <td>2</td>\n      <td>0</td>\n      <td>0</td>\n      <td>0</td>\n      <td>27613</td>\n      <td>13940</td>\n      <td>29.93</td>\n      <td>71.39</td>\n      <td>3644</td>\n      <td>5307</td>\n      <td>2.30</td>\n    </tr>\n    <tr>\n      <th>4046</th>\n      <td>5</td>\n      <td>0</td>\n      <td>5</td>\n      <td>0</td>\n      <td>1</td>\n      <td>0</td>\n      <td>23640</td>\n      <td>4728</td>\n      <td>12.88</td>\n      <td>64.93</td>\n      <td>6092</td>\n      <td>657</td>\n      <td>3.09</td>\n    </tr>\n    <tr>\n      <th>3234</th>\n      <td>3</td>\n      <td>0</td>\n      <td>0</td>\n      <td>1</td>\n      <td>0</td>\n      <td>2</td>\n      <td>6384259</td>\n      <td>2128087</td>\n      <td>3967.38</td>\n      <td>12298.88</td>\n      <td>5695</td>\n      <td>21475</td>\n      <td>3967.38</td>\n    </tr>\n  </tbody>\n</table>\n<p>1153 rows × 13 columns</p>\n</div>"
     },
     "metadata": {},
     "execution_count": 90
    },
    {
     "output_type": "execute_result",
     "data": {
      "text/plain": "5709     True\n2484     True\n2770    False\n3730     True\n3178    False\n        ...  \n235     False\n4367    False\n614     False\n4046    False\n3234     True\nName: Popular, Length: 1153, dtype: bool"
     },
     "metadata": {},
     "execution_count": 90
    }
   ],
   "source": [
    "# split the custom_dataset both in training and testing sets\n",
    "train_feat, test_feat, train_labels, test_labels = train_test_split(custom_dataset.drop('Popular', axis= 1), custom_dataset['Popular'], test_size= 0.2)\n",
    "print('Training Dataset\\n')\n",
    "train_feat\n",
    "train_labels\n",
    "print('Testing Dataset\\n')\n",
    "test_feat\n",
    "test_labels"
   ]
  },
  {
   "cell_type": "markdown",
   "metadata": {},
   "source": [
    "### 1.5 Classifiers\n",
    "#### Naive Bayes"
   ]
  },
  {
   "cell_type": "code",
   "execution_count": 93,
   "metadata": {},
   "outputs": [
    {
     "output_type": "execute_result",
     "data": {
      "text/plain": "GaussianNB(priors=None, var_smoothing=1e-09)"
     },
     "metadata": {},
     "execution_count": 93
    },
    {
     "output_type": "stream",
     "name": "stdout",
     "text": "Train set score:  0.6473524305555556\nPrediction accuracy: 0.6556808326105811\n"
    }
   ],
   "source": [
    "#Import Gaussian Naive Bayes model\n",
    "from sklearn.naive_bayes import GaussianNB\n",
    "\n",
    "#Create a Gaussian Classifier\n",
    "model = GaussianNB()\n",
    "\n",
    "# Train the model using the training sets\n",
    "model.fit(train_feat, train_labels)\n",
    "\n",
    "score_train =  model.score(train_feat, train_labels)\n",
    "print('Train set score: ', score_train)\n",
    "\n",
    "#Predict the response for test dataset\n",
    "prediction = model.predict(test_feat)\n",
    "\n",
    "# Model Accuracy, how often is the classifier correct?\n",
    "print(\"Prediction accuracy:\",metrics.accuracy_score(test_labels, prediction))"
   ]
  }
 ],
 "metadata": {
  "kernelspec": {
   "display_name": "Python 3.7.7 64-bit",
   "language": "python",
   "name": "python37764bit143e0931926745328698ed582faa8c26"
  },
  "language_info": {
   "codemirror_mode": {
    "name": "ipython",
    "version": 3
   },
   "file_extension": ".py",
   "mimetype": "text/x-python",
   "name": "python",
   "nbconvert_exporter": "python",
   "pygments_lexer": "ipython3",
   "version": "3.7.7-final"
  }
 },
 "nbformat": 4,
 "nbformat_minor": 4
}