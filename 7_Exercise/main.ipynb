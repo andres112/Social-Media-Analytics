{
 "cells": [
  {
   "cell_type": "code",
   "execution_count": 15,
   "metadata": {},
   "outputs": [],
   "source": [
    "import pandas as pd\n",
    "from sklearn.feature_extraction.text import CountVectorizer\n",
    "from sklearn.feature_extraction.text import TfidfVectorizer\n",
    "\n",
    "from IPython.core.interactiveshell import InteractiveShell\n",
    "# Used to get multiple outputs per cell\n",
    "InteractiveShell.ast_node_interactivity = \"all\""
   ]
  },
  {
   "cell_type": "markdown",
   "metadata": {},
   "source": [
    "### Main implementation\n",
    "#### Load Datasets"
   ]
  },
  {
   "cell_type": "code",
   "execution_count": 16,
   "metadata": {},
   "outputs": [
    {
     "output_type": "execute_result",
     "data": {
      "text/plain": "                 User            Date  \\\n0          Judd Legum  11.03.20 13:25   \n1       CAPITÁN ADOBO  11.03.20 13:19   \n2  ϟ 𝓟𝓻𝓲𝓶𝓶𝓲𝓲 𝓟𝓸𝓽𝓽𝓮𝓻 ☍  11.03.20 00:07   \n\n                                               Tweet  Binders  \\\n0  TRUMP TWO WEEKS AGO: \"You have 35 people [in t...      NaN   \n1  35 grados un 11 de marzo.\\n\\nLos sevillanos no...      NaN   \n2  คือร้านอาหารใน All Seasons มีคนเป็น #COVID19 แ...      NaN   \n\n                                           Permalink  Retweet count  \\\n0  https://www.twitter.com/user/status/1237731484...           5503   \n1  https://www.twitter.com/user/status/1237729790...           2117   \n2  https://www.twitter.com/user/status/1237530520...           1285   \n\n   Likes count  Tweet value  \n0        19357       950.17  \n1         4978       100.28  \n2          150         0.52  ",
      "text/html": "<div>\n<style scoped>\n    .dataframe tbody tr th:only-of-type {\n        vertical-align: middle;\n    }\n\n    .dataframe tbody tr th {\n        vertical-align: top;\n    }\n\n    .dataframe thead th {\n        text-align: right;\n    }\n</style>\n<table border=\"1\" class=\"dataframe\">\n  <thead>\n    <tr style=\"text-align: right;\">\n      <th></th>\n      <th>User</th>\n      <th>Date</th>\n      <th>Tweet</th>\n      <th>Binders</th>\n      <th>Permalink</th>\n      <th>Retweet count</th>\n      <th>Likes count</th>\n      <th>Tweet value</th>\n    </tr>\n  </thead>\n  <tbody>\n    <tr>\n      <th>0</th>\n      <td>Judd Legum</td>\n      <td>11.03.20 13:25</td>\n      <td>TRUMP TWO WEEKS AGO: \"You have 35 people [in t...</td>\n      <td>NaN</td>\n      <td>https://www.twitter.com/user/status/1237731484...</td>\n      <td>5503</td>\n      <td>19357</td>\n      <td>950.17</td>\n    </tr>\n    <tr>\n      <th>1</th>\n      <td>CAPITÁN ADOBO</td>\n      <td>11.03.20 13:19</td>\n      <td>35 grados un 11 de marzo.\\n\\nLos sevillanos no...</td>\n      <td>NaN</td>\n      <td>https://www.twitter.com/user/status/1237729790...</td>\n      <td>2117</td>\n      <td>4978</td>\n      <td>100.28</td>\n    </tr>\n    <tr>\n      <th>2</th>\n      <td>ϟ 𝓟𝓻𝓲𝓶𝓶𝓲𝓲 𝓟𝓸𝓽𝓽𝓮𝓻 ☍</td>\n      <td>11.03.20 00:07</td>\n      <td>คือร้านอาหารใน All Seasons มีคนเป็น #COVID19 แ...</td>\n      <td>NaN</td>\n      <td>https://www.twitter.com/user/status/1237530520...</td>\n      <td>1285</td>\n      <td>150</td>\n      <td>0.52</td>\n    </tr>\n  </tbody>\n</table>\n</div>"
     },
     "metadata": {},
     "execution_count": 16
    }
   ],
   "source": [
    "tweets_dataset = pd.read_csv('tweets_info_test.csv') \n",
    "user_dataset = pd.read_csv('user_info.csv') \n",
    "tweets_dataset.sort_values(by='Likes count', ascending = False)\n",
    "# user_dataset"
   ]
  },
  {
   "cell_type": "markdown",
   "metadata": {},
   "source": [
    "#### Clean Tweets (Remove punctuation and stop-words)"
   ]
  },
  {
   "cell_type": "code",
   "execution_count": 31,
   "metadata": {},
   "outputs": [
    {
     "output_type": "execute_result",
     "data": {
      "text/plain": "CountVectorizer(analyzer='word', binary=False, decode_error='strict',\n                dtype=<class 'numpy.int64'>, encoding='utf-8', input='content',\n                lowercase=True, max_df=1.0, max_features=None, min_df=1,\n                ngram_range=(1, 1), preprocessor=None, stop_words='english',\n                strip_accents=None, token_pattern='(?u)\\\\b\\\\w\\\\w+\\\\b',\n                tokenizer=None, vocabulary=None)"
     },
     "metadata": {},
     "execution_count": 31
    },
    {
     "output_type": "execute_result",
     "data": {
      "text/plain": "   039  11  15  2กพ  35  50กว  acabar  ago  cases  close  ...  านไปแล  าย  \\\n0    1   0   1    0   1     0       0    1      1      1  ...       0   0   \n1    0   1   0    0   1     0       1    0      0      0  ...       0   0   \n2    0   0   0    1   0     1       0    0      0      0  ...       1   1   \n\n   าวเง  เค  เจ  เอง  แล  โคว  ใครไปก  ใช  \n0     0   0   0    0   0    0       0   0  \n1     0   0   0    0   0    0       0   0  \n2     1   1   1    1   2    1       1   1  \n\n[3 rows x 79 columns]",
      "text/html": "<div>\n<style scoped>\n    .dataframe tbody tr th:only-of-type {\n        vertical-align: middle;\n    }\n\n    .dataframe tbody tr th {\n        vertical-align: top;\n    }\n\n    .dataframe thead th {\n        text-align: right;\n    }\n</style>\n<table border=\"1\" class=\"dataframe\">\n  <thead>\n    <tr style=\"text-align: right;\">\n      <th></th>\n      <th>039</th>\n      <th>11</th>\n      <th>15</th>\n      <th>2กพ</th>\n      <th>35</th>\n      <th>50กว</th>\n      <th>acabar</th>\n      <th>ago</th>\n      <th>cases</th>\n      <th>close</th>\n      <th>...</th>\n      <th>านไปแล</th>\n      <th>าย</th>\n      <th>าวเง</th>\n      <th>เค</th>\n      <th>เจ</th>\n      <th>เอง</th>\n      <th>แล</th>\n      <th>โคว</th>\n      <th>ใครไปก</th>\n      <th>ใช</th>\n    </tr>\n  </thead>\n  <tbody>\n    <tr>\n      <th>0</th>\n      <td>1</td>\n      <td>0</td>\n      <td>1</td>\n      <td>0</td>\n      <td>1</td>\n      <td>0</td>\n      <td>0</td>\n      <td>1</td>\n      <td>1</td>\n      <td>1</td>\n      <td>...</td>\n      <td>0</td>\n      <td>0</td>\n      <td>0</td>\n      <td>0</td>\n      <td>0</td>\n      <td>0</td>\n      <td>0</td>\n      <td>0</td>\n      <td>0</td>\n      <td>0</td>\n    </tr>\n    <tr>\n      <th>1</th>\n      <td>0</td>\n      <td>1</td>\n      <td>0</td>\n      <td>0</td>\n      <td>1</td>\n      <td>0</td>\n      <td>1</td>\n      <td>0</td>\n      <td>0</td>\n      <td>0</td>\n      <td>...</td>\n      <td>0</td>\n      <td>0</td>\n      <td>0</td>\n      <td>0</td>\n      <td>0</td>\n      <td>0</td>\n      <td>0</td>\n      <td>0</td>\n      <td>0</td>\n      <td>0</td>\n    </tr>\n    <tr>\n      <th>2</th>\n      <td>0</td>\n      <td>0</td>\n      <td>0</td>\n      <td>1</td>\n      <td>0</td>\n      <td>1</td>\n      <td>0</td>\n      <td>0</td>\n      <td>0</td>\n      <td>0</td>\n      <td>...</td>\n      <td>1</td>\n      <td>1</td>\n      <td>1</td>\n      <td>1</td>\n      <td>1</td>\n      <td>1</td>\n      <td>2</td>\n      <td>1</td>\n      <td>1</td>\n      <td>1</td>\n    </tr>\n  </tbody>\n</table>\n<p>3 rows × 79 columns</p>\n</div>"
     },
     "metadata": {},
     "execution_count": 31
    }
   ],
   "source": [
    "# first create the transform and stop words set for english\n",
    "vectorizer = CountVectorizer(stop_words='english')\n",
    "\n",
    "# The Tweet column is the list of documents\n",
    "vectorizer.fit(tweets_dataset['Tweet'])\n",
    "\n",
    "# Counter words by tweet array\n",
    "word_counter = vectorizer.transform(tweets_dataset['Tweet'])\n",
    "pd.DataFrame(word_counter.toarray(), columns=vectorizer.get_feature_names())"
   ]
  },
  {
   "cell_type": "code",
   "execution_count": 29,
   "metadata": {},
   "outputs": [
    {
     "output_type": "execute_result",
     "data": {
      "text/plain": "TfidfVectorizer(analyzer='word', binary=False, decode_error='strict',\n                dtype=<class 'numpy.float64'>, encoding='utf-8',\n                input='content', lowercase=True, max_df=1.0, max_features=None,\n                min_df=1, ngram_range=(1, 1), norm='l2', preprocessor=None,\n                smooth_idf=True, stop_words=None, strip_accents=None,\n                sublinear_tf=False, token_pattern='(?u)\\\\b\\\\w\\\\w+\\\\b',\n                tokenizer=None, use_idf=True, vocabulary=None)"
     },
     "metadata": {},
     "execution_count": 29
    },
    {
     "output_type": "execute_result",
     "data": {
      "text/plain": "             IDF\n039     1.693147\n11      1.693147\n15      1.693147\n2กพ     1.693147\n35      1.287682\n...          ...\nเอง     1.693147\nแล      1.693147\nโคว     1.693147\nใครไปก  1.693147\nใช      1.693147\n\n[100 rows x 1 columns]",
      "text/html": "<div>\n<style scoped>\n    .dataframe tbody tr th:only-of-type {\n        vertical-align: middle;\n    }\n\n    .dataframe tbody tr th {\n        vertical-align: top;\n    }\n\n    .dataframe thead th {\n        text-align: right;\n    }\n</style>\n<table border=\"1\" class=\"dataframe\">\n  <thead>\n    <tr style=\"text-align: right;\">\n      <th></th>\n      <th>IDF</th>\n    </tr>\n  </thead>\n  <tbody>\n    <tr>\n      <th>039</th>\n      <td>1.693147</td>\n    </tr>\n    <tr>\n      <th>11</th>\n      <td>1.693147</td>\n    </tr>\n    <tr>\n      <th>15</th>\n      <td>1.693147</td>\n    </tr>\n    <tr>\n      <th>2กพ</th>\n      <td>1.693147</td>\n    </tr>\n    <tr>\n      <th>35</th>\n      <td>1.287682</td>\n    </tr>\n    <tr>\n      <th>...</th>\n      <td>...</td>\n    </tr>\n    <tr>\n      <th>เอง</th>\n      <td>1.693147</td>\n    </tr>\n    <tr>\n      <th>แล</th>\n      <td>1.693147</td>\n    </tr>\n    <tr>\n      <th>โคว</th>\n      <td>1.693147</td>\n    </tr>\n    <tr>\n      <th>ใครไปก</th>\n      <td>1.693147</td>\n    </tr>\n    <tr>\n      <th>ใช</th>\n      <td>1.693147</td>\n    </tr>\n  </tbody>\n</table>\n<p>100 rows × 1 columns</p>\n</div>"
     },
     "metadata": {},
     "execution_count": 29
    },
    {
     "output_type": "execute_result",
     "data": {
      "text/plain": "       039        11       15       2กพ        35      50กว    acabar  \\\n0  0.13376  0.000000  0.13376  0.000000  0.101728  0.000000  0.000000   \n1  0.00000  0.212445  0.00000  0.000000  0.161570  0.000000  0.212445   \n2  0.00000  0.000000  0.00000  0.138675  0.000000  0.138675  0.000000   \n\n       ago       all      and  ...    านไปแล        าย      าวเง        เค  \\\n0  0.13376  0.000000  0.13376  ...  0.000000  0.000000  0.000000  0.000000   \n1  0.00000  0.000000  0.00000  ...  0.000000  0.000000  0.000000  0.000000   \n2  0.00000  0.138675  0.00000  ...  0.138675  0.138675  0.138675  0.138675   \n\n         เจ       เอง       แล       โคว    ใครไปก        ใช  \n0  0.000000  0.000000  0.00000  0.000000  0.000000  0.000000  \n1  0.000000  0.000000  0.00000  0.000000  0.000000  0.000000  \n2  0.138675  0.138675  0.27735  0.138675  0.138675  0.138675  \n\n[3 rows x 100 columns]",
      "text/html": "<div>\n<style scoped>\n    .dataframe tbody tr th:only-of-type {\n        vertical-align: middle;\n    }\n\n    .dataframe tbody tr th {\n        vertical-align: top;\n    }\n\n    .dataframe thead th {\n        text-align: right;\n    }\n</style>\n<table border=\"1\" class=\"dataframe\">\n  <thead>\n    <tr style=\"text-align: right;\">\n      <th></th>\n      <th>039</th>\n      <th>11</th>\n      <th>15</th>\n      <th>2กพ</th>\n      <th>35</th>\n      <th>50กว</th>\n      <th>acabar</th>\n      <th>ago</th>\n      <th>all</th>\n      <th>and</th>\n      <th>...</th>\n      <th>านไปแล</th>\n      <th>าย</th>\n      <th>าวเง</th>\n      <th>เค</th>\n      <th>เจ</th>\n      <th>เอง</th>\n      <th>แล</th>\n      <th>โคว</th>\n      <th>ใครไปก</th>\n      <th>ใช</th>\n    </tr>\n  </thead>\n  <tbody>\n    <tr>\n      <th>0</th>\n      <td>0.13376</td>\n      <td>0.000000</td>\n      <td>0.13376</td>\n      <td>0.000000</td>\n      <td>0.101728</td>\n      <td>0.000000</td>\n      <td>0.000000</td>\n      <td>0.13376</td>\n      <td>0.000000</td>\n      <td>0.13376</td>\n      <td>...</td>\n      <td>0.000000</td>\n      <td>0.000000</td>\n      <td>0.000000</td>\n      <td>0.000000</td>\n      <td>0.000000</td>\n      <td>0.000000</td>\n      <td>0.00000</td>\n      <td>0.000000</td>\n      <td>0.000000</td>\n      <td>0.000000</td>\n    </tr>\n    <tr>\n      <th>1</th>\n      <td>0.00000</td>\n      <td>0.212445</td>\n      <td>0.00000</td>\n      <td>0.000000</td>\n      <td>0.161570</td>\n      <td>0.000000</td>\n      <td>0.212445</td>\n      <td>0.00000</td>\n      <td>0.000000</td>\n      <td>0.00000</td>\n      <td>...</td>\n      <td>0.000000</td>\n      <td>0.000000</td>\n      <td>0.000000</td>\n      <td>0.000000</td>\n      <td>0.000000</td>\n      <td>0.000000</td>\n      <td>0.00000</td>\n      <td>0.000000</td>\n      <td>0.000000</td>\n      <td>0.000000</td>\n    </tr>\n    <tr>\n      <th>2</th>\n      <td>0.00000</td>\n      <td>0.000000</td>\n      <td>0.00000</td>\n      <td>0.138675</td>\n      <td>0.000000</td>\n      <td>0.138675</td>\n      <td>0.000000</td>\n      <td>0.00000</td>\n      <td>0.138675</td>\n      <td>0.00000</td>\n      <td>...</td>\n      <td>0.138675</td>\n      <td>0.138675</td>\n      <td>0.138675</td>\n      <td>0.138675</td>\n      <td>0.138675</td>\n      <td>0.138675</td>\n      <td>0.27735</td>\n      <td>0.138675</td>\n      <td>0.138675</td>\n      <td>0.138675</td>\n    </tr>\n  </tbody>\n</table>\n<p>3 rows × 100 columns</p>\n</div>"
     },
     "metadata": {},
     "execution_count": 29
    }
   ],
   "source": [
    "# create the transform\n",
    "vectorizer = TfidfVectorizer(stop_words='english')\n",
    "\n",
    "# tokenize and build vocab\n",
    "vectorizer.fit(tweets_dataset['Tweet'])\n",
    "pd.DataFrame(vectorizer.idf_, index=vectorizer.get_feature_names(), columns=['IDF'])\n",
    "\n",
    "# Tf-idf matrix by tweet\n",
    "tf_idf = vectorizer.transform(tweets_dataset['Tweet'])\n",
    "pd.DataFrame(tf_idf.toarray(), columns=vectorizer.get_feature_names())"
   ]
  },
  {
   "cell_type": "code",
   "execution_count": null,
   "metadata": {},
   "outputs": [],
   "source": []
  }
 ],
 "metadata": {
  "kernelspec": {
   "display_name": "Python 3",
   "language": "python",
   "name": "python3"
  },
  "language_info": {
   "codemirror_mode": {
    "name": "ipython",
    "version": 3
   },
   "file_extension": ".py",
   "mimetype": "text/x-python",
   "name": "python",
   "nbconvert_exporter": "python",
   "pygments_lexer": "ipython3",
   "version": "3.7.7-final"
  }
 },
 "nbformat": 4,
 "nbformat_minor": 4
}