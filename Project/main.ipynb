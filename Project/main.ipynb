{
 "cells": [
  {
   "cell_type": "code",
   "execution_count": 1,
   "metadata": {},
   "outputs": [],
   "source": [
    "%config IPCompleter.greedy=True"
   ]
  },
  {
   "cell_type": "markdown",
   "metadata": {},
   "source": [
    "# Social Recommendation Systems (CiaoDVD Dataset)"
   ]
  },
  {
   "cell_type": "markdown",
   "metadata": {},
   "source": [
    "## Goal\n",
    "The aim of this project is to build a tool that implements and compares different types of recommendation algorithms on a real-world dataset. The tool should be able to: \n",
    "- Load the dataset \n",
    "- Run different recommendation algorithms on the dataset \n",
    "- Compare and discuss the results, parameter sensitivity"
   ]
  },
  {
   "cell_type": "markdown",
   "metadata": {},
   "source": [
    "### Task 1. Load the dataset\n",
    "- Load the CiaoDVD dataset from https://www.librec.net/datasets.html\n",
    "- Explore the properties of the graph"
   ]
  },
  {
   "cell_type": "markdown",
   "metadata": {},
   "source": [
    "#### This initial section contais the modules and dependencies required to run the code\n",
    "- Customized fucntions to plot [plots.py](plots.py)\n",
    "- Split dataset between train and test data with sklearn [splitData.py](splitData.py)\n",
    "- RMSE and MAE functions [metrics.py](metrics.py)\n",
    "- Weigth-Centralilized normalization for prediction [prediction.py](prediction.py)"
   ]
  },
  {
   "cell_type": "code",
   "execution_count": 2,
   "metadata": {},
   "outputs": [],
   "source": [
    "# Import all the modules and dependencies required \n",
    "import pandas as pd\n",
    "import numpy as np\n",
    "import warnings\n",
    "import logging\n",
    "\n",
    "# Widgets for graphical interface\n",
    "import ipywidgets as widgets\n",
    "from IPython.core.interactiveshell import InteractiveShell\n",
    "from IPython.display import display, clear_output\n",
    "\n",
    "import plots\n",
    "import splitData\n",
    "import metrics\n",
    "import prediction as pred\n",
    "\n",
    "# Used to get multiple outputs per cell\n",
    "InteractiveShell.ast_node_interactivity = \"all\"\n",
    "\n",
    "warnings.filterwarnings(\"ignore\")  # ignore warnings in logs\n",
    "\n",
    "logging.basicConfig(format='%(asctime)s - %(message)s', level=logging.INFO) "
   ]
  },
  {
   "cell_type": "markdown",
   "metadata": {},
   "source": [
    "#### Loading Dataset"
   ]
  },
  {
   "cell_type": "code",
   "execution_count": 3,
   "metadata": {},
   "outputs": [
    {
     "name": "stdout",
     "output_type": "stream",
     "text": [
      "Dataset information\n",
      "Users: 18\n",
      "Movies: 9\n",
      "Categories: 4\n",
      "Sparsity: 0.617283950617284\n",
      "<class 'pandas.core.frame.DataFrame'>\n",
      "RangeIndex: 62 entries, 0 to 61\n",
      "Data columns (total 4 columns):\n",
      " #   Column            Non-Null Count  Dtype \n",
      "---  ------            --------------  ----- \n",
      " 0   userId            62 non-null     object\n",
      " 1   movieId           62 non-null     object\n",
      " 2   movie_categoryId  62 non-null     object\n",
      " 3   movieRating       62 non-null     int64 \n",
      "dtypes: int64(1), object(3)\n",
      "memory usage: 2.1+ KB\n"
     ]
    },
    {
     "data": {
      "text/html": [
       "<div>\n",
       "<style scoped>\n",
       "    .dataframe tbody tr th:only-of-type {\n",
       "        vertical-align: middle;\n",
       "    }\n",
       "\n",
       "    .dataframe tbody tr th {\n",
       "        vertical-align: top;\n",
       "    }\n",
       "\n",
       "    .dataframe thead th {\n",
       "        text-align: right;\n",
       "    }\n",
       "</style>\n",
       "<table border=\"1\" class=\"dataframe\">\n",
       "  <thead>\n",
       "    <tr style=\"text-align: right;\">\n",
       "      <th></th>\n",
       "      <th>movieRating</th>\n",
       "    </tr>\n",
       "  </thead>\n",
       "  <tbody>\n",
       "    <tr>\n",
       "      <th>count</th>\n",
       "      <td>62.000000</td>\n",
       "    </tr>\n",
       "    <tr>\n",
       "      <th>mean</th>\n",
       "      <td>2.935484</td>\n",
       "    </tr>\n",
       "    <tr>\n",
       "      <th>std</th>\n",
       "      <td>1.424274</td>\n",
       "    </tr>\n",
       "    <tr>\n",
       "      <th>min</th>\n",
       "      <td>1.000000</td>\n",
       "    </tr>\n",
       "    <tr>\n",
       "      <th>25%</th>\n",
       "      <td>2.000000</td>\n",
       "    </tr>\n",
       "    <tr>\n",
       "      <th>50%</th>\n",
       "      <td>3.000000</td>\n",
       "    </tr>\n",
       "    <tr>\n",
       "      <th>75%</th>\n",
       "      <td>4.000000</td>\n",
       "    </tr>\n",
       "    <tr>\n",
       "      <th>max</th>\n",
       "      <td>5.000000</td>\n",
       "    </tr>\n",
       "  </tbody>\n",
       "</table>\n",
       "</div>"
      ],
      "text/plain": [
       "       movieRating\n",
       "count    62.000000\n",
       "mean      2.935484\n",
       "std       1.424274\n",
       "min       1.000000\n",
       "25%       2.000000\n",
       "50%       3.000000\n",
       "75%       4.000000\n",
       "max       5.000000"
      ]
     },
     "execution_count": 3,
     "metadata": {},
     "output_type": "execute_result"
    }
   ],
   "source": [
    "# Loading Dataset\n",
    "headers = ['userId', 'movieId', 'movie_categoryId', 'reviewId', 'movieRating', 'reviewDate']\n",
    "columns = ['userId', 'movieId', 'movie_categoryId', 'movieRating']\n",
    "dataset = pd.read_csv('Dataset/movie-ratings_test.txt',\n",
    "                           names=headers, usecols=columns, dtype={'userId': 'str', 'movieId': 'str', 'movie_categoryId':'str'})\n",
    "# Dataset information\n",
    "print('Dataset information')\n",
    "num_users = dataset.userId.unique().shape[0]\n",
    "num_items = dataset.movieId.unique().shape[0]\n",
    "num_cat = dataset.movie_categoryId.unique().shape[0]\n",
    "sparsity = 1 - len(dataset) / (num_users * num_items)\n",
    "print(f\"Users: {num_users}\\nMovies: {num_items}\\nCategories: {num_cat}\\nSparsity: {sparsity}\")\n",
    "dataset.info()\n",
    "dataset.describe()"
   ]
  },
  {
   "cell_type": "markdown",
   "metadata": {},
   "source": [
    "#### Movie categories analysis"
   ]
  },
  {
   "cell_type": "code",
   "execution_count": 4,
   "metadata": {},
   "outputs": [
    {
     "data": {
      "text/html": [
       "<div>\n",
       "<style scoped>\n",
       "    .dataframe tbody tr th:only-of-type {\n",
       "        vertical-align: middle;\n",
       "    }\n",
       "\n",
       "    .dataframe tbody tr th {\n",
       "        vertical-align: top;\n",
       "    }\n",
       "\n",
       "    .dataframe thead th {\n",
       "        text-align: right;\n",
       "    }\n",
       "</style>\n",
       "<table border=\"1\" class=\"dataframe\">\n",
       "  <thead>\n",
       "    <tr style=\"text-align: right;\">\n",
       "      <th></th>\n",
       "      <th>count</th>\n",
       "      <th>mean</th>\n",
       "      <th>std</th>\n",
       "      <th>min</th>\n",
       "      <th>25%</th>\n",
       "      <th>50%</th>\n",
       "      <th>75%</th>\n",
       "      <th>max</th>\n",
       "    </tr>\n",
       "  </thead>\n",
       "  <tbody>\n",
       "    <tr>\n",
       "      <th>movieRating</th>\n",
       "      <td>4.0</td>\n",
       "      <td>2.719689</td>\n",
       "      <td>0.610394</td>\n",
       "      <td>1.833333</td>\n",
       "      <td>2.558333</td>\n",
       "      <td>2.951282</td>\n",
       "      <td>3.112637</td>\n",
       "      <td>3.142857</td>\n",
       "    </tr>\n",
       "  </tbody>\n",
       "</table>\n",
       "</div>"
      ],
      "text/plain": [
       "             count      mean       std       min       25%       50%  \\\n",
       "movieRating    4.0  2.719689  0.610394  1.833333  2.558333  2.951282   \n",
       "\n",
       "                  75%       max  \n",
       "movieRating  3.112637  3.142857  "
      ]
     },
     "execution_count": 4,
     "metadata": {},
     "output_type": "execute_result"
    },
    {
     "name": "stdout",
     "output_type": "stream",
     "text": [
      "\n",
      "Ratings per category\n"
     ]
    },
    {
     "data": {
      "text/html": [
       "<div>\n",
       "<style scoped>\n",
       "    .dataframe tbody tr th:only-of-type {\n",
       "        vertical-align: middle;\n",
       "    }\n",
       "\n",
       "    .dataframe tbody tr th {\n",
       "        vertical-align: top;\n",
       "    }\n",
       "\n",
       "    .dataframe thead th {\n",
       "        text-align: right;\n",
       "    }\n",
       "</style>\n",
       "<table border=\"1\" class=\"dataframe\">\n",
       "  <thead>\n",
       "    <tr style=\"text-align: right;\">\n",
       "      <th></th>\n",
       "      <th>movieRating</th>\n",
       "      <th>ratings_per_category</th>\n",
       "    </tr>\n",
       "    <tr>\n",
       "      <th>movie_categoryId</th>\n",
       "      <th></th>\n",
       "      <th></th>\n",
       "    </tr>\n",
       "  </thead>\n",
       "  <tbody>\n",
       "    <tr>\n",
       "      <th>1</th>\n",
       "      <td>3.102564</td>\n",
       "      <td>39</td>\n",
       "    </tr>\n",
       "    <tr>\n",
       "      <th>2</th>\n",
       "      <td>2.800000</td>\n",
       "      <td>10</td>\n",
       "    </tr>\n",
       "    <tr>\n",
       "      <th>3</th>\n",
       "      <td>3.142857</td>\n",
       "      <td>7</td>\n",
       "    </tr>\n",
       "    <tr>\n",
       "      <th>5</th>\n",
       "      <td>1.833333</td>\n",
       "      <td>6</td>\n",
       "    </tr>\n",
       "  </tbody>\n",
       "</table>\n",
       "</div>"
      ],
      "text/plain": [
       "                  movieRating  ratings_per_category\n",
       "movie_categoryId                                   \n",
       "1                    3.102564                    39\n",
       "2                    2.800000                    10\n",
       "3                    3.142857                     7\n",
       "5                    1.833333                     6"
      ]
     },
     "execution_count": 4,
     "metadata": {},
     "output_type": "execute_result"
    },
    {
     "data": {
      "text/html": [
       "<div>\n",
       "<style scoped>\n",
       "    .dataframe tbody tr th:only-of-type {\n",
       "        vertical-align: middle;\n",
       "    }\n",
       "\n",
       "    .dataframe tbody tr th {\n",
       "        vertical-align: top;\n",
       "    }\n",
       "\n",
       "    .dataframe thead th {\n",
       "        text-align: right;\n",
       "    }\n",
       "</style>\n",
       "<table border=\"1\" class=\"dataframe\">\n",
       "  <thead>\n",
       "    <tr style=\"text-align: right;\">\n",
       "      <th></th>\n",
       "      <th>movieRating</th>\n",
       "      <th>ratings_per_category</th>\n",
       "    </tr>\n",
       "    <tr>\n",
       "      <th>movie_categoryId</th>\n",
       "      <th></th>\n",
       "      <th></th>\n",
       "    </tr>\n",
       "  </thead>\n",
       "  <tbody>\n",
       "    <tr>\n",
       "      <th>2</th>\n",
       "      <td>2.800000</td>\n",
       "      <td>10</td>\n",
       "    </tr>\n",
       "    <tr>\n",
       "      <th>3</th>\n",
       "      <td>3.142857</td>\n",
       "      <td>7</td>\n",
       "    </tr>\n",
       "    <tr>\n",
       "      <th>5</th>\n",
       "      <td>1.833333</td>\n",
       "      <td>6</td>\n",
       "    </tr>\n",
       "  </tbody>\n",
       "</table>\n",
       "</div>"
      ],
      "text/plain": [
       "                  movieRating  ratings_per_category\n",
       "movie_categoryId                                   \n",
       "2                    2.800000                    10\n",
       "3                    3.142857                     7\n",
       "5                    1.833333                     6"
      ]
     },
     "execution_count": 4,
     "metadata": {},
     "output_type": "execute_result"
    },
    {
     "data": {
      "image/png": "[encoded data removed]",
      "text/plain": [
       "<Figure size 1080x360 with 1 Axes>"
      ]
     },
     "metadata": {
      "needs_background": "light"
     },
     "output_type": "display_data"
    }
   ],
   "source": [
    "#dataset.groupby('movie_categoryId')['movieId'].count().sort_values(ascending=False)\n",
    "#dataset.groupby('movie_categoryId')['movieRating'].mean().sort_values(ascending=False)\n",
    "# average categorie ratings\n",
    "categories = pd.DataFrame(dataset.groupby('movie_categoryId')['movieRating'].mean())\n",
    "\n",
    "categories.describe().T\n",
    "\n",
    "# quantity of movies per categorie\n",
    "categories['ratings_per_category'] = dataset.groupby('movie_categoryId')['movieId'].count()\n",
    "\n",
    "# sorted by number of categories\n",
    "print('\\nRatings per category')\n",
    "categories.sort_values('ratings_per_category', ascending=False).head()\n",
    "categories.sort_values('ratings_per_category', ascending=False).tail(3)\n",
    "\n",
    "# Plot number of movies per categories\n",
    "plot_settings = {\n",
    "    'axisX':'movieRating', \n",
    "    'axisY': 'ratings_per_category', \n",
    "    'topic': 'Category', \n",
    "    'color':'green',\n",
    "    'labels': categories.index}\n",
    "plots.scatterPlot(categories, plot_settings)"
   ]
  },
  {
   "cell_type": "markdown",
   "metadata": {},
   "source": [
    "#### Rating Analysis"
   ]
  },
  {
   "cell_type": "code",
   "execution_count": 5,
   "metadata": {},
   "outputs": [
    {
     "data": {
      "text/html": [
       "<div>\n",
       "<style scoped>\n",
       "    .dataframe tbody tr th:only-of-type {\n",
       "        vertical-align: middle;\n",
       "    }\n",
       "\n",
       "    .dataframe tbody tr th {\n",
       "        vertical-align: top;\n",
       "    }\n",
       "\n",
       "    .dataframe thead th {\n",
       "        text-align: right;\n",
       "    }\n",
       "</style>\n",
       "<table border=\"1\" class=\"dataframe\">\n",
       "  <thead>\n",
       "    <tr style=\"text-align: right;\">\n",
       "      <th></th>\n",
       "      <th>count</th>\n",
       "      <th>mean</th>\n",
       "      <th>std</th>\n",
       "      <th>min</th>\n",
       "      <th>25%</th>\n",
       "      <th>50%</th>\n",
       "      <th>75%</th>\n",
       "      <th>max</th>\n",
       "    </tr>\n",
       "  </thead>\n",
       "  <tbody>\n",
       "    <tr>\n",
       "      <th>movieRating</th>\n",
       "      <td>9.0</td>\n",
       "      <td>2.787037</td>\n",
       "      <td>0.738286</td>\n",
       "      <td>1.8</td>\n",
       "      <td>2.4</td>\n",
       "      <td>2.8</td>\n",
       "      <td>3.142857</td>\n",
       "      <td>3.857143</td>\n",
       "    </tr>\n",
       "  </tbody>\n",
       "</table>\n",
       "</div>"
      ],
      "text/plain": [
       "             count      mean       std  min  25%  50%       75%       max\n",
       "movieRating    9.0  2.787037  0.738286  1.8  2.4  2.8  3.142857  3.857143"
      ]
     },
     "execution_count": 5,
     "metadata": {},
     "output_type": "execute_result"
    },
    {
     "name": "stdout",
     "output_type": "stream",
     "text": [
      "\n",
      "Ratings per Movie\n"
     ]
    },
    {
     "data": {
      "text/html": [
       "<div>\n",
       "<style scoped>\n",
       "    .dataframe tbody tr th:only-of-type {\n",
       "        vertical-align: middle;\n",
       "    }\n",
       "\n",
       "    .dataframe tbody tr th {\n",
       "        vertical-align: top;\n",
       "    }\n",
       "\n",
       "    .dataframe thead th {\n",
       "        text-align: right;\n",
       "    }\n",
       "</style>\n",
       "<table border=\"1\" class=\"dataframe\">\n",
       "  <thead>\n",
       "    <tr style=\"text-align: right;\">\n",
       "      <th></th>\n",
       "      <th>movieRating</th>\n",
       "      <th>ratings_per_movie</th>\n",
       "    </tr>\n",
       "    <tr>\n",
       "      <th>movieId</th>\n",
       "      <th></th>\n",
       "      <th></th>\n",
       "    </tr>\n",
       "  </thead>\n",
       "  <tbody>\n",
       "    <tr>\n",
       "      <th>1</th>\n",
       "      <td>3.857143</td>\n",
       "      <td>14</td>\n",
       "    </tr>\n",
       "    <tr>\n",
       "      <th>2</th>\n",
       "      <td>2.800000</td>\n",
       "      <td>10</td>\n",
       "    </tr>\n",
       "    <tr>\n",
       "      <th>3</th>\n",
       "      <td>3.000000</td>\n",
       "      <td>7</td>\n",
       "    </tr>\n",
       "    <tr>\n",
       "      <th>b</th>\n",
       "      <td>3.142857</td>\n",
       "      <td>7</td>\n",
       "    </tr>\n",
       "    <tr>\n",
       "      <th>a</th>\n",
       "      <td>1.833333</td>\n",
       "      <td>6</td>\n",
       "    </tr>\n",
       "  </tbody>\n",
       "</table>\n",
       "</div>"
      ],
      "text/plain": [
       "         movieRating  ratings_per_movie\n",
       "movieId                                \n",
       "1           3.857143                 14\n",
       "2           2.800000                 10\n",
       "3           3.000000                  7\n",
       "b           3.142857                  7\n",
       "a           1.833333                  6"
      ]
     },
     "execution_count": 5,
     "metadata": {},
     "output_type": "execute_result"
    },
    {
     "data": {
      "image/png": "[encoded data removed]",
      "text/plain": [
       "<Figure size 1080x360 with 1 Axes>"
      ]
     },
     "metadata": {
      "needs_background": "light"
     },
     "output_type": "display_data"
    }
   ],
   "source": [
    "# average rating for each movie\n",
    "ratings = pd.DataFrame(dataset.groupby('movieId')['movieRating'].mean())\n",
    "\n",
    "ratings.describe().T\n",
    "\n",
    "# quantity of ratings per movie\n",
    "ratings['ratings_per_movie'] = dataset.groupby('movieId')['movieRating'].count()\n",
    "\n",
    "# sorted by number of ratings\n",
    "print('\\nRatings per Movie')\n",
    "ratings.sort_values('ratings_per_movie', ascending=False).head()\n",
    "\n",
    "# Plot number of movies per rating\n",
    "plot_settings = {\n",
    "    'axisX':'movieRating', \n",
    "    'axisY': 'ratings_per_movie', \n",
    "    'topic': 'Movie'}\n",
    "plots.scatterPlot(ratings, plot_settings)"
   ]
  },
  {
   "cell_type": "markdown",
   "metadata": {},
   "source": [
    "#### Split the dataset in training and testing data"
   ]
  },
  {
   "cell_type": "code",
   "execution_count": 7,
   "metadata": {},
   "outputs": [
    {
     "name": "stdout",
     "output_type": "stream",
     "text": [
      "Train Dataset\n"
     ]
    },
    {
     "data": {
      "text/html": [
       "<div>\n",
       "<style scoped>\n",
       "    .dataframe tbody tr th:only-of-type {\n",
       "        vertical-align: middle;\n",
       "    }\n",
       "\n",
       "    .dataframe tbody tr th {\n",
       "        vertical-align: top;\n",
       "    }\n",
       "\n",
       "    .dataframe thead th {\n",
       "        text-align: right;\n",
       "    }\n",
       "</style>\n",
       "<table border=\"1\" class=\"dataframe\">\n",
       "  <thead>\n",
       "    <tr style=\"text-align: right;\">\n",
       "      <th>userId</th>\n",
       "      <th>1</th>\n",
       "      <th>2</th>\n",
       "      <th>3</th>\n",
       "      <th>4</th>\n",
       "      <th>5</th>\n",
       "      <th>6</th>\n",
       "      <th>7</th>\n",
       "      <th>8</th>\n",
       "      <th>9</th>\n",
       "      <th>a</th>\n",
       "      <th>b</th>\n",
       "      <th>c</th>\n",
       "      <th>d</th>\n",
       "      <th>e</th>\n",
       "      <th>f</th>\n",
       "      <th>g</th>\n",
       "      <th>h</th>\n",
       "      <th>i</th>\n",
       "    </tr>\n",
       "    <tr>\n",
       "      <th>movieId</th>\n",
       "      <th></th>\n",
       "      <th></th>\n",
       "      <th></th>\n",
       "      <th></th>\n",
       "      <th></th>\n",
       "      <th></th>\n",
       "      <th></th>\n",
       "      <th></th>\n",
       "      <th></th>\n",
       "      <th></th>\n",
       "      <th></th>\n",
       "      <th></th>\n",
       "      <th></th>\n",
       "      <th></th>\n",
       "      <th></th>\n",
       "      <th></th>\n",
       "      <th></th>\n",
       "      <th></th>\n",
       "    </tr>\n",
       "  </thead>\n",
       "  <tbody>\n",
       "    <tr>\n",
       "      <th>1</th>\n",
       "      <td>5.0</td>\n",
       "      <td>5.0</td>\n",
       "      <td>5.0</td>\n",
       "      <td>4.0</td>\n",
       "      <td>4.0</td>\n",
       "      <td>5.0</td>\n",
       "      <td>4.0</td>\n",
       "      <td>4.0</td>\n",
       "      <td>3.0</td>\n",
       "      <td>3.0</td>\n",
       "      <td>NaN</td>\n",
       "      <td>3.0</td>\n",
       "      <td>NaN</td>\n",
       "      <td>NaN</td>\n",
       "      <td>NaN</td>\n",
       "      <td>NaN</td>\n",
       "      <td>4.0</td>\n",
       "      <td>NaN</td>\n",
       "    </tr>\n",
       "    <tr>\n",
       "      <th>2</th>\n",
       "      <td>2.0</td>\n",
       "      <td>2.0</td>\n",
       "      <td>2.0</td>\n",
       "      <td>2.0</td>\n",
       "      <td>4.0</td>\n",
       "      <td>3.0</td>\n",
       "      <td>4.0</td>\n",
       "      <td>NaN</td>\n",
       "      <td>NaN</td>\n",
       "      <td>NaN</td>\n",
       "      <td>NaN</td>\n",
       "      <td>NaN</td>\n",
       "      <td>NaN</td>\n",
       "      <td>3.0</td>\n",
       "      <td>NaN</td>\n",
       "      <td>NaN</td>\n",
       "      <td>NaN</td>\n",
       "      <td>4.0</td>\n",
       "    </tr>\n",
       "    <tr>\n",
       "      <th>3</th>\n",
       "      <td>NaN</td>\n",
       "      <td>NaN</td>\n",
       "      <td>NaN</td>\n",
       "      <td>NaN</td>\n",
       "      <td>NaN</td>\n",
       "      <td>NaN</td>\n",
       "      <td>NaN</td>\n",
       "      <td>4.0</td>\n",
       "      <td>3.0</td>\n",
       "      <td>NaN</td>\n",
       "      <td>3.0</td>\n",
       "      <td>NaN</td>\n",
       "      <td>1.0</td>\n",
       "      <td>NaN</td>\n",
       "      <td>NaN</td>\n",
       "      <td>5.0</td>\n",
       "      <td>NaN</td>\n",
       "      <td>NaN</td>\n",
       "    </tr>\n",
       "    <tr>\n",
       "      <th>4</th>\n",
       "      <td>NaN</td>\n",
       "      <td>NaN</td>\n",
       "      <td>2.0</td>\n",
       "      <td>3.0</td>\n",
       "      <td>1.0</td>\n",
       "      <td>1.0</td>\n",
       "      <td>NaN</td>\n",
       "      <td>NaN</td>\n",
       "      <td>NaN</td>\n",
       "      <td>NaN</td>\n",
       "      <td>NaN</td>\n",
       "      <td>NaN</td>\n",
       "      <td>5.0</td>\n",
       "      <td>NaN</td>\n",
       "      <td>NaN</td>\n",
       "      <td>NaN</td>\n",
       "      <td>NaN</td>\n",
       "      <td>NaN</td>\n",
       "    </tr>\n",
       "    <tr>\n",
       "      <th>5</th>\n",
       "      <td>2.0</td>\n",
       "      <td>4.0</td>\n",
       "      <td>NaN</td>\n",
       "      <td>NaN</td>\n",
       "      <td>NaN</td>\n",
       "      <td>NaN</td>\n",
       "      <td>NaN</td>\n",
       "      <td>NaN</td>\n",
       "      <td>NaN</td>\n",
       "      <td>NaN</td>\n",
       "      <td>NaN</td>\n",
       "      <td>NaN</td>\n",
       "      <td>1.0</td>\n",
       "      <td>NaN</td>\n",
       "      <td>NaN</td>\n",
       "      <td>NaN</td>\n",
       "      <td>NaN</td>\n",
       "      <td>NaN</td>\n",
       "    </tr>\n",
       "    <tr>\n",
       "      <th>6</th>\n",
       "      <td>NaN</td>\n",
       "      <td>NaN</td>\n",
       "      <td>NaN</td>\n",
       "      <td>NaN</td>\n",
       "      <td>5.0</td>\n",
       "      <td>NaN</td>\n",
       "      <td>NaN</td>\n",
       "      <td>4.0</td>\n",
       "      <td>NaN</td>\n",
       "      <td>5.0</td>\n",
       "      <td>NaN</td>\n",
       "      <td>NaN</td>\n",
       "      <td>NaN</td>\n",
       "      <td>NaN</td>\n",
       "      <td>NaN</td>\n",
       "      <td>NaN</td>\n",
       "      <td>NaN</td>\n",
       "      <td>NaN</td>\n",
       "    </tr>\n",
       "    <tr>\n",
       "      <th>7</th>\n",
       "      <td>NaN</td>\n",
       "      <td>NaN</td>\n",
       "      <td>NaN</td>\n",
       "      <td>NaN</td>\n",
       "      <td>NaN</td>\n",
       "      <td>NaN</td>\n",
       "      <td>NaN</td>\n",
       "      <td>NaN</td>\n",
       "      <td>NaN</td>\n",
       "      <td>NaN</td>\n",
       "      <td>1.0</td>\n",
       "      <td>1.0</td>\n",
       "      <td>NaN</td>\n",
       "      <td>NaN</td>\n",
       "      <td>NaN</td>\n",
       "      <td>1.0</td>\n",
       "      <td>NaN</td>\n",
       "      <td>NaN</td>\n",
       "    </tr>\n",
       "    <tr>\n",
       "      <th>a</th>\n",
       "      <td>1.0</td>\n",
       "      <td>NaN</td>\n",
       "      <td>NaN</td>\n",
       "      <td>NaN</td>\n",
       "      <td>2.0</td>\n",
       "      <td>NaN</td>\n",
       "      <td>NaN</td>\n",
       "      <td>NaN</td>\n",
       "      <td>NaN</td>\n",
       "      <td>NaN</td>\n",
       "      <td>NaN</td>\n",
       "      <td>NaN</td>\n",
       "      <td>NaN</td>\n",
       "      <td>NaN</td>\n",
       "      <td>NaN</td>\n",
       "      <td>NaN</td>\n",
       "      <td>2.0</td>\n",
       "      <td>3.0</td>\n",
       "    </tr>\n",
       "    <tr>\n",
       "      <th>b</th>\n",
       "      <td>NaN</td>\n",
       "      <td>NaN</td>\n",
       "      <td>1.0</td>\n",
       "      <td>1.0</td>\n",
       "      <td>NaN</td>\n",
       "      <td>5.0</td>\n",
       "      <td>NaN</td>\n",
       "      <td>NaN</td>\n",
       "      <td>NaN</td>\n",
       "      <td>NaN</td>\n",
       "      <td>NaN</td>\n",
       "      <td>NaN</td>\n",
       "      <td>NaN</td>\n",
       "      <td>NaN</td>\n",
       "      <td>2.0</td>\n",
       "      <td>NaN</td>\n",
       "      <td>NaN</td>\n",
       "      <td>5.0</td>\n",
       "    </tr>\n",
       "  </tbody>\n",
       "</table>\n",
       "</div>"
      ],
      "text/plain": [
       "userId     1    2    3    4    5    6    7    8    9    a    b    c    d    e  \\\n",
       "movieId                                                                         \n",
       "1        5.0  5.0  5.0  4.0  4.0  5.0  4.0  4.0  3.0  3.0  NaN  3.0  NaN  NaN   \n",
       "2        2.0  2.0  2.0  2.0  4.0  3.0  4.0  NaN  NaN  NaN  NaN  NaN  NaN  3.0   \n",
       "3        NaN  NaN  NaN  NaN  NaN  NaN  NaN  4.0  3.0  NaN  3.0  NaN  1.0  NaN   \n",
       "4        NaN  NaN  2.0  3.0  1.0  1.0  NaN  NaN  NaN  NaN  NaN  NaN  5.0  NaN   \n",
       "5        2.0  4.0  NaN  NaN  NaN  NaN  NaN  NaN  NaN  NaN  NaN  NaN  1.0  NaN   \n",
       "6        NaN  NaN  NaN  NaN  5.0  NaN  NaN  4.0  NaN  5.0  NaN  NaN  NaN  NaN   \n",
       "7        NaN  NaN  NaN  NaN  NaN  NaN  NaN  NaN  NaN  NaN  1.0  1.0  NaN  NaN   \n",
       "a        1.0  NaN  NaN  NaN  2.0  NaN  NaN  NaN  NaN  NaN  NaN  NaN  NaN  NaN   \n",
       "b        NaN  NaN  1.0  1.0  NaN  5.0  NaN  NaN  NaN  NaN  NaN  NaN  NaN  NaN   \n",
       "\n",
       "userId     f    g    h    i  \n",
       "movieId                      \n",
       "1        NaN  NaN  4.0  NaN  \n",
       "2        NaN  NaN  NaN  4.0  \n",
       "3        NaN  5.0  NaN  NaN  \n",
       "4        NaN  NaN  NaN  NaN  \n",
       "5        NaN  NaN  NaN  NaN  \n",
       "6        NaN  NaN  NaN  NaN  \n",
       "7        NaN  1.0  NaN  NaN  \n",
       "a        NaN  NaN  2.0  3.0  \n",
       "b        2.0  NaN  NaN  5.0  "
      ]
     },
     "execution_count": 7,
     "metadata": {},
     "output_type": "execute_result"
    },
    {
     "name": "stdout",
     "output_type": "stream",
     "text": [
      "\n",
      "Test Dataset\n"
     ]
    },
    {
     "data": {
      "text/html": [
       "<div>\n",
       "<style scoped>\n",
       "    .dataframe tbody tr th:only-of-type {\n",
       "        vertical-align: middle;\n",
       "    }\n",
       "\n",
       "    .dataframe tbody tr th {\n",
       "        vertical-align: top;\n",
       "    }\n",
       "\n",
       "    .dataframe thead th {\n",
       "        text-align: right;\n",
       "    }\n",
       "</style>\n",
       "<table border=\"1\" class=\"dataframe\">\n",
       "  <thead>\n",
       "    <tr style=\"text-align: right;\">\n",
       "      <th>userId</th>\n",
       "      <th>6</th>\n",
       "      <th>a</th>\n",
       "      <th>d</th>\n",
       "      <th>e</th>\n",
       "      <th>f</th>\n",
       "      <th>g</th>\n",
       "      <th>h</th>\n",
       "      <th>i</th>\n",
       "    </tr>\n",
       "    <tr>\n",
       "      <th>movieId</th>\n",
       "      <th></th>\n",
       "      <th></th>\n",
       "      <th></th>\n",
       "      <th></th>\n",
       "      <th></th>\n",
       "      <th></th>\n",
       "      <th></th>\n",
       "      <th></th>\n",
       "    </tr>\n",
       "  </thead>\n",
       "  <tbody>\n",
       "    <tr>\n",
       "      <th>1</th>\n",
       "      <td>NaN</td>\n",
       "      <td>NaN</td>\n",
       "      <td>1.0</td>\n",
       "      <td>NaN</td>\n",
       "      <td>NaN</td>\n",
       "      <td>4.0</td>\n",
       "      <td>NaN</td>\n",
       "      <td>NaN</td>\n",
       "    </tr>\n",
       "    <tr>\n",
       "      <th>2</th>\n",
       "      <td>NaN</td>\n",
       "      <td>NaN</td>\n",
       "      <td>2.0</td>\n",
       "      <td>NaN</td>\n",
       "      <td>NaN</td>\n",
       "      <td>NaN</td>\n",
       "      <td>NaN</td>\n",
       "      <td>NaN</td>\n",
       "    </tr>\n",
       "    <tr>\n",
       "      <th>3</th>\n",
       "      <td>NaN</td>\n",
       "      <td>NaN</td>\n",
       "      <td>NaN</td>\n",
       "      <td>4.0</td>\n",
       "      <td>NaN</td>\n",
       "      <td>NaN</td>\n",
       "      <td>1.0</td>\n",
       "      <td>NaN</td>\n",
       "    </tr>\n",
       "    <tr>\n",
       "      <th>5</th>\n",
       "      <td>NaN</td>\n",
       "      <td>NaN</td>\n",
       "      <td>NaN</td>\n",
       "      <td>NaN</td>\n",
       "      <td>NaN</td>\n",
       "      <td>3.0</td>\n",
       "      <td>NaN</td>\n",
       "      <td>NaN</td>\n",
       "    </tr>\n",
       "    <tr>\n",
       "      <th>6</th>\n",
       "      <td>1.0</td>\n",
       "      <td>NaN</td>\n",
       "      <td>NaN</td>\n",
       "      <td>NaN</td>\n",
       "      <td>NaN</td>\n",
       "      <td>NaN</td>\n",
       "      <td>NaN</td>\n",
       "      <td>NaN</td>\n",
       "    </tr>\n",
       "    <tr>\n",
       "      <th>7</th>\n",
       "      <td>NaN</td>\n",
       "      <td>NaN</td>\n",
       "      <td>3.0</td>\n",
       "      <td>NaN</td>\n",
       "      <td>NaN</td>\n",
       "      <td>NaN</td>\n",
       "      <td>NaN</td>\n",
       "      <td>3.0</td>\n",
       "    </tr>\n",
       "    <tr>\n",
       "      <th>a</th>\n",
       "      <td>NaN</td>\n",
       "      <td>NaN</td>\n",
       "      <td>NaN</td>\n",
       "      <td>2.0</td>\n",
       "      <td>1.0</td>\n",
       "      <td>NaN</td>\n",
       "      <td>NaN</td>\n",
       "      <td>NaN</td>\n",
       "    </tr>\n",
       "    <tr>\n",
       "      <th>b</th>\n",
       "      <td>NaN</td>\n",
       "      <td>3.0</td>\n",
       "      <td>NaN</td>\n",
       "      <td>5.0</td>\n",
       "      <td>NaN</td>\n",
       "      <td>NaN</td>\n",
       "      <td>NaN</td>\n",
       "      <td>NaN</td>\n",
       "    </tr>\n",
       "  </tbody>\n",
       "</table>\n",
       "</div>"
      ],
      "text/plain": [
       "userId     6    a    d    e    f    g    h    i\n",
       "movieId                                        \n",
       "1        NaN  NaN  1.0  NaN  NaN  4.0  NaN  NaN\n",
       "2        NaN  NaN  2.0  NaN  NaN  NaN  NaN  NaN\n",
       "3        NaN  NaN  NaN  4.0  NaN  NaN  1.0  NaN\n",
       "5        NaN  NaN  NaN  NaN  NaN  3.0  NaN  NaN\n",
       "6        1.0  NaN  NaN  NaN  NaN  NaN  NaN  NaN\n",
       "7        NaN  NaN  3.0  NaN  NaN  NaN  NaN  3.0\n",
       "a        NaN  NaN  NaN  2.0  1.0  NaN  NaN  NaN\n",
       "b        NaN  3.0  NaN  5.0  NaN  NaN  NaN  NaN"
      ]
     },
     "execution_count": 7,
     "metadata": {},
     "output_type": "execute_result"
    }
   ],
   "source": [
    "# Split the Dataset in train 80% and test 20%\n",
    "train_data, test_data = splitData.split_train_test(dataset, 0.2)\n",
    "\n",
    "# From here the train_data is the dataset to make the computings\n",
    "# and test_data is only for measures after the results\n",
    "print('Train Dataset')\n",
    "train_data\n",
    "print('\\nTest Dataset')\n",
    "test_data"
   ]
  },
  {
   "cell_type": "markdown",
   "metadata": {},
   "source": [
    "#### User ratings average values"
   ]
  },
  {
   "cell_type": "code",
   "execution_count": 8,
   "metadata": {},
   "outputs": [
    {
     "name": "stdout",
     "output_type": "stream",
     "text": [
      "User ratings avg.\n"
     ]
    },
    {
     "data": {
      "text/plain": [
       "userId\n",
       "1    2.500000\n",
       "2    3.666667\n",
       "3    2.500000\n",
       "4    2.500000\n",
       "5    3.200000\n",
       "6    3.500000\n",
       "7    4.000000\n",
       "8    4.000000\n",
       "9    3.000000\n",
       "a    4.000000\n",
       "b    2.000000\n",
       "c    2.000000\n",
       "d    2.333333\n",
       "e    3.000000\n",
       "f    2.000000\n",
       "g    3.000000\n",
       "h    3.000000\n",
       "i    4.000000\n",
       "dtype: float64"
      ]
     },
     "execution_count": 8,
     "metadata": {},
     "output_type": "execute_result"
    },
    {
     "data": {
      "image/png": "[encoded data removed]",
      "text/plain": [
       "<Figure size 1080x360 with 1 Axes>"
      ]
     },
     "metadata": {
      "needs_background": "light"
     },
     "output_type": "display_data"
    }
   ],
   "source": [
    "# We get the average of all the movie ratings for each user\n",
    "user_mean = train_data.mean(axis=0, skipna=True)\n",
    "# Print the user ratings mean value\n",
    "print('User ratings avg.')\n",
    "user_mean\n",
    "\n",
    "# Plot number of movies per rating\n",
    "plots.avg_ratings_per_user(user_mean)"
   ]
  },
  {
   "cell_type": "markdown",
   "metadata": {},
   "source": [
    "## User based Collaborative Filtering Recommender with pearson correlation coefficient"
   ]
  },
  {
   "cell_type": "markdown",
   "metadata": {},
   "source": [
    "### Similarity section\n",
    "#### Pearson correlation coeficient\n",
    "![alt text](Images/pearson_corr.png \"Pearson Correlation\")"
   ]
  },
  {
   "cell_type": "code",
   "execution_count": 9,
   "metadata": {},
   "outputs": [],
   "source": [
    "def get_pearson_correlation(data_set, user):\n",
    "    # The high correlation coefficients are the users that are most similar to target user\n",
    "    # Pearson correlation coefficient: this will lie between -1 and 1\n",
    "    pearson_corr = data_set.corrwith(data_set[user], method='pearson')\n",
    "    \n",
    "    # Here below the pearson correlation computation from scratch is commented because \n",
    "    # the performance is lower than the pandas's corrwith method used above\n",
    "    \"\"\"\n",
    "    pearson_corr = pd.DataFrame(columns = movie_matrix.columns)\n",
    "    for i in movie_matrix.columns:\n",
    "        user_1 = movie_matrix[user][:]\n",
    "        user_2 = movie_matrix[i][:]\n",
    "        nans = ~np.logical_or(np.isnan(user_1), np.isnan(user_2))\n",
    "        user_1 = np.compress(nans.values, user_1.values)\n",
    "        user_2 = np.compress(nans.values, user_2.values)\n",
    "        \n",
    "        # Numerator \n",
    "        user1_product = user_1 - user_1.mean()\n",
    "        user2_product = user_2 - user_2.mean()\n",
    "        top = (user1_product*user2_product).sum()\n",
    "        \n",
    "        # Denominator \n",
    "        user1_sqr = np.sqrt((user1_product**2).sum())\n",
    "        user2_sqr = np.sqrt((user2_product**2).sum())\n",
    "        bottom = user1_sqr * user2_sqr\n",
    "        \n",
    "        correl = top/bottom\n",
    "        pearson_corr[i] = [correl]\"\"\"\n",
    "    return pearson_corr"
   ]
  },
  {
   "cell_type": "markdown",
   "metadata": {},
   "source": [
    "### Neighborhood section\n",
    "#### Selection of neighbors based on k size and threshold\n",
    "- Neighbors correlation\n",
    "- Neighbors's ratings\n",
    "- Average ratings\n",
    "- User target average"
   ]
  },
  {
   "cell_type": "code",
   "execution_count": 10,
   "metadata": {},
   "outputs": [],
   "source": [
    "# The k similar users for target user, the highest the correlation value, the more similar.\n",
    "def get_neighborhood(data_set, pearson_corr, user, k, threshold):\n",
    "    a = np.arange(start=0, stop=len(data_set), step=1)\n",
    "    df = pd.DataFrame(columns=a)\n",
    "    df = df.append(pd.Series(), ignore_index=True).T\n",
    "    \n",
    "    # Sort the correlation vector in descending way, to get the most similar at first\n",
    "    corr_top = pearson_corr.sort_values(ascending=False)\n",
    "    \n",
    "    # Neighborhood selection: Based on Threshold and the most similar users\n",
    "    if len(corr_top) > 0:\n",
    "        top = set(corr_top[(corr_top.iloc[0:] < threshold)].index.values)\n",
    "        top.add(user)\n",
    "        # Drop the user target itself and the users under the threshold\n",
    "        corr_top = corr_top.drop(top)[:k].to_frame().T\n",
    "    else:    \n",
    "        return (df)  # if there is not neighbors or the correlation is nan return a vector of nan\n",
    "\n",
    "     # Validate if the correlation for the target user is Null or is only the user itself\n",
    "    if(corr_top.isnull().values.all()):\n",
    "        return (df)\n",
    "    \n",
    "    # This list is basically to select the rating of the k users\n",
    "    corr_labels = corr_top.columns.tolist()\n",
    "    # Here we are using the previous list to select the ratings\n",
    "    rating_top = data_set.loc[:, corr_labels]\n",
    "\n",
    "    # Taking the average ratings only for the top k neighbors\n",
    "    mean_top = user_mean[corr_labels]\n",
    "\n",
    "    # Taking the average rating for the target user\n",
    "    ru_mean = user_mean[user]\n",
    "    \n",
    "    \n",
    "    return (corr_top, rating_top, mean_top, ru_mean)"
   ]
  },
  {
   "cell_type": "markdown",
   "metadata": {},
   "source": [
    "### Prediction section"
   ]
  },
  {
   "cell_type": "markdown",
   "metadata": {},
   "source": [
    "#### Mean-Centering normalization \n",
    "![alt text](Images/prediction.png \"Mean-Centering Normalization\")"
   ]
  },
  {
   "cell_type": "code",
   "execution_count": 11,
   "metadata": {},
   "outputs": [],
   "source": [
    "def get_prediction(user, corr_top, rating_top, mean_top, ru_mean, k):    \n",
    "    # This list is basically to select the rating of the k users\n",
    "    corr_labels = corr_top.columns.tolist()\n",
    "    \n",
    "    prediction_results = pd.DataFrame()\n",
    "    # We iterate over the rows of the top k similar users ratings\n",
    "    for item, row in rating_top.iterrows():\n",
    "        # Getting the rating values for the movies of each user of the top \n",
    "        ratings_row = row[corr_labels].values\n",
    "        # Computing the prediction values, using the normalized model. We call this function sending as parameters\n",
    "        # the correlation values of the k users and the ratings they have assigned to the items\n",
    "        pred_value = pred.prediction_normalized(corr_top, ratings_row, k, mean_top, ru_mean)\n",
    "\n",
    "        # limit the results to the min and max bounds rating range\n",
    "        pred_value = 1 if pred_value < 1 else (5 if pred_value > 5 else pred_value)\n",
    "\n",
    "        prediction_results = prediction_results.append(pd.Series({user: round(pred_value, 2)}, name=item))\n",
    "    return prediction_results"
   ]
  },
  {
   "cell_type": "markdown",
   "metadata": {},
   "source": [
    "### Main function"
   ]
  },
  {
   "cell_type": "code",
   "execution_count": 12,
   "metadata": {},
   "outputs": [],
   "source": [
    "def main(k, threshold):\n",
    "    # Prediction matrix\n",
    "    prediction_matrix = pd.DataFrame(index=train_data.index)\n",
    "    for current_user in current_users:\n",
    "        logging.info(f\"Getting prediction for user {current_user}\")\n",
    "        pearson_corr = get_pearson_correlation(train_data, current_user)\n",
    "        neighborhood = get_neighborhood(train_data, pearson_corr, current_user, k.value, threshold.value)\n",
    "        if(~neighborhood[0].isnull().values.all()):\n",
    "            prediction_matrix[current_user] = get_prediction(current_user, neighborhood[0], neighborhood[1], neighborhood[2], neighborhood[3], k.value)\n",
    "        else:\n",
    "            prediction_matrix[current_user] = neighborhood.values\n",
    "    \n",
    "    return prediction_matrix.sort_index(axis=1)"
   ]
  },
  {
   "cell_type": "markdown",
   "metadata": {},
   "source": [
    "## Testing"
   ]
  },
  {
   "cell_type": "markdown",
   "metadata": {},
   "source": [
    "### Root Mean Square Error (RSME) and Mean Absolute Error (MAE) \n",
    "![alt text](Images/rmse.png \"Root Mean Square Error\") ![alt text](Images/mae.png \"Mean Absolute Error\")"
   ]
  },
  {
   "cell_type": "code",
   "execution_count": 13,
   "metadata": {},
   "outputs": [],
   "source": [
    "# Computing the rmse and mae between predicted_data and test_data\n",
    "def get_metrics(prediction_matrix):\n",
    "    logging.info(f\"Getting RMSE\")\n",
    "    rmse_value = metrics.rmse(test_data, prediction_matrix)\n",
    "    logging.info(f\"Getting MAE\")\n",
    "    mae_value = metrics.mae(test_data, prediction_matrix)\n",
    "    return rmse_value, mae_value"
   ]
  },
  {
   "cell_type": "markdown",
   "metadata": {},
   "source": [
    "#### Random selection of users"
   ]
  },
  {
   "cell_type": "code",
   "execution_count": 14,
   "metadata": {},
   "outputs": [],
   "source": [
    "import random\n",
    "\n",
    "def get_random_users(q):\n",
    "    users = set(test_data.columns.intersection(train_data.columns).values)\n",
    "    number_of_users = len(users)\n",
    "    samples = random.sample(users, q)\n",
    "    return samples, number_of_users"
   ]
  },
  {
   "cell_type": "markdown",
   "metadata": {},
   "source": [
    "##### Below is possible to set the number of users randomly selected to compute the prediction"
   ]
  },
  {
   "cell_type": "code",
   "execution_count": 15,
   "metadata": {},
   "outputs": [
    {
     "data": {
      "application/vnd.jupyter.widget-view+json": {
       "model_id": "8ee0476dc3254bf4b01e32820c310e2d",
       "version_major": 2,
       "version_minor": 0
      },
      "text/plain": [
       "interactive(children=(BoundedIntText(value=1, description='No. users:', max=10, min=1), Output()), _dom_classe…"
      ]
     },
     "metadata": {},
     "output_type": "display_data"
    },
    {
     "data": {
      "text/plain": [
       "<function __main__.random_user(x=1)>"
      ]
     },
     "execution_count": 15,
     "metadata": {},
     "output_type": "execute_result"
    }
   ],
   "source": [
    "# Insert number of users, that will be selected randomly from posible target users \n",
    "q_user = widgets.BoundedIntText(value=1, min=1, max=10, step=1, description='No. users:', disabled=False)\n",
    "\n",
    "current_users = []\n",
    "\n",
    "# The function to interact in real time\n",
    "def random_user(x = 1):\n",
    "    clear_output()\n",
    "    global current_users\n",
    "    current_users, number_of_users = get_random_users(q_user.value)\n",
    "    q_user.max = number_of_users\n",
    "    display(pd.DataFrame(current_users).T)\n",
    "\n",
    "widgets.interact(random_user, x = q_user)"
   ]
  },
  {
   "cell_type": "markdown",
   "metadata": {},
   "source": [
    "#### Setting global variables"
   ]
  },
  {
   "cell_type": "code",
   "execution_count": 17,
   "metadata": {},
   "outputs": [
    {
     "data": {
      "application/vnd.jupyter.widget-view+json": {
       "model_id": "fc12a9d6e7b54d039b821d9584ed1523",
       "version_major": 2,
       "version_minor": 0
      },
      "text/plain": [
       "Label(value='Results')"
      ]
     },
     "metadata": {},
     "output_type": "display_data"
    },
    {
     "data": {
      "application/vnd.jupyter.widget-view+json": {
       "model_id": "b67e471dbc484100aad43aa16fe40ef5",
       "version_major": 2,
       "version_minor": 0
      },
      "text/plain": [
       "FloatText(value=0.0, description='RMSE: ', disabled=True)"
      ]
     },
     "metadata": {},
     "output_type": "display_data"
    },
    {
     "data": {
      "application/vnd.jupyter.widget-view+json": {
       "model_id": "c2d5ddc27e5a4b52bd10c4e9a4ce5576",
       "version_major": 2,
       "version_minor": 0
      },
      "text/plain": [
       "FloatText(value=0.0, description='MAE: ', disabled=True)"
      ]
     },
     "metadata": {},
     "output_type": "display_data"
    },
    {
     "data": {
      "application/vnd.jupyter.widget-view+json": {
       "model_id": "28f970ccdd714a95aa8670e2881b68d8",
       "version_major": 2,
       "version_minor": 0
      },
      "text/plain": [
       "BoundedIntText(value=5, description='k size: ', min=1)"
      ]
     },
     "metadata": {},
     "output_type": "display_data"
    },
    {
     "data": {
      "application/vnd.jupyter.widget-view+json": {
       "model_id": "8267c098a321451a8f1a5fbcc2b17531",
       "version_major": 2,
       "version_minor": 0
      },
      "text/plain": [
       "FloatSlider(value=0.0, description='Threshold: ', max=1.0, min=-1.0, step=0.01)"
      ]
     },
     "metadata": {},
     "output_type": "display_data"
    },
    {
     "data": {
      "application/vnd.jupyter.widget-view+json": {
       "model_id": "39b68f3c1d9d4eacbce16e5f835fb06c",
       "version_major": 2,
       "version_minor": 0
      },
      "text/plain": [
       "Button(description='Run', style=ButtonStyle())"
      ]
     },
     "metadata": {},
     "output_type": "display_data"
    },
    {
     "data": {
      "application/vnd.jupyter.widget-view+json": {
       "model_id": "ea381d580c17486d91bd4a1537421cb0",
       "version_major": 2,
       "version_minor": 0
      },
      "text/plain": [
       "Output()"
      ]
     },
     "metadata": {},
     "output_type": "display_data"
    }
   ],
   "source": [
    "# The number of neighbors for the prediction\n",
    "k = widgets.BoundedIntText(value=5, min=1, step=1, description= 'k size: ', disabled= False)\n",
    "# Value used for neighborhood selection\n",
    "threshold = widgets.FloatSlider(value= 0, min= -1, max= 1, step=0.01, description= 'Threshold: ')\n",
    "# Button to start computing\n",
    "button = widgets.Button(description='Run')\n",
    "output = widgets.Output()\n",
    "\n",
    "\n",
    "rmse = widgets.FloatText(description= 'RMSE: ', disabled= True)\n",
    "mae = widgets.FloatText(description= 'MAE: ', disabled= True)\n",
    "\n",
    "def on_button_clicked(b):\n",
    "    with output:\n",
    "        clear_output()\n",
    "        prediction_matrix = main(k, threshold)\n",
    "        rmse.value, mae.value = get_metrics(prediction_matrix)\n",
    "        \n",
    "        # Only for visual verification\n",
    "        small_pred = prediction_matrix.dropna(axis=1, how='all').dropna(how='all')\n",
    "        \n",
    "        display(widgets.Label(value=\"Predicted Matrix\"), small_pred)  \n",
    "        display(widgets.Label(value=\"Test Matrix\"), test_data.loc[:, small_pred.columns].dropna(how='all'))\n",
    "        print('Done!')\n",
    "button.on_click(on_button_clicked)\n",
    "\n",
    "# Widgets interface\n",
    "widgets.Label(value=\"Results\")\n",
    "rmse\n",
    "mae\n",
    "\n",
    "k\n",
    "threshold\n",
    "display(button, output)"
   ]
  }
 ],
 "metadata": {
  "kernelspec": {
   "display_name": "Python 3.7.7 64-bit",
   "language": "python",
   "name": "python37764bit143e0931926745328698ed582faa8c26"
  },
  "language_info": {
   "codemirror_mode": {
    "name": "ipython",
    "version": 3
   },
   "file_extension": ".py",
   "mimetype": "text/x-python",
   "name": "python",
   "nbconvert_exporter": "python",
   "pygments_lexer": "ipython3",
   "version": "3.7.7"
  }
 },
 "nbformat": 4,
 "nbformat_minor": 4
}
